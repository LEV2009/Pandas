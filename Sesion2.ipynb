{
  "cells": [
    {
      "cell_type": "markdown",
      "metadata": {
        "id": "view-in-github",
        "colab_type": "text"
      },
      "source": [
        "<a href=\"https://colab.research.google.com/github/LEV2009/Pandas/blob/main/Sesion2.ipynb\" target=\"_parent\"><img src=\"https://colab.research.google.com/assets/colab-badge.svg\" alt=\"Open In Colab\"/></a>"
      ]
    },
    {
      "cell_type": "markdown",
      "source": [
        "<center><FONT SIZE=7 COLOR=\"red\"> CURSO DE MACHINE LEARNING </FONT></center>\n",
        "\n",
        "<FONT SIZE=4 COLOR=\"blue\"> **Sesión 2** </FONT>\n",
        "\n",
        "- Análisis Exploratorio de Datos\n",
        "\n",
        "- Conceptos de Machine Learning\n",
        "\n",
        "- Introducción a Regresión Lineal\n",
        "\n",
        "<center><img src=\"https://drive.google.com/uc?id=1MIeuq3sDhn6LOI-hpuPsvElmSHgnij-7\" alt=\"centered image\" width=\"600\" height=\"350\"></center>\n",
        "\n",
        "\n",
        "+ **Profesor**: Fabián Sánchez Salazar\n",
        "\n",
        "+ **PhD en Matemáticas**\n",
        "\n",
        "+ *fabian.sanchez@urosario.edu.co / fabian830348@fkanalytics.com*\n",
        "\n",
        "+ **Horario del curso:** Sábados cada 15 días desde el 27 de febrero de 7:00 a.m. a 10:00 a.m.\n",
        "\n",
        "=====================================================================\n",
        "\n",
        "<center><FONT SIZE=5 COLOR=\"PURPLE\"> PROCESO DE EXPLORACIÓN DE LOS DATOS </FONT></center> \n",
        "\n",
        "<center><img src=\"https://drive.google.com/uc?id=1Sw9wQBM4PUzZbaukitCo1cVdaLWTYQAb\" width=\"1000\" height=\"500\"></center>\n",
        "\n",
        "En el gráfico anterior se muestran algunas etapas fundamentales:\n",
        "\n",
        "\n",
        "1.\t**Preguntas para responder**. Es importante tener claro para qué queremos hacer el procesamiento y análisis de datos. Es decir, qué buscamos responder.\n",
        "\n",
        "2.\t**Generalidades del conjunto de datos**.  Acá buscamos reconocer la dimensión, datos faltantes, y en general un resumen general del dataset.\n",
        "\n",
        "3.\t**Tipos de Variables**. Clasificar las variables en cualitativas y cuantitativas y examinar como se presenta esta información. Por ejemplo, una variable puede estar codificada y verse como numérica, pero ser categórica.\n",
        "\n",
        "4.\t**Estadística Descriptiva**. Se busca resumir la información. Utilizar medidas de tendencia, de dispersión, de forma, de posición, etc., para entender mejor los datos. Por ejemplo, se identifican datos atípicos usando boxplot.\n",
        "\n",
        "5.\t**Visualización**.  Es una etapa fundamental en el análisis de datos. Visualizar la información y poder describirla gráficamente. En esta etapa se usan: diagramas de barras, pie, boxplot, histogramas, líneas de densidad, diagramas de dispersión, entre otros.\n",
        "\n",
        "6.\t**Relación entre variable**. Se explora datos bivariados. Se examinan relaciones entre variables cualitativas (tablas de contingencia) y relaciones entre variables cuantitativas (diagramas de dispersión) se establecen posibles relaciones lineales. \n",
        "\n",
        "7.\t**Reporte de resultados**. Una vez se haga el proceso de exploración y análisis en RStudio se deben reportar los resultados y conclusiones de lo que se encontró en la base de datos.\n",
        "\n",
        "\n",
        "\n",
        "\n",
        "\n",
        "\n",
        "\n"
      ],
      "metadata": {
        "id": "J4mPhGGCmW_3"
      }
    },
    {
      "cell_type": "markdown",
      "source": [
        "# Nueva sección"
      ],
      "metadata": {
        "id": "LuQYerQNXtem"
      }
    },
    {
      "cell_type": "markdown",
      "source": [
        "<center><FONT SIZE=6 COLOR=\"red\"> PYTHON </FONT></center>\n",
        "\n",
        "Haremos uso de diferentes tipos de librerías y datos para el trabajo de Exploración de Datos y en general tareas de ML. Para mencioanr algunas\n",
        "\n",
        "1.   **Pandas:** manipulación de datos-estadísticas-data.frames\n",
        "2.   **Matplotlib**: visualización-gráficas\n",
        "3.   **numpy**: operaciones matemáticas\n",
        "4.   **spicy**: realizar cálculo simbólico\n",
        "5.   **scikit-learn**: ejecutar algoritmos de machine learning \n",
        "6.   **NTKL**: Procesamiento de Lenguaje Natural.\n",
        "7.   **seaborn**: creación de gráficos estadísticos \n",
        "8.   **Datetime**: para manipulación de fechas\n",
        "\n",
        "\n",
        "\n",
        "\n"
      ],
      "metadata": {
        "id": "lt1wICIfYXSc"
      }
    },
    {
      "cell_type": "markdown",
      "source": [
        "<center><img src=\"https://drive.google.com/uc?id=1QgJtZ1Igg1teYgNJmURG6t4wLd49je9i\" alt=\"centered image\" width=\"500\" height=\"250\"></center>\n",
        "\n",
        "+ Librería de Python especializada manipulación y análisis de estructuras de datos\n",
        "+ Permite leer datos en diferentes formatos: csv, excel, bases de datos SQL.\n",
        "+ Realiza operaciones rápidas y eficientes sobre conjuntos de datos\n",
        "+ Permite trabajar series de tiempo\n",
        "+ *import pandas as pd*\n",
        "+ [Guía Pandas](https://aprendeconalf.es/docencia/python/manual/pandas/)\n",
        "\n",
        "\n",
        "<center><FONT SIZE=8 COLOR=\"blue\"> data.frame </FONT></center>\n",
        "\n",
        "<center><img src=\"https://drive.google.com/uc?id=15PJcp47T4mquAoAoxaeYB_uhnKcO-OIu\" alt=\"centered image\" width=\"700\" height=\"350\"></center>\n",
        "\n",
        "\n",
        "<center><img src=\"https://drive.google.com/uc?id=12z8w6-y3gKmmjOttRwUSJGb906wAsL4J\" alt=\"centered image\" width=\"700\" height=\"450\"></center>\n",
        "\n",
        "<FONT SIZE=3 COLOR=\"magenta\"> Algunas funciones para explorar data.frames </FONT>\n",
        "\n",
        "\n",
        "**df.info()** : Devuelve información (número de filas, número de columnas, índices, tipo de las columnas y memoria usado) sobre el DataFrame df.\n",
        "\n",
        "**df.shape** : Devuelve una tupla con el número de filas y columnas del DataFrame df.\n",
        "\n",
        "**df.size** : Devuelve el número de elementos del DataFrame.\n",
        "\n",
        "**df.columns** : Devuelve una lista con los nombres de las columnas del DataFrame df.\n",
        "\n",
        "**df.index** : Devuelve una lista con los nombres de las filas del DataFrame df.\n",
        "\n",
        "**df.dtypes** : Devuelve una serie con los tipos de datos de las columnas del DataFrame df.\n",
        "\n",
        "**df.head(n)** : Devuelve las n primeras filas del DataFrame df.\n",
        "\n",
        "**df.tail(n)** : Devuelve las n últimas filas del DataFrame df."
      ],
      "metadata": {
        "id": "LT-mD4NsnVMw"
      }
    },
    {
      "cell_type": "markdown",
      "source": [
        "<center><FONT SIZE=6 COLOR=\"Green\"> Carga de Datos </FONT></center>\n",
        "\n",
        "Para cargar datos al entorno de Google Colab podemos usar diferentes alternativas. Algunas de ellas, en este cuaderno\n",
        "\n",
        "- Por medio de google drive. Nos conetamos mediante\n",
        "\n",
        "from google.colab import drive\n",
        "\n",
        "drive.mount('/content/drive')\n",
        "\n",
        "- Por medio de Github. Clonando una carpeta\n",
        "\n",
        "!git clone \"https://github.com/Fabian830348/bases-de-datos-1.git\"\n",
        "\n",
        "- Desde el entorno local. Escritorio\n",
        "\n",
        "- Desde un enlace externo\n"
      ],
      "metadata": {
        "id": "XNfBHHZ_yYX7"
      }
    },
    {
      "cell_type": "code",
      "source": [
        "git clone \"https://github.com/Fabian830348/bases-de-datos-1.git\"\n",
        "\n"
      ],
      "metadata": {
        "colab": {
          "base_uri": "https://localhost:8080/",
          "height": 130
        },
        "id": "R8Ojg_MkdeD6",
        "outputId": "b0de9bda-79d5-4386-ac44-eb1f459a9b2c"
      },
      "execution_count": 2,
      "outputs": [
        {
          "output_type": "error",
          "ename": "SyntaxError",
          "evalue": "ignored",
          "traceback": [
            "\u001b[0;36m  File \u001b[0;32m\"<ipython-input-2-22a342ac7b8d>\"\u001b[0;36m, line \u001b[0;32m1\u001b[0m\n\u001b[0;31m    git clone \"https://github.com/Fabian830348/bases-de-datos-1.git\"\u001b[0m\n\u001b[0m        ^\u001b[0m\n\u001b[0;31mSyntaxError\u001b[0m\u001b[0;31m:\u001b[0m invalid syntax\n"
          ]
        }
      ]
    },
    {
      "cell_type": "markdown",
      "source": [
        "1. Nos conectamos al google-drive"
      ],
      "metadata": {
        "id": "0hcqtPnpU6ZB"
      }
    },
    {
      "cell_type": "code",
      "execution_count": 1,
      "metadata": {
        "id": "mgWIy50S9oE1",
        "colab": {
          "base_uri": "https://localhost:8080/"
        },
        "outputId": "d1c13645-7d35-41b9-8576-2055224387d9"
      },
      "outputs": [
        {
          "output_type": "stream",
          "name": "stdout",
          "text": [
            "Mounted at /content/drive\n"
          ]
        }
      ],
      "source": [
        "#para acceder a los datos del drive\n",
        "from google.colab import drive\n",
        "drive.mount('/content/drive')"
      ]
    },
    {
      "cell_type": "markdown",
      "source": [
        "2. Importamos la librería pandas"
      ],
      "metadata": {
        "id": "ziqC0xpAU-jU"
      }
    },
    {
      "cell_type": "code",
      "execution_count": 3,
      "metadata": {
        "id": "h1kgJ8fT_uRC"
      },
      "outputs": [],
      "source": [
        "#para importar la librería pandas.\n",
        "import pandas as pd\n",
        "\n"
      ]
    },
    {
      "cell_type": "code",
      "source": [
        "import matplotlib.pyplot as plt\n",
        "import seaborn as sb"
      ],
      "metadata": {
        "id": "pQ9JRue9kZnB"
      },
      "execution_count": 20,
      "outputs": []
    },
    {
      "cell_type": "code",
      "source": [],
      "metadata": {
        "id": "azwAMNzmkq_W"
      },
      "execution_count": null,
      "outputs": []
    },
    {
      "cell_type": "markdown",
      "source": [
        "3. Cargamos los datos APARTAMENTOS.csv con la función pd.read_csv"
      ],
      "metadata": {
        "id": "hyUrKZdsVDKW"
      }
    },
    {
      "cell_type": "code",
      "source": [
        "aptos = pd.read_csv(\"/content/drive/MyDrive/Machine_Learning/ML_2/1. Machine Learning/APARTAMENTOS.csv\")\n",
        "# la inscrucción .head() permite mostrar la cabeza del dataframe.\n",
        "aptos.head(6)"
      ],
      "metadata": {
        "id": "o7t8UTqUzaT9",
        "colab": {
          "base_uri": "https://localhost:8080/",
          "height": 238
        },
        "outputId": "e9828464-ba5a-4486-e1a4-4185a4d6efe0"
      },
      "execution_count": 4,
      "outputs": [
        {
          "output_type": "execute_result",
          "data": {
            "text/plain": [
              "   Unnamed: 0  precio    mt2 ubicacion  estrato  alcobas  banos balcon  \\\n",
              "0           1    79.0  43.16     norte        3        3      1     si   \n",
              "1           2    93.0  56.92     norte        2        2      1     si   \n",
              "2           3   100.0  66.40     norte        3        2      2     no   \n",
              "3           4   123.0  61.85     norte        2        3      2     si   \n",
              "4           5   135.0  89.80     norte        4        3      2     si   \n",
              "5           6   140.0  71.00     norte        3        3      2     no   \n",
              "\n",
              "  parqueadero  administracion     avaluo terminado  \n",
              "0          si           0.050  14.923002        no  \n",
              "1          si           0.069  27.000000        si  \n",
              "2          no           0.000  15.738427        no  \n",
              "3          si           0.130  27.000000        no  \n",
              "4          no           0.000  39.567000        si  \n",
              "5          si           0.120  31.145508        si  "
            ],
            "text/html": [
              "\n",
              "  <div id=\"df-fd5dafbc-1cfa-4246-a097-5d292f0306a5\">\n",
              "    <div class=\"colab-df-container\">\n",
              "      <div>\n",
              "<style scoped>\n",
              "    .dataframe tbody tr th:only-of-type {\n",
              "        vertical-align: middle;\n",
              "    }\n",
              "\n",
              "    .dataframe tbody tr th {\n",
              "        vertical-align: top;\n",
              "    }\n",
              "\n",
              "    .dataframe thead th {\n",
              "        text-align: right;\n",
              "    }\n",
              "</style>\n",
              "<table border=\"1\" class=\"dataframe\">\n",
              "  <thead>\n",
              "    <tr style=\"text-align: right;\">\n",
              "      <th></th>\n",
              "      <th>Unnamed: 0</th>\n",
              "      <th>precio</th>\n",
              "      <th>mt2</th>\n",
              "      <th>ubicacion</th>\n",
              "      <th>estrato</th>\n",
              "      <th>alcobas</th>\n",
              "      <th>banos</th>\n",
              "      <th>balcon</th>\n",
              "      <th>parqueadero</th>\n",
              "      <th>administracion</th>\n",
              "      <th>avaluo</th>\n",
              "      <th>terminado</th>\n",
              "    </tr>\n",
              "  </thead>\n",
              "  <tbody>\n",
              "    <tr>\n",
              "      <th>0</th>\n",
              "      <td>1</td>\n",
              "      <td>79.0</td>\n",
              "      <td>43.16</td>\n",
              "      <td>norte</td>\n",
              "      <td>3</td>\n",
              "      <td>3</td>\n",
              "      <td>1</td>\n",
              "      <td>si</td>\n",
              "      <td>si</td>\n",
              "      <td>0.050</td>\n",
              "      <td>14.923002</td>\n",
              "      <td>no</td>\n",
              "    </tr>\n",
              "    <tr>\n",
              "      <th>1</th>\n",
              "      <td>2</td>\n",
              "      <td>93.0</td>\n",
              "      <td>56.92</td>\n",
              "      <td>norte</td>\n",
              "      <td>2</td>\n",
              "      <td>2</td>\n",
              "      <td>1</td>\n",
              "      <td>si</td>\n",
              "      <td>si</td>\n",
              "      <td>0.069</td>\n",
              "      <td>27.000000</td>\n",
              "      <td>si</td>\n",
              "    </tr>\n",
              "    <tr>\n",
              "      <th>2</th>\n",
              "      <td>3</td>\n",
              "      <td>100.0</td>\n",
              "      <td>66.40</td>\n",
              "      <td>norte</td>\n",
              "      <td>3</td>\n",
              "      <td>2</td>\n",
              "      <td>2</td>\n",
              "      <td>no</td>\n",
              "      <td>no</td>\n",
              "      <td>0.000</td>\n",
              "      <td>15.738427</td>\n",
              "      <td>no</td>\n",
              "    </tr>\n",
              "    <tr>\n",
              "      <th>3</th>\n",
              "      <td>4</td>\n",
              "      <td>123.0</td>\n",
              "      <td>61.85</td>\n",
              "      <td>norte</td>\n",
              "      <td>2</td>\n",
              "      <td>3</td>\n",
              "      <td>2</td>\n",
              "      <td>si</td>\n",
              "      <td>si</td>\n",
              "      <td>0.130</td>\n",
              "      <td>27.000000</td>\n",
              "      <td>no</td>\n",
              "    </tr>\n",
              "    <tr>\n",
              "      <th>4</th>\n",
              "      <td>5</td>\n",
              "      <td>135.0</td>\n",
              "      <td>89.80</td>\n",
              "      <td>norte</td>\n",
              "      <td>4</td>\n",
              "      <td>3</td>\n",
              "      <td>2</td>\n",
              "      <td>si</td>\n",
              "      <td>no</td>\n",
              "      <td>0.000</td>\n",
              "      <td>39.567000</td>\n",
              "      <td>si</td>\n",
              "    </tr>\n",
              "    <tr>\n",
              "      <th>5</th>\n",
              "      <td>6</td>\n",
              "      <td>140.0</td>\n",
              "      <td>71.00</td>\n",
              "      <td>norte</td>\n",
              "      <td>3</td>\n",
              "      <td>3</td>\n",
              "      <td>2</td>\n",
              "      <td>no</td>\n",
              "      <td>si</td>\n",
              "      <td>0.120</td>\n",
              "      <td>31.145508</td>\n",
              "      <td>si</td>\n",
              "    </tr>\n",
              "  </tbody>\n",
              "</table>\n",
              "</div>\n",
              "      <button class=\"colab-df-convert\" onclick=\"convertToInteractive('df-fd5dafbc-1cfa-4246-a097-5d292f0306a5')\"\n",
              "              title=\"Convert this dataframe to an interactive table.\"\n",
              "              style=\"display:none;\">\n",
              "        \n",
              "  <svg xmlns=\"http://www.w3.org/2000/svg\" height=\"24px\"viewBox=\"0 0 24 24\"\n",
              "       width=\"24px\">\n",
              "    <path d=\"M0 0h24v24H0V0z\" fill=\"none\"/>\n",
              "    <path d=\"M18.56 5.44l.94 2.06.94-2.06 2.06-.94-2.06-.94-.94-2.06-.94 2.06-2.06.94zm-11 1L8.5 8.5l.94-2.06 2.06-.94-2.06-.94L8.5 2.5l-.94 2.06-2.06.94zm10 10l.94 2.06.94-2.06 2.06-.94-2.06-.94-.94-2.06-.94 2.06-2.06.94z\"/><path d=\"M17.41 7.96l-1.37-1.37c-.4-.4-.92-.59-1.43-.59-.52 0-1.04.2-1.43.59L10.3 9.45l-7.72 7.72c-.78.78-.78 2.05 0 2.83L4 21.41c.39.39.9.59 1.41.59.51 0 1.02-.2 1.41-.59l7.78-7.78 2.81-2.81c.8-.78.8-2.07 0-2.86zM5.41 20L4 18.59l7.72-7.72 1.47 1.35L5.41 20z\"/>\n",
              "  </svg>\n",
              "      </button>\n",
              "      \n",
              "  <style>\n",
              "    .colab-df-container {\n",
              "      display:flex;\n",
              "      flex-wrap:wrap;\n",
              "      gap: 12px;\n",
              "    }\n",
              "\n",
              "    .colab-df-convert {\n",
              "      background-color: #E8F0FE;\n",
              "      border: none;\n",
              "      border-radius: 50%;\n",
              "      cursor: pointer;\n",
              "      display: none;\n",
              "      fill: #1967D2;\n",
              "      height: 32px;\n",
              "      padding: 0 0 0 0;\n",
              "      width: 32px;\n",
              "    }\n",
              "\n",
              "    .colab-df-convert:hover {\n",
              "      background-color: #E2EBFA;\n",
              "      box-shadow: 0px 1px 2px rgba(60, 64, 67, 0.3), 0px 1px 3px 1px rgba(60, 64, 67, 0.15);\n",
              "      fill: #174EA6;\n",
              "    }\n",
              "\n",
              "    [theme=dark] .colab-df-convert {\n",
              "      background-color: #3B4455;\n",
              "      fill: #D2E3FC;\n",
              "    }\n",
              "\n",
              "    [theme=dark] .colab-df-convert:hover {\n",
              "      background-color: #434B5C;\n",
              "      box-shadow: 0px 1px 3px 1px rgba(0, 0, 0, 0.15);\n",
              "      filter: drop-shadow(0px 1px 2px rgba(0, 0, 0, 0.3));\n",
              "      fill: #FFFFFF;\n",
              "    }\n",
              "  </style>\n",
              "\n",
              "      <script>\n",
              "        const buttonEl =\n",
              "          document.querySelector('#df-fd5dafbc-1cfa-4246-a097-5d292f0306a5 button.colab-df-convert');\n",
              "        buttonEl.style.display =\n",
              "          google.colab.kernel.accessAllowed ? 'block' : 'none';\n",
              "\n",
              "        async function convertToInteractive(key) {\n",
              "          const element = document.querySelector('#df-fd5dafbc-1cfa-4246-a097-5d292f0306a5');\n",
              "          const dataTable =\n",
              "            await google.colab.kernel.invokeFunction('convertToInteractive',\n",
              "                                                     [key], {});\n",
              "          if (!dataTable) return;\n",
              "\n",
              "          const docLinkHtml = 'Like what you see? Visit the ' +\n",
              "            '<a target=\"_blank\" href=https://colab.research.google.com/notebooks/data_table.ipynb>data table notebook</a>'\n",
              "            + ' to learn more about interactive tables.';\n",
              "          element.innerHTML = '';\n",
              "          dataTable['output_type'] = 'display_data';\n",
              "          await google.colab.output.renderOutput(dataTable, element);\n",
              "          const docLink = document.createElement('div');\n",
              "          docLink.innerHTML = docLinkHtml;\n",
              "          element.appendChild(docLink);\n",
              "        }\n",
              "      </script>\n",
              "    </div>\n",
              "  </div>\n",
              "  "
            ]
          },
          "metadata": {},
          "execution_count": 4
        }
      ]
    },
    {
      "cell_type": "markdown",
      "source": [
        "Clonando el Github podemos tener acceso a la carpeta de archivos"
      ],
      "metadata": {
        "id": "goAxVm-aVXwR"
      }
    },
    {
      "cell_type": "code",
      "source": [
        "# clonar el github \n",
        "!git clone \"https://github.com/Fabian830348/bases-de-datos-1.git\""
      ],
      "metadata": {
        "id": "KsRB4upCVheD",
        "colab": {
          "base_uri": "https://localhost:8080/"
        },
        "outputId": "fa79758b-a710-4702-a251-0c25f9e7734a"
      },
      "execution_count": 5,
      "outputs": [
        {
          "output_type": "stream",
          "name": "stdout",
          "text": [
            "Cloning into 'bases-de-datos-1'...\n",
            "remote: Enumerating objects: 28, done.\u001b[K\n",
            "remote: Counting objects: 100% (28/28), done.\u001b[K\n",
            "remote: Compressing objects: 100% (27/27), done.\u001b[K\n",
            "remote: Total 28 (delta 0), reused 0 (delta 0), pack-reused 0\u001b[K\n",
            "Unpacking objects: 100% (28/28), 2.41 MiB | 6.08 MiB/s, done.\n"
          ]
        }
      ]
    },
    {
      "cell_type": "markdown",
      "source": [
        "Cargamos una base de datos "
      ],
      "metadata": {
        "id": "YSCSK7V9WBul"
      }
    },
    {
      "cell_type": "code",
      "source": [
        "espectro = pd.read_json(\"/content/drive/MyDrive/Machine_Learning/ML_2/1. Machine Learning/espectro.json\")\n",
        "espectro.head(6)"
      ],
      "metadata": {
        "id": "L12HG2m0LfkC",
        "colab": {
          "base_uri": "https://localhost:8080/",
          "height": 282
        },
        "outputId": "190f3484-6d9b-46cb-96ac-280e9a1419bf"
      },
      "execution_count": 6,
      "outputs": [
        {
          "output_type": "execute_result",
          "data": {
            "text/plain": [
              "                      nombre_sonda     ciudad_departamento  \\\n",
              "0                    Bogota_BOSA_2           Bogota_BOGOTA   \n",
              "1             Santa_Marta_TERMINAL   Santa_Marta_MAGDALENA   \n",
              "2      Zipaquira_ZIPA_CONSTRUCTORA  Zipaquira_CUNDINAMARCA   \n",
              "3                   Armenia_CENTRO         Armenia_QUINDIO   \n",
              "4               Pereira_CENTENARIO       Pereira_RISARALDA   \n",
              "5  Pasto_ESTACION_DE_MONITOREO_ANE            Pasto_NARIÑO   \n",
              "\n",
              "            fecha_medicion  nivel_exposicion_campos  limite_restrictivo  \\\n",
              "0  2020-06-30T23:54:00.000                     1.11                  28   \n",
              "1  2020-06-30T23:54:00.000                     2.14                  28   \n",
              "2  2020-06-30T23:54:00.000                     1.53                  28   \n",
              "3  2020-06-30T23:54:00.000                     1.51                  28   \n",
              "4  2020-06-30T23:54:00.000                     0.00                  28   \n",
              "5  2020-06-30T23:54:00.000                     0.67                  28   \n",
              "\n",
              "   porcentaje_exposicion                                    geocoded_column  \n",
              "0                   3.96  {'type': 'Point', 'coordinates': [-74.1688982,...  \n",
              "1                   7.64  {'type': 'Point', 'coordinates': [-74.18208333...  \n",
              "2                   5.46  {'type': 'Point', 'coordinates': [-74.00063, 5...  \n",
              "3                   5.39  {'type': 'Point', 'coordinates': [-75.67364, 4...  \n",
              "4                   0.00  {'type': 'Point', 'coordinates': [-75.698193, ...  \n",
              "5                   2.39  {'type': 'Point', 'coordinates': [-77.26463000...  "
            ],
            "text/html": [
              "\n",
              "  <div id=\"df-e39a59c7-8e68-4385-8322-4106d544df36\">\n",
              "    <div class=\"colab-df-container\">\n",
              "      <div>\n",
              "<style scoped>\n",
              "    .dataframe tbody tr th:only-of-type {\n",
              "        vertical-align: middle;\n",
              "    }\n",
              "\n",
              "    .dataframe tbody tr th {\n",
              "        vertical-align: top;\n",
              "    }\n",
              "\n",
              "    .dataframe thead th {\n",
              "        text-align: right;\n",
              "    }\n",
              "</style>\n",
              "<table border=\"1\" class=\"dataframe\">\n",
              "  <thead>\n",
              "    <tr style=\"text-align: right;\">\n",
              "      <th></th>\n",
              "      <th>nombre_sonda</th>\n",
              "      <th>ciudad_departamento</th>\n",
              "      <th>fecha_medicion</th>\n",
              "      <th>nivel_exposicion_campos</th>\n",
              "      <th>limite_restrictivo</th>\n",
              "      <th>porcentaje_exposicion</th>\n",
              "      <th>geocoded_column</th>\n",
              "    </tr>\n",
              "  </thead>\n",
              "  <tbody>\n",
              "    <tr>\n",
              "      <th>0</th>\n",
              "      <td>Bogota_BOSA_2</td>\n",
              "      <td>Bogota_BOGOTA</td>\n",
              "      <td>2020-06-30T23:54:00.000</td>\n",
              "      <td>1.11</td>\n",
              "      <td>28</td>\n",
              "      <td>3.96</td>\n",
              "      <td>{'type': 'Point', 'coordinates': [-74.1688982,...</td>\n",
              "    </tr>\n",
              "    <tr>\n",
              "      <th>1</th>\n",
              "      <td>Santa_Marta_TERMINAL</td>\n",
              "      <td>Santa_Marta_MAGDALENA</td>\n",
              "      <td>2020-06-30T23:54:00.000</td>\n",
              "      <td>2.14</td>\n",
              "      <td>28</td>\n",
              "      <td>7.64</td>\n",
              "      <td>{'type': 'Point', 'coordinates': [-74.18208333...</td>\n",
              "    </tr>\n",
              "    <tr>\n",
              "      <th>2</th>\n",
              "      <td>Zipaquira_ZIPA_CONSTRUCTORA</td>\n",
              "      <td>Zipaquira_CUNDINAMARCA</td>\n",
              "      <td>2020-06-30T23:54:00.000</td>\n",
              "      <td>1.53</td>\n",
              "      <td>28</td>\n",
              "      <td>5.46</td>\n",
              "      <td>{'type': 'Point', 'coordinates': [-74.00063, 5...</td>\n",
              "    </tr>\n",
              "    <tr>\n",
              "      <th>3</th>\n",
              "      <td>Armenia_CENTRO</td>\n",
              "      <td>Armenia_QUINDIO</td>\n",
              "      <td>2020-06-30T23:54:00.000</td>\n",
              "      <td>1.51</td>\n",
              "      <td>28</td>\n",
              "      <td>5.39</td>\n",
              "      <td>{'type': 'Point', 'coordinates': [-75.67364, 4...</td>\n",
              "    </tr>\n",
              "    <tr>\n",
              "      <th>4</th>\n",
              "      <td>Pereira_CENTENARIO</td>\n",
              "      <td>Pereira_RISARALDA</td>\n",
              "      <td>2020-06-30T23:54:00.000</td>\n",
              "      <td>0.00</td>\n",
              "      <td>28</td>\n",
              "      <td>0.00</td>\n",
              "      <td>{'type': 'Point', 'coordinates': [-75.698193, ...</td>\n",
              "    </tr>\n",
              "    <tr>\n",
              "      <th>5</th>\n",
              "      <td>Pasto_ESTACION_DE_MONITOREO_ANE</td>\n",
              "      <td>Pasto_NARIÑO</td>\n",
              "      <td>2020-06-30T23:54:00.000</td>\n",
              "      <td>0.67</td>\n",
              "      <td>28</td>\n",
              "      <td>2.39</td>\n",
              "      <td>{'type': 'Point', 'coordinates': [-77.26463000...</td>\n",
              "    </tr>\n",
              "  </tbody>\n",
              "</table>\n",
              "</div>\n",
              "      <button class=\"colab-df-convert\" onclick=\"convertToInteractive('df-e39a59c7-8e68-4385-8322-4106d544df36')\"\n",
              "              title=\"Convert this dataframe to an interactive table.\"\n",
              "              style=\"display:none;\">\n",
              "        \n",
              "  <svg xmlns=\"http://www.w3.org/2000/svg\" height=\"24px\"viewBox=\"0 0 24 24\"\n",
              "       width=\"24px\">\n",
              "    <path d=\"M0 0h24v24H0V0z\" fill=\"none\"/>\n",
              "    <path d=\"M18.56 5.44l.94 2.06.94-2.06 2.06-.94-2.06-.94-.94-2.06-.94 2.06-2.06.94zm-11 1L8.5 8.5l.94-2.06 2.06-.94-2.06-.94L8.5 2.5l-.94 2.06-2.06.94zm10 10l.94 2.06.94-2.06 2.06-.94-2.06-.94-.94-2.06-.94 2.06-2.06.94z\"/><path d=\"M17.41 7.96l-1.37-1.37c-.4-.4-.92-.59-1.43-.59-.52 0-1.04.2-1.43.59L10.3 9.45l-7.72 7.72c-.78.78-.78 2.05 0 2.83L4 21.41c.39.39.9.59 1.41.59.51 0 1.02-.2 1.41-.59l7.78-7.78 2.81-2.81c.8-.78.8-2.07 0-2.86zM5.41 20L4 18.59l7.72-7.72 1.47 1.35L5.41 20z\"/>\n",
              "  </svg>\n",
              "      </button>\n",
              "      \n",
              "  <style>\n",
              "    .colab-df-container {\n",
              "      display:flex;\n",
              "      flex-wrap:wrap;\n",
              "      gap: 12px;\n",
              "    }\n",
              "\n",
              "    .colab-df-convert {\n",
              "      background-color: #E8F0FE;\n",
              "      border: none;\n",
              "      border-radius: 50%;\n",
              "      cursor: pointer;\n",
              "      display: none;\n",
              "      fill: #1967D2;\n",
              "      height: 32px;\n",
              "      padding: 0 0 0 0;\n",
              "      width: 32px;\n",
              "    }\n",
              "\n",
              "    .colab-df-convert:hover {\n",
              "      background-color: #E2EBFA;\n",
              "      box-shadow: 0px 1px 2px rgba(60, 64, 67, 0.3), 0px 1px 3px 1px rgba(60, 64, 67, 0.15);\n",
              "      fill: #174EA6;\n",
              "    }\n",
              "\n",
              "    [theme=dark] .colab-df-convert {\n",
              "      background-color: #3B4455;\n",
              "      fill: #D2E3FC;\n",
              "    }\n",
              "\n",
              "    [theme=dark] .colab-df-convert:hover {\n",
              "      background-color: #434B5C;\n",
              "      box-shadow: 0px 1px 3px 1px rgba(0, 0, 0, 0.15);\n",
              "      filter: drop-shadow(0px 1px 2px rgba(0, 0, 0, 0.3));\n",
              "      fill: #FFFFFF;\n",
              "    }\n",
              "  </style>\n",
              "\n",
              "      <script>\n",
              "        const buttonEl =\n",
              "          document.querySelector('#df-e39a59c7-8e68-4385-8322-4106d544df36 button.colab-df-convert');\n",
              "        buttonEl.style.display =\n",
              "          google.colab.kernel.accessAllowed ? 'block' : 'none';\n",
              "\n",
              "        async function convertToInteractive(key) {\n",
              "          const element = document.querySelector('#df-e39a59c7-8e68-4385-8322-4106d544df36');\n",
              "          const dataTable =\n",
              "            await google.colab.kernel.invokeFunction('convertToInteractive',\n",
              "                                                     [key], {});\n",
              "          if (!dataTable) return;\n",
              "\n",
              "          const docLinkHtml = 'Like what you see? Visit the ' +\n",
              "            '<a target=\"_blank\" href=https://colab.research.google.com/notebooks/data_table.ipynb>data table notebook</a>'\n",
              "            + ' to learn more about interactive tables.';\n",
              "          element.innerHTML = '';\n",
              "          dataTable['output_type'] = 'display_data';\n",
              "          await google.colab.output.renderOutput(dataTable, element);\n",
              "          const docLink = document.createElement('div');\n",
              "          docLink.innerHTML = docLinkHtml;\n",
              "          element.appendChild(docLink);\n",
              "        }\n",
              "      </script>\n",
              "    </div>\n",
              "  </div>\n",
              "  "
            ]
          },
          "metadata": {},
          "execution_count": 6
        }
      ]
    },
    {
      "cell_type": "code",
      "source": [
        "#import pandas as pd"
      ],
      "metadata": {
        "id": "bYVtqmBzT4uF"
      },
      "execution_count": null,
      "outputs": []
    },
    {
      "cell_type": "code",
      "source": [
        "melb_data = pd.read_csv(\n",
        "    'https://cs.famaf.unc.edu.ar/~mteruel/datasets/diplodatos/melb_data.csv')\n",
        "\n",
        "melb_data.shape"
      ],
      "metadata": {
        "id": "1I7JmzwlTxz5",
        "colab": {
          "base_uri": "https://localhost:8080/"
        },
        "outputId": "629ab5e9-3ea0-4b7f-96e9-648ce58d9fba"
      },
      "execution_count": 7,
      "outputs": [
        {
          "output_type": "execute_result",
          "data": {
            "text/plain": [
              "(13580, 21)"
            ]
          },
          "metadata": {},
          "execution_count": 7
        }
      ]
    },
    {
      "cell_type": "markdown",
      "source": [
        "- En esta parte trabajaremos con los datos APARTAMENTOS.csv . \n",
        "\n",
        "-Este cojunto de datos corresponde a características de un conjunto de apartamento en la ciudad de medellín.\n",
        "\n",
        "Usaremos algunas instrucciones para explorar y navegar por el conjunto de datos"
      ],
      "metadata": {
        "id": "U-rgUE01Wuyc"
      }
    },
    {
      "cell_type": "markdown",
      "source": [
        "1. Usamos la instrucción **head()** para explorar la cabeza de los datos"
      ],
      "metadata": {
        "id": "3JxR8YvIXVea"
      }
    },
    {
      "cell_type": "code",
      "source": [
        "aptos.head(7)"
      ],
      "metadata": {
        "id": "dgkqHGWKWt42",
        "colab": {
          "base_uri": "https://localhost:8080/",
          "height": 269
        },
        "outputId": "a9a8fc45-865c-49ec-8008-f024d9b2be5e"
      },
      "execution_count": 36,
      "outputs": [
        {
          "output_type": "execute_result",
          "data": {
            "text/plain": [
              "   precio    mt2 ubicacion  estrato  alcobas  banos balcon parqueadero  \\\n",
              "0    79.0  43.16     norte        3        3      1     si          si   \n",
              "1    93.0  56.92     norte        2        2      1     si          si   \n",
              "2   100.0  66.40     norte        3        2      2     no          no   \n",
              "3   123.0  61.85     norte        2        3      2     si          si   \n",
              "4   135.0  89.80     norte        4        3      2     si          no   \n",
              "5   140.0  71.00     norte        3        3      2     no          si   \n",
              "6   145.0  54.83     norte        3        2      2     si          si   \n",
              "\n",
              "   administracion     avaluo terminado  \n",
              "0           0.050  14.923002        no  \n",
              "1           0.069  27.000000        si  \n",
              "2           0.000  15.738427        no  \n",
              "3           0.130  27.000000        no  \n",
              "4           0.000  39.567000        si  \n",
              "5           0.120  31.145508        si  \n",
              "6           0.140  27.000000        si  "
            ],
            "text/html": [
              "\n",
              "  <div id=\"df-b61495d1-d088-4c6d-812d-d2ea51fdc49d\">\n",
              "    <div class=\"colab-df-container\">\n",
              "      <div>\n",
              "<style scoped>\n",
              "    .dataframe tbody tr th:only-of-type {\n",
              "        vertical-align: middle;\n",
              "    }\n",
              "\n",
              "    .dataframe tbody tr th {\n",
              "        vertical-align: top;\n",
              "    }\n",
              "\n",
              "    .dataframe thead th {\n",
              "        text-align: right;\n",
              "    }\n",
              "</style>\n",
              "<table border=\"1\" class=\"dataframe\">\n",
              "  <thead>\n",
              "    <tr style=\"text-align: right;\">\n",
              "      <th></th>\n",
              "      <th>precio</th>\n",
              "      <th>mt2</th>\n",
              "      <th>ubicacion</th>\n",
              "      <th>estrato</th>\n",
              "      <th>alcobas</th>\n",
              "      <th>banos</th>\n",
              "      <th>balcon</th>\n",
              "      <th>parqueadero</th>\n",
              "      <th>administracion</th>\n",
              "      <th>avaluo</th>\n",
              "      <th>terminado</th>\n",
              "    </tr>\n",
              "  </thead>\n",
              "  <tbody>\n",
              "    <tr>\n",
              "      <th>0</th>\n",
              "      <td>79.0</td>\n",
              "      <td>43.16</td>\n",
              "      <td>norte</td>\n",
              "      <td>3</td>\n",
              "      <td>3</td>\n",
              "      <td>1</td>\n",
              "      <td>si</td>\n",
              "      <td>si</td>\n",
              "      <td>0.050</td>\n",
              "      <td>14.923002</td>\n",
              "      <td>no</td>\n",
              "    </tr>\n",
              "    <tr>\n",
              "      <th>1</th>\n",
              "      <td>93.0</td>\n",
              "      <td>56.92</td>\n",
              "      <td>norte</td>\n",
              "      <td>2</td>\n",
              "      <td>2</td>\n",
              "      <td>1</td>\n",
              "      <td>si</td>\n",
              "      <td>si</td>\n",
              "      <td>0.069</td>\n",
              "      <td>27.000000</td>\n",
              "      <td>si</td>\n",
              "    </tr>\n",
              "    <tr>\n",
              "      <th>2</th>\n",
              "      <td>100.0</td>\n",
              "      <td>66.40</td>\n",
              "      <td>norte</td>\n",
              "      <td>3</td>\n",
              "      <td>2</td>\n",
              "      <td>2</td>\n",
              "      <td>no</td>\n",
              "      <td>no</td>\n",
              "      <td>0.000</td>\n",
              "      <td>15.738427</td>\n",
              "      <td>no</td>\n",
              "    </tr>\n",
              "    <tr>\n",
              "      <th>3</th>\n",
              "      <td>123.0</td>\n",
              "      <td>61.85</td>\n",
              "      <td>norte</td>\n",
              "      <td>2</td>\n",
              "      <td>3</td>\n",
              "      <td>2</td>\n",
              "      <td>si</td>\n",
              "      <td>si</td>\n",
              "      <td>0.130</td>\n",
              "      <td>27.000000</td>\n",
              "      <td>no</td>\n",
              "    </tr>\n",
              "    <tr>\n",
              "      <th>4</th>\n",
              "      <td>135.0</td>\n",
              "      <td>89.80</td>\n",
              "      <td>norte</td>\n",
              "      <td>4</td>\n",
              "      <td>3</td>\n",
              "      <td>2</td>\n",
              "      <td>si</td>\n",
              "      <td>no</td>\n",
              "      <td>0.000</td>\n",
              "      <td>39.567000</td>\n",
              "      <td>si</td>\n",
              "    </tr>\n",
              "    <tr>\n",
              "      <th>5</th>\n",
              "      <td>140.0</td>\n",
              "      <td>71.00</td>\n",
              "      <td>norte</td>\n",
              "      <td>3</td>\n",
              "      <td>3</td>\n",
              "      <td>2</td>\n",
              "      <td>no</td>\n",
              "      <td>si</td>\n",
              "      <td>0.120</td>\n",
              "      <td>31.145508</td>\n",
              "      <td>si</td>\n",
              "    </tr>\n",
              "    <tr>\n",
              "      <th>6</th>\n",
              "      <td>145.0</td>\n",
              "      <td>54.83</td>\n",
              "      <td>norte</td>\n",
              "      <td>3</td>\n",
              "      <td>2</td>\n",
              "      <td>2</td>\n",
              "      <td>si</td>\n",
              "      <td>si</td>\n",
              "      <td>0.140</td>\n",
              "      <td>27.000000</td>\n",
              "      <td>si</td>\n",
              "    </tr>\n",
              "  </tbody>\n",
              "</table>\n",
              "</div>\n",
              "      <button class=\"colab-df-convert\" onclick=\"convertToInteractive('df-b61495d1-d088-4c6d-812d-d2ea51fdc49d')\"\n",
              "              title=\"Convert this dataframe to an interactive table.\"\n",
              "              style=\"display:none;\">\n",
              "        \n",
              "  <svg xmlns=\"http://www.w3.org/2000/svg\" height=\"24px\"viewBox=\"0 0 24 24\"\n",
              "       width=\"24px\">\n",
              "    <path d=\"M0 0h24v24H0V0z\" fill=\"none\"/>\n",
              "    <path d=\"M18.56 5.44l.94 2.06.94-2.06 2.06-.94-2.06-.94-.94-2.06-.94 2.06-2.06.94zm-11 1L8.5 8.5l.94-2.06 2.06-.94-2.06-.94L8.5 2.5l-.94 2.06-2.06.94zm10 10l.94 2.06.94-2.06 2.06-.94-2.06-.94-.94-2.06-.94 2.06-2.06.94z\"/><path d=\"M17.41 7.96l-1.37-1.37c-.4-.4-.92-.59-1.43-.59-.52 0-1.04.2-1.43.59L10.3 9.45l-7.72 7.72c-.78.78-.78 2.05 0 2.83L4 21.41c.39.39.9.59 1.41.59.51 0 1.02-.2 1.41-.59l7.78-7.78 2.81-2.81c.8-.78.8-2.07 0-2.86zM5.41 20L4 18.59l7.72-7.72 1.47 1.35L5.41 20z\"/>\n",
              "  </svg>\n",
              "      </button>\n",
              "      \n",
              "  <style>\n",
              "    .colab-df-container {\n",
              "      display:flex;\n",
              "      flex-wrap:wrap;\n",
              "      gap: 12px;\n",
              "    }\n",
              "\n",
              "    .colab-df-convert {\n",
              "      background-color: #E8F0FE;\n",
              "      border: none;\n",
              "      border-radius: 50%;\n",
              "      cursor: pointer;\n",
              "      display: none;\n",
              "      fill: #1967D2;\n",
              "      height: 32px;\n",
              "      padding: 0 0 0 0;\n",
              "      width: 32px;\n",
              "    }\n",
              "\n",
              "    .colab-df-convert:hover {\n",
              "      background-color: #E2EBFA;\n",
              "      box-shadow: 0px 1px 2px rgba(60, 64, 67, 0.3), 0px 1px 3px 1px rgba(60, 64, 67, 0.15);\n",
              "      fill: #174EA6;\n",
              "    }\n",
              "\n",
              "    [theme=dark] .colab-df-convert {\n",
              "      background-color: #3B4455;\n",
              "      fill: #D2E3FC;\n",
              "    }\n",
              "\n",
              "    [theme=dark] .colab-df-convert:hover {\n",
              "      background-color: #434B5C;\n",
              "      box-shadow: 0px 1px 3px 1px rgba(0, 0, 0, 0.15);\n",
              "      filter: drop-shadow(0px 1px 2px rgba(0, 0, 0, 0.3));\n",
              "      fill: #FFFFFF;\n",
              "    }\n",
              "  </style>\n",
              "\n",
              "      <script>\n",
              "        const buttonEl =\n",
              "          document.querySelector('#df-b61495d1-d088-4c6d-812d-d2ea51fdc49d button.colab-df-convert');\n",
              "        buttonEl.style.display =\n",
              "          google.colab.kernel.accessAllowed ? 'block' : 'none';\n",
              "\n",
              "        async function convertToInteractive(key) {\n",
              "          const element = document.querySelector('#df-b61495d1-d088-4c6d-812d-d2ea51fdc49d');\n",
              "          const dataTable =\n",
              "            await google.colab.kernel.invokeFunction('convertToInteractive',\n",
              "                                                     [key], {});\n",
              "          if (!dataTable) return;\n",
              "\n",
              "          const docLinkHtml = 'Like what you see? Visit the ' +\n",
              "            '<a target=\"_blank\" href=https://colab.research.google.com/notebooks/data_table.ipynb>data table notebook</a>'\n",
              "            + ' to learn more about interactive tables.';\n",
              "          element.innerHTML = '';\n",
              "          dataTable['output_type'] = 'display_data';\n",
              "          await google.colab.output.renderOutput(dataTable, element);\n",
              "          const docLink = document.createElement('div');\n",
              "          docLink.innerHTML = docLinkHtml;\n",
              "          element.appendChild(docLink);\n",
              "        }\n",
              "      </script>\n",
              "    </div>\n",
              "  </div>\n",
              "  "
            ]
          },
          "metadata": {},
          "execution_count": 36
        }
      ]
    },
    {
      "cell_type": "code",
      "source": [],
      "metadata": {
        "id": "AVLuaJq7s3U0"
      },
      "execution_count": null,
      "outputs": []
    },
    {
      "cell_type": "markdown",
      "source": [
        "2. Usamos la instrucción **tail()** para explorar los últimos datos"
      ],
      "metadata": {
        "id": "CxCN-I2JXu0b"
      }
    },
    {
      "cell_type": "code",
      "source": [
        "aptos.tail(6)"
      ],
      "metadata": {
        "id": "hLKAVgSIXl4W",
        "colab": {
          "base_uri": "https://localhost:8080/",
          "height": 238
        },
        "outputId": "c1de7fe1-7f39-4512-f130-3da39516f82d"
      },
      "execution_count": 9,
      "outputs": [
        {
          "output_type": "execute_result",
          "data": {
            "text/plain": [
              "     Unnamed: 0  precio    mt2 ubicacion  estrato  alcobas  banos balcon  \\\n",
              "688         689   470.0  248.0  laureles        5        3      2     no   \n",
              "689         690   498.0  180.0  laureles        5        4      3     si   \n",
              "690         691   508.0  209.0  laureles        6        4      3     si   \n",
              "691         692   550.0  149.0  laureles        6        3      4     no   \n",
              "692         693   630.0  179.0  laureles        5        3      3     si   \n",
              "693         694  1350.0  494.0  laureles        5        3      4     si   \n",
              "\n",
              "    parqueadero  administracion   avaluo terminado  \n",
              "688          si          0.4809  345.376        si  \n",
              "689          si          0.5700  233.784        si  \n",
              "690          si          0.4500  258.850        si  \n",
              "691          si          0.7470  326.157        si  \n",
              "692          si          0.3400  324.114        si  \n",
              "693          si          1.6000  320.000        si  "
            ],
            "text/html": [
              "\n",
              "  <div id=\"df-3b4f5aae-8cb0-4e56-bf42-d8d1691a2277\">\n",
              "    <div class=\"colab-df-container\">\n",
              "      <div>\n",
              "<style scoped>\n",
              "    .dataframe tbody tr th:only-of-type {\n",
              "        vertical-align: middle;\n",
              "    }\n",
              "\n",
              "    .dataframe tbody tr th {\n",
              "        vertical-align: top;\n",
              "    }\n",
              "\n",
              "    .dataframe thead th {\n",
              "        text-align: right;\n",
              "    }\n",
              "</style>\n",
              "<table border=\"1\" class=\"dataframe\">\n",
              "  <thead>\n",
              "    <tr style=\"text-align: right;\">\n",
              "      <th></th>\n",
              "      <th>Unnamed: 0</th>\n",
              "      <th>precio</th>\n",
              "      <th>mt2</th>\n",
              "      <th>ubicacion</th>\n",
              "      <th>estrato</th>\n",
              "      <th>alcobas</th>\n",
              "      <th>banos</th>\n",
              "      <th>balcon</th>\n",
              "      <th>parqueadero</th>\n",
              "      <th>administracion</th>\n",
              "      <th>avaluo</th>\n",
              "      <th>terminado</th>\n",
              "    </tr>\n",
              "  </thead>\n",
              "  <tbody>\n",
              "    <tr>\n",
              "      <th>688</th>\n",
              "      <td>689</td>\n",
              "      <td>470.0</td>\n",
              "      <td>248.0</td>\n",
              "      <td>laureles</td>\n",
              "      <td>5</td>\n",
              "      <td>3</td>\n",
              "      <td>2</td>\n",
              "      <td>no</td>\n",
              "      <td>si</td>\n",
              "      <td>0.4809</td>\n",
              "      <td>345.376</td>\n",
              "      <td>si</td>\n",
              "    </tr>\n",
              "    <tr>\n",
              "      <th>689</th>\n",
              "      <td>690</td>\n",
              "      <td>498.0</td>\n",
              "      <td>180.0</td>\n",
              "      <td>laureles</td>\n",
              "      <td>5</td>\n",
              "      <td>4</td>\n",
              "      <td>3</td>\n",
              "      <td>si</td>\n",
              "      <td>si</td>\n",
              "      <td>0.5700</td>\n",
              "      <td>233.784</td>\n",
              "      <td>si</td>\n",
              "    </tr>\n",
              "    <tr>\n",
              "      <th>690</th>\n",
              "      <td>691</td>\n",
              "      <td>508.0</td>\n",
              "      <td>209.0</td>\n",
              "      <td>laureles</td>\n",
              "      <td>6</td>\n",
              "      <td>4</td>\n",
              "      <td>3</td>\n",
              "      <td>si</td>\n",
              "      <td>si</td>\n",
              "      <td>0.4500</td>\n",
              "      <td>258.850</td>\n",
              "      <td>si</td>\n",
              "    </tr>\n",
              "    <tr>\n",
              "      <th>691</th>\n",
              "      <td>692</td>\n",
              "      <td>550.0</td>\n",
              "      <td>149.0</td>\n",
              "      <td>laureles</td>\n",
              "      <td>6</td>\n",
              "      <td>3</td>\n",
              "      <td>4</td>\n",
              "      <td>no</td>\n",
              "      <td>si</td>\n",
              "      <td>0.7470</td>\n",
              "      <td>326.157</td>\n",
              "      <td>si</td>\n",
              "    </tr>\n",
              "    <tr>\n",
              "      <th>692</th>\n",
              "      <td>693</td>\n",
              "      <td>630.0</td>\n",
              "      <td>179.0</td>\n",
              "      <td>laureles</td>\n",
              "      <td>5</td>\n",
              "      <td>3</td>\n",
              "      <td>3</td>\n",
              "      <td>si</td>\n",
              "      <td>si</td>\n",
              "      <td>0.3400</td>\n",
              "      <td>324.114</td>\n",
              "      <td>si</td>\n",
              "    </tr>\n",
              "    <tr>\n",
              "      <th>693</th>\n",
              "      <td>694</td>\n",
              "      <td>1350.0</td>\n",
              "      <td>494.0</td>\n",
              "      <td>laureles</td>\n",
              "      <td>5</td>\n",
              "      <td>3</td>\n",
              "      <td>4</td>\n",
              "      <td>si</td>\n",
              "      <td>si</td>\n",
              "      <td>1.6000</td>\n",
              "      <td>320.000</td>\n",
              "      <td>si</td>\n",
              "    </tr>\n",
              "  </tbody>\n",
              "</table>\n",
              "</div>\n",
              "      <button class=\"colab-df-convert\" onclick=\"convertToInteractive('df-3b4f5aae-8cb0-4e56-bf42-d8d1691a2277')\"\n",
              "              title=\"Convert this dataframe to an interactive table.\"\n",
              "              style=\"display:none;\">\n",
              "        \n",
              "  <svg xmlns=\"http://www.w3.org/2000/svg\" height=\"24px\"viewBox=\"0 0 24 24\"\n",
              "       width=\"24px\">\n",
              "    <path d=\"M0 0h24v24H0V0z\" fill=\"none\"/>\n",
              "    <path d=\"M18.56 5.44l.94 2.06.94-2.06 2.06-.94-2.06-.94-.94-2.06-.94 2.06-2.06.94zm-11 1L8.5 8.5l.94-2.06 2.06-.94-2.06-.94L8.5 2.5l-.94 2.06-2.06.94zm10 10l.94 2.06.94-2.06 2.06-.94-2.06-.94-.94-2.06-.94 2.06-2.06.94z\"/><path d=\"M17.41 7.96l-1.37-1.37c-.4-.4-.92-.59-1.43-.59-.52 0-1.04.2-1.43.59L10.3 9.45l-7.72 7.72c-.78.78-.78 2.05 0 2.83L4 21.41c.39.39.9.59 1.41.59.51 0 1.02-.2 1.41-.59l7.78-7.78 2.81-2.81c.8-.78.8-2.07 0-2.86zM5.41 20L4 18.59l7.72-7.72 1.47 1.35L5.41 20z\"/>\n",
              "  </svg>\n",
              "      </button>\n",
              "      \n",
              "  <style>\n",
              "    .colab-df-container {\n",
              "      display:flex;\n",
              "      flex-wrap:wrap;\n",
              "      gap: 12px;\n",
              "    }\n",
              "\n",
              "    .colab-df-convert {\n",
              "      background-color: #E8F0FE;\n",
              "      border: none;\n",
              "      border-radius: 50%;\n",
              "      cursor: pointer;\n",
              "      display: none;\n",
              "      fill: #1967D2;\n",
              "      height: 32px;\n",
              "      padding: 0 0 0 0;\n",
              "      width: 32px;\n",
              "    }\n",
              "\n",
              "    .colab-df-convert:hover {\n",
              "      background-color: #E2EBFA;\n",
              "      box-shadow: 0px 1px 2px rgba(60, 64, 67, 0.3), 0px 1px 3px 1px rgba(60, 64, 67, 0.15);\n",
              "      fill: #174EA6;\n",
              "    }\n",
              "\n",
              "    [theme=dark] .colab-df-convert {\n",
              "      background-color: #3B4455;\n",
              "      fill: #D2E3FC;\n",
              "    }\n",
              "\n",
              "    [theme=dark] .colab-df-convert:hover {\n",
              "      background-color: #434B5C;\n",
              "      box-shadow: 0px 1px 3px 1px rgba(0, 0, 0, 0.15);\n",
              "      filter: drop-shadow(0px 1px 2px rgba(0, 0, 0, 0.3));\n",
              "      fill: #FFFFFF;\n",
              "    }\n",
              "  </style>\n",
              "\n",
              "      <script>\n",
              "        const buttonEl =\n",
              "          document.querySelector('#df-3b4f5aae-8cb0-4e56-bf42-d8d1691a2277 button.colab-df-convert');\n",
              "        buttonEl.style.display =\n",
              "          google.colab.kernel.accessAllowed ? 'block' : 'none';\n",
              "\n",
              "        async function convertToInteractive(key) {\n",
              "          const element = document.querySelector('#df-3b4f5aae-8cb0-4e56-bf42-d8d1691a2277');\n",
              "          const dataTable =\n",
              "            await google.colab.kernel.invokeFunction('convertToInteractive',\n",
              "                                                     [key], {});\n",
              "          if (!dataTable) return;\n",
              "\n",
              "          const docLinkHtml = 'Like what you see? Visit the ' +\n",
              "            '<a target=\"_blank\" href=https://colab.research.google.com/notebooks/data_table.ipynb>data table notebook</a>'\n",
              "            + ' to learn more about interactive tables.';\n",
              "          element.innerHTML = '';\n",
              "          dataTable['output_type'] = 'display_data';\n",
              "          await google.colab.output.renderOutput(dataTable, element);\n",
              "          const docLink = document.createElement('div');\n",
              "          docLink.innerHTML = docLinkHtml;\n",
              "          element.appendChild(docLink);\n",
              "        }\n",
              "      </script>\n",
              "    </div>\n",
              "  </div>\n",
              "  "
            ]
          },
          "metadata": {},
          "execution_count": 9
        }
      ]
    },
    {
      "cell_type": "markdown",
      "source": [
        "3. Con la instrucción **shape** miramos el tamaño de nuestros datos"
      ],
      "metadata": {
        "id": "TNRaX29-XxYo"
      }
    },
    {
      "cell_type": "code",
      "source": [
        "aptos.shape"
      ],
      "metadata": {
        "colab": {
          "base_uri": "https://localhost:8080/"
        },
        "id": "nSHxHidWXxJK",
        "outputId": "0d4cb24e-8ded-40da-ca76-9676db780f4c"
      },
      "execution_count": 10,
      "outputs": [
        {
          "output_type": "execute_result",
          "data": {
            "text/plain": [
              "(694, 12)"
            ]
          },
          "metadata": {},
          "execution_count": 10
        }
      ]
    },
    {
      "cell_type": "markdown",
      "source": [
        "4. Para explorar nombre de las variables o columnas **columns**"
      ],
      "metadata": {
        "id": "VMoDM-f1X6R8"
      }
    },
    {
      "cell_type": "code",
      "source": [
        "aptos.columns"
      ],
      "metadata": {
        "id": "jEvOpdhuYB0U"
      },
      "execution_count": null,
      "outputs": []
    },
    {
      "cell_type": "markdown",
      "source": [
        "5. Podemos ver que tipos de elementos tiene el conjunto de datos con **dtypes**"
      ],
      "metadata": {
        "id": "quNn8-rSYMTQ"
      }
    },
    {
      "cell_type": "code",
      "source": [
        "aptos.dtypes"
      ],
      "metadata": {
        "id": "yZfYI9YJYH5f",
        "colab": {
          "base_uri": "https://localhost:8080/"
        },
        "outputId": "73ea1987-2e55-4bab-8136-3b9d6b6a48e1"
      },
      "execution_count": 11,
      "outputs": [
        {
          "output_type": "execute_result",
          "data": {
            "text/plain": [
              "Unnamed: 0          int64\n",
              "precio            float64\n",
              "mt2               float64\n",
              "ubicacion          object\n",
              "estrato             int64\n",
              "alcobas             int64\n",
              "banos               int64\n",
              "balcon             object\n",
              "parqueadero        object\n",
              "administracion    float64\n",
              "avaluo            float64\n",
              "terminado          object\n",
              "dtype: object"
            ]
          },
          "metadata": {},
          "execution_count": 11
        }
      ]
    },
    {
      "cell_type": "markdown",
      "source": [
        "6. **info()** es un resumen de las variables y su clasificación. Además, podemos identificar datos faltantes (NA) en cada una de ellas."
      ],
      "metadata": {
        "id": "2UedC7eBYZ9D"
      }
    },
    {
      "cell_type": "code",
      "source": [
        "aptos.info()"
      ],
      "metadata": {
        "id": "MGta2cCcYkgK",
        "colab": {
          "base_uri": "https://localhost:8080/"
        },
        "outputId": "549f0e29-bfc1-4b88-eae5-cc0e8b8f0623"
      },
      "execution_count": 12,
      "outputs": [
        {
          "output_type": "stream",
          "name": "stdout",
          "text": [
            "<class 'pandas.core.frame.DataFrame'>\n",
            "RangeIndex: 694 entries, 0 to 693\n",
            "Data columns (total 12 columns):\n",
            " #   Column          Non-Null Count  Dtype  \n",
            "---  ------          --------------  -----  \n",
            " 0   Unnamed: 0      694 non-null    int64  \n",
            " 1   precio          694 non-null    float64\n",
            " 2   mt2             694 non-null    float64\n",
            " 3   ubicacion       694 non-null    object \n",
            " 4   estrato         694 non-null    int64  \n",
            " 5   alcobas         694 non-null    int64  \n",
            " 6   banos           694 non-null    int64  \n",
            " 7   balcon          694 non-null    object \n",
            " 8   parqueadero     694 non-null    object \n",
            " 9   administracion  694 non-null    float64\n",
            " 10  avaluo          694 non-null    float64\n",
            " 11  terminado       694 non-null    object \n",
            "dtypes: float64(4), int64(4), object(4)\n",
            "memory usage: 65.2+ KB\n"
          ]
        }
      ]
    },
    {
      "cell_type": "markdown",
      "source": [
        "7. Revisaremos si tiene datos faltantes con **isna**"
      ],
      "metadata": {
        "id": "4jGnvIKrYxU3"
      }
    },
    {
      "cell_type": "code",
      "source": [
        "aptos_na = aptos.isna(); aptos_na\n"
      ],
      "metadata": {
        "id": "E7iL-r13Y17Q",
        "colab": {
          "base_uri": "https://localhost:8080/",
          "height": 424
        },
        "outputId": "ca4ee192-bdde-457f-cbc9-3869d07618d8"
      },
      "execution_count": 13,
      "outputs": [
        {
          "output_type": "execute_result",
          "data": {
            "text/plain": [
              "     Unnamed: 0  precio    mt2  ubicacion  estrato  alcobas  banos  balcon  \\\n",
              "0         False   False  False      False    False    False  False   False   \n",
              "1         False   False  False      False    False    False  False   False   \n",
              "2         False   False  False      False    False    False  False   False   \n",
              "3         False   False  False      False    False    False  False   False   \n",
              "4         False   False  False      False    False    False  False   False   \n",
              "..          ...     ...    ...        ...      ...      ...    ...     ...   \n",
              "689       False   False  False      False    False    False  False   False   \n",
              "690       False   False  False      False    False    False  False   False   \n",
              "691       False   False  False      False    False    False  False   False   \n",
              "692       False   False  False      False    False    False  False   False   \n",
              "693       False   False  False      False    False    False  False   False   \n",
              "\n",
              "     parqueadero  administracion  avaluo  terminado  \n",
              "0          False           False   False      False  \n",
              "1          False           False   False      False  \n",
              "2          False           False   False      False  \n",
              "3          False           False   False      False  \n",
              "4          False           False   False      False  \n",
              "..           ...             ...     ...        ...  \n",
              "689        False           False   False      False  \n",
              "690        False           False   False      False  \n",
              "691        False           False   False      False  \n",
              "692        False           False   False      False  \n",
              "693        False           False   False      False  \n",
              "\n",
              "[694 rows x 12 columns]"
            ],
            "text/html": [
              "\n",
              "  <div id=\"df-16b72ffd-6edd-4825-973e-fbe726c1befd\">\n",
              "    <div class=\"colab-df-container\">\n",
              "      <div>\n",
              "<style scoped>\n",
              "    .dataframe tbody tr th:only-of-type {\n",
              "        vertical-align: middle;\n",
              "    }\n",
              "\n",
              "    .dataframe tbody tr th {\n",
              "        vertical-align: top;\n",
              "    }\n",
              "\n",
              "    .dataframe thead th {\n",
              "        text-align: right;\n",
              "    }\n",
              "</style>\n",
              "<table border=\"1\" class=\"dataframe\">\n",
              "  <thead>\n",
              "    <tr style=\"text-align: right;\">\n",
              "      <th></th>\n",
              "      <th>Unnamed: 0</th>\n",
              "      <th>precio</th>\n",
              "      <th>mt2</th>\n",
              "      <th>ubicacion</th>\n",
              "      <th>estrato</th>\n",
              "      <th>alcobas</th>\n",
              "      <th>banos</th>\n",
              "      <th>balcon</th>\n",
              "      <th>parqueadero</th>\n",
              "      <th>administracion</th>\n",
              "      <th>avaluo</th>\n",
              "      <th>terminado</th>\n",
              "    </tr>\n",
              "  </thead>\n",
              "  <tbody>\n",
              "    <tr>\n",
              "      <th>0</th>\n",
              "      <td>False</td>\n",
              "      <td>False</td>\n",
              "      <td>False</td>\n",
              "      <td>False</td>\n",
              "      <td>False</td>\n",
              "      <td>False</td>\n",
              "      <td>False</td>\n",
              "      <td>False</td>\n",
              "      <td>False</td>\n",
              "      <td>False</td>\n",
              "      <td>False</td>\n",
              "      <td>False</td>\n",
              "    </tr>\n",
              "    <tr>\n",
              "      <th>1</th>\n",
              "      <td>False</td>\n",
              "      <td>False</td>\n",
              "      <td>False</td>\n",
              "      <td>False</td>\n",
              "      <td>False</td>\n",
              "      <td>False</td>\n",
              "      <td>False</td>\n",
              "      <td>False</td>\n",
              "      <td>False</td>\n",
              "      <td>False</td>\n",
              "      <td>False</td>\n",
              "      <td>False</td>\n",
              "    </tr>\n",
              "    <tr>\n",
              "      <th>2</th>\n",
              "      <td>False</td>\n",
              "      <td>False</td>\n",
              "      <td>False</td>\n",
              "      <td>False</td>\n",
              "      <td>False</td>\n",
              "      <td>False</td>\n",
              "      <td>False</td>\n",
              "      <td>False</td>\n",
              "      <td>False</td>\n",
              "      <td>False</td>\n",
              "      <td>False</td>\n",
              "      <td>False</td>\n",
              "    </tr>\n",
              "    <tr>\n",
              "      <th>3</th>\n",
              "      <td>False</td>\n",
              "      <td>False</td>\n",
              "      <td>False</td>\n",
              "      <td>False</td>\n",
              "      <td>False</td>\n",
              "      <td>False</td>\n",
              "      <td>False</td>\n",
              "      <td>False</td>\n",
              "      <td>False</td>\n",
              "      <td>False</td>\n",
              "      <td>False</td>\n",
              "      <td>False</td>\n",
              "    </tr>\n",
              "    <tr>\n",
              "      <th>4</th>\n",
              "      <td>False</td>\n",
              "      <td>False</td>\n",
              "      <td>False</td>\n",
              "      <td>False</td>\n",
              "      <td>False</td>\n",
              "      <td>False</td>\n",
              "      <td>False</td>\n",
              "      <td>False</td>\n",
              "      <td>False</td>\n",
              "      <td>False</td>\n",
              "      <td>False</td>\n",
              "      <td>False</td>\n",
              "    </tr>\n",
              "    <tr>\n",
              "      <th>...</th>\n",
              "      <td>...</td>\n",
              "      <td>...</td>\n",
              "      <td>...</td>\n",
              "      <td>...</td>\n",
              "      <td>...</td>\n",
              "      <td>...</td>\n",
              "      <td>...</td>\n",
              "      <td>...</td>\n",
              "      <td>...</td>\n",
              "      <td>...</td>\n",
              "      <td>...</td>\n",
              "      <td>...</td>\n",
              "    </tr>\n",
              "    <tr>\n",
              "      <th>689</th>\n",
              "      <td>False</td>\n",
              "      <td>False</td>\n",
              "      <td>False</td>\n",
              "      <td>False</td>\n",
              "      <td>False</td>\n",
              "      <td>False</td>\n",
              "      <td>False</td>\n",
              "      <td>False</td>\n",
              "      <td>False</td>\n",
              "      <td>False</td>\n",
              "      <td>False</td>\n",
              "      <td>False</td>\n",
              "    </tr>\n",
              "    <tr>\n",
              "      <th>690</th>\n",
              "      <td>False</td>\n",
              "      <td>False</td>\n",
              "      <td>False</td>\n",
              "      <td>False</td>\n",
              "      <td>False</td>\n",
              "      <td>False</td>\n",
              "      <td>False</td>\n",
              "      <td>False</td>\n",
              "      <td>False</td>\n",
              "      <td>False</td>\n",
              "      <td>False</td>\n",
              "      <td>False</td>\n",
              "    </tr>\n",
              "    <tr>\n",
              "      <th>691</th>\n",
              "      <td>False</td>\n",
              "      <td>False</td>\n",
              "      <td>False</td>\n",
              "      <td>False</td>\n",
              "      <td>False</td>\n",
              "      <td>False</td>\n",
              "      <td>False</td>\n",
              "      <td>False</td>\n",
              "      <td>False</td>\n",
              "      <td>False</td>\n",
              "      <td>False</td>\n",
              "      <td>False</td>\n",
              "    </tr>\n",
              "    <tr>\n",
              "      <th>692</th>\n",
              "      <td>False</td>\n",
              "      <td>False</td>\n",
              "      <td>False</td>\n",
              "      <td>False</td>\n",
              "      <td>False</td>\n",
              "      <td>False</td>\n",
              "      <td>False</td>\n",
              "      <td>False</td>\n",
              "      <td>False</td>\n",
              "      <td>False</td>\n",
              "      <td>False</td>\n",
              "      <td>False</td>\n",
              "    </tr>\n",
              "    <tr>\n",
              "      <th>693</th>\n",
              "      <td>False</td>\n",
              "      <td>False</td>\n",
              "      <td>False</td>\n",
              "      <td>False</td>\n",
              "      <td>False</td>\n",
              "      <td>False</td>\n",
              "      <td>False</td>\n",
              "      <td>False</td>\n",
              "      <td>False</td>\n",
              "      <td>False</td>\n",
              "      <td>False</td>\n",
              "      <td>False</td>\n",
              "    </tr>\n",
              "  </tbody>\n",
              "</table>\n",
              "<p>694 rows × 12 columns</p>\n",
              "</div>\n",
              "      <button class=\"colab-df-convert\" onclick=\"convertToInteractive('df-16b72ffd-6edd-4825-973e-fbe726c1befd')\"\n",
              "              title=\"Convert this dataframe to an interactive table.\"\n",
              "              style=\"display:none;\">\n",
              "        \n",
              "  <svg xmlns=\"http://www.w3.org/2000/svg\" height=\"24px\"viewBox=\"0 0 24 24\"\n",
              "       width=\"24px\">\n",
              "    <path d=\"M0 0h24v24H0V0z\" fill=\"none\"/>\n",
              "    <path d=\"M18.56 5.44l.94 2.06.94-2.06 2.06-.94-2.06-.94-.94-2.06-.94 2.06-2.06.94zm-11 1L8.5 8.5l.94-2.06 2.06-.94-2.06-.94L8.5 2.5l-.94 2.06-2.06.94zm10 10l.94 2.06.94-2.06 2.06-.94-2.06-.94-.94-2.06-.94 2.06-2.06.94z\"/><path d=\"M17.41 7.96l-1.37-1.37c-.4-.4-.92-.59-1.43-.59-.52 0-1.04.2-1.43.59L10.3 9.45l-7.72 7.72c-.78.78-.78 2.05 0 2.83L4 21.41c.39.39.9.59 1.41.59.51 0 1.02-.2 1.41-.59l7.78-7.78 2.81-2.81c.8-.78.8-2.07 0-2.86zM5.41 20L4 18.59l7.72-7.72 1.47 1.35L5.41 20z\"/>\n",
              "  </svg>\n",
              "      </button>\n",
              "      \n",
              "  <style>\n",
              "    .colab-df-container {\n",
              "      display:flex;\n",
              "      flex-wrap:wrap;\n",
              "      gap: 12px;\n",
              "    }\n",
              "\n",
              "    .colab-df-convert {\n",
              "      background-color: #E8F0FE;\n",
              "      border: none;\n",
              "      border-radius: 50%;\n",
              "      cursor: pointer;\n",
              "      display: none;\n",
              "      fill: #1967D2;\n",
              "      height: 32px;\n",
              "      padding: 0 0 0 0;\n",
              "      width: 32px;\n",
              "    }\n",
              "\n",
              "    .colab-df-convert:hover {\n",
              "      background-color: #E2EBFA;\n",
              "      box-shadow: 0px 1px 2px rgba(60, 64, 67, 0.3), 0px 1px 3px 1px rgba(60, 64, 67, 0.15);\n",
              "      fill: #174EA6;\n",
              "    }\n",
              "\n",
              "    [theme=dark] .colab-df-convert {\n",
              "      background-color: #3B4455;\n",
              "      fill: #D2E3FC;\n",
              "    }\n",
              "\n",
              "    [theme=dark] .colab-df-convert:hover {\n",
              "      background-color: #434B5C;\n",
              "      box-shadow: 0px 1px 3px 1px rgba(0, 0, 0, 0.15);\n",
              "      filter: drop-shadow(0px 1px 2px rgba(0, 0, 0, 0.3));\n",
              "      fill: #FFFFFF;\n",
              "    }\n",
              "  </style>\n",
              "\n",
              "      <script>\n",
              "        const buttonEl =\n",
              "          document.querySelector('#df-16b72ffd-6edd-4825-973e-fbe726c1befd button.colab-df-convert');\n",
              "        buttonEl.style.display =\n",
              "          google.colab.kernel.accessAllowed ? 'block' : 'none';\n",
              "\n",
              "        async function convertToInteractive(key) {\n",
              "          const element = document.querySelector('#df-16b72ffd-6edd-4825-973e-fbe726c1befd');\n",
              "          const dataTable =\n",
              "            await google.colab.kernel.invokeFunction('convertToInteractive',\n",
              "                                                     [key], {});\n",
              "          if (!dataTable) return;\n",
              "\n",
              "          const docLinkHtml = 'Like what you see? Visit the ' +\n",
              "            '<a target=\"_blank\" href=https://colab.research.google.com/notebooks/data_table.ipynb>data table notebook</a>'\n",
              "            + ' to learn more about interactive tables.';\n",
              "          element.innerHTML = '';\n",
              "          dataTable['output_type'] = 'display_data';\n",
              "          await google.colab.output.renderOutput(dataTable, element);\n",
              "          const docLink = document.createElement('div');\n",
              "          docLink.innerHTML = docLinkHtml;\n",
              "          element.appendChild(docLink);\n",
              "        }\n",
              "      </script>\n",
              "    </div>\n",
              "  </div>\n",
              "  "
            ]
          },
          "metadata": {},
          "execution_count": 13
        }
      ]
    },
    {
      "cell_type": "code",
      "source": [
        "aptos_na = aptos.isna().sum() ; aptos_na"
      ],
      "metadata": {
        "colab": {
          "base_uri": "https://localhost:8080/"
        },
        "id": "FZZrhkQfhrDm",
        "outputId": "a5bf96db-562b-48c9-bb26-e8a0bb68b43d"
      },
      "execution_count": 14,
      "outputs": [
        {
          "output_type": "execute_result",
          "data": {
            "text/plain": [
              "Unnamed: 0        0\n",
              "precio            0\n",
              "mt2               0\n",
              "ubicacion         0\n",
              "estrato           0\n",
              "alcobas           0\n",
              "banos             0\n",
              "balcon            0\n",
              "parqueadero       0\n",
              "administracion    0\n",
              "avaluo            0\n",
              "terminado         0\n",
              "dtype: int64"
            ]
          },
          "metadata": {},
          "execution_count": 14
        }
      ]
    },
    {
      "cell_type": "code",
      "source": [
        "#aptos_na = aptos.isna().sum() \n",
        "aptos_na [aptos_na>0]\n",
        "#type(aptos_na)"
      ],
      "metadata": {
        "colab": {
          "base_uri": "https://localhost:8080/"
        },
        "id": "uOTcFmAOh2Jb",
        "outputId": "4801096b-cb40-47a0-9ae8-22c4982b8543"
      },
      "execution_count": 18,
      "outputs": [
        {
          "output_type": "execute_result",
          "data": {
            "text/plain": [
              "Series([], dtype: int64)"
            ]
          },
          "metadata": {},
          "execution_count": 18
        }
      ]
    },
    {
      "cell_type": "code",
      "source": [
        "8. Para revisar las estadística generales de las variables cuantitativas usamos **describe()**"
      ],
      "metadata": {
        "id": "c5FdfORhZQNk"
      },
      "execution_count": null,
      "outputs": []
    },
    {
      "cell_type": "code",
      "source": [
        "aptos.describe()"
      ],
      "metadata": {
        "id": "e59yDuezZZgt",
        "colab": {
          "base_uri": "https://localhost:8080/",
          "height": 300
        },
        "outputId": "acf88353-75ff-428d-bb94-94f6b00482eb"
      },
      "execution_count": 19,
      "outputs": [
        {
          "output_type": "execute_result",
          "data": {
            "text/plain": [
              "       Unnamed: 0       precio         mt2     estrato     alcobas  \\\n",
              "count  694.000000   694.000000  694.000000  694.000000  694.000000   \n",
              "mean   347.500000   317.762739  120.943818    4.651297    2.910663   \n",
              "std    200.484829   247.614914   74.695493    1.208205    0.763962   \n",
              "min      1.000000    25.000000   26.000000    2.000000    1.000000   \n",
              "25%    174.250000   160.000000   71.000000    4.000000    3.000000   \n",
              "50%    347.500000   245.000000   97.500000    5.000000    3.000000   \n",
              "75%    520.750000   380.000000  141.750000    6.000000    3.000000   \n",
              "max    694.000000  1700.000000  500.000000    6.000000   14.000000   \n",
              "\n",
              "            banos  administracion       avaluo  \n",
              "count  694.000000      694.000000   694.000000  \n",
              "mean     2.289625        0.263556   182.636593  \n",
              "std      0.795718        0.251586   169.082384  \n",
              "min      1.000000        0.000000     0.149000  \n",
              "25%      2.000000        0.090000    73.000000  \n",
              "50%      2.000000        0.201000   131.431500  \n",
              "75%      3.000000        0.375000   234.051000  \n",
              "max      6.000000        2.280000  1540.620000  "
            ],
            "text/html": [
              "\n",
              "  <div id=\"df-1e84eb6e-f84c-4162-84f8-42c7c74daf05\">\n",
              "    <div class=\"colab-df-container\">\n",
              "      <div>\n",
              "<style scoped>\n",
              "    .dataframe tbody tr th:only-of-type {\n",
              "        vertical-align: middle;\n",
              "    }\n",
              "\n",
              "    .dataframe tbody tr th {\n",
              "        vertical-align: top;\n",
              "    }\n",
              "\n",
              "    .dataframe thead th {\n",
              "        text-align: right;\n",
              "    }\n",
              "</style>\n",
              "<table border=\"1\" class=\"dataframe\">\n",
              "  <thead>\n",
              "    <tr style=\"text-align: right;\">\n",
              "      <th></th>\n",
              "      <th>Unnamed: 0</th>\n",
              "      <th>precio</th>\n",
              "      <th>mt2</th>\n",
              "      <th>estrato</th>\n",
              "      <th>alcobas</th>\n",
              "      <th>banos</th>\n",
              "      <th>administracion</th>\n",
              "      <th>avaluo</th>\n",
              "    </tr>\n",
              "  </thead>\n",
              "  <tbody>\n",
              "    <tr>\n",
              "      <th>count</th>\n",
              "      <td>694.000000</td>\n",
              "      <td>694.000000</td>\n",
              "      <td>694.000000</td>\n",
              "      <td>694.000000</td>\n",
              "      <td>694.000000</td>\n",
              "      <td>694.000000</td>\n",
              "      <td>694.000000</td>\n",
              "      <td>694.000000</td>\n",
              "    </tr>\n",
              "    <tr>\n",
              "      <th>mean</th>\n",
              "      <td>347.500000</td>\n",
              "      <td>317.762739</td>\n",
              "      <td>120.943818</td>\n",
              "      <td>4.651297</td>\n",
              "      <td>2.910663</td>\n",
              "      <td>2.289625</td>\n",
              "      <td>0.263556</td>\n",
              "      <td>182.636593</td>\n",
              "    </tr>\n",
              "    <tr>\n",
              "      <th>std</th>\n",
              "      <td>200.484829</td>\n",
              "      <td>247.614914</td>\n",
              "      <td>74.695493</td>\n",
              "      <td>1.208205</td>\n",
              "      <td>0.763962</td>\n",
              "      <td>0.795718</td>\n",
              "      <td>0.251586</td>\n",
              "      <td>169.082384</td>\n",
              "    </tr>\n",
              "    <tr>\n",
              "      <th>min</th>\n",
              "      <td>1.000000</td>\n",
              "      <td>25.000000</td>\n",
              "      <td>26.000000</td>\n",
              "      <td>2.000000</td>\n",
              "      <td>1.000000</td>\n",
              "      <td>1.000000</td>\n",
              "      <td>0.000000</td>\n",
              "      <td>0.149000</td>\n",
              "    </tr>\n",
              "    <tr>\n",
              "      <th>25%</th>\n",
              "      <td>174.250000</td>\n",
              "      <td>160.000000</td>\n",
              "      <td>71.000000</td>\n",
              "      <td>4.000000</td>\n",
              "      <td>3.000000</td>\n",
              "      <td>2.000000</td>\n",
              "      <td>0.090000</td>\n",
              "      <td>73.000000</td>\n",
              "    </tr>\n",
              "    <tr>\n",
              "      <th>50%</th>\n",
              "      <td>347.500000</td>\n",
              "      <td>245.000000</td>\n",
              "      <td>97.500000</td>\n",
              "      <td>5.000000</td>\n",
              "      <td>3.000000</td>\n",
              "      <td>2.000000</td>\n",
              "      <td>0.201000</td>\n",
              "      <td>131.431500</td>\n",
              "    </tr>\n",
              "    <tr>\n",
              "      <th>75%</th>\n",
              "      <td>520.750000</td>\n",
              "      <td>380.000000</td>\n",
              "      <td>141.750000</td>\n",
              "      <td>6.000000</td>\n",
              "      <td>3.000000</td>\n",
              "      <td>3.000000</td>\n",
              "      <td>0.375000</td>\n",
              "      <td>234.051000</td>\n",
              "    </tr>\n",
              "    <tr>\n",
              "      <th>max</th>\n",
              "      <td>694.000000</td>\n",
              "      <td>1700.000000</td>\n",
              "      <td>500.000000</td>\n",
              "      <td>6.000000</td>\n",
              "      <td>14.000000</td>\n",
              "      <td>6.000000</td>\n",
              "      <td>2.280000</td>\n",
              "      <td>1540.620000</td>\n",
              "    </tr>\n",
              "  </tbody>\n",
              "</table>\n",
              "</div>\n",
              "      <button class=\"colab-df-convert\" onclick=\"convertToInteractive('df-1e84eb6e-f84c-4162-84f8-42c7c74daf05')\"\n",
              "              title=\"Convert this dataframe to an interactive table.\"\n",
              "              style=\"display:none;\">\n",
              "        \n",
              "  <svg xmlns=\"http://www.w3.org/2000/svg\" height=\"24px\"viewBox=\"0 0 24 24\"\n",
              "       width=\"24px\">\n",
              "    <path d=\"M0 0h24v24H0V0z\" fill=\"none\"/>\n",
              "    <path d=\"M18.56 5.44l.94 2.06.94-2.06 2.06-.94-2.06-.94-.94-2.06-.94 2.06-2.06.94zm-11 1L8.5 8.5l.94-2.06 2.06-.94-2.06-.94L8.5 2.5l-.94 2.06-2.06.94zm10 10l.94 2.06.94-2.06 2.06-.94-2.06-.94-.94-2.06-.94 2.06-2.06.94z\"/><path d=\"M17.41 7.96l-1.37-1.37c-.4-.4-.92-.59-1.43-.59-.52 0-1.04.2-1.43.59L10.3 9.45l-7.72 7.72c-.78.78-.78 2.05 0 2.83L4 21.41c.39.39.9.59 1.41.59.51 0 1.02-.2 1.41-.59l7.78-7.78 2.81-2.81c.8-.78.8-2.07 0-2.86zM5.41 20L4 18.59l7.72-7.72 1.47 1.35L5.41 20z\"/>\n",
              "  </svg>\n",
              "      </button>\n",
              "      \n",
              "  <style>\n",
              "    .colab-df-container {\n",
              "      display:flex;\n",
              "      flex-wrap:wrap;\n",
              "      gap: 12px;\n",
              "    }\n",
              "\n",
              "    .colab-df-convert {\n",
              "      background-color: #E8F0FE;\n",
              "      border: none;\n",
              "      border-radius: 50%;\n",
              "      cursor: pointer;\n",
              "      display: none;\n",
              "      fill: #1967D2;\n",
              "      height: 32px;\n",
              "      padding: 0 0 0 0;\n",
              "      width: 32px;\n",
              "    }\n",
              "\n",
              "    .colab-df-convert:hover {\n",
              "      background-color: #E2EBFA;\n",
              "      box-shadow: 0px 1px 2px rgba(60, 64, 67, 0.3), 0px 1px 3px 1px rgba(60, 64, 67, 0.15);\n",
              "      fill: #174EA6;\n",
              "    }\n",
              "\n",
              "    [theme=dark] .colab-df-convert {\n",
              "      background-color: #3B4455;\n",
              "      fill: #D2E3FC;\n",
              "    }\n",
              "\n",
              "    [theme=dark] .colab-df-convert:hover {\n",
              "      background-color: #434B5C;\n",
              "      box-shadow: 0px 1px 3px 1px rgba(0, 0, 0, 0.15);\n",
              "      filter: drop-shadow(0px 1px 2px rgba(0, 0, 0, 0.3));\n",
              "      fill: #FFFFFF;\n",
              "    }\n",
              "  </style>\n",
              "\n",
              "      <script>\n",
              "        const buttonEl =\n",
              "          document.querySelector('#df-1e84eb6e-f84c-4162-84f8-42c7c74daf05 button.colab-df-convert');\n",
              "        buttonEl.style.display =\n",
              "          google.colab.kernel.accessAllowed ? 'block' : 'none';\n",
              "\n",
              "        async function convertToInteractive(key) {\n",
              "          const element = document.querySelector('#df-1e84eb6e-f84c-4162-84f8-42c7c74daf05');\n",
              "          const dataTable =\n",
              "            await google.colab.kernel.invokeFunction('convertToInteractive',\n",
              "                                                     [key], {});\n",
              "          if (!dataTable) return;\n",
              "\n",
              "          const docLinkHtml = 'Like what you see? Visit the ' +\n",
              "            '<a target=\"_blank\" href=https://colab.research.google.com/notebooks/data_table.ipynb>data table notebook</a>'\n",
              "            + ' to learn more about interactive tables.';\n",
              "          element.innerHTML = '';\n",
              "          dataTable['output_type'] = 'display_data';\n",
              "          await google.colab.output.renderOutput(dataTable, element);\n",
              "          const docLink = document.createElement('div');\n",
              "          docLink.innerHTML = docLinkHtml;\n",
              "          element.appendChild(docLink);\n",
              "        }\n",
              "      </script>\n",
              "    </div>\n",
              "  </div>\n",
              "  "
            ]
          },
          "metadata": {},
          "execution_count": 19
        }
      ]
    },
    {
      "cell_type": "markdown",
      "source": [
        "<FONT SIZE=3 COLOR=\"blue\"> ¿Qué podemos decir de la variable precio? </FONT>"
      ],
      "metadata": {
        "id": "60TxHRelZdXs"
      }
    },
    {
      "cell_type": "code",
      "source": [
        "import matplotlib.pyplot as plt\n",
        "import seaborn as sb"
      ],
      "metadata": {
        "id": "2NW7naQ3ac8N"
      },
      "execution_count": null,
      "outputs": []
    },
    {
      "cell_type": "markdown",
      "source": [
        "Veamos un histograma y boxplot de la variable precio"
      ],
      "metadata": {
        "id": "Fb4MhlULaeUc"
      }
    },
    {
      "cell_type": "code",
      "source": [
        "sb.displot(aptos.precio, color='green') #creamos el gráfico en Seaborn\n",
        "#plot.xticks(rangos)\n",
        "plt.ylabel('Frecuencia')\n",
        "plt.xlabel('Precio')\n",
        "plt.title('Histograma de precio')\n",
        "plt.show()"
      ],
      "metadata": {
        "id": "gW7MP_1fahg2",
        "colab": {
          "base_uri": "https://localhost:8080/",
          "height": 385
        },
        "outputId": "87a00e8e-93ad-446b-85f9-75a7bde9ee7a"
      },
      "execution_count": 21,
      "outputs": [
        {
          "output_type": "display_data",
          "data": {
            "text/plain": [
              "<Figure size 360x360 with 1 Axes>"
            ],
            "image/png": "[encoded data removed]"
          },
          "metadata": {
            "needs_background": "light"
          }
        }
      ]
    },
    {
      "cell_type": "code",
      "source": [
        "import plotly.express as px"
      ],
      "metadata": {
        "id": "5b9jPLuEbaSa"
      },
      "execution_count": 22,
      "outputs": []
    },
    {
      "cell_type": "code",
      "source": [
        "histograma=px.histogram(aptos.precio)"
      ],
      "metadata": {
        "id": "Vq4pobJplJKP"
      },
      "execution_count": 23,
      "outputs": []
    },
    {
      "cell_type": "code",
      "source": [
        "histograma = px.histogram(aptos.precio,\n",
        "                          title=\"Histograma de edades\" , \n",
        "                          color_discrete_sequence=[\"blue\"])\n",
        "histograma.update_layout(\n",
        "    xaxis_title=\"Precio\",\n",
        "    yaxis_title=\"Frecuencia\"\n",
        ")\n",
        "histograma.show()"
      ],
      "metadata": {
        "id": "4KO7S-Ttbq2p",
        "colab": {
          "base_uri": "https://localhost:8080/",
          "height": 542
        },
        "outputId": "ddbf0762-b0cd-49d1-cd93-228352269126"
      },
      "execution_count": 24,
      "outputs": [
        {
          "output_type": "display_data",
          "data": {
            "text/html": [
              "<html>\n",
              "<head><meta charset=\"utf-8\" /></head>\n",
              "<body>\n",
              "    <div>            <script src=\"https://cdnjs.cloudflare.com/ajax/libs/mathjax/2.7.5/MathJax.js?config=TeX-AMS-MML_SVG\"></script><script type=\"text/javascript\">if (window.MathJax) {MathJax.Hub.Config({SVG: {font: \"STIX-Web\"}});}</script>                <script type=\"text/javascript\">window.PlotlyConfig = {MathJaxConfig: 'local'};</script>\n",
              "        <script src=\"https://cdn.plot.ly/plotly-2.8.3.min.js\"></script>                <div id=\"8d10ebd2-eb52-43af-9598-944d26f5727b\" class=\"plotly-graph-div\" style=\"height:525px; width:100%;\"></div>            <script type=\"text/javascript\">                                    window.PLOTLYENV=window.PLOTLYENV || {};                                    if (document.getElementById(\"8d10ebd2-eb52-43af-9598-944d26f5727b\")) {                    Plotly.newPlot(                        \"8d10ebd2-eb52-43af-9598-944d26f5727b\",                        [{\"alignmentgroup\":\"True\",\"bingroup\":\"x\",\"hovertemplate\":\"variable=precio<br>value=%{x}<br>count=%{y}<extra></extra>\",\"legendgroup\":\"precio\",\"marker\":{\"color\":\"blue\",\"pattern\":{\"shape\":\"\"}},\"name\":\"precio\",\"offsetgroup\":\"precio\",\"orientation\":\"v\",\"showlegend\":true,\"x\":[79.0,93.0,100.0,123.0,135.0,140.0,145.0,160.0,160.0,175.0,47.0,53.0,70.0,70.0,72.0,75.0,80.0,90.0,90.0,90.0,90.0,90.0,95.0,105.0,110.0,115.0,115.0,120.0,121.0,128.0,130.0,130.0,140.0,140.0,143.0,145.0,145.0,145.0,148.0,150.0,152.0,155.0,155.0,160.0,160.0,170.0,180.0,180.0,185.0,190.0,190.0,190.0,190.0,190.0,190.0,195.0,198.0,200.0,200.0,200.0,200.0,210.0,210.0,210.0,210.0,210.0,215.0,220.0,220.0,220.0,230.0,245.0,245.0,250.0,250.0,260.0,270.0,270.0,320.0,235.0,140.0,155.0,160.0,165.0,166.0,170.0,170.0,170.0,185.0,185.0,190.0,195.0,205.0,210.0,210.0,220.0,220.0,225.0,228.0,230.0,230.0,230.0,235.0,235.0,235.0,238.0,240.0,240.0,250.0,250.0,250.0,260.0,260.0,260.0,260.0,260.0,260.0,260.0,270.0,276.0,280.0,280.0,285.0,290.0,290.0,290.0,290.0,290.0,290.0,295.0,295.0,295.0,300.0,300.0,300.0,300.0,300.0,300.0,305.0,310.0,310.0,310.0,312.0,315.0,320.0,320.0,320.0,320.0,320.0,325.0,325.0,330.0,330.0,330.0,330.0,335.0,335.0,340.0,340.0,340.0,340.0,340.0,345.0,350.0,350.0,350.0,350.0,350.0,350.0,350.0,350.0,355.0,355.0,360.0,360.0,360.0,360.0,360.0,360.0,360.0,370.0,370.0,370.0,375.0,375.0,378.0,380.0,380.0,380.0,380.0,380.0,380.0,380.0,380.0,380.0,389.0,390.0,390.0,390.0,390.0,390.0,390.0,399.141,400.0,400.0,400.0,400.0,400.0,400.0,400.0,410.0,410.0,410.0,420.0,420.0,420.0,420.0,425.0,428.0,430.0,430.0,430.0,430.0,435.0,435.0,435.0,440.0,440.0,440.0,440.0,440.0,440.0,445.0,445.0,448.5,450.0,460.0,460.0,460.0,460.0,460.0,460.0,460.0,460.0,465.0,465.0,465.0,470.0,470.0,480.0,480.0,480.0,480.0,480.0,480.0,480.0,480.0,481.0,483.0,485.0,490.0,495.0,498.0,500.0,500.0,510.0,520.0,540.0,550.0,550.0,560.0,570.0,570.0,580.0,588.0,595.0,600.0,600.0,600.0,600.0,620.0,620.0,630.0,650.0,650.0,650.0,650.0,650.0,650.0,680.0,680.0,680.0,690.0,690.0,695.0,700.0,710.0,720.0,720.0,730.0,735.0,745.0,750.0,750.0,750.0,790.0,790.0,800.0,800.0,830.0,850.0,850.0,850.0,860.0,865.0,875.0,880.0,890.0,900.0,900.0,900.0,900.0,920.0,950.0,950.0,980.0,980.0,990.0,995.0,1100.0,1100.0,1100.0,1100.0,1200.0,1200.0,1200.0,1300.0,1300.0,1300.0,1350.0,1350.0,1400.0,1430.0,1450.0,1450.0,1490.0,1700.0,45.0,63.0,82.0,83.0,84.0,85.0,90.0,90.0,90.0,90.0,97.0,100.0,111.0,112.0,115.0,120.0,120.0,120.0,120.0,120.0,124.0,125.0,125.0,130.0,130.0,130.0,130.0,130.0,130.0,130.0,132.0,132.0,135.0,135.0,135.0,135.0,135.0,138.0,140.0,140.0,140.0,140.0,140.0,140.0,143.0,145.0,145.0,145.0,145.0,145.0,148.0,150.0,150.0,150.0,150.0,153.0,155.0,155.0,155.0,158.0,160.0,160.0,160.0,160.0,165.0,165.0,165.0,169.7,170.0,170.0,170.0,175.0,175.0,175.0,178.0,178.0,179.0,180.0,180.0,180.0,185.0,185.0,185.0,185.0,185.0,185.0,188.0,190.0,190.0,190.0,190.0,195.0,198.0,200.0,200.0,200.0,200.0,200.0,200.0,205.0,210.0,210.0,210.0,216.0,219.0,220.0,220.0,220.0,220.0,220.0,220.0,220.0,220.0,225.0,230.0,230.0,230.0,235.0,237.0,238.0,238.0,238.0,240.0,245.0,245.0,247.0,250.0,250.0,250.0,255.0,255.0,255.0,255.0,260.0,260.0,260.0,260.0,260.0,260.0,260.0,265.0,265.0,265.0,265.0,270.0,270.0,275.0,280.0,280.0,280.0,280.0,280.0,285.0,285.0,287.0,290.0,290.0,290.0,295.0,300.0,300.0,300.0,310.0,315.0,315.0,320.0,320.0,330.0,330.0,75.0,75.0,80.0,85.0,86.0,90.0,95.0,98.0,103.0,108.0,115.0,118.0,120.0,120.0,130.0,130.0,140.0,140.0,142.0,145.0,145.0,145.0,150.0,150.0,150.0,155.0,155.0,155.0,155.0,155.0,156.0,160.0,160.0,165.0,165.0,165.0,170.0,180.0,180.0,183.0,185.0,185.0,190.0,190.0,190.0,195.0,200.0,205.0,210.0,210.0,210.0,210.0,220.0,220.0,220.0,220.0,225.0,230.0,230.0,230.0,235.0,240.0,240.0,250.0,255.0,260.0,265.0,67.0,70.0,70.0,78.0,78.0,80.0,80.0,84.0,85.0,86.0,90.0,100.0,100.0,100.0,102.0,110.0,115.0,125.0,128.0,128.0,128.0,130.0,130.0,130.0,135.0,135.0,140.0,147.0,150.0,165.0,165.0,200.0,210.0,210.0,210.0,220.0,230.0,260.0,135.0,140.0,165.0,170.0,180.0,190.0,190.0,205.0,210.0,210.0,220.0,220.0,225.0,228.0,230.0,230.0,235.0,235.0,240.0,240.0,250.0,250.0,250.0,25.0,250.0,255.0,255.0,255.0,260.0,265.0,265.0,270.0,275.0,280.0,280.0,285.0,290.0,310.0,315.0,320.0,320.0,320.0,325.0,330.0,330.0,330.0,340.0,340.0,343.0,350.0,350.0,350.0,360.0,360.0,370.0,370.0,370.0,370.0,375.0,380.0,400.0,400.0,400.0,410.0,450.0,450.0,450.0,470.0,498.0,508.0,550.0,630.0,1350.0],\"xaxis\":\"x\",\"yaxis\":\"y\",\"type\":\"histogram\"}],                        {\"template\":{\"data\":{\"bar\":[{\"error_x\":{\"color\":\"#2a3f5f\"},\"error_y\":{\"color\":\"#2a3f5f\"},\"marker\":{\"line\":{\"color\":\"#E5ECF6\",\"width\":0.5},\"pattern\":{\"fillmode\":\"overlay\",\"size\":10,\"solidity\":0.2}},\"type\":\"bar\"}],\"barpolar\":[{\"marker\":{\"line\":{\"color\":\"#E5ECF6\",\"width\":0.5},\"pattern\":{\"fillmode\":\"overlay\",\"size\":10,\"solidity\":0.2}},\"type\":\"barpolar\"}],\"carpet\":[{\"aaxis\":{\"endlinecolor\":\"#2a3f5f\",\"gridcolor\":\"white\",\"linecolor\":\"white\",\"minorgridcolor\":\"white\",\"startlinecolor\":\"#2a3f5f\"},\"baxis\":{\"endlinecolor\":\"#2a3f5f\",\"gridcolor\":\"white\",\"linecolor\":\"white\",\"minorgridcolor\":\"white\",\"startlinecolor\":\"#2a3f5f\"},\"type\":\"carpet\"}],\"choropleth\":[{\"colorbar\":{\"outlinewidth\":0,\"ticks\":\"\"},\"type\":\"choropleth\"}],\"contour\":[{\"colorbar\":{\"outlinewidth\":0,\"ticks\":\"\"},\"colorscale\":[[0.0,\"#0d0887\"],[0.1111111111111111,\"#46039f\"],[0.2222222222222222,\"#7201a8\"],[0.3333333333333333,\"#9c179e\"],[0.4444444444444444,\"#bd3786\"],[0.5555555555555556,\"#d8576b\"],[0.6666666666666666,\"#ed7953\"],[0.7777777777777778,\"#fb9f3a\"],[0.8888888888888888,\"#fdca26\"],[1.0,\"#f0f921\"]],\"type\":\"contour\"}],\"contourcarpet\":[{\"colorbar\":{\"outlinewidth\":0,\"ticks\":\"\"},\"type\":\"contourcarpet\"}],\"heatmap\":[{\"colorbar\":{\"outlinewidth\":0,\"ticks\":\"\"},\"colorscale\":[[0.0,\"#0d0887\"],[0.1111111111111111,\"#46039f\"],[0.2222222222222222,\"#7201a8\"],[0.3333333333333333,\"#9c179e\"],[0.4444444444444444,\"#bd3786\"],[0.5555555555555556,\"#d8576b\"],[0.6666666666666666,\"#ed7953\"],[0.7777777777777778,\"#fb9f3a\"],[0.8888888888888888,\"#fdca26\"],[1.0,\"#f0f921\"]],\"type\":\"heatmap\"}],\"heatmapgl\":[{\"colorbar\":{\"outlinewidth\":0,\"ticks\":\"\"},\"colorscale\":[[0.0,\"#0d0887\"],[0.1111111111111111,\"#46039f\"],[0.2222222222222222,\"#7201a8\"],[0.3333333333333333,\"#9c179e\"],[0.4444444444444444,\"#bd3786\"],[0.5555555555555556,\"#d8576b\"],[0.6666666666666666,\"#ed7953\"],[0.7777777777777778,\"#fb9f3a\"],[0.8888888888888888,\"#fdca26\"],[1.0,\"#f0f921\"]],\"type\":\"heatmapgl\"}],\"histogram\":[{\"marker\":{\"pattern\":{\"fillmode\":\"overlay\",\"size\":10,\"solidity\":0.2}},\"type\":\"histogram\"}],\"histogram2d\":[{\"colorbar\":{\"outlinewidth\":0,\"ticks\":\"\"},\"colorscale\":[[0.0,\"#0d0887\"],[0.1111111111111111,\"#46039f\"],[0.2222222222222222,\"#7201a8\"],[0.3333333333333333,\"#9c179e\"],[0.4444444444444444,\"#bd3786\"],[0.5555555555555556,\"#d8576b\"],[0.6666666666666666,\"#ed7953\"],[0.7777777777777778,\"#fb9f3a\"],[0.8888888888888888,\"#fdca26\"],[1.0,\"#f0f921\"]],\"type\":\"histogram2d\"}],\"histogram2dcontour\":[{\"colorbar\":{\"outlinewidth\":0,\"ticks\":\"\"},\"colorscale\":[[0.0,\"#0d0887\"],[0.1111111111111111,\"#46039f\"],[0.2222222222222222,\"#7201a8\"],[0.3333333333333333,\"#9c179e\"],[0.4444444444444444,\"#bd3786\"],[0.5555555555555556,\"#d8576b\"],[0.6666666666666666,\"#ed7953\"],[0.7777777777777778,\"#fb9f3a\"],[0.8888888888888888,\"#fdca26\"],[1.0,\"#f0f921\"]],\"type\":\"histogram2dcontour\"}],\"mesh3d\":[{\"colorbar\":{\"outlinewidth\":0,\"ticks\":\"\"},\"type\":\"mesh3d\"}],\"parcoords\":[{\"line\":{\"colorbar\":{\"outlinewidth\":0,\"ticks\":\"\"}},\"type\":\"parcoords\"}],\"pie\":[{\"automargin\":true,\"type\":\"pie\"}],\"scatter\":[{\"marker\":{\"colorbar\":{\"outlinewidth\":0,\"ticks\":\"\"}},\"type\":\"scatter\"}],\"scatter3d\":[{\"line\":{\"colorbar\":{\"outlinewidth\":0,\"ticks\":\"\"}},\"marker\":{\"colorbar\":{\"outlinewidth\":0,\"ticks\":\"\"}},\"type\":\"scatter3d\"}],\"scattercarpet\":[{\"marker\":{\"colorbar\":{\"outlinewidth\":0,\"ticks\":\"\"}},\"type\":\"scattercarpet\"}],\"scattergeo\":[{\"marker\":{\"colorbar\":{\"outlinewidth\":0,\"ticks\":\"\"}},\"type\":\"scattergeo\"}],\"scattergl\":[{\"marker\":{\"colorbar\":{\"outlinewidth\":0,\"ticks\":\"\"}},\"type\":\"scattergl\"}],\"scattermapbox\":[{\"marker\":{\"colorbar\":{\"outlinewidth\":0,\"ticks\":\"\"}},\"type\":\"scattermapbox\"}],\"scatterpolar\":[{\"marker\":{\"colorbar\":{\"outlinewidth\":0,\"ticks\":\"\"}},\"type\":\"scatterpolar\"}],\"scatterpolargl\":[{\"marker\":{\"colorbar\":{\"outlinewidth\":0,\"ticks\":\"\"}},\"type\":\"scatterpolargl\"}],\"scatterternary\":[{\"marker\":{\"colorbar\":{\"outlinewidth\":0,\"ticks\":\"\"}},\"type\":\"scatterternary\"}],\"surface\":[{\"colorbar\":{\"outlinewidth\":0,\"ticks\":\"\"},\"colorscale\":[[0.0,\"#0d0887\"],[0.1111111111111111,\"#46039f\"],[0.2222222222222222,\"#7201a8\"],[0.3333333333333333,\"#9c179e\"],[0.4444444444444444,\"#bd3786\"],[0.5555555555555556,\"#d8576b\"],[0.6666666666666666,\"#ed7953\"],[0.7777777777777778,\"#fb9f3a\"],[0.8888888888888888,\"#fdca26\"],[1.0,\"#f0f921\"]],\"type\":\"surface\"}],\"table\":[{\"cells\":{\"fill\":{\"color\":\"#EBF0F8\"},\"line\":{\"color\":\"white\"}},\"header\":{\"fill\":{\"color\":\"#C8D4E3\"},\"line\":{\"color\":\"white\"}},\"type\":\"table\"}]},\"layout\":{\"annotationdefaults\":{\"arrowcolor\":\"#2a3f5f\",\"arrowhead\":0,\"arrowwidth\":1},\"autotypenumbers\":\"strict\",\"coloraxis\":{\"colorbar\":{\"outlinewidth\":0,\"ticks\":\"\"}},\"colorscale\":{\"diverging\":[[0,\"#8e0152\"],[0.1,\"#c51b7d\"],[0.2,\"#de77ae\"],[0.3,\"#f1b6da\"],[0.4,\"#fde0ef\"],[0.5,\"#f7f7f7\"],[0.6,\"#e6f5d0\"],[0.7,\"#b8e186\"],[0.8,\"#7fbc41\"],[0.9,\"#4d9221\"],[1,\"#276419\"]],\"sequential\":[[0.0,\"#0d0887\"],[0.1111111111111111,\"#46039f\"],[0.2222222222222222,\"#7201a8\"],[0.3333333333333333,\"#9c179e\"],[0.4444444444444444,\"#bd3786\"],[0.5555555555555556,\"#d8576b\"],[0.6666666666666666,\"#ed7953\"],[0.7777777777777778,\"#fb9f3a\"],[0.8888888888888888,\"#fdca26\"],[1.0,\"#f0f921\"]],\"sequentialminus\":[[0.0,\"#0d0887\"],[0.1111111111111111,\"#46039f\"],[0.2222222222222222,\"#7201a8\"],[0.3333333333333333,\"#9c179e\"],[0.4444444444444444,\"#bd3786\"],[0.5555555555555556,\"#d8576b\"],[0.6666666666666666,\"#ed7953\"],[0.7777777777777778,\"#fb9f3a\"],[0.8888888888888888,\"#fdca26\"],[1.0,\"#f0f921\"]]},\"colorway\":[\"#636efa\",\"#EF553B\",\"#00cc96\",\"#ab63fa\",\"#FFA15A\",\"#19d3f3\",\"#FF6692\",\"#B6E880\",\"#FF97FF\",\"#FECB52\"],\"font\":{\"color\":\"#2a3f5f\"},\"geo\":{\"bgcolor\":\"white\",\"lakecolor\":\"white\",\"landcolor\":\"#E5ECF6\",\"showlakes\":true,\"showland\":true,\"subunitcolor\":\"white\"},\"hoverlabel\":{\"align\":\"left\"},\"hovermode\":\"closest\",\"mapbox\":{\"style\":\"light\"},\"paper_bgcolor\":\"white\",\"plot_bgcolor\":\"#E5ECF6\",\"polar\":{\"angularaxis\":{\"gridcolor\":\"white\",\"linecolor\":\"white\",\"ticks\":\"\"},\"bgcolor\":\"#E5ECF6\",\"radialaxis\":{\"gridcolor\":\"white\",\"linecolor\":\"white\",\"ticks\":\"\"}},\"scene\":{\"xaxis\":{\"backgroundcolor\":\"#E5ECF6\",\"gridcolor\":\"white\",\"gridwidth\":2,\"linecolor\":\"white\",\"showbackground\":true,\"ticks\":\"\",\"zerolinecolor\":\"white\"},\"yaxis\":{\"backgroundcolor\":\"#E5ECF6\",\"gridcolor\":\"white\",\"gridwidth\":2,\"linecolor\":\"white\",\"showbackground\":true,\"ticks\":\"\",\"zerolinecolor\":\"white\"},\"zaxis\":{\"backgroundcolor\":\"#E5ECF6\",\"gridcolor\":\"white\",\"gridwidth\":2,\"linecolor\":\"white\",\"showbackground\":true,\"ticks\":\"\",\"zerolinecolor\":\"white\"}},\"shapedefaults\":{\"line\":{\"color\":\"#2a3f5f\"}},\"ternary\":{\"aaxis\":{\"gridcolor\":\"white\",\"linecolor\":\"white\",\"ticks\":\"\"},\"baxis\":{\"gridcolor\":\"white\",\"linecolor\":\"white\",\"ticks\":\"\"},\"bgcolor\":\"#E5ECF6\",\"caxis\":{\"gridcolor\":\"white\",\"linecolor\":\"white\",\"ticks\":\"\"}},\"title\":{\"x\":0.05},\"xaxis\":{\"automargin\":true,\"gridcolor\":\"white\",\"linecolor\":\"white\",\"ticks\":\"\",\"title\":{\"standoff\":15},\"zerolinecolor\":\"white\",\"zerolinewidth\":2},\"yaxis\":{\"automargin\":true,\"gridcolor\":\"white\",\"linecolor\":\"white\",\"ticks\":\"\",\"title\":{\"standoff\":15},\"zerolinecolor\":\"white\",\"zerolinewidth\":2}}},\"xaxis\":{\"anchor\":\"y\",\"domain\":[0.0,1.0],\"title\":{\"text\":\"Precio\"}},\"yaxis\":{\"anchor\":\"x\",\"domain\":[0.0,1.0],\"title\":{\"text\":\"Frecuencia\"}},\"legend\":{\"title\":{\"text\":\"variable\"},\"tracegroupgap\":0},\"title\":{\"text\":\"Histograma de edades\"},\"barmode\":\"relative\"},                        {\"responsive\": true}                    ).then(function(){\n",
              "                            \n",
              "var gd = document.getElementById('8d10ebd2-eb52-43af-9598-944d26f5727b');\n",
              "var x = new MutationObserver(function (mutations, observer) {{\n",
              "        var display = window.getComputedStyle(gd).display;\n",
              "        if (!display || display === 'none') {{\n",
              "            console.log([gd, 'removed!']);\n",
              "            Plotly.purge(gd);\n",
              "            observer.disconnect();\n",
              "        }}\n",
              "}});\n",
              "\n",
              "// Listen for the removal of the full notebook cells\n",
              "var notebookContainer = gd.closest('#notebook-container');\n",
              "if (notebookContainer) {{\n",
              "    x.observe(notebookContainer, {childList: true});\n",
              "}}\n",
              "\n",
              "// Listen for the clearing of the current output cell\n",
              "var outputEl = gd.closest('.output');\n",
              "if (outputEl) {{\n",
              "    x.observe(outputEl, {childList: true});\n",
              "}}\n",
              "\n",
              "                        })                };                            </script>        </div>\n",
              "</body>\n",
              "</html>"
            ]
          },
          "metadata": {}
        }
      ]
    },
    {
      "cell_type": "code",
      "source": [
        "px.box(aptos.precio)"
      ],
      "metadata": {
        "colab": {
          "base_uri": "https://localhost:8080/",
          "height": 542
        },
        "id": "BKGf2zHPmUjw",
        "outputId": "f687bf4b-5944-4e0a-fa2b-9280f9fd4b7b"
      },
      "execution_count": 25,
      "outputs": [
        {
          "output_type": "display_data",
          "data": {
            "text/html": [
              "<html>\n",
              "<head><meta charset=\"utf-8\" /></head>\n",
              "<body>\n",
              "    <div>            <script src=\"https://cdnjs.cloudflare.com/ajax/libs/mathjax/2.7.5/MathJax.js?config=TeX-AMS-MML_SVG\"></script><script type=\"text/javascript\">if (window.MathJax) {MathJax.Hub.Config({SVG: {font: \"STIX-Web\"}});}</script>                <script type=\"text/javascript\">window.PlotlyConfig = {MathJaxConfig: 'local'};</script>\n",
              "        <script src=\"https://cdn.plot.ly/plotly-2.8.3.min.js\"></script>                <div id=\"616c3bd7-96f6-4c22-9149-be64eff870d5\" class=\"plotly-graph-div\" style=\"height:525px; width:100%;\"></div>            <script type=\"text/javascript\">                                    window.PLOTLYENV=window.PLOTLYENV || {};                                    if (document.getElementById(\"616c3bd7-96f6-4c22-9149-be64eff870d5\")) {                    Plotly.newPlot(                        \"616c3bd7-96f6-4c22-9149-be64eff870d5\",                        [{\"alignmentgroup\":\"True\",\"hovertemplate\":\"variable=%{x}<br>value=%{y}<extra></extra>\",\"legendgroup\":\"\",\"marker\":{\"color\":\"#636efa\"},\"name\":\"\",\"notched\":false,\"offsetgroup\":\"\",\"orientation\":\"v\",\"showlegend\":false,\"x\":[\"precio\",\"precio\",\"precio\",\"precio\",\"precio\",\"precio\",\"precio\",\"precio\",\"precio\",\"precio\",\"precio\",\"precio\",\"precio\",\"precio\",\"precio\",\"precio\",\"precio\",\"precio\",\"precio\",\"precio\",\"precio\",\"precio\",\"precio\",\"precio\",\"precio\",\"precio\",\"precio\",\"precio\",\"precio\",\"precio\",\"precio\",\"precio\",\"precio\",\"precio\",\"precio\",\"precio\",\"precio\",\"precio\",\"precio\",\"precio\",\"precio\",\"precio\",\"precio\",\"precio\",\"precio\",\"precio\",\"precio\",\"precio\",\"precio\",\"precio\",\"precio\",\"precio\",\"precio\",\"precio\",\"precio\",\"precio\",\"precio\",\"precio\",\"precio\",\"precio\",\"precio\",\"precio\",\"precio\",\"precio\",\"precio\",\"precio\",\"precio\",\"precio\",\"precio\",\"precio\",\"precio\",\"precio\",\"precio\",\"precio\",\"precio\",\"precio\",\"precio\",\"precio\",\"precio\",\"precio\",\"precio\",\"precio\",\"precio\",\"precio\",\"precio\",\"precio\",\"precio\",\"precio\",\"precio\",\"precio\",\"precio\",\"precio\",\"precio\",\"precio\",\"precio\",\"precio\",\"precio\",\"precio\",\"precio\",\"precio\",\"precio\",\"precio\",\"precio\",\"precio\",\"precio\",\"precio\",\"precio\",\"precio\",\"precio\",\"precio\",\"precio\",\"precio\",\"precio\",\"precio\",\"precio\",\"precio\",\"precio\",\"precio\",\"precio\",\"precio\",\"precio\",\"precio\",\"precio\",\"precio\",\"precio\",\"precio\",\"precio\",\"precio\",\"precio\",\"precio\",\"precio\",\"precio\",\"precio\",\"precio\",\"precio\",\"precio\",\"precio\",\"precio\",\"precio\",\"precio\",\"precio\",\"precio\",\"precio\",\"precio\",\"precio\",\"precio\",\"precio\",\"precio\",\"precio\",\"precio\",\"precio\",\"precio\",\"precio\",\"precio\",\"precio\",\"precio\",\"precio\",\"precio\",\"precio\",\"precio\",\"precio\",\"precio\",\"precio\",\"precio\",\"precio\",\"precio\",\"precio\",\"precio\",\"precio\",\"precio\",\"precio\",\"precio\",\"precio\",\"precio\",\"precio\",\"precio\",\"precio\",\"precio\",\"precio\",\"precio\",\"precio\",\"precio\",\"precio\",\"precio\",\"precio\",\"precio\",\"precio\",\"precio\",\"precio\",\"precio\",\"precio\",\"precio\",\"precio\",\"precio\",\"precio\",\"precio\",\"precio\",\"precio\",\"precio\",\"precio\",\"precio\",\"precio\",\"precio\",\"precio\",\"precio\",\"precio\",\"precio\",\"precio\",\"precio\",\"precio\",\"precio\",\"precio\",\"precio\",\"precio\",\"precio\",\"precio\",\"precio\",\"precio\",\"precio\",\"precio\",\"precio\",\"precio\",\"precio\",\"precio\",\"precio\",\"precio\",\"precio\",\"precio\",\"precio\",\"precio\",\"precio\",\"precio\",\"precio\",\"precio\",\"precio\",\"precio\",\"precio\",\"precio\",\"precio\",\"precio\",\"precio\",\"precio\",\"precio\",\"precio\",\"precio\",\"precio\",\"precio\",\"precio\",\"precio\",\"precio\",\"precio\",\"precio\",\"precio\",\"precio\",\"precio\",\"precio\",\"precio\",\"precio\",\"precio\",\"precio\",\"precio\",\"precio\",\"precio\",\"precio\",\"precio\",\"precio\",\"precio\",\"precio\",\"precio\",\"precio\",\"precio\",\"precio\",\"precio\",\"precio\",\"precio\",\"precio\",\"precio\",\"precio\",\"precio\",\"precio\",\"precio\",\"precio\",\"precio\",\"precio\",\"precio\",\"precio\",\"precio\",\"precio\",\"precio\",\"precio\",\"precio\",\"precio\",\"precio\",\"precio\",\"precio\",\"precio\",\"precio\",\"precio\",\"precio\",\"precio\",\"precio\",\"precio\",\"precio\",\"precio\",\"precio\",\"precio\",\"precio\",\"precio\",\"precio\",\"precio\",\"precio\",\"precio\",\"precio\",\"precio\",\"precio\",\"precio\",\"precio\",\"precio\",\"precio\",\"precio\",\"precio\",\"precio\",\"precio\",\"precio\",\"precio\",\"precio\",\"precio\",\"precio\",\"precio\",\"precio\",\"precio\",\"precio\",\"precio\",\"precio\",\"precio\",\"precio\",\"precio\",\"precio\",\"precio\",\"precio\",\"precio\",\"precio\",\"precio\",\"precio\",\"precio\",\"precio\",\"precio\",\"precio\",\"precio\",\"precio\",\"precio\",\"precio\",\"precio\",\"precio\",\"precio\",\"precio\",\"precio\",\"precio\",\"precio\",\"precio\",\"precio\",\"precio\",\"precio\",\"precio\",\"precio\",\"precio\",\"precio\",\"precio\",\"precio\",\"precio\",\"precio\",\"precio\",\"precio\",\"precio\",\"precio\",\"precio\",\"precio\",\"precio\",\"precio\",\"precio\",\"precio\",\"precio\",\"precio\",\"precio\",\"precio\",\"precio\",\"precio\",\"precio\",\"precio\",\"precio\",\"precio\",\"precio\",\"precio\",\"precio\",\"precio\",\"precio\",\"precio\",\"precio\",\"precio\",\"precio\",\"precio\",\"precio\",\"precio\",\"precio\",\"precio\",\"precio\",\"precio\",\"precio\",\"precio\",\"precio\",\"precio\",\"precio\",\"precio\",\"precio\",\"precio\",\"precio\",\"precio\",\"precio\",\"precio\",\"precio\",\"precio\",\"precio\",\"precio\",\"precio\",\"precio\",\"precio\",\"precio\",\"precio\",\"precio\",\"precio\",\"precio\",\"precio\",\"precio\",\"precio\",\"precio\",\"precio\",\"precio\",\"precio\",\"precio\",\"precio\",\"precio\",\"precio\",\"precio\",\"precio\",\"precio\",\"precio\",\"precio\",\"precio\",\"precio\",\"precio\",\"precio\",\"precio\",\"precio\",\"precio\",\"precio\",\"precio\",\"precio\",\"precio\",\"precio\",\"precio\",\"precio\",\"precio\",\"precio\",\"precio\",\"precio\",\"precio\",\"precio\",\"precio\",\"precio\",\"precio\",\"precio\",\"precio\",\"precio\",\"precio\",\"precio\",\"precio\",\"precio\",\"precio\",\"precio\",\"precio\",\"precio\",\"precio\",\"precio\",\"precio\",\"precio\",\"precio\",\"precio\",\"precio\",\"precio\",\"precio\",\"precio\",\"precio\",\"precio\",\"precio\",\"precio\",\"precio\",\"precio\",\"precio\",\"precio\",\"precio\",\"precio\",\"precio\",\"precio\",\"precio\",\"precio\",\"precio\",\"precio\",\"precio\",\"precio\",\"precio\",\"precio\",\"precio\",\"precio\",\"precio\",\"precio\",\"precio\",\"precio\",\"precio\",\"precio\",\"precio\",\"precio\",\"precio\",\"precio\",\"precio\",\"precio\",\"precio\",\"precio\",\"precio\",\"precio\",\"precio\",\"precio\",\"precio\",\"precio\",\"precio\",\"precio\",\"precio\",\"precio\",\"precio\",\"precio\",\"precio\",\"precio\",\"precio\",\"precio\",\"precio\",\"precio\",\"precio\",\"precio\",\"precio\",\"precio\",\"precio\",\"precio\",\"precio\",\"precio\",\"precio\",\"precio\",\"precio\",\"precio\",\"precio\",\"precio\",\"precio\",\"precio\",\"precio\",\"precio\",\"precio\",\"precio\",\"precio\",\"precio\",\"precio\",\"precio\",\"precio\",\"precio\",\"precio\",\"precio\",\"precio\",\"precio\",\"precio\",\"precio\",\"precio\",\"precio\",\"precio\",\"precio\",\"precio\",\"precio\",\"precio\",\"precio\",\"precio\",\"precio\",\"precio\",\"precio\",\"precio\",\"precio\",\"precio\",\"precio\",\"precio\",\"precio\",\"precio\",\"precio\",\"precio\",\"precio\",\"precio\",\"precio\",\"precio\",\"precio\",\"precio\",\"precio\",\"precio\",\"precio\",\"precio\",\"precio\",\"precio\",\"precio\",\"precio\",\"precio\",\"precio\",\"precio\",\"precio\",\"precio\",\"precio\",\"precio\",\"precio\",\"precio\",\"precio\",\"precio\",\"precio\",\"precio\",\"precio\",\"precio\",\"precio\",\"precio\",\"precio\",\"precio\",\"precio\",\"precio\",\"precio\",\"precio\",\"precio\",\"precio\",\"precio\",\"precio\",\"precio\",\"precio\",\"precio\",\"precio\",\"precio\",\"precio\",\"precio\",\"precio\",\"precio\",\"precio\",\"precio\",\"precio\",\"precio\",\"precio\",\"precio\",\"precio\",\"precio\",\"precio\",\"precio\",\"precio\",\"precio\",\"precio\",\"precio\",\"precio\",\"precio\",\"precio\",\"precio\",\"precio\",\"precio\",\"precio\",\"precio\",\"precio\",\"precio\",\"precio\",\"precio\",\"precio\",\"precio\",\"precio\",\"precio\",\"precio\",\"precio\",\"precio\",\"precio\",\"precio\",\"precio\",\"precio\",\"precio\",\"precio\",\"precio\",\"precio\",\"precio\",\"precio\",\"precio\",\"precio\",\"precio\"],\"x0\":\" \",\"xaxis\":\"x\",\"y\":[79.0,93.0,100.0,123.0,135.0,140.0,145.0,160.0,160.0,175.0,47.0,53.0,70.0,70.0,72.0,75.0,80.0,90.0,90.0,90.0,90.0,90.0,95.0,105.0,110.0,115.0,115.0,120.0,121.0,128.0,130.0,130.0,140.0,140.0,143.0,145.0,145.0,145.0,148.0,150.0,152.0,155.0,155.0,160.0,160.0,170.0,180.0,180.0,185.0,190.0,190.0,190.0,190.0,190.0,190.0,195.0,198.0,200.0,200.0,200.0,200.0,210.0,210.0,210.0,210.0,210.0,215.0,220.0,220.0,220.0,230.0,245.0,245.0,250.0,250.0,260.0,270.0,270.0,320.0,235.0,140.0,155.0,160.0,165.0,166.0,170.0,170.0,170.0,185.0,185.0,190.0,195.0,205.0,210.0,210.0,220.0,220.0,225.0,228.0,230.0,230.0,230.0,235.0,235.0,235.0,238.0,240.0,240.0,250.0,250.0,250.0,260.0,260.0,260.0,260.0,260.0,260.0,260.0,270.0,276.0,280.0,280.0,285.0,290.0,290.0,290.0,290.0,290.0,290.0,295.0,295.0,295.0,300.0,300.0,300.0,300.0,300.0,300.0,305.0,310.0,310.0,310.0,312.0,315.0,320.0,320.0,320.0,320.0,320.0,325.0,325.0,330.0,330.0,330.0,330.0,335.0,335.0,340.0,340.0,340.0,340.0,340.0,345.0,350.0,350.0,350.0,350.0,350.0,350.0,350.0,350.0,355.0,355.0,360.0,360.0,360.0,360.0,360.0,360.0,360.0,370.0,370.0,370.0,375.0,375.0,378.0,380.0,380.0,380.0,380.0,380.0,380.0,380.0,380.0,380.0,389.0,390.0,390.0,390.0,390.0,390.0,390.0,399.141,400.0,400.0,400.0,400.0,400.0,400.0,400.0,410.0,410.0,410.0,420.0,420.0,420.0,420.0,425.0,428.0,430.0,430.0,430.0,430.0,435.0,435.0,435.0,440.0,440.0,440.0,440.0,440.0,440.0,445.0,445.0,448.5,450.0,460.0,460.0,460.0,460.0,460.0,460.0,460.0,460.0,465.0,465.0,465.0,470.0,470.0,480.0,480.0,480.0,480.0,480.0,480.0,480.0,480.0,481.0,483.0,485.0,490.0,495.0,498.0,500.0,500.0,510.0,520.0,540.0,550.0,550.0,560.0,570.0,570.0,580.0,588.0,595.0,600.0,600.0,600.0,600.0,620.0,620.0,630.0,650.0,650.0,650.0,650.0,650.0,650.0,680.0,680.0,680.0,690.0,690.0,695.0,700.0,710.0,720.0,720.0,730.0,735.0,745.0,750.0,750.0,750.0,790.0,790.0,800.0,800.0,830.0,850.0,850.0,850.0,860.0,865.0,875.0,880.0,890.0,900.0,900.0,900.0,900.0,920.0,950.0,950.0,980.0,980.0,990.0,995.0,1100.0,1100.0,1100.0,1100.0,1200.0,1200.0,1200.0,1300.0,1300.0,1300.0,1350.0,1350.0,1400.0,1430.0,1450.0,1450.0,1490.0,1700.0,45.0,63.0,82.0,83.0,84.0,85.0,90.0,90.0,90.0,90.0,97.0,100.0,111.0,112.0,115.0,120.0,120.0,120.0,120.0,120.0,124.0,125.0,125.0,130.0,130.0,130.0,130.0,130.0,130.0,130.0,132.0,132.0,135.0,135.0,135.0,135.0,135.0,138.0,140.0,140.0,140.0,140.0,140.0,140.0,143.0,145.0,145.0,145.0,145.0,145.0,148.0,150.0,150.0,150.0,150.0,153.0,155.0,155.0,155.0,158.0,160.0,160.0,160.0,160.0,165.0,165.0,165.0,169.7,170.0,170.0,170.0,175.0,175.0,175.0,178.0,178.0,179.0,180.0,180.0,180.0,185.0,185.0,185.0,185.0,185.0,185.0,188.0,190.0,190.0,190.0,190.0,195.0,198.0,200.0,200.0,200.0,200.0,200.0,200.0,205.0,210.0,210.0,210.0,216.0,219.0,220.0,220.0,220.0,220.0,220.0,220.0,220.0,220.0,225.0,230.0,230.0,230.0,235.0,237.0,238.0,238.0,238.0,240.0,245.0,245.0,247.0,250.0,250.0,250.0,255.0,255.0,255.0,255.0,260.0,260.0,260.0,260.0,260.0,260.0,260.0,265.0,265.0,265.0,265.0,270.0,270.0,275.0,280.0,280.0,280.0,280.0,280.0,285.0,285.0,287.0,290.0,290.0,290.0,295.0,300.0,300.0,300.0,310.0,315.0,315.0,320.0,320.0,330.0,330.0,75.0,75.0,80.0,85.0,86.0,90.0,95.0,98.0,103.0,108.0,115.0,118.0,120.0,120.0,130.0,130.0,140.0,140.0,142.0,145.0,145.0,145.0,150.0,150.0,150.0,155.0,155.0,155.0,155.0,155.0,156.0,160.0,160.0,165.0,165.0,165.0,170.0,180.0,180.0,183.0,185.0,185.0,190.0,190.0,190.0,195.0,200.0,205.0,210.0,210.0,210.0,210.0,220.0,220.0,220.0,220.0,225.0,230.0,230.0,230.0,235.0,240.0,240.0,250.0,255.0,260.0,265.0,67.0,70.0,70.0,78.0,78.0,80.0,80.0,84.0,85.0,86.0,90.0,100.0,100.0,100.0,102.0,110.0,115.0,125.0,128.0,128.0,128.0,130.0,130.0,130.0,135.0,135.0,140.0,147.0,150.0,165.0,165.0,200.0,210.0,210.0,210.0,220.0,230.0,260.0,135.0,140.0,165.0,170.0,180.0,190.0,190.0,205.0,210.0,210.0,220.0,220.0,225.0,228.0,230.0,230.0,235.0,235.0,240.0,240.0,250.0,250.0,250.0,25.0,250.0,255.0,255.0,255.0,260.0,265.0,265.0,270.0,275.0,280.0,280.0,285.0,290.0,310.0,315.0,320.0,320.0,320.0,325.0,330.0,330.0,330.0,340.0,340.0,343.0,350.0,350.0,350.0,360.0,360.0,370.0,370.0,370.0,370.0,375.0,380.0,400.0,400.0,400.0,410.0,450.0,450.0,450.0,470.0,498.0,508.0,550.0,630.0,1350.0],\"y0\":\" \",\"yaxis\":\"y\",\"type\":\"box\"}],                        {\"template\":{\"data\":{\"bar\":[{\"error_x\":{\"color\":\"#2a3f5f\"},\"error_y\":{\"color\":\"#2a3f5f\"},\"marker\":{\"line\":{\"color\":\"#E5ECF6\",\"width\":0.5},\"pattern\":{\"fillmode\":\"overlay\",\"size\":10,\"solidity\":0.2}},\"type\":\"bar\"}],\"barpolar\":[{\"marker\":{\"line\":{\"color\":\"#E5ECF6\",\"width\":0.5},\"pattern\":{\"fillmode\":\"overlay\",\"size\":10,\"solidity\":0.2}},\"type\":\"barpolar\"}],\"carpet\":[{\"aaxis\":{\"endlinecolor\":\"#2a3f5f\",\"gridcolor\":\"white\",\"linecolor\":\"white\",\"minorgridcolor\":\"white\",\"startlinecolor\":\"#2a3f5f\"},\"baxis\":{\"endlinecolor\":\"#2a3f5f\",\"gridcolor\":\"white\",\"linecolor\":\"white\",\"minorgridcolor\":\"white\",\"startlinecolor\":\"#2a3f5f\"},\"type\":\"carpet\"}],\"choropleth\":[{\"colorbar\":{\"outlinewidth\":0,\"ticks\":\"\"},\"type\":\"choropleth\"}],\"contour\":[{\"colorbar\":{\"outlinewidth\":0,\"ticks\":\"\"},\"colorscale\":[[0.0,\"#0d0887\"],[0.1111111111111111,\"#46039f\"],[0.2222222222222222,\"#7201a8\"],[0.3333333333333333,\"#9c179e\"],[0.4444444444444444,\"#bd3786\"],[0.5555555555555556,\"#d8576b\"],[0.6666666666666666,\"#ed7953\"],[0.7777777777777778,\"#fb9f3a\"],[0.8888888888888888,\"#fdca26\"],[1.0,\"#f0f921\"]],\"type\":\"contour\"}],\"contourcarpet\":[{\"colorbar\":{\"outlinewidth\":0,\"ticks\":\"\"},\"type\":\"contourcarpet\"}],\"heatmap\":[{\"colorbar\":{\"outlinewidth\":0,\"ticks\":\"\"},\"colorscale\":[[0.0,\"#0d0887\"],[0.1111111111111111,\"#46039f\"],[0.2222222222222222,\"#7201a8\"],[0.3333333333333333,\"#9c179e\"],[0.4444444444444444,\"#bd3786\"],[0.5555555555555556,\"#d8576b\"],[0.6666666666666666,\"#ed7953\"],[0.7777777777777778,\"#fb9f3a\"],[0.8888888888888888,\"#fdca26\"],[1.0,\"#f0f921\"]],\"type\":\"heatmap\"}],\"heatmapgl\":[{\"colorbar\":{\"outlinewidth\":0,\"ticks\":\"\"},\"colorscale\":[[0.0,\"#0d0887\"],[0.1111111111111111,\"#46039f\"],[0.2222222222222222,\"#7201a8\"],[0.3333333333333333,\"#9c179e\"],[0.4444444444444444,\"#bd3786\"],[0.5555555555555556,\"#d8576b\"],[0.6666666666666666,\"#ed7953\"],[0.7777777777777778,\"#fb9f3a\"],[0.8888888888888888,\"#fdca26\"],[1.0,\"#f0f921\"]],\"type\":\"heatmapgl\"}],\"histogram\":[{\"marker\":{\"pattern\":{\"fillmode\":\"overlay\",\"size\":10,\"solidity\":0.2}},\"type\":\"histogram\"}],\"histogram2d\":[{\"colorbar\":{\"outlinewidth\":0,\"ticks\":\"\"},\"colorscale\":[[0.0,\"#0d0887\"],[0.1111111111111111,\"#46039f\"],[0.2222222222222222,\"#7201a8\"],[0.3333333333333333,\"#9c179e\"],[0.4444444444444444,\"#bd3786\"],[0.5555555555555556,\"#d8576b\"],[0.6666666666666666,\"#ed7953\"],[0.7777777777777778,\"#fb9f3a\"],[0.8888888888888888,\"#fdca26\"],[1.0,\"#f0f921\"]],\"type\":\"histogram2d\"}],\"histogram2dcontour\":[{\"colorbar\":{\"outlinewidth\":0,\"ticks\":\"\"},\"colorscale\":[[0.0,\"#0d0887\"],[0.1111111111111111,\"#46039f\"],[0.2222222222222222,\"#7201a8\"],[0.3333333333333333,\"#9c179e\"],[0.4444444444444444,\"#bd3786\"],[0.5555555555555556,\"#d8576b\"],[0.6666666666666666,\"#ed7953\"],[0.7777777777777778,\"#fb9f3a\"],[0.8888888888888888,\"#fdca26\"],[1.0,\"#f0f921\"]],\"type\":\"histogram2dcontour\"}],\"mesh3d\":[{\"colorbar\":{\"outlinewidth\":0,\"ticks\":\"\"},\"type\":\"mesh3d\"}],\"parcoords\":[{\"line\":{\"colorbar\":{\"outlinewidth\":0,\"ticks\":\"\"}},\"type\":\"parcoords\"}],\"pie\":[{\"automargin\":true,\"type\":\"pie\"}],\"scatter\":[{\"marker\":{\"colorbar\":{\"outlinewidth\":0,\"ticks\":\"\"}},\"type\":\"scatter\"}],\"scatter3d\":[{\"line\":{\"colorbar\":{\"outlinewidth\":0,\"ticks\":\"\"}},\"marker\":{\"colorbar\":{\"outlinewidth\":0,\"ticks\":\"\"}},\"type\":\"scatter3d\"}],\"scattercarpet\":[{\"marker\":{\"colorbar\":{\"outlinewidth\":0,\"ticks\":\"\"}},\"type\":\"scattercarpet\"}],\"scattergeo\":[{\"marker\":{\"colorbar\":{\"outlinewidth\":0,\"ticks\":\"\"}},\"type\":\"scattergeo\"}],\"scattergl\":[{\"marker\":{\"colorbar\":{\"outlinewidth\":0,\"ticks\":\"\"}},\"type\":\"scattergl\"}],\"scattermapbox\":[{\"marker\":{\"colorbar\":{\"outlinewidth\":0,\"ticks\":\"\"}},\"type\":\"scattermapbox\"}],\"scatterpolar\":[{\"marker\":{\"colorbar\":{\"outlinewidth\":0,\"ticks\":\"\"}},\"type\":\"scatterpolar\"}],\"scatterpolargl\":[{\"marker\":{\"colorbar\":{\"outlinewidth\":0,\"ticks\":\"\"}},\"type\":\"scatterpolargl\"}],\"scatterternary\":[{\"marker\":{\"colorbar\":{\"outlinewidth\":0,\"ticks\":\"\"}},\"type\":\"scatterternary\"}],\"surface\":[{\"colorbar\":{\"outlinewidth\":0,\"ticks\":\"\"},\"colorscale\":[[0.0,\"#0d0887\"],[0.1111111111111111,\"#46039f\"],[0.2222222222222222,\"#7201a8\"],[0.3333333333333333,\"#9c179e\"],[0.4444444444444444,\"#bd3786\"],[0.5555555555555556,\"#d8576b\"],[0.6666666666666666,\"#ed7953\"],[0.7777777777777778,\"#fb9f3a\"],[0.8888888888888888,\"#fdca26\"],[1.0,\"#f0f921\"]],\"type\":\"surface\"}],\"table\":[{\"cells\":{\"fill\":{\"color\":\"#EBF0F8\"},\"line\":{\"color\":\"white\"}},\"header\":{\"fill\":{\"color\":\"#C8D4E3\"},\"line\":{\"color\":\"white\"}},\"type\":\"table\"}]},\"layout\":{\"annotationdefaults\":{\"arrowcolor\":\"#2a3f5f\",\"arrowhead\":0,\"arrowwidth\":1},\"autotypenumbers\":\"strict\",\"coloraxis\":{\"colorbar\":{\"outlinewidth\":0,\"ticks\":\"\"}},\"colorscale\":{\"diverging\":[[0,\"#8e0152\"],[0.1,\"#c51b7d\"],[0.2,\"#de77ae\"],[0.3,\"#f1b6da\"],[0.4,\"#fde0ef\"],[0.5,\"#f7f7f7\"],[0.6,\"#e6f5d0\"],[0.7,\"#b8e186\"],[0.8,\"#7fbc41\"],[0.9,\"#4d9221\"],[1,\"#276419\"]],\"sequential\":[[0.0,\"#0d0887\"],[0.1111111111111111,\"#46039f\"],[0.2222222222222222,\"#7201a8\"],[0.3333333333333333,\"#9c179e\"],[0.4444444444444444,\"#bd3786\"],[0.5555555555555556,\"#d8576b\"],[0.6666666666666666,\"#ed7953\"],[0.7777777777777778,\"#fb9f3a\"],[0.8888888888888888,\"#fdca26\"],[1.0,\"#f0f921\"]],\"sequentialminus\":[[0.0,\"#0d0887\"],[0.1111111111111111,\"#46039f\"],[0.2222222222222222,\"#7201a8\"],[0.3333333333333333,\"#9c179e\"],[0.4444444444444444,\"#bd3786\"],[0.5555555555555556,\"#d8576b\"],[0.6666666666666666,\"#ed7953\"],[0.7777777777777778,\"#fb9f3a\"],[0.8888888888888888,\"#fdca26\"],[1.0,\"#f0f921\"]]},\"colorway\":[\"#636efa\",\"#EF553B\",\"#00cc96\",\"#ab63fa\",\"#FFA15A\",\"#19d3f3\",\"#FF6692\",\"#B6E880\",\"#FF97FF\",\"#FECB52\"],\"font\":{\"color\":\"#2a3f5f\"},\"geo\":{\"bgcolor\":\"white\",\"lakecolor\":\"white\",\"landcolor\":\"#E5ECF6\",\"showlakes\":true,\"showland\":true,\"subunitcolor\":\"white\"},\"hoverlabel\":{\"align\":\"left\"},\"hovermode\":\"closest\",\"mapbox\":{\"style\":\"light\"},\"paper_bgcolor\":\"white\",\"plot_bgcolor\":\"#E5ECF6\",\"polar\":{\"angularaxis\":{\"gridcolor\":\"white\",\"linecolor\":\"white\",\"ticks\":\"\"},\"bgcolor\":\"#E5ECF6\",\"radialaxis\":{\"gridcolor\":\"white\",\"linecolor\":\"white\",\"ticks\":\"\"}},\"scene\":{\"xaxis\":{\"backgroundcolor\":\"#E5ECF6\",\"gridcolor\":\"white\",\"gridwidth\":2,\"linecolor\":\"white\",\"showbackground\":true,\"ticks\":\"\",\"zerolinecolor\":\"white\"},\"yaxis\":{\"backgroundcolor\":\"#E5ECF6\",\"gridcolor\":\"white\",\"gridwidth\":2,\"linecolor\":\"white\",\"showbackground\":true,\"ticks\":\"\",\"zerolinecolor\":\"white\"},\"zaxis\":{\"backgroundcolor\":\"#E5ECF6\",\"gridcolor\":\"white\",\"gridwidth\":2,\"linecolor\":\"white\",\"showbackground\":true,\"ticks\":\"\",\"zerolinecolor\":\"white\"}},\"shapedefaults\":{\"line\":{\"color\":\"#2a3f5f\"}},\"ternary\":{\"aaxis\":{\"gridcolor\":\"white\",\"linecolor\":\"white\",\"ticks\":\"\"},\"baxis\":{\"gridcolor\":\"white\",\"linecolor\":\"white\",\"ticks\":\"\"},\"bgcolor\":\"#E5ECF6\",\"caxis\":{\"gridcolor\":\"white\",\"linecolor\":\"white\",\"ticks\":\"\"}},\"title\":{\"x\":0.05},\"xaxis\":{\"automargin\":true,\"gridcolor\":\"white\",\"linecolor\":\"white\",\"ticks\":\"\",\"title\":{\"standoff\":15},\"zerolinecolor\":\"white\",\"zerolinewidth\":2},\"yaxis\":{\"automargin\":true,\"gridcolor\":\"white\",\"linecolor\":\"white\",\"ticks\":\"\",\"title\":{\"standoff\":15},\"zerolinecolor\":\"white\",\"zerolinewidth\":2}}},\"xaxis\":{\"anchor\":\"y\",\"domain\":[0.0,1.0],\"title\":{\"text\":\"variable\"}},\"yaxis\":{\"anchor\":\"x\",\"domain\":[0.0,1.0],\"title\":{\"text\":\"value\"}},\"legend\":{\"tracegroupgap\":0},\"margin\":{\"t\":60},\"boxmode\":\"group\"},                        {\"responsive\": true}                    ).then(function(){\n",
              "                            \n",
              "var gd = document.getElementById('616c3bd7-96f6-4c22-9149-be64eff870d5');\n",
              "var x = new MutationObserver(function (mutations, observer) {{\n",
              "        var display = window.getComputedStyle(gd).display;\n",
              "        if (!display || display === 'none') {{\n",
              "            console.log([gd, 'removed!']);\n",
              "            Plotly.purge(gd);\n",
              "            observer.disconnect();\n",
              "        }}\n",
              "}});\n",
              "\n",
              "// Listen for the removal of the full notebook cells\n",
              "var notebookContainer = gd.closest('#notebook-container');\n",
              "if (notebookContainer) {{\n",
              "    x.observe(notebookContainer, {childList: true});\n",
              "}}\n",
              "\n",
              "// Listen for the clearing of the current output cell\n",
              "var outputEl = gd.closest('.output');\n",
              "if (outputEl) {{\n",
              "    x.observe(outputEl, {childList: true});\n",
              "}}\n",
              "\n",
              "                        })                };                            </script>        </div>\n",
              "</body>\n",
              "</html>"
            ]
          },
          "metadata": {}
        }
      ]
    },
    {
      "cell_type": "code",
      "source": [
        "px.box(aptos.precio,\n",
        "        color_discrete_sequence = [\"magenta\"], points=\"all\")"
      ],
      "metadata": {
        "colab": {
          "base_uri": "https://localhost:8080/",
          "height": 542
        },
        "id": "2hQPUOvdmbCI",
        "outputId": "0da07159-d4f5-47a0-e1ab-c54ac9edb676"
      },
      "execution_count": 26,
      "outputs": [
        {
          "output_type": "display_data",
          "data": {
            "text/html": [
              "<html>\n",
              "<head><meta charset=\"utf-8\" /></head>\n",
              "<body>\n",
              "    <div>            <script src=\"https://cdnjs.cloudflare.com/ajax/libs/mathjax/2.7.5/MathJax.js?config=TeX-AMS-MML_SVG\"></script><script type=\"text/javascript\">if (window.MathJax) {MathJax.Hub.Config({SVG: {font: \"STIX-Web\"}});}</script>                <script type=\"text/javascript\">window.PlotlyConfig = {MathJaxConfig: 'local'};</script>\n",
              "        <script src=\"https://cdn.plot.ly/plotly-2.8.3.min.js\"></script>                <div id=\"161d8fd9-8098-41ee-bdd1-a73b5e889d79\" class=\"plotly-graph-div\" style=\"height:525px; width:100%;\"></div>            <script type=\"text/javascript\">                                    window.PLOTLYENV=window.PLOTLYENV || {};                                    if (document.getElementById(\"161d8fd9-8098-41ee-bdd1-a73b5e889d79\")) {                    Plotly.newPlot(                        \"161d8fd9-8098-41ee-bdd1-a73b5e889d79\",                        [{\"alignmentgroup\":\"True\",\"boxpoints\":\"all\",\"hovertemplate\":\"variable=%{x}<br>value=%{y}<extra></extra>\",\"legendgroup\":\"\",\"marker\":{\"color\":\"magenta\"},\"name\":\"\",\"notched\":false,\"offsetgroup\":\"\",\"orientation\":\"v\",\"showlegend\":false,\"x\":[\"precio\",\"precio\",\"precio\",\"precio\",\"precio\",\"precio\",\"precio\",\"precio\",\"precio\",\"precio\",\"precio\",\"precio\",\"precio\",\"precio\",\"precio\",\"precio\",\"precio\",\"precio\",\"precio\",\"precio\",\"precio\",\"precio\",\"precio\",\"precio\",\"precio\",\"precio\",\"precio\",\"precio\",\"precio\",\"precio\",\"precio\",\"precio\",\"precio\",\"precio\",\"precio\",\"precio\",\"precio\",\"precio\",\"precio\",\"precio\",\"precio\",\"precio\",\"precio\",\"precio\",\"precio\",\"precio\",\"precio\",\"precio\",\"precio\",\"precio\",\"precio\",\"precio\",\"precio\",\"precio\",\"precio\",\"precio\",\"precio\",\"precio\",\"precio\",\"precio\",\"precio\",\"precio\",\"precio\",\"precio\",\"precio\",\"precio\",\"precio\",\"precio\",\"precio\",\"precio\",\"precio\",\"precio\",\"precio\",\"precio\",\"precio\",\"precio\",\"precio\",\"precio\",\"precio\",\"precio\",\"precio\",\"precio\",\"precio\",\"precio\",\"precio\",\"precio\",\"precio\",\"precio\",\"precio\",\"precio\",\"precio\",\"precio\",\"precio\",\"precio\",\"precio\",\"precio\",\"precio\",\"precio\",\"precio\",\"precio\",\"precio\",\"precio\",\"precio\",\"precio\",\"precio\",\"precio\",\"precio\",\"precio\",\"precio\",\"precio\",\"precio\",\"precio\",\"precio\",\"precio\",\"precio\",\"precio\",\"precio\",\"precio\",\"precio\",\"precio\",\"precio\",\"precio\",\"precio\",\"precio\",\"precio\",\"precio\",\"precio\",\"precio\",\"precio\",\"precio\",\"precio\",\"precio\",\"precio\",\"precio\",\"precio\",\"precio\",\"precio\",\"precio\",\"precio\",\"precio\",\"precio\",\"precio\",\"precio\",\"precio\",\"precio\",\"precio\",\"precio\",\"precio\",\"precio\",\"precio\",\"precio\",\"precio\",\"precio\",\"precio\",\"precio\",\"precio\",\"precio\",\"precio\",\"precio\",\"precio\",\"precio\",\"precio\",\"precio\",\"precio\",\"precio\",\"precio\",\"precio\",\"precio\",\"precio\",\"precio\",\"precio\",\"precio\",\"precio\",\"precio\",\"precio\",\"precio\",\"precio\",\"precio\",\"precio\",\"precio\",\"precio\",\"precio\",\"precio\",\"precio\",\"precio\",\"precio\",\"precio\",\"precio\",\"precio\",\"precio\",\"precio\",\"precio\",\"precio\",\"precio\",\"precio\",\"precio\",\"precio\",\"precio\",\"precio\",\"precio\",\"precio\",\"precio\",\"precio\",\"precio\",\"precio\",\"precio\",\"precio\",\"precio\",\"precio\",\"precio\",\"precio\",\"precio\",\"precio\",\"precio\",\"precio\",\"precio\",\"precio\",\"precio\",\"precio\",\"precio\",\"precio\",\"precio\",\"precio\",\"precio\",\"precio\",\"precio\",\"precio\",\"precio\",\"precio\",\"precio\",\"precio\",\"precio\",\"precio\",\"precio\",\"precio\",\"precio\",\"precio\",\"precio\",\"precio\",\"precio\",\"precio\",\"precio\",\"precio\",\"precio\",\"precio\",\"precio\",\"precio\",\"precio\",\"precio\",\"precio\",\"precio\",\"precio\",\"precio\",\"precio\",\"precio\",\"precio\",\"precio\",\"precio\",\"precio\",\"precio\",\"precio\",\"precio\",\"precio\",\"precio\",\"precio\",\"precio\",\"precio\",\"precio\",\"precio\",\"precio\",\"precio\",\"precio\",\"precio\",\"precio\",\"precio\",\"precio\",\"precio\",\"precio\",\"precio\",\"precio\",\"precio\",\"precio\",\"precio\",\"precio\",\"precio\",\"precio\",\"precio\",\"precio\",\"precio\",\"precio\",\"precio\",\"precio\",\"precio\",\"precio\",\"precio\",\"precio\",\"precio\",\"precio\",\"precio\",\"precio\",\"precio\",\"precio\",\"precio\",\"precio\",\"precio\",\"precio\",\"precio\",\"precio\",\"precio\",\"precio\",\"precio\",\"precio\",\"precio\",\"precio\",\"precio\",\"precio\",\"precio\",\"precio\",\"precio\",\"precio\",\"precio\",\"precio\",\"precio\",\"precio\",\"precio\",\"precio\",\"precio\",\"precio\",\"precio\",\"precio\",\"precio\",\"precio\",\"precio\",\"precio\",\"precio\",\"precio\",\"precio\",\"precio\",\"precio\",\"precio\",\"precio\",\"precio\",\"precio\",\"precio\",\"precio\",\"precio\",\"precio\",\"precio\",\"precio\",\"precio\",\"precio\",\"precio\",\"precio\",\"precio\",\"precio\",\"precio\",\"precio\",\"precio\",\"precio\",\"precio\",\"precio\",\"precio\",\"precio\",\"precio\",\"precio\",\"precio\",\"precio\",\"precio\",\"precio\",\"precio\",\"precio\",\"precio\",\"precio\",\"precio\",\"precio\",\"precio\",\"precio\",\"precio\",\"precio\",\"precio\",\"precio\",\"precio\",\"precio\",\"precio\",\"precio\",\"precio\",\"precio\",\"precio\",\"precio\",\"precio\",\"precio\",\"precio\",\"precio\",\"precio\",\"precio\",\"precio\",\"precio\",\"precio\",\"precio\",\"precio\",\"precio\",\"precio\",\"precio\",\"precio\",\"precio\",\"precio\",\"precio\",\"precio\",\"precio\",\"precio\",\"precio\",\"precio\",\"precio\",\"precio\",\"precio\",\"precio\",\"precio\",\"precio\",\"precio\",\"precio\",\"precio\",\"precio\",\"precio\",\"precio\",\"precio\",\"precio\",\"precio\",\"precio\",\"precio\",\"precio\",\"precio\",\"precio\",\"precio\",\"precio\",\"precio\",\"precio\",\"precio\",\"precio\",\"precio\",\"precio\",\"precio\",\"precio\",\"precio\",\"precio\",\"precio\",\"precio\",\"precio\",\"precio\",\"precio\",\"precio\",\"precio\",\"precio\",\"precio\",\"precio\",\"precio\",\"precio\",\"precio\",\"precio\",\"precio\",\"precio\",\"precio\",\"precio\",\"precio\",\"precio\",\"precio\",\"precio\",\"precio\",\"precio\",\"precio\",\"precio\",\"precio\",\"precio\",\"precio\",\"precio\",\"precio\",\"precio\",\"precio\",\"precio\",\"precio\",\"precio\",\"precio\",\"precio\",\"precio\",\"precio\",\"precio\",\"precio\",\"precio\",\"precio\",\"precio\",\"precio\",\"precio\",\"precio\",\"precio\",\"precio\",\"precio\",\"precio\",\"precio\",\"precio\",\"precio\",\"precio\",\"precio\",\"precio\",\"precio\",\"precio\",\"precio\",\"precio\",\"precio\",\"precio\",\"precio\",\"precio\",\"precio\",\"precio\",\"precio\",\"precio\",\"precio\",\"precio\",\"precio\",\"precio\",\"precio\",\"precio\",\"precio\",\"precio\",\"precio\",\"precio\",\"precio\",\"precio\",\"precio\",\"precio\",\"precio\",\"precio\",\"precio\",\"precio\",\"precio\",\"precio\",\"precio\",\"precio\",\"precio\",\"precio\",\"precio\",\"precio\",\"precio\",\"precio\",\"precio\",\"precio\",\"precio\",\"precio\",\"precio\",\"precio\",\"precio\",\"precio\",\"precio\",\"precio\",\"precio\",\"precio\",\"precio\",\"precio\",\"precio\",\"precio\",\"precio\",\"precio\",\"precio\",\"precio\",\"precio\",\"precio\",\"precio\",\"precio\",\"precio\",\"precio\",\"precio\",\"precio\",\"precio\",\"precio\",\"precio\",\"precio\",\"precio\",\"precio\",\"precio\",\"precio\",\"precio\",\"precio\",\"precio\",\"precio\",\"precio\",\"precio\",\"precio\",\"precio\",\"precio\",\"precio\",\"precio\",\"precio\",\"precio\",\"precio\",\"precio\",\"precio\",\"precio\",\"precio\",\"precio\",\"precio\",\"precio\",\"precio\",\"precio\",\"precio\",\"precio\",\"precio\",\"precio\",\"precio\",\"precio\",\"precio\",\"precio\",\"precio\",\"precio\",\"precio\",\"precio\",\"precio\",\"precio\",\"precio\",\"precio\",\"precio\",\"precio\",\"precio\",\"precio\",\"precio\",\"precio\",\"precio\",\"precio\",\"precio\",\"precio\",\"precio\",\"precio\",\"precio\",\"precio\",\"precio\",\"precio\",\"precio\",\"precio\",\"precio\",\"precio\",\"precio\",\"precio\",\"precio\",\"precio\",\"precio\",\"precio\",\"precio\",\"precio\",\"precio\",\"precio\",\"precio\",\"precio\",\"precio\",\"precio\",\"precio\",\"precio\",\"precio\",\"precio\",\"precio\",\"precio\",\"precio\",\"precio\",\"precio\",\"precio\",\"precio\",\"precio\",\"precio\",\"precio\",\"precio\",\"precio\",\"precio\",\"precio\",\"precio\",\"precio\",\"precio\",\"precio\",\"precio\",\"precio\",\"precio\",\"precio\",\"precio\",\"precio\",\"precio\",\"precio\",\"precio\",\"precio\",\"precio\",\"precio\",\"precio\",\"precio\",\"precio\",\"precio\",\"precio\",\"precio\",\"precio\",\"precio\",\"precio\"],\"x0\":\" \",\"xaxis\":\"x\",\"y\":[79.0,93.0,100.0,123.0,135.0,140.0,145.0,160.0,160.0,175.0,47.0,53.0,70.0,70.0,72.0,75.0,80.0,90.0,90.0,90.0,90.0,90.0,95.0,105.0,110.0,115.0,115.0,120.0,121.0,128.0,130.0,130.0,140.0,140.0,143.0,145.0,145.0,145.0,148.0,150.0,152.0,155.0,155.0,160.0,160.0,170.0,180.0,180.0,185.0,190.0,190.0,190.0,190.0,190.0,190.0,195.0,198.0,200.0,200.0,200.0,200.0,210.0,210.0,210.0,210.0,210.0,215.0,220.0,220.0,220.0,230.0,245.0,245.0,250.0,250.0,260.0,270.0,270.0,320.0,235.0,140.0,155.0,160.0,165.0,166.0,170.0,170.0,170.0,185.0,185.0,190.0,195.0,205.0,210.0,210.0,220.0,220.0,225.0,228.0,230.0,230.0,230.0,235.0,235.0,235.0,238.0,240.0,240.0,250.0,250.0,250.0,260.0,260.0,260.0,260.0,260.0,260.0,260.0,270.0,276.0,280.0,280.0,285.0,290.0,290.0,290.0,290.0,290.0,290.0,295.0,295.0,295.0,300.0,300.0,300.0,300.0,300.0,300.0,305.0,310.0,310.0,310.0,312.0,315.0,320.0,320.0,320.0,320.0,320.0,325.0,325.0,330.0,330.0,330.0,330.0,335.0,335.0,340.0,340.0,340.0,340.0,340.0,345.0,350.0,350.0,350.0,350.0,350.0,350.0,350.0,350.0,355.0,355.0,360.0,360.0,360.0,360.0,360.0,360.0,360.0,370.0,370.0,370.0,375.0,375.0,378.0,380.0,380.0,380.0,380.0,380.0,380.0,380.0,380.0,380.0,389.0,390.0,390.0,390.0,390.0,390.0,390.0,399.141,400.0,400.0,400.0,400.0,400.0,400.0,400.0,410.0,410.0,410.0,420.0,420.0,420.0,420.0,425.0,428.0,430.0,430.0,430.0,430.0,435.0,435.0,435.0,440.0,440.0,440.0,440.0,440.0,440.0,445.0,445.0,448.5,450.0,460.0,460.0,460.0,460.0,460.0,460.0,460.0,460.0,465.0,465.0,465.0,470.0,470.0,480.0,480.0,480.0,480.0,480.0,480.0,480.0,480.0,481.0,483.0,485.0,490.0,495.0,498.0,500.0,500.0,510.0,520.0,540.0,550.0,550.0,560.0,570.0,570.0,580.0,588.0,595.0,600.0,600.0,600.0,600.0,620.0,620.0,630.0,650.0,650.0,650.0,650.0,650.0,650.0,680.0,680.0,680.0,690.0,690.0,695.0,700.0,710.0,720.0,720.0,730.0,735.0,745.0,750.0,750.0,750.0,790.0,790.0,800.0,800.0,830.0,850.0,850.0,850.0,860.0,865.0,875.0,880.0,890.0,900.0,900.0,900.0,900.0,920.0,950.0,950.0,980.0,980.0,990.0,995.0,1100.0,1100.0,1100.0,1100.0,1200.0,1200.0,1200.0,1300.0,1300.0,1300.0,1350.0,1350.0,1400.0,1430.0,1450.0,1450.0,1490.0,1700.0,45.0,63.0,82.0,83.0,84.0,85.0,90.0,90.0,90.0,90.0,97.0,100.0,111.0,112.0,115.0,120.0,120.0,120.0,120.0,120.0,124.0,125.0,125.0,130.0,130.0,130.0,130.0,130.0,130.0,130.0,132.0,132.0,135.0,135.0,135.0,135.0,135.0,138.0,140.0,140.0,140.0,140.0,140.0,140.0,143.0,145.0,145.0,145.0,145.0,145.0,148.0,150.0,150.0,150.0,150.0,153.0,155.0,155.0,155.0,158.0,160.0,160.0,160.0,160.0,165.0,165.0,165.0,169.7,170.0,170.0,170.0,175.0,175.0,175.0,178.0,178.0,179.0,180.0,180.0,180.0,185.0,185.0,185.0,185.0,185.0,185.0,188.0,190.0,190.0,190.0,190.0,195.0,198.0,200.0,200.0,200.0,200.0,200.0,200.0,205.0,210.0,210.0,210.0,216.0,219.0,220.0,220.0,220.0,220.0,220.0,220.0,220.0,220.0,225.0,230.0,230.0,230.0,235.0,237.0,238.0,238.0,238.0,240.0,245.0,245.0,247.0,250.0,250.0,250.0,255.0,255.0,255.0,255.0,260.0,260.0,260.0,260.0,260.0,260.0,260.0,265.0,265.0,265.0,265.0,270.0,270.0,275.0,280.0,280.0,280.0,280.0,280.0,285.0,285.0,287.0,290.0,290.0,290.0,295.0,300.0,300.0,300.0,310.0,315.0,315.0,320.0,320.0,330.0,330.0,75.0,75.0,80.0,85.0,86.0,90.0,95.0,98.0,103.0,108.0,115.0,118.0,120.0,120.0,130.0,130.0,140.0,140.0,142.0,145.0,145.0,145.0,150.0,150.0,150.0,155.0,155.0,155.0,155.0,155.0,156.0,160.0,160.0,165.0,165.0,165.0,170.0,180.0,180.0,183.0,185.0,185.0,190.0,190.0,190.0,195.0,200.0,205.0,210.0,210.0,210.0,210.0,220.0,220.0,220.0,220.0,225.0,230.0,230.0,230.0,235.0,240.0,240.0,250.0,255.0,260.0,265.0,67.0,70.0,70.0,78.0,78.0,80.0,80.0,84.0,85.0,86.0,90.0,100.0,100.0,100.0,102.0,110.0,115.0,125.0,128.0,128.0,128.0,130.0,130.0,130.0,135.0,135.0,140.0,147.0,150.0,165.0,165.0,200.0,210.0,210.0,210.0,220.0,230.0,260.0,135.0,140.0,165.0,170.0,180.0,190.0,190.0,205.0,210.0,210.0,220.0,220.0,225.0,228.0,230.0,230.0,235.0,235.0,240.0,240.0,250.0,250.0,250.0,25.0,250.0,255.0,255.0,255.0,260.0,265.0,265.0,270.0,275.0,280.0,280.0,285.0,290.0,310.0,315.0,320.0,320.0,320.0,325.0,330.0,330.0,330.0,340.0,340.0,343.0,350.0,350.0,350.0,360.0,360.0,370.0,370.0,370.0,370.0,375.0,380.0,400.0,400.0,400.0,410.0,450.0,450.0,450.0,470.0,498.0,508.0,550.0,630.0,1350.0],\"y0\":\" \",\"yaxis\":\"y\",\"type\":\"box\"}],                        {\"template\":{\"data\":{\"bar\":[{\"error_x\":{\"color\":\"#2a3f5f\"},\"error_y\":{\"color\":\"#2a3f5f\"},\"marker\":{\"line\":{\"color\":\"#E5ECF6\",\"width\":0.5},\"pattern\":{\"fillmode\":\"overlay\",\"size\":10,\"solidity\":0.2}},\"type\":\"bar\"}],\"barpolar\":[{\"marker\":{\"line\":{\"color\":\"#E5ECF6\",\"width\":0.5},\"pattern\":{\"fillmode\":\"overlay\",\"size\":10,\"solidity\":0.2}},\"type\":\"barpolar\"}],\"carpet\":[{\"aaxis\":{\"endlinecolor\":\"#2a3f5f\",\"gridcolor\":\"white\",\"linecolor\":\"white\",\"minorgridcolor\":\"white\",\"startlinecolor\":\"#2a3f5f\"},\"baxis\":{\"endlinecolor\":\"#2a3f5f\",\"gridcolor\":\"white\",\"linecolor\":\"white\",\"minorgridcolor\":\"white\",\"startlinecolor\":\"#2a3f5f\"},\"type\":\"carpet\"}],\"choropleth\":[{\"colorbar\":{\"outlinewidth\":0,\"ticks\":\"\"},\"type\":\"choropleth\"}],\"contour\":[{\"colorbar\":{\"outlinewidth\":0,\"ticks\":\"\"},\"colorscale\":[[0.0,\"#0d0887\"],[0.1111111111111111,\"#46039f\"],[0.2222222222222222,\"#7201a8\"],[0.3333333333333333,\"#9c179e\"],[0.4444444444444444,\"#bd3786\"],[0.5555555555555556,\"#d8576b\"],[0.6666666666666666,\"#ed7953\"],[0.7777777777777778,\"#fb9f3a\"],[0.8888888888888888,\"#fdca26\"],[1.0,\"#f0f921\"]],\"type\":\"contour\"}],\"contourcarpet\":[{\"colorbar\":{\"outlinewidth\":0,\"ticks\":\"\"},\"type\":\"contourcarpet\"}],\"heatmap\":[{\"colorbar\":{\"outlinewidth\":0,\"ticks\":\"\"},\"colorscale\":[[0.0,\"#0d0887\"],[0.1111111111111111,\"#46039f\"],[0.2222222222222222,\"#7201a8\"],[0.3333333333333333,\"#9c179e\"],[0.4444444444444444,\"#bd3786\"],[0.5555555555555556,\"#d8576b\"],[0.6666666666666666,\"#ed7953\"],[0.7777777777777778,\"#fb9f3a\"],[0.8888888888888888,\"#fdca26\"],[1.0,\"#f0f921\"]],\"type\":\"heatmap\"}],\"heatmapgl\":[{\"colorbar\":{\"outlinewidth\":0,\"ticks\":\"\"},\"colorscale\":[[0.0,\"#0d0887\"],[0.1111111111111111,\"#46039f\"],[0.2222222222222222,\"#7201a8\"],[0.3333333333333333,\"#9c179e\"],[0.4444444444444444,\"#bd3786\"],[0.5555555555555556,\"#d8576b\"],[0.6666666666666666,\"#ed7953\"],[0.7777777777777778,\"#fb9f3a\"],[0.8888888888888888,\"#fdca26\"],[1.0,\"#f0f921\"]],\"type\":\"heatmapgl\"}],\"histogram\":[{\"marker\":{\"pattern\":{\"fillmode\":\"overlay\",\"size\":10,\"solidity\":0.2}},\"type\":\"histogram\"}],\"histogram2d\":[{\"colorbar\":{\"outlinewidth\":0,\"ticks\":\"\"},\"colorscale\":[[0.0,\"#0d0887\"],[0.1111111111111111,\"#46039f\"],[0.2222222222222222,\"#7201a8\"],[0.3333333333333333,\"#9c179e\"],[0.4444444444444444,\"#bd3786\"],[0.5555555555555556,\"#d8576b\"],[0.6666666666666666,\"#ed7953\"],[0.7777777777777778,\"#fb9f3a\"],[0.8888888888888888,\"#fdca26\"],[1.0,\"#f0f921\"]],\"type\":\"histogram2d\"}],\"histogram2dcontour\":[{\"colorbar\":{\"outlinewidth\":0,\"ticks\":\"\"},\"colorscale\":[[0.0,\"#0d0887\"],[0.1111111111111111,\"#46039f\"],[0.2222222222222222,\"#7201a8\"],[0.3333333333333333,\"#9c179e\"],[0.4444444444444444,\"#bd3786\"],[0.5555555555555556,\"#d8576b\"],[0.6666666666666666,\"#ed7953\"],[0.7777777777777778,\"#fb9f3a\"],[0.8888888888888888,\"#fdca26\"],[1.0,\"#f0f921\"]],\"type\":\"histogram2dcontour\"}],\"mesh3d\":[{\"colorbar\":{\"outlinewidth\":0,\"ticks\":\"\"},\"type\":\"mesh3d\"}],\"parcoords\":[{\"line\":{\"colorbar\":{\"outlinewidth\":0,\"ticks\":\"\"}},\"type\":\"parcoords\"}],\"pie\":[{\"automargin\":true,\"type\":\"pie\"}],\"scatter\":[{\"marker\":{\"colorbar\":{\"outlinewidth\":0,\"ticks\":\"\"}},\"type\":\"scatter\"}],\"scatter3d\":[{\"line\":{\"colorbar\":{\"outlinewidth\":0,\"ticks\":\"\"}},\"marker\":{\"colorbar\":{\"outlinewidth\":0,\"ticks\":\"\"}},\"type\":\"scatter3d\"}],\"scattercarpet\":[{\"marker\":{\"colorbar\":{\"outlinewidth\":0,\"ticks\":\"\"}},\"type\":\"scattercarpet\"}],\"scattergeo\":[{\"marker\":{\"colorbar\":{\"outlinewidth\":0,\"ticks\":\"\"}},\"type\":\"scattergeo\"}],\"scattergl\":[{\"marker\":{\"colorbar\":{\"outlinewidth\":0,\"ticks\":\"\"}},\"type\":\"scattergl\"}],\"scattermapbox\":[{\"marker\":{\"colorbar\":{\"outlinewidth\":0,\"ticks\":\"\"}},\"type\":\"scattermapbox\"}],\"scatterpolar\":[{\"marker\":{\"colorbar\":{\"outlinewidth\":0,\"ticks\":\"\"}},\"type\":\"scatterpolar\"}],\"scatterpolargl\":[{\"marker\":{\"colorbar\":{\"outlinewidth\":0,\"ticks\":\"\"}},\"type\":\"scatterpolargl\"}],\"scatterternary\":[{\"marker\":{\"colorbar\":{\"outlinewidth\":0,\"ticks\":\"\"}},\"type\":\"scatterternary\"}],\"surface\":[{\"colorbar\":{\"outlinewidth\":0,\"ticks\":\"\"},\"colorscale\":[[0.0,\"#0d0887\"],[0.1111111111111111,\"#46039f\"],[0.2222222222222222,\"#7201a8\"],[0.3333333333333333,\"#9c179e\"],[0.4444444444444444,\"#bd3786\"],[0.5555555555555556,\"#d8576b\"],[0.6666666666666666,\"#ed7953\"],[0.7777777777777778,\"#fb9f3a\"],[0.8888888888888888,\"#fdca26\"],[1.0,\"#f0f921\"]],\"type\":\"surface\"}],\"table\":[{\"cells\":{\"fill\":{\"color\":\"#EBF0F8\"},\"line\":{\"color\":\"white\"}},\"header\":{\"fill\":{\"color\":\"#C8D4E3\"},\"line\":{\"color\":\"white\"}},\"type\":\"table\"}]},\"layout\":{\"annotationdefaults\":{\"arrowcolor\":\"#2a3f5f\",\"arrowhead\":0,\"arrowwidth\":1},\"autotypenumbers\":\"strict\",\"coloraxis\":{\"colorbar\":{\"outlinewidth\":0,\"ticks\":\"\"}},\"colorscale\":{\"diverging\":[[0,\"#8e0152\"],[0.1,\"#c51b7d\"],[0.2,\"#de77ae\"],[0.3,\"#f1b6da\"],[0.4,\"#fde0ef\"],[0.5,\"#f7f7f7\"],[0.6,\"#e6f5d0\"],[0.7,\"#b8e186\"],[0.8,\"#7fbc41\"],[0.9,\"#4d9221\"],[1,\"#276419\"]],\"sequential\":[[0.0,\"#0d0887\"],[0.1111111111111111,\"#46039f\"],[0.2222222222222222,\"#7201a8\"],[0.3333333333333333,\"#9c179e\"],[0.4444444444444444,\"#bd3786\"],[0.5555555555555556,\"#d8576b\"],[0.6666666666666666,\"#ed7953\"],[0.7777777777777778,\"#fb9f3a\"],[0.8888888888888888,\"#fdca26\"],[1.0,\"#f0f921\"]],\"sequentialminus\":[[0.0,\"#0d0887\"],[0.1111111111111111,\"#46039f\"],[0.2222222222222222,\"#7201a8\"],[0.3333333333333333,\"#9c179e\"],[0.4444444444444444,\"#bd3786\"],[0.5555555555555556,\"#d8576b\"],[0.6666666666666666,\"#ed7953\"],[0.7777777777777778,\"#fb9f3a\"],[0.8888888888888888,\"#fdca26\"],[1.0,\"#f0f921\"]]},\"colorway\":[\"#636efa\",\"#EF553B\",\"#00cc96\",\"#ab63fa\",\"#FFA15A\",\"#19d3f3\",\"#FF6692\",\"#B6E880\",\"#FF97FF\",\"#FECB52\"],\"font\":{\"color\":\"#2a3f5f\"},\"geo\":{\"bgcolor\":\"white\",\"lakecolor\":\"white\",\"landcolor\":\"#E5ECF6\",\"showlakes\":true,\"showland\":true,\"subunitcolor\":\"white\"},\"hoverlabel\":{\"align\":\"left\"},\"hovermode\":\"closest\",\"mapbox\":{\"style\":\"light\"},\"paper_bgcolor\":\"white\",\"plot_bgcolor\":\"#E5ECF6\",\"polar\":{\"angularaxis\":{\"gridcolor\":\"white\",\"linecolor\":\"white\",\"ticks\":\"\"},\"bgcolor\":\"#E5ECF6\",\"radialaxis\":{\"gridcolor\":\"white\",\"linecolor\":\"white\",\"ticks\":\"\"}},\"scene\":{\"xaxis\":{\"backgroundcolor\":\"#E5ECF6\",\"gridcolor\":\"white\",\"gridwidth\":2,\"linecolor\":\"white\",\"showbackground\":true,\"ticks\":\"\",\"zerolinecolor\":\"white\"},\"yaxis\":{\"backgroundcolor\":\"#E5ECF6\",\"gridcolor\":\"white\",\"gridwidth\":2,\"linecolor\":\"white\",\"showbackground\":true,\"ticks\":\"\",\"zerolinecolor\":\"white\"},\"zaxis\":{\"backgroundcolor\":\"#E5ECF6\",\"gridcolor\":\"white\",\"gridwidth\":2,\"linecolor\":\"white\",\"showbackground\":true,\"ticks\":\"\",\"zerolinecolor\":\"white\"}},\"shapedefaults\":{\"line\":{\"color\":\"#2a3f5f\"}},\"ternary\":{\"aaxis\":{\"gridcolor\":\"white\",\"linecolor\":\"white\",\"ticks\":\"\"},\"baxis\":{\"gridcolor\":\"white\",\"linecolor\":\"white\",\"ticks\":\"\"},\"bgcolor\":\"#E5ECF6\",\"caxis\":{\"gridcolor\":\"white\",\"linecolor\":\"white\",\"ticks\":\"\"}},\"title\":{\"x\":0.05},\"xaxis\":{\"automargin\":true,\"gridcolor\":\"white\",\"linecolor\":\"white\",\"ticks\":\"\",\"title\":{\"standoff\":15},\"zerolinecolor\":\"white\",\"zerolinewidth\":2},\"yaxis\":{\"automargin\":true,\"gridcolor\":\"white\",\"linecolor\":\"white\",\"ticks\":\"\",\"title\":{\"standoff\":15},\"zerolinecolor\":\"white\",\"zerolinewidth\":2}}},\"xaxis\":{\"anchor\":\"y\",\"domain\":[0.0,1.0],\"title\":{\"text\":\"variable\"}},\"yaxis\":{\"anchor\":\"x\",\"domain\":[0.0,1.0],\"title\":{\"text\":\"value\"}},\"legend\":{\"tracegroupgap\":0},\"margin\":{\"t\":60},\"boxmode\":\"group\"},                        {\"responsive\": true}                    ).then(function(){\n",
              "                            \n",
              "var gd = document.getElementById('161d8fd9-8098-41ee-bdd1-a73b5e889d79');\n",
              "var x = new MutationObserver(function (mutations, observer) {{\n",
              "        var display = window.getComputedStyle(gd).display;\n",
              "        if (!display || display === 'none') {{\n",
              "            console.log([gd, 'removed!']);\n",
              "            Plotly.purge(gd);\n",
              "            observer.disconnect();\n",
              "        }}\n",
              "}});\n",
              "\n",
              "// Listen for the removal of the full notebook cells\n",
              "var notebookContainer = gd.closest('#notebook-container');\n",
              "if (notebookContainer) {{\n",
              "    x.observe(notebookContainer, {childList: true});\n",
              "}}\n",
              "\n",
              "// Listen for the clearing of the current output cell\n",
              "var outputEl = gd.closest('.output');\n",
              "if (outputEl) {{\n",
              "    x.observe(outputEl, {childList: true});\n",
              "}}\n",
              "\n",
              "                        })                };                            </script>        </div>\n",
              "</body>\n",
              "</html>"
            ]
          },
          "metadata": {}
        }
      ]
    },
    {
      "cell_type": "markdown",
      "source": [
        "También podemos hacer un boxplot\n",
        "              "
      ],
      "metadata": {
        "id": "209EJV8Dbb7B"
      }
    },
    {
      "cell_type": "code",
      "source": [
        "px.box(aptos.precio, \n",
        "       color_discrete_sequence = [\"green\"], points=\"all\")"
      ],
      "metadata": {
        "id": "rNKBTtmWcy7G",
        "colab": {
          "base_uri": "https://localhost:8080/",
          "height": 542
        },
        "outputId": "e7d7180c-cd2b-4d4f-8f5d-f60ac00fab37"
      },
      "execution_count": 27,
      "outputs": [
        {
          "output_type": "display_data",
          "data": {
            "text/html": [
              "<html>\n",
              "<head><meta charset=\"utf-8\" /></head>\n",
              "<body>\n",
              "    <div>            <script src=\"https://cdnjs.cloudflare.com/ajax/libs/mathjax/2.7.5/MathJax.js?config=TeX-AMS-MML_SVG\"></script><script type=\"text/javascript\">if (window.MathJax) {MathJax.Hub.Config({SVG: {font: \"STIX-Web\"}});}</script>                <script type=\"text/javascript\">window.PlotlyConfig = {MathJaxConfig: 'local'};</script>\n",
              "        <script src=\"https://cdn.plot.ly/plotly-2.8.3.min.js\"></script>                <div id=\"156cab6f-e356-4969-96c0-1f46a607bca2\" class=\"plotly-graph-div\" style=\"height:525px; width:100%;\"></div>            <script type=\"text/javascript\">                                    window.PLOTLYENV=window.PLOTLYENV || {};                                    if (document.getElementById(\"156cab6f-e356-4969-96c0-1f46a607bca2\")) {                    Plotly.newPlot(                        \"156cab6f-e356-4969-96c0-1f46a607bca2\",                        [{\"alignmentgroup\":\"True\",\"boxpoints\":\"all\",\"hovertemplate\":\"variable=%{x}<br>value=%{y}<extra></extra>\",\"legendgroup\":\"\",\"marker\":{\"color\":\"green\"},\"name\":\"\",\"notched\":false,\"offsetgroup\":\"\",\"orientation\":\"v\",\"showlegend\":false,\"x\":[\"precio\",\"precio\",\"precio\",\"precio\",\"precio\",\"precio\",\"precio\",\"precio\",\"precio\",\"precio\",\"precio\",\"precio\",\"precio\",\"precio\",\"precio\",\"precio\",\"precio\",\"precio\",\"precio\",\"precio\",\"precio\",\"precio\",\"precio\",\"precio\",\"precio\",\"precio\",\"precio\",\"precio\",\"precio\",\"precio\",\"precio\",\"precio\",\"precio\",\"precio\",\"precio\",\"precio\",\"precio\",\"precio\",\"precio\",\"precio\",\"precio\",\"precio\",\"precio\",\"precio\",\"precio\",\"precio\",\"precio\",\"precio\",\"precio\",\"precio\",\"precio\",\"precio\",\"precio\",\"precio\",\"precio\",\"precio\",\"precio\",\"precio\",\"precio\",\"precio\",\"precio\",\"precio\",\"precio\",\"precio\",\"precio\",\"precio\",\"precio\",\"precio\",\"precio\",\"precio\",\"precio\",\"precio\",\"precio\",\"precio\",\"precio\",\"precio\",\"precio\",\"precio\",\"precio\",\"precio\",\"precio\",\"precio\",\"precio\",\"precio\",\"precio\",\"precio\",\"precio\",\"precio\",\"precio\",\"precio\",\"precio\",\"precio\",\"precio\",\"precio\",\"precio\",\"precio\",\"precio\",\"precio\",\"precio\",\"precio\",\"precio\",\"precio\",\"precio\",\"precio\",\"precio\",\"precio\",\"precio\",\"precio\",\"precio\",\"precio\",\"precio\",\"precio\",\"precio\",\"precio\",\"precio\",\"precio\",\"precio\",\"precio\",\"precio\",\"precio\",\"precio\",\"precio\",\"precio\",\"precio\",\"precio\",\"precio\",\"precio\",\"precio\",\"precio\",\"precio\",\"precio\",\"precio\",\"precio\",\"precio\",\"precio\",\"precio\",\"precio\",\"precio\",\"precio\",\"precio\",\"precio\",\"precio\",\"precio\",\"precio\",\"precio\",\"precio\",\"precio\",\"precio\",\"precio\",\"precio\",\"precio\",\"precio\",\"precio\",\"precio\",\"precio\",\"precio\",\"precio\",\"precio\",\"precio\",\"precio\",\"precio\",\"precio\",\"precio\",\"precio\",\"precio\",\"precio\",\"precio\",\"precio\",\"precio\",\"precio\",\"precio\",\"precio\",\"precio\",\"precio\",\"precio\",\"precio\",\"precio\",\"precio\",\"precio\",\"precio\",\"precio\",\"precio\",\"precio\",\"precio\",\"precio\",\"precio\",\"precio\",\"precio\",\"precio\",\"precio\",\"precio\",\"precio\",\"precio\",\"precio\",\"precio\",\"precio\",\"precio\",\"precio\",\"precio\",\"precio\",\"precio\",\"precio\",\"precio\",\"precio\",\"precio\",\"precio\",\"precio\",\"precio\",\"precio\",\"precio\",\"precio\",\"precio\",\"precio\",\"precio\",\"precio\",\"precio\",\"precio\",\"precio\",\"precio\",\"precio\",\"precio\",\"precio\",\"precio\",\"precio\",\"precio\",\"precio\",\"precio\",\"precio\",\"precio\",\"precio\",\"precio\",\"precio\",\"precio\",\"precio\",\"precio\",\"precio\",\"precio\",\"precio\",\"precio\",\"precio\",\"precio\",\"precio\",\"precio\",\"precio\",\"precio\",\"precio\",\"precio\",\"precio\",\"precio\",\"precio\",\"precio\",\"precio\",\"precio\",\"precio\",\"precio\",\"precio\",\"precio\",\"precio\",\"precio\",\"precio\",\"precio\",\"precio\",\"precio\",\"precio\",\"precio\",\"precio\",\"precio\",\"precio\",\"precio\",\"precio\",\"precio\",\"precio\",\"precio\",\"precio\",\"precio\",\"precio\",\"precio\",\"precio\",\"precio\",\"precio\",\"precio\",\"precio\",\"precio\",\"precio\",\"precio\",\"precio\",\"precio\",\"precio\",\"precio\",\"precio\",\"precio\",\"precio\",\"precio\",\"precio\",\"precio\",\"precio\",\"precio\",\"precio\",\"precio\",\"precio\",\"precio\",\"precio\",\"precio\",\"precio\",\"precio\",\"precio\",\"precio\",\"precio\",\"precio\",\"precio\",\"precio\",\"precio\",\"precio\",\"precio\",\"precio\",\"precio\",\"precio\",\"precio\",\"precio\",\"precio\",\"precio\",\"precio\",\"precio\",\"precio\",\"precio\",\"precio\",\"precio\",\"precio\",\"precio\",\"precio\",\"precio\",\"precio\",\"precio\",\"precio\",\"precio\",\"precio\",\"precio\",\"precio\",\"precio\",\"precio\",\"precio\",\"precio\",\"precio\",\"precio\",\"precio\",\"precio\",\"precio\",\"precio\",\"precio\",\"precio\",\"precio\",\"precio\",\"precio\",\"precio\",\"precio\",\"precio\",\"precio\",\"precio\",\"precio\",\"precio\",\"precio\",\"precio\",\"precio\",\"precio\",\"precio\",\"precio\",\"precio\",\"precio\",\"precio\",\"precio\",\"precio\",\"precio\",\"precio\",\"precio\",\"precio\",\"precio\",\"precio\",\"precio\",\"precio\",\"precio\",\"precio\",\"precio\",\"precio\",\"precio\",\"precio\",\"precio\",\"precio\",\"precio\",\"precio\",\"precio\",\"precio\",\"precio\",\"precio\",\"precio\",\"precio\",\"precio\",\"precio\",\"precio\",\"precio\",\"precio\",\"precio\",\"precio\",\"precio\",\"precio\",\"precio\",\"precio\",\"precio\",\"precio\",\"precio\",\"precio\",\"precio\",\"precio\",\"precio\",\"precio\",\"precio\",\"precio\",\"precio\",\"precio\",\"precio\",\"precio\",\"precio\",\"precio\",\"precio\",\"precio\",\"precio\",\"precio\",\"precio\",\"precio\",\"precio\",\"precio\",\"precio\",\"precio\",\"precio\",\"precio\",\"precio\",\"precio\",\"precio\",\"precio\",\"precio\",\"precio\",\"precio\",\"precio\",\"precio\",\"precio\",\"precio\",\"precio\",\"precio\",\"precio\",\"precio\",\"precio\",\"precio\",\"precio\",\"precio\",\"precio\",\"precio\",\"precio\",\"precio\",\"precio\",\"precio\",\"precio\",\"precio\",\"precio\",\"precio\",\"precio\",\"precio\",\"precio\",\"precio\",\"precio\",\"precio\",\"precio\",\"precio\",\"precio\",\"precio\",\"precio\",\"precio\",\"precio\",\"precio\",\"precio\",\"precio\",\"precio\",\"precio\",\"precio\",\"precio\",\"precio\",\"precio\",\"precio\",\"precio\",\"precio\",\"precio\",\"precio\",\"precio\",\"precio\",\"precio\",\"precio\",\"precio\",\"precio\",\"precio\",\"precio\",\"precio\",\"precio\",\"precio\",\"precio\",\"precio\",\"precio\",\"precio\",\"precio\",\"precio\",\"precio\",\"precio\",\"precio\",\"precio\",\"precio\",\"precio\",\"precio\",\"precio\",\"precio\",\"precio\",\"precio\",\"precio\",\"precio\",\"precio\",\"precio\",\"precio\",\"precio\",\"precio\",\"precio\",\"precio\",\"precio\",\"precio\",\"precio\",\"precio\",\"precio\",\"precio\",\"precio\",\"precio\",\"precio\",\"precio\",\"precio\",\"precio\",\"precio\",\"precio\",\"precio\",\"precio\",\"precio\",\"precio\",\"precio\",\"precio\",\"precio\",\"precio\",\"precio\",\"precio\",\"precio\",\"precio\",\"precio\",\"precio\",\"precio\",\"precio\",\"precio\",\"precio\",\"precio\",\"precio\",\"precio\",\"precio\",\"precio\",\"precio\",\"precio\",\"precio\",\"precio\",\"precio\",\"precio\",\"precio\",\"precio\",\"precio\",\"precio\",\"precio\",\"precio\",\"precio\",\"precio\",\"precio\",\"precio\",\"precio\",\"precio\",\"precio\",\"precio\",\"precio\",\"precio\",\"precio\",\"precio\",\"precio\",\"precio\",\"precio\",\"precio\",\"precio\",\"precio\",\"precio\",\"precio\",\"precio\",\"precio\",\"precio\",\"precio\",\"precio\",\"precio\",\"precio\",\"precio\",\"precio\",\"precio\",\"precio\",\"precio\",\"precio\",\"precio\",\"precio\",\"precio\",\"precio\",\"precio\",\"precio\",\"precio\",\"precio\",\"precio\",\"precio\",\"precio\",\"precio\",\"precio\",\"precio\",\"precio\",\"precio\",\"precio\",\"precio\",\"precio\",\"precio\",\"precio\",\"precio\",\"precio\",\"precio\",\"precio\",\"precio\",\"precio\",\"precio\",\"precio\",\"precio\",\"precio\",\"precio\",\"precio\",\"precio\",\"precio\",\"precio\",\"precio\",\"precio\",\"precio\",\"precio\",\"precio\",\"precio\",\"precio\",\"precio\",\"precio\",\"precio\",\"precio\",\"precio\",\"precio\",\"precio\",\"precio\",\"precio\",\"precio\",\"precio\",\"precio\",\"precio\",\"precio\",\"precio\",\"precio\",\"precio\",\"precio\",\"precio\",\"precio\",\"precio\",\"precio\",\"precio\",\"precio\",\"precio\",\"precio\",\"precio\",\"precio\",\"precio\",\"precio\",\"precio\",\"precio\",\"precio\",\"precio\",\"precio\",\"precio\",\"precio\",\"precio\",\"precio\",\"precio\",\"precio\",\"precio\"],\"x0\":\" \",\"xaxis\":\"x\",\"y\":[79.0,93.0,100.0,123.0,135.0,140.0,145.0,160.0,160.0,175.0,47.0,53.0,70.0,70.0,72.0,75.0,80.0,90.0,90.0,90.0,90.0,90.0,95.0,105.0,110.0,115.0,115.0,120.0,121.0,128.0,130.0,130.0,140.0,140.0,143.0,145.0,145.0,145.0,148.0,150.0,152.0,155.0,155.0,160.0,160.0,170.0,180.0,180.0,185.0,190.0,190.0,190.0,190.0,190.0,190.0,195.0,198.0,200.0,200.0,200.0,200.0,210.0,210.0,210.0,210.0,210.0,215.0,220.0,220.0,220.0,230.0,245.0,245.0,250.0,250.0,260.0,270.0,270.0,320.0,235.0,140.0,155.0,160.0,165.0,166.0,170.0,170.0,170.0,185.0,185.0,190.0,195.0,205.0,210.0,210.0,220.0,220.0,225.0,228.0,230.0,230.0,230.0,235.0,235.0,235.0,238.0,240.0,240.0,250.0,250.0,250.0,260.0,260.0,260.0,260.0,260.0,260.0,260.0,270.0,276.0,280.0,280.0,285.0,290.0,290.0,290.0,290.0,290.0,290.0,295.0,295.0,295.0,300.0,300.0,300.0,300.0,300.0,300.0,305.0,310.0,310.0,310.0,312.0,315.0,320.0,320.0,320.0,320.0,320.0,325.0,325.0,330.0,330.0,330.0,330.0,335.0,335.0,340.0,340.0,340.0,340.0,340.0,345.0,350.0,350.0,350.0,350.0,350.0,350.0,350.0,350.0,355.0,355.0,360.0,360.0,360.0,360.0,360.0,360.0,360.0,370.0,370.0,370.0,375.0,375.0,378.0,380.0,380.0,380.0,380.0,380.0,380.0,380.0,380.0,380.0,389.0,390.0,390.0,390.0,390.0,390.0,390.0,399.141,400.0,400.0,400.0,400.0,400.0,400.0,400.0,410.0,410.0,410.0,420.0,420.0,420.0,420.0,425.0,428.0,430.0,430.0,430.0,430.0,435.0,435.0,435.0,440.0,440.0,440.0,440.0,440.0,440.0,445.0,445.0,448.5,450.0,460.0,460.0,460.0,460.0,460.0,460.0,460.0,460.0,465.0,465.0,465.0,470.0,470.0,480.0,480.0,480.0,480.0,480.0,480.0,480.0,480.0,481.0,483.0,485.0,490.0,495.0,498.0,500.0,500.0,510.0,520.0,540.0,550.0,550.0,560.0,570.0,570.0,580.0,588.0,595.0,600.0,600.0,600.0,600.0,620.0,620.0,630.0,650.0,650.0,650.0,650.0,650.0,650.0,680.0,680.0,680.0,690.0,690.0,695.0,700.0,710.0,720.0,720.0,730.0,735.0,745.0,750.0,750.0,750.0,790.0,790.0,800.0,800.0,830.0,850.0,850.0,850.0,860.0,865.0,875.0,880.0,890.0,900.0,900.0,900.0,900.0,920.0,950.0,950.0,980.0,980.0,990.0,995.0,1100.0,1100.0,1100.0,1100.0,1200.0,1200.0,1200.0,1300.0,1300.0,1300.0,1350.0,1350.0,1400.0,1430.0,1450.0,1450.0,1490.0,1700.0,45.0,63.0,82.0,83.0,84.0,85.0,90.0,90.0,90.0,90.0,97.0,100.0,111.0,112.0,115.0,120.0,120.0,120.0,120.0,120.0,124.0,125.0,125.0,130.0,130.0,130.0,130.0,130.0,130.0,130.0,132.0,132.0,135.0,135.0,135.0,135.0,135.0,138.0,140.0,140.0,140.0,140.0,140.0,140.0,143.0,145.0,145.0,145.0,145.0,145.0,148.0,150.0,150.0,150.0,150.0,153.0,155.0,155.0,155.0,158.0,160.0,160.0,160.0,160.0,165.0,165.0,165.0,169.7,170.0,170.0,170.0,175.0,175.0,175.0,178.0,178.0,179.0,180.0,180.0,180.0,185.0,185.0,185.0,185.0,185.0,185.0,188.0,190.0,190.0,190.0,190.0,195.0,198.0,200.0,200.0,200.0,200.0,200.0,200.0,205.0,210.0,210.0,210.0,216.0,219.0,220.0,220.0,220.0,220.0,220.0,220.0,220.0,220.0,225.0,230.0,230.0,230.0,235.0,237.0,238.0,238.0,238.0,240.0,245.0,245.0,247.0,250.0,250.0,250.0,255.0,255.0,255.0,255.0,260.0,260.0,260.0,260.0,260.0,260.0,260.0,265.0,265.0,265.0,265.0,270.0,270.0,275.0,280.0,280.0,280.0,280.0,280.0,285.0,285.0,287.0,290.0,290.0,290.0,295.0,300.0,300.0,300.0,310.0,315.0,315.0,320.0,320.0,330.0,330.0,75.0,75.0,80.0,85.0,86.0,90.0,95.0,98.0,103.0,108.0,115.0,118.0,120.0,120.0,130.0,130.0,140.0,140.0,142.0,145.0,145.0,145.0,150.0,150.0,150.0,155.0,155.0,155.0,155.0,155.0,156.0,160.0,160.0,165.0,165.0,165.0,170.0,180.0,180.0,183.0,185.0,185.0,190.0,190.0,190.0,195.0,200.0,205.0,210.0,210.0,210.0,210.0,220.0,220.0,220.0,220.0,225.0,230.0,230.0,230.0,235.0,240.0,240.0,250.0,255.0,260.0,265.0,67.0,70.0,70.0,78.0,78.0,80.0,80.0,84.0,85.0,86.0,90.0,100.0,100.0,100.0,102.0,110.0,115.0,125.0,128.0,128.0,128.0,130.0,130.0,130.0,135.0,135.0,140.0,147.0,150.0,165.0,165.0,200.0,210.0,210.0,210.0,220.0,230.0,260.0,135.0,140.0,165.0,170.0,180.0,190.0,190.0,205.0,210.0,210.0,220.0,220.0,225.0,228.0,230.0,230.0,235.0,235.0,240.0,240.0,250.0,250.0,250.0,25.0,250.0,255.0,255.0,255.0,260.0,265.0,265.0,270.0,275.0,280.0,280.0,285.0,290.0,310.0,315.0,320.0,320.0,320.0,325.0,330.0,330.0,330.0,340.0,340.0,343.0,350.0,350.0,350.0,360.0,360.0,370.0,370.0,370.0,370.0,375.0,380.0,400.0,400.0,400.0,410.0,450.0,450.0,450.0,470.0,498.0,508.0,550.0,630.0,1350.0],\"y0\":\" \",\"yaxis\":\"y\",\"type\":\"box\"}],                        {\"template\":{\"data\":{\"bar\":[{\"error_x\":{\"color\":\"#2a3f5f\"},\"error_y\":{\"color\":\"#2a3f5f\"},\"marker\":{\"line\":{\"color\":\"#E5ECF6\",\"width\":0.5},\"pattern\":{\"fillmode\":\"overlay\",\"size\":10,\"solidity\":0.2}},\"type\":\"bar\"}],\"barpolar\":[{\"marker\":{\"line\":{\"color\":\"#E5ECF6\",\"width\":0.5},\"pattern\":{\"fillmode\":\"overlay\",\"size\":10,\"solidity\":0.2}},\"type\":\"barpolar\"}],\"carpet\":[{\"aaxis\":{\"endlinecolor\":\"#2a3f5f\",\"gridcolor\":\"white\",\"linecolor\":\"white\",\"minorgridcolor\":\"white\",\"startlinecolor\":\"#2a3f5f\"},\"baxis\":{\"endlinecolor\":\"#2a3f5f\",\"gridcolor\":\"white\",\"linecolor\":\"white\",\"minorgridcolor\":\"white\",\"startlinecolor\":\"#2a3f5f\"},\"type\":\"carpet\"}],\"choropleth\":[{\"colorbar\":{\"outlinewidth\":0,\"ticks\":\"\"},\"type\":\"choropleth\"}],\"contour\":[{\"colorbar\":{\"outlinewidth\":0,\"ticks\":\"\"},\"colorscale\":[[0.0,\"#0d0887\"],[0.1111111111111111,\"#46039f\"],[0.2222222222222222,\"#7201a8\"],[0.3333333333333333,\"#9c179e\"],[0.4444444444444444,\"#bd3786\"],[0.5555555555555556,\"#d8576b\"],[0.6666666666666666,\"#ed7953\"],[0.7777777777777778,\"#fb9f3a\"],[0.8888888888888888,\"#fdca26\"],[1.0,\"#f0f921\"]],\"type\":\"contour\"}],\"contourcarpet\":[{\"colorbar\":{\"outlinewidth\":0,\"ticks\":\"\"},\"type\":\"contourcarpet\"}],\"heatmap\":[{\"colorbar\":{\"outlinewidth\":0,\"ticks\":\"\"},\"colorscale\":[[0.0,\"#0d0887\"],[0.1111111111111111,\"#46039f\"],[0.2222222222222222,\"#7201a8\"],[0.3333333333333333,\"#9c179e\"],[0.4444444444444444,\"#bd3786\"],[0.5555555555555556,\"#d8576b\"],[0.6666666666666666,\"#ed7953\"],[0.7777777777777778,\"#fb9f3a\"],[0.8888888888888888,\"#fdca26\"],[1.0,\"#f0f921\"]],\"type\":\"heatmap\"}],\"heatmapgl\":[{\"colorbar\":{\"outlinewidth\":0,\"ticks\":\"\"},\"colorscale\":[[0.0,\"#0d0887\"],[0.1111111111111111,\"#46039f\"],[0.2222222222222222,\"#7201a8\"],[0.3333333333333333,\"#9c179e\"],[0.4444444444444444,\"#bd3786\"],[0.5555555555555556,\"#d8576b\"],[0.6666666666666666,\"#ed7953\"],[0.7777777777777778,\"#fb9f3a\"],[0.8888888888888888,\"#fdca26\"],[1.0,\"#f0f921\"]],\"type\":\"heatmapgl\"}],\"histogram\":[{\"marker\":{\"pattern\":{\"fillmode\":\"overlay\",\"size\":10,\"solidity\":0.2}},\"type\":\"histogram\"}],\"histogram2d\":[{\"colorbar\":{\"outlinewidth\":0,\"ticks\":\"\"},\"colorscale\":[[0.0,\"#0d0887\"],[0.1111111111111111,\"#46039f\"],[0.2222222222222222,\"#7201a8\"],[0.3333333333333333,\"#9c179e\"],[0.4444444444444444,\"#bd3786\"],[0.5555555555555556,\"#d8576b\"],[0.6666666666666666,\"#ed7953\"],[0.7777777777777778,\"#fb9f3a\"],[0.8888888888888888,\"#fdca26\"],[1.0,\"#f0f921\"]],\"type\":\"histogram2d\"}],\"histogram2dcontour\":[{\"colorbar\":{\"outlinewidth\":0,\"ticks\":\"\"},\"colorscale\":[[0.0,\"#0d0887\"],[0.1111111111111111,\"#46039f\"],[0.2222222222222222,\"#7201a8\"],[0.3333333333333333,\"#9c179e\"],[0.4444444444444444,\"#bd3786\"],[0.5555555555555556,\"#d8576b\"],[0.6666666666666666,\"#ed7953\"],[0.7777777777777778,\"#fb9f3a\"],[0.8888888888888888,\"#fdca26\"],[1.0,\"#f0f921\"]],\"type\":\"histogram2dcontour\"}],\"mesh3d\":[{\"colorbar\":{\"outlinewidth\":0,\"ticks\":\"\"},\"type\":\"mesh3d\"}],\"parcoords\":[{\"line\":{\"colorbar\":{\"outlinewidth\":0,\"ticks\":\"\"}},\"type\":\"parcoords\"}],\"pie\":[{\"automargin\":true,\"type\":\"pie\"}],\"scatter\":[{\"marker\":{\"colorbar\":{\"outlinewidth\":0,\"ticks\":\"\"}},\"type\":\"scatter\"}],\"scatter3d\":[{\"line\":{\"colorbar\":{\"outlinewidth\":0,\"ticks\":\"\"}},\"marker\":{\"colorbar\":{\"outlinewidth\":0,\"ticks\":\"\"}},\"type\":\"scatter3d\"}],\"scattercarpet\":[{\"marker\":{\"colorbar\":{\"outlinewidth\":0,\"ticks\":\"\"}},\"type\":\"scattercarpet\"}],\"scattergeo\":[{\"marker\":{\"colorbar\":{\"outlinewidth\":0,\"ticks\":\"\"}},\"type\":\"scattergeo\"}],\"scattergl\":[{\"marker\":{\"colorbar\":{\"outlinewidth\":0,\"ticks\":\"\"}},\"type\":\"scattergl\"}],\"scattermapbox\":[{\"marker\":{\"colorbar\":{\"outlinewidth\":0,\"ticks\":\"\"}},\"type\":\"scattermapbox\"}],\"scatterpolar\":[{\"marker\":{\"colorbar\":{\"outlinewidth\":0,\"ticks\":\"\"}},\"type\":\"scatterpolar\"}],\"scatterpolargl\":[{\"marker\":{\"colorbar\":{\"outlinewidth\":0,\"ticks\":\"\"}},\"type\":\"scatterpolargl\"}],\"scatterternary\":[{\"marker\":{\"colorbar\":{\"outlinewidth\":0,\"ticks\":\"\"}},\"type\":\"scatterternary\"}],\"surface\":[{\"colorbar\":{\"outlinewidth\":0,\"ticks\":\"\"},\"colorscale\":[[0.0,\"#0d0887\"],[0.1111111111111111,\"#46039f\"],[0.2222222222222222,\"#7201a8\"],[0.3333333333333333,\"#9c179e\"],[0.4444444444444444,\"#bd3786\"],[0.5555555555555556,\"#d8576b\"],[0.6666666666666666,\"#ed7953\"],[0.7777777777777778,\"#fb9f3a\"],[0.8888888888888888,\"#fdca26\"],[1.0,\"#f0f921\"]],\"type\":\"surface\"}],\"table\":[{\"cells\":{\"fill\":{\"color\":\"#EBF0F8\"},\"line\":{\"color\":\"white\"}},\"header\":{\"fill\":{\"color\":\"#C8D4E3\"},\"line\":{\"color\":\"white\"}},\"type\":\"table\"}]},\"layout\":{\"annotationdefaults\":{\"arrowcolor\":\"#2a3f5f\",\"arrowhead\":0,\"arrowwidth\":1},\"autotypenumbers\":\"strict\",\"coloraxis\":{\"colorbar\":{\"outlinewidth\":0,\"ticks\":\"\"}},\"colorscale\":{\"diverging\":[[0,\"#8e0152\"],[0.1,\"#c51b7d\"],[0.2,\"#de77ae\"],[0.3,\"#f1b6da\"],[0.4,\"#fde0ef\"],[0.5,\"#f7f7f7\"],[0.6,\"#e6f5d0\"],[0.7,\"#b8e186\"],[0.8,\"#7fbc41\"],[0.9,\"#4d9221\"],[1,\"#276419\"]],\"sequential\":[[0.0,\"#0d0887\"],[0.1111111111111111,\"#46039f\"],[0.2222222222222222,\"#7201a8\"],[0.3333333333333333,\"#9c179e\"],[0.4444444444444444,\"#bd3786\"],[0.5555555555555556,\"#d8576b\"],[0.6666666666666666,\"#ed7953\"],[0.7777777777777778,\"#fb9f3a\"],[0.8888888888888888,\"#fdca26\"],[1.0,\"#f0f921\"]],\"sequentialminus\":[[0.0,\"#0d0887\"],[0.1111111111111111,\"#46039f\"],[0.2222222222222222,\"#7201a8\"],[0.3333333333333333,\"#9c179e\"],[0.4444444444444444,\"#bd3786\"],[0.5555555555555556,\"#d8576b\"],[0.6666666666666666,\"#ed7953\"],[0.7777777777777778,\"#fb9f3a\"],[0.8888888888888888,\"#fdca26\"],[1.0,\"#f0f921\"]]},\"colorway\":[\"#636efa\",\"#EF553B\",\"#00cc96\",\"#ab63fa\",\"#FFA15A\",\"#19d3f3\",\"#FF6692\",\"#B6E880\",\"#FF97FF\",\"#FECB52\"],\"font\":{\"color\":\"#2a3f5f\"},\"geo\":{\"bgcolor\":\"white\",\"lakecolor\":\"white\",\"landcolor\":\"#E5ECF6\",\"showlakes\":true,\"showland\":true,\"subunitcolor\":\"white\"},\"hoverlabel\":{\"align\":\"left\"},\"hovermode\":\"closest\",\"mapbox\":{\"style\":\"light\"},\"paper_bgcolor\":\"white\",\"plot_bgcolor\":\"#E5ECF6\",\"polar\":{\"angularaxis\":{\"gridcolor\":\"white\",\"linecolor\":\"white\",\"ticks\":\"\"},\"bgcolor\":\"#E5ECF6\",\"radialaxis\":{\"gridcolor\":\"white\",\"linecolor\":\"white\",\"ticks\":\"\"}},\"scene\":{\"xaxis\":{\"backgroundcolor\":\"#E5ECF6\",\"gridcolor\":\"white\",\"gridwidth\":2,\"linecolor\":\"white\",\"showbackground\":true,\"ticks\":\"\",\"zerolinecolor\":\"white\"},\"yaxis\":{\"backgroundcolor\":\"#E5ECF6\",\"gridcolor\":\"white\",\"gridwidth\":2,\"linecolor\":\"white\",\"showbackground\":true,\"ticks\":\"\",\"zerolinecolor\":\"white\"},\"zaxis\":{\"backgroundcolor\":\"#E5ECF6\",\"gridcolor\":\"white\",\"gridwidth\":2,\"linecolor\":\"white\",\"showbackground\":true,\"ticks\":\"\",\"zerolinecolor\":\"white\"}},\"shapedefaults\":{\"line\":{\"color\":\"#2a3f5f\"}},\"ternary\":{\"aaxis\":{\"gridcolor\":\"white\",\"linecolor\":\"white\",\"ticks\":\"\"},\"baxis\":{\"gridcolor\":\"white\",\"linecolor\":\"white\",\"ticks\":\"\"},\"bgcolor\":\"#E5ECF6\",\"caxis\":{\"gridcolor\":\"white\",\"linecolor\":\"white\",\"ticks\":\"\"}},\"title\":{\"x\":0.05},\"xaxis\":{\"automargin\":true,\"gridcolor\":\"white\",\"linecolor\":\"white\",\"ticks\":\"\",\"title\":{\"standoff\":15},\"zerolinecolor\":\"white\",\"zerolinewidth\":2},\"yaxis\":{\"automargin\":true,\"gridcolor\":\"white\",\"linecolor\":\"white\",\"ticks\":\"\",\"title\":{\"standoff\":15},\"zerolinecolor\":\"white\",\"zerolinewidth\":2}}},\"xaxis\":{\"anchor\":\"y\",\"domain\":[0.0,1.0],\"title\":{\"text\":\"variable\"}},\"yaxis\":{\"anchor\":\"x\",\"domain\":[0.0,1.0],\"title\":{\"text\":\"value\"}},\"legend\":{\"tracegroupgap\":0},\"margin\":{\"t\":60},\"boxmode\":\"group\"},                        {\"responsive\": true}                    ).then(function(){\n",
              "                            \n",
              "var gd = document.getElementById('156cab6f-e356-4969-96c0-1f46a607bca2');\n",
              "var x = new MutationObserver(function (mutations, observer) {{\n",
              "        var display = window.getComputedStyle(gd).display;\n",
              "        if (!display || display === 'none') {{\n",
              "            console.log([gd, 'removed!']);\n",
              "            Plotly.purge(gd);\n",
              "            observer.disconnect();\n",
              "        }}\n",
              "}});\n",
              "\n",
              "// Listen for the removal of the full notebook cells\n",
              "var notebookContainer = gd.closest('#notebook-container');\n",
              "if (notebookContainer) {{\n",
              "    x.observe(notebookContainer, {childList: true});\n",
              "}}\n",
              "\n",
              "// Listen for the clearing of the current output cell\n",
              "var outputEl = gd.closest('.output');\n",
              "if (outputEl) {{\n",
              "    x.observe(outputEl, {childList: true});\n",
              "}}\n",
              "\n",
              "                        })                };                            </script>        </div>\n",
              "</body>\n",
              "</html>"
            ]
          },
          "metadata": {}
        }
      ]
    },
    {
      "cell_type": "code",
      "source": [
        "aptos.precio.describe()"
      ],
      "metadata": {
        "id": "ruDd2dPDdVNI",
        "colab": {
          "base_uri": "https://localhost:8080/"
        },
        "outputId": "a43954cb-fb5b-4f04-e69a-7eae9e86d71c"
      },
      "execution_count": 28,
      "outputs": [
        {
          "output_type": "execute_result",
          "data": {
            "text/plain": [
              "count     694.000000\n",
              "mean      317.762739\n",
              "std       247.614914\n",
              "min        25.000000\n",
              "25%       160.000000\n",
              "50%       245.000000\n",
              "75%       380.000000\n",
              "max      1700.000000\n",
              "Name: precio, dtype: float64"
            ]
          },
          "metadata": {},
          "execution_count": 28
        }
      ]
    },
    {
      "cell_type": "code",
      "source": [
        "aptos.precio[aptos.precio > 160].describe()"
      ],
      "metadata": {
        "colab": {
          "base_uri": "https://localhost:8080/"
        },
        "id": "tnvJYqgFn-qR",
        "outputId": "3e65f91b-089d-4ac6-d828-9baaac07ce94"
      },
      "execution_count": 29,
      "outputs": [
        {
          "output_type": "execute_result",
          "data": {
            "text/plain": [
              "count     518.000000\n",
              "mean      384.471701\n",
              "std       253.589892\n",
              "min       165.000000\n",
              "25%       225.000000\n",
              "50%       300.000000\n",
              "75%       438.750000\n",
              "max      1700.000000\n",
              "Name: precio, dtype: float64"
            ]
          },
          "metadata": {},
          "execution_count": 29
        }
      ]
    },
    {
      "cell_type": "markdown",
      "source": [
        "no hay atipicos por debajo de 160\n"
      ],
      "metadata": {
        "id": "ihwDVf-ZoqfB"
      }
    },
    {
      "cell_type": "code",
      "source": [
        "aptos.precio[aptos.precio < 710].describe()"
      ],
      "metadata": {
        "id": "IeybmhGqdYXl",
        "colab": {
          "base_uri": "https://localhost:8080/"
        },
        "outputId": "33439143-88f6-4e51-dea1-3a224e04e884"
      },
      "execution_count": 30,
      "outputs": [
        {
          "output_type": "execute_result",
          "data": {
            "text/plain": [
              "count    642.000000\n",
              "mean     261.296481\n",
              "std      136.088439\n",
              "min       25.000000\n",
              "25%      155.000000\n",
              "50%      230.000000\n",
              "75%      340.000000\n",
              "max      700.000000\n",
              "Name: precio, dtype: float64"
            ]
          },
          "metadata": {},
          "execution_count": 30
        }
      ]
    },
    {
      "cell_type": "code",
      "source": [
        "box = px.box(x= aptos.ubicacion, \n",
        "             y= aptos.precio,\n",
        "             points=\"all\")\n",
        "box.show()"
      ],
      "metadata": {
        "id": "8c-FHLHeofR4",
        "colab": {
          "base_uri": "https://localhost:8080/",
          "height": 542
        },
        "outputId": "0b3f5a4b-e20d-4c21-fb71-9c8f14f9bb1d"
      },
      "execution_count": 32,
      "outputs": [
        {
          "output_type": "display_data",
          "data": {
            "text/html": [
              "<html>\n",
              "<head><meta charset=\"utf-8\" /></head>\n",
              "<body>\n",
              "    <div>            <script src=\"https://cdnjs.cloudflare.com/ajax/libs/mathjax/2.7.5/MathJax.js?config=TeX-AMS-MML_SVG\"></script><script type=\"text/javascript\">if (window.MathJax) {MathJax.Hub.Config({SVG: {font: \"STIX-Web\"}});}</script>                <script type=\"text/javascript\">window.PlotlyConfig = {MathJaxConfig: 'local'};</script>\n",
              "        <script src=\"https://cdn.plot.ly/plotly-2.8.3.min.js\"></script>                <div id=\"93780763-212a-4a74-ae8c-dc79daeaad22\" class=\"plotly-graph-div\" style=\"height:525px; width:100%;\"></div>            <script type=\"text/javascript\">                                    window.PLOTLYENV=window.PLOTLYENV || {};                                    if (document.getElementById(\"93780763-212a-4a74-ae8c-dc79daeaad22\")) {                    Plotly.newPlot(                        \"93780763-212a-4a74-ae8c-dc79daeaad22\",                        [{\"alignmentgroup\":\"True\",\"boxpoints\":\"all\",\"hovertemplate\":\"x=%{x}<br>y=%{y}<extra></extra>\",\"legendgroup\":\"\",\"marker\":{\"color\":\"#636efa\"},\"name\":\"\",\"notched\":false,\"offsetgroup\":\"\",\"orientation\":\"v\",\"showlegend\":false,\"x\":[\"norte\",\"norte\",\"norte\",\"norte\",\"norte\",\"norte\",\"norte\",\"norte\",\"norte\",\"norte\",\"occidente\",\"occidente\",\"occidente\",\"occidente\",\"occidente\",\"occidente\",\"occidente\",\"occidente\",\"occidente\",\"occidente\",\"occidente\",\"occidente\",\"occidente\",\"occidente\",\"occidente\",\"occidente\",\"occidente\",\"occidente\",\"occidente\",\"occidente\",\"occidente\",\"occidente\",\"occidente\",\"occidente\",\"occidente\",\"occidente\",\"occidente\",\"occidente\",\"occidente\",\"occidente\",\"occidente\",\"occidente\",\"occidente\",\"occidente\",\"occidente\",\"occidente\",\"occidente\",\"occidente\",\"occidente\",\"occidente\",\"occidente\",\"occidente\",\"occidente\",\"occidente\",\"occidente\",\"occidente\",\"occidente\",\"occidente\",\"occidente\",\"occidente\",\"occidente\",\"occidente\",\"occidente\",\"occidente\",\"occidente\",\"occidente\",\"occidente\",\"occidente\",\"occidente\",\"occidente\",\"occidente\",\"occidente\",\"occidente\",\"occidente\",\"occidente\",\"occidente\",\"occidente\",\"occidente\",\"occidente\",\"poblado\",\"poblado\",\"poblado\",\"poblado\",\"poblado\",\"poblado\",\"poblado\",\"poblado\",\"poblado\",\"poblado\",\"poblado\",\"poblado\",\"poblado\",\"poblado\",\"poblado\",\"poblado\",\"poblado\",\"poblado\",\"poblado\",\"poblado\",\"poblado\",\"poblado\",\"poblado\",\"poblado\",\"poblado\",\"poblado\",\"poblado\",\"poblado\",\"poblado\",\"poblado\",\"poblado\",\"poblado\",\"poblado\",\"poblado\",\"poblado\",\"poblado\",\"poblado\",\"poblado\",\"poblado\",\"poblado\",\"poblado\",\"poblado\",\"poblado\",\"poblado\",\"poblado\",\"poblado\",\"poblado\",\"poblado\",\"poblado\",\"poblado\",\"poblado\",\"poblado\",\"poblado\",\"poblado\",\"poblado\",\"poblado\",\"poblado\",\"poblado\",\"poblado\",\"poblado\",\"poblado\",\"poblado\",\"poblado\",\"poblado\",\"poblado\",\"poblado\",\"poblado\",\"poblado\",\"poblado\",\"poblado\",\"poblado\",\"poblado\",\"poblado\",\"poblado\",\"poblado\",\"poblado\",\"poblado\",\"poblado\",\"poblado\",\"poblado\",\"poblado\",\"poblado\",\"poblado\",\"poblado\",\"poblado\",\"poblado\",\"poblado\",\"poblado\",\"poblado\",\"poblado\",\"poblado\",\"poblado\",\"poblado\",\"poblado\",\"poblado\",\"poblado\",\"poblado\",\"poblado\",\"poblado\",\"poblado\",\"poblado\",\"poblado\",\"poblado\",\"poblado\",\"poblado\",\"poblado\",\"poblado\",\"poblado\",\"poblado\",\"poblado\",\"poblado\",\"poblado\",\"poblado\",\"poblado\",\"poblado\",\"poblado\",\"poblado\",\"poblado\",\"poblado\",\"poblado\",\"poblado\",\"poblado\",\"poblado\",\"poblado\",\"poblado\",\"poblado\",\"poblado\",\"poblado\",\"poblado\",\"poblado\",\"poblado\",\"poblado\",\"poblado\",\"poblado\",\"poblado\",\"poblado\",\"poblado\",\"poblado\",\"poblado\",\"poblado\",\"poblado\",\"poblado\",\"poblado\",\"poblado\",\"poblado\",\"poblado\",\"poblado\",\"poblado\",\"poblado\",\"poblado\",\"poblado\",\"poblado\",\"poblado\",\"poblado\",\"poblado\",\"poblado\",\"poblado\",\"poblado\",\"poblado\",\"poblado\",\"poblado\",\"poblado\",\"poblado\",\"poblado\",\"poblado\",\"poblado\",\"poblado\",\"poblado\",\"poblado\",\"poblado\",\"poblado\",\"poblado\",\"poblado\",\"poblado\",\"poblado\",\"poblado\",\"poblado\",\"poblado\",\"poblado\",\"poblado\",\"poblado\",\"poblado\",\"poblado\",\"poblado\",\"poblado\",\"poblado\",\"poblado\",\"poblado\",\"poblado\",\"poblado\",\"poblado\",\"poblado\",\"poblado\",\"poblado\",\"poblado\",\"poblado\",\"poblado\",\"poblado\",\"poblado\",\"poblado\",\"poblado\",\"poblado\",\"poblado\",\"poblado\",\"poblado\",\"poblado\",\"poblado\",\"poblado\",\"poblado\",\"poblado\",\"poblado\",\"poblado\",\"poblado\",\"poblado\",\"poblado\",\"poblado\",\"poblado\",\"poblado\",\"poblado\",\"poblado\",\"poblado\",\"poblado\",\"poblado\",\"poblado\",\"poblado\",\"poblado\",\"poblado\",\"poblado\",\"poblado\",\"poblado\",\"poblado\",\"poblado\",\"poblado\",\"poblado\",\"poblado\",\"poblado\",\"poblado\",\"poblado\",\"poblado\",\"poblado\",\"poblado\",\"poblado\",\"poblado\",\"poblado\",\"poblado\",\"poblado\",\"poblado\",\"poblado\",\"poblado\",\"poblado\",\"poblado\",\"poblado\",\"poblado\",\"poblado\",\"poblado\",\"poblado\",\"poblado\",\"poblado\",\"poblado\",\"poblado\",\"poblado\",\"poblado\",\"poblado\",\"poblado\",\"poblado\",\"poblado\",\"poblado\",\"poblado\",\"aburra sur\",\"aburra sur\",\"aburra sur\",\"aburra sur\",\"aburra sur\",\"aburra sur\",\"aburra sur\",\"aburra sur\",\"aburra sur\",\"aburra sur\",\"aburra sur\",\"aburra sur\",\"aburra sur\",\"aburra sur\",\"aburra sur\",\"aburra sur\",\"aburra sur\",\"aburra sur\",\"aburra sur\",\"aburra sur\",\"aburra sur\",\"aburra sur\",\"aburra sur\",\"aburra sur\",\"aburra sur\",\"aburra sur\",\"aburra sur\",\"aburra sur\",\"aburra sur\",\"aburra sur\",\"aburra sur\",\"aburra sur\",\"aburra sur\",\"aburra sur\",\"aburra sur\",\"aburra sur\",\"aburra sur\",\"aburra sur\",\"aburra sur\",\"aburra sur\",\"aburra sur\",\"aburra sur\",\"aburra sur\",\"aburra sur\",\"aburra sur\",\"aburra sur\",\"aburra sur\",\"aburra sur\",\"aburra sur\",\"aburra sur\",\"aburra sur\",\"aburra sur\",\"aburra sur\",\"aburra sur\",\"aburra sur\",\"aburra sur\",\"aburra sur\",\"aburra sur\",\"aburra sur\",\"aburra sur\",\"aburra sur\",\"aburra sur\",\"aburra sur\",\"aburra sur\",\"aburra sur\",\"aburra sur\",\"aburra sur\",\"aburra sur\",\"aburra sur\",\"aburra sur\",\"aburra sur\",\"aburra sur\",\"aburra sur\",\"aburra sur\",\"aburra sur\",\"aburra sur\",\"aburra sur\",\"aburra sur\",\"aburra sur\",\"aburra sur\",\"aburra sur\",\"aburra sur\",\"aburra sur\",\"aburra sur\",\"aburra sur\",\"aburra sur\",\"aburra sur\",\"aburra sur\",\"aburra sur\",\"aburra sur\",\"aburra sur\",\"aburra sur\",\"aburra sur\",\"aburra sur\",\"aburra sur\",\"aburra sur\",\"aburra sur\",\"aburra sur\",\"aburra sur\",\"aburra sur\",\"aburra sur\",\"aburra sur\",\"aburra sur\",\"aburra sur\",\"aburra sur\",\"aburra sur\",\"aburra sur\",\"aburra sur\",\"aburra sur\",\"aburra sur\",\"aburra sur\",\"aburra sur\",\"aburra sur\",\"aburra sur\",\"aburra sur\",\"aburra sur\",\"aburra sur\",\"aburra sur\",\"aburra sur\",\"aburra sur\",\"aburra sur\",\"aburra sur\",\"aburra sur\",\"aburra sur\",\"aburra sur\",\"aburra sur\",\"aburra sur\",\"aburra sur\",\"aburra sur\",\"aburra sur\",\"aburra sur\",\"aburra sur\",\"aburra sur\",\"aburra sur\",\"aburra sur\",\"aburra sur\",\"aburra sur\",\"aburra sur\",\"aburra sur\",\"aburra sur\",\"aburra sur\",\"aburra sur\",\"aburra sur\",\"aburra sur\",\"aburra sur\",\"aburra sur\",\"aburra sur\",\"aburra sur\",\"aburra sur\",\"aburra sur\",\"aburra sur\",\"aburra sur\",\"aburra sur\",\"aburra sur\",\"aburra sur\",\"aburra sur\",\"aburra sur\",\"aburra sur\",\"aburra sur\",\"aburra sur\",\"aburra sur\",\"aburra sur\",\"aburra sur\",\"aburra sur\",\"aburra sur\",\"aburra sur\",\"aburra sur\",\"aburra sur\",\"aburra sur\",\"belen guayabal\",\"belen guayabal\",\"belen guayabal\",\"belen guayabal\",\"belen guayabal\",\"belen guayabal\",\"belen guayabal\",\"belen guayabal\",\"belen guayabal\",\"belen guayabal\",\"belen guayabal\",\"belen guayabal\",\"belen guayabal\",\"belen guayabal\",\"belen guayabal\",\"belen guayabal\",\"belen guayabal\",\"belen guayabal\",\"belen guayabal\",\"belen guayabal\",\"belen guayabal\",\"belen guayabal\",\"belen guayabal\",\"belen guayabal\",\"belen guayabal\",\"belen guayabal\",\"belen guayabal\",\"belen guayabal\",\"belen guayabal\",\"belen guayabal\",\"belen guayabal\",\"belen guayabal\",\"belen guayabal\",\"belen guayabal\",\"belen guayabal\",\"belen guayabal\",\"belen guayabal\",\"belen guayabal\",\"belen guayabal\",\"belen guayabal\",\"belen guayabal\",\"belen guayabal\",\"belen guayabal\",\"belen guayabal\",\"belen guayabal\",\"belen guayabal\",\"belen guayabal\",\"belen guayabal\",\"belen guayabal\",\"belen guayabal\",\"belen guayabal\",\"belen guayabal\",\"belen guayabal\",\"belen guayabal\",\"belen guayabal\",\"belen guayabal\",\"belen guayabal\",\"belen guayabal\",\"belen guayabal\",\"belen guayabal\",\"belen guayabal\",\"belen guayabal\",\"belen guayabal\",\"belen guayabal\",\"belen guayabal\",\"belen guayabal\",\"belen guayabal\",\"centro\",\"centro\",\"centro\",\"centro\",\"centro\",\"centro\",\"centro\",\"centro\",\"centro\",\"centro\",\"centro\",\"centro\",\"centro\",\"centro\",\"centro\",\"centro\",\"centro\",\"centro\",\"centro\",\"centro\",\"centro\",\"centro\",\"centro\",\"centro\",\"centro\",\"centro\",\"centro\",\"centro\",\"centro\",\"centro\",\"centro\",\"centro\",\"centro\",\"centro\",\"centro\",\"centro\",\"centro\",\"centro\",\"laureles\",\"laureles\",\"laureles\",\"laureles\",\"laureles\",\"laureles\",\"laureles\",\"laureles\",\"laureles\",\"laureles\",\"laureles\",\"laureles\",\"laureles\",\"laureles\",\"laureles\",\"laureles\",\"laureles\",\"laureles\",\"laureles\",\"laureles\",\"laureles\",\"laureles\",\"laureles\",\"laureles\",\"laureles\",\"laureles\",\"laureles\",\"laureles\",\"laureles\",\"laureles\",\"laureles\",\"laureles\",\"laureles\",\"laureles\",\"laureles\",\"laureles\",\"laureles\",\"laureles\",\"laureles\",\"laureles\",\"laureles\",\"laureles\",\"laureles\",\"laureles\",\"laureles\",\"laureles\",\"laureles\",\"laureles\",\"laureles\",\"laureles\",\"laureles\",\"laureles\",\"laureles\",\"laureles\",\"laureles\",\"laureles\",\"laureles\",\"laureles\",\"laureles\",\"laureles\",\"laureles\",\"laureles\",\"laureles\",\"laureles\",\"laureles\",\"laureles\",\"laureles\",\"laureles\",\"laureles\",\"laureles\",\"laureles\",\"laureles\",\"laureles\"],\"x0\":\" \",\"xaxis\":\"x\",\"y\":[79.0,93.0,100.0,123.0,135.0,140.0,145.0,160.0,160.0,175.0,47.0,53.0,70.0,70.0,72.0,75.0,80.0,90.0,90.0,90.0,90.0,90.0,95.0,105.0,110.0,115.0,115.0,120.0,121.0,128.0,130.0,130.0,140.0,140.0,143.0,145.0,145.0,145.0,148.0,150.0,152.0,155.0,155.0,160.0,160.0,170.0,180.0,180.0,185.0,190.0,190.0,190.0,190.0,190.0,190.0,195.0,198.0,200.0,200.0,200.0,200.0,210.0,210.0,210.0,210.0,210.0,215.0,220.0,220.0,220.0,230.0,245.0,245.0,250.0,250.0,260.0,270.0,270.0,320.0,235.0,140.0,155.0,160.0,165.0,166.0,170.0,170.0,170.0,185.0,185.0,190.0,195.0,205.0,210.0,210.0,220.0,220.0,225.0,228.0,230.0,230.0,230.0,235.0,235.0,235.0,238.0,240.0,240.0,250.0,250.0,250.0,260.0,260.0,260.0,260.0,260.0,260.0,260.0,270.0,276.0,280.0,280.0,285.0,290.0,290.0,290.0,290.0,290.0,290.0,295.0,295.0,295.0,300.0,300.0,300.0,300.0,300.0,300.0,305.0,310.0,310.0,310.0,312.0,315.0,320.0,320.0,320.0,320.0,320.0,325.0,325.0,330.0,330.0,330.0,330.0,335.0,335.0,340.0,340.0,340.0,340.0,340.0,345.0,350.0,350.0,350.0,350.0,350.0,350.0,350.0,350.0,355.0,355.0,360.0,360.0,360.0,360.0,360.0,360.0,360.0,370.0,370.0,370.0,375.0,375.0,378.0,380.0,380.0,380.0,380.0,380.0,380.0,380.0,380.0,380.0,389.0,390.0,390.0,390.0,390.0,390.0,390.0,399.141,400.0,400.0,400.0,400.0,400.0,400.0,400.0,410.0,410.0,410.0,420.0,420.0,420.0,420.0,425.0,428.0,430.0,430.0,430.0,430.0,435.0,435.0,435.0,440.0,440.0,440.0,440.0,440.0,440.0,445.0,445.0,448.5,450.0,460.0,460.0,460.0,460.0,460.0,460.0,460.0,460.0,465.0,465.0,465.0,470.0,470.0,480.0,480.0,480.0,480.0,480.0,480.0,480.0,480.0,481.0,483.0,485.0,490.0,495.0,498.0,500.0,500.0,510.0,520.0,540.0,550.0,550.0,560.0,570.0,570.0,580.0,588.0,595.0,600.0,600.0,600.0,600.0,620.0,620.0,630.0,650.0,650.0,650.0,650.0,650.0,650.0,680.0,680.0,680.0,690.0,690.0,695.0,700.0,710.0,720.0,720.0,730.0,735.0,745.0,750.0,750.0,750.0,790.0,790.0,800.0,800.0,830.0,850.0,850.0,850.0,860.0,865.0,875.0,880.0,890.0,900.0,900.0,900.0,900.0,920.0,950.0,950.0,980.0,980.0,990.0,995.0,1100.0,1100.0,1100.0,1100.0,1200.0,1200.0,1200.0,1300.0,1300.0,1300.0,1350.0,1350.0,1400.0,1430.0,1450.0,1450.0,1490.0,1700.0,45.0,63.0,82.0,83.0,84.0,85.0,90.0,90.0,90.0,90.0,97.0,100.0,111.0,112.0,115.0,120.0,120.0,120.0,120.0,120.0,124.0,125.0,125.0,130.0,130.0,130.0,130.0,130.0,130.0,130.0,132.0,132.0,135.0,135.0,135.0,135.0,135.0,138.0,140.0,140.0,140.0,140.0,140.0,140.0,143.0,145.0,145.0,145.0,145.0,145.0,148.0,150.0,150.0,150.0,150.0,153.0,155.0,155.0,155.0,158.0,160.0,160.0,160.0,160.0,165.0,165.0,165.0,169.7,170.0,170.0,170.0,175.0,175.0,175.0,178.0,178.0,179.0,180.0,180.0,180.0,185.0,185.0,185.0,185.0,185.0,185.0,188.0,190.0,190.0,190.0,190.0,195.0,198.0,200.0,200.0,200.0,200.0,200.0,200.0,205.0,210.0,210.0,210.0,216.0,219.0,220.0,220.0,220.0,220.0,220.0,220.0,220.0,220.0,225.0,230.0,230.0,230.0,235.0,237.0,238.0,238.0,238.0,240.0,245.0,245.0,247.0,250.0,250.0,250.0,255.0,255.0,255.0,255.0,260.0,260.0,260.0,260.0,260.0,260.0,260.0,265.0,265.0,265.0,265.0,270.0,270.0,275.0,280.0,280.0,280.0,280.0,280.0,285.0,285.0,287.0,290.0,290.0,290.0,295.0,300.0,300.0,300.0,310.0,315.0,315.0,320.0,320.0,330.0,330.0,75.0,75.0,80.0,85.0,86.0,90.0,95.0,98.0,103.0,108.0,115.0,118.0,120.0,120.0,130.0,130.0,140.0,140.0,142.0,145.0,145.0,145.0,150.0,150.0,150.0,155.0,155.0,155.0,155.0,155.0,156.0,160.0,160.0,165.0,165.0,165.0,170.0,180.0,180.0,183.0,185.0,185.0,190.0,190.0,190.0,195.0,200.0,205.0,210.0,210.0,210.0,210.0,220.0,220.0,220.0,220.0,225.0,230.0,230.0,230.0,235.0,240.0,240.0,250.0,255.0,260.0,265.0,67.0,70.0,70.0,78.0,78.0,80.0,80.0,84.0,85.0,86.0,90.0,100.0,100.0,100.0,102.0,110.0,115.0,125.0,128.0,128.0,128.0,130.0,130.0,130.0,135.0,135.0,140.0,147.0,150.0,165.0,165.0,200.0,210.0,210.0,210.0,220.0,230.0,260.0,135.0,140.0,165.0,170.0,180.0,190.0,190.0,205.0,210.0,210.0,220.0,220.0,225.0,228.0,230.0,230.0,235.0,235.0,240.0,240.0,250.0,250.0,250.0,25.0,250.0,255.0,255.0,255.0,260.0,265.0,265.0,270.0,275.0,280.0,280.0,285.0,290.0,310.0,315.0,320.0,320.0,320.0,325.0,330.0,330.0,330.0,340.0,340.0,343.0,350.0,350.0,350.0,360.0,360.0,370.0,370.0,370.0,370.0,375.0,380.0,400.0,400.0,400.0,410.0,450.0,450.0,450.0,470.0,498.0,508.0,550.0,630.0,1350.0],\"y0\":\" \",\"yaxis\":\"y\",\"type\":\"box\"}],                        {\"template\":{\"data\":{\"bar\":[{\"error_x\":{\"color\":\"#2a3f5f\"},\"error_y\":{\"color\":\"#2a3f5f\"},\"marker\":{\"line\":{\"color\":\"#E5ECF6\",\"width\":0.5},\"pattern\":{\"fillmode\":\"overlay\",\"size\":10,\"solidity\":0.2}},\"type\":\"bar\"}],\"barpolar\":[{\"marker\":{\"line\":{\"color\":\"#E5ECF6\",\"width\":0.5},\"pattern\":{\"fillmode\":\"overlay\",\"size\":10,\"solidity\":0.2}},\"type\":\"barpolar\"}],\"carpet\":[{\"aaxis\":{\"endlinecolor\":\"#2a3f5f\",\"gridcolor\":\"white\",\"linecolor\":\"white\",\"minorgridcolor\":\"white\",\"startlinecolor\":\"#2a3f5f\"},\"baxis\":{\"endlinecolor\":\"#2a3f5f\",\"gridcolor\":\"white\",\"linecolor\":\"white\",\"minorgridcolor\":\"white\",\"startlinecolor\":\"#2a3f5f\"},\"type\":\"carpet\"}],\"choropleth\":[{\"colorbar\":{\"outlinewidth\":0,\"ticks\":\"\"},\"type\":\"choropleth\"}],\"contour\":[{\"colorbar\":{\"outlinewidth\":0,\"ticks\":\"\"},\"colorscale\":[[0.0,\"#0d0887\"],[0.1111111111111111,\"#46039f\"],[0.2222222222222222,\"#7201a8\"],[0.3333333333333333,\"#9c179e\"],[0.4444444444444444,\"#bd3786\"],[0.5555555555555556,\"#d8576b\"],[0.6666666666666666,\"#ed7953\"],[0.7777777777777778,\"#fb9f3a\"],[0.8888888888888888,\"#fdca26\"],[1.0,\"#f0f921\"]],\"type\":\"contour\"}],\"contourcarpet\":[{\"colorbar\":{\"outlinewidth\":0,\"ticks\":\"\"},\"type\":\"contourcarpet\"}],\"heatmap\":[{\"colorbar\":{\"outlinewidth\":0,\"ticks\":\"\"},\"colorscale\":[[0.0,\"#0d0887\"],[0.1111111111111111,\"#46039f\"],[0.2222222222222222,\"#7201a8\"],[0.3333333333333333,\"#9c179e\"],[0.4444444444444444,\"#bd3786\"],[0.5555555555555556,\"#d8576b\"],[0.6666666666666666,\"#ed7953\"],[0.7777777777777778,\"#fb9f3a\"],[0.8888888888888888,\"#fdca26\"],[1.0,\"#f0f921\"]],\"type\":\"heatmap\"}],\"heatmapgl\":[{\"colorbar\":{\"outlinewidth\":0,\"ticks\":\"\"},\"colorscale\":[[0.0,\"#0d0887\"],[0.1111111111111111,\"#46039f\"],[0.2222222222222222,\"#7201a8\"],[0.3333333333333333,\"#9c179e\"],[0.4444444444444444,\"#bd3786\"],[0.5555555555555556,\"#d8576b\"],[0.6666666666666666,\"#ed7953\"],[0.7777777777777778,\"#fb9f3a\"],[0.8888888888888888,\"#fdca26\"],[1.0,\"#f0f921\"]],\"type\":\"heatmapgl\"}],\"histogram\":[{\"marker\":{\"pattern\":{\"fillmode\":\"overlay\",\"size\":10,\"solidity\":0.2}},\"type\":\"histogram\"}],\"histogram2d\":[{\"colorbar\":{\"outlinewidth\":0,\"ticks\":\"\"},\"colorscale\":[[0.0,\"#0d0887\"],[0.1111111111111111,\"#46039f\"],[0.2222222222222222,\"#7201a8\"],[0.3333333333333333,\"#9c179e\"],[0.4444444444444444,\"#bd3786\"],[0.5555555555555556,\"#d8576b\"],[0.6666666666666666,\"#ed7953\"],[0.7777777777777778,\"#fb9f3a\"],[0.8888888888888888,\"#fdca26\"],[1.0,\"#f0f921\"]],\"type\":\"histogram2d\"}],\"histogram2dcontour\":[{\"colorbar\":{\"outlinewidth\":0,\"ticks\":\"\"},\"colorscale\":[[0.0,\"#0d0887\"],[0.1111111111111111,\"#46039f\"],[0.2222222222222222,\"#7201a8\"],[0.3333333333333333,\"#9c179e\"],[0.4444444444444444,\"#bd3786\"],[0.5555555555555556,\"#d8576b\"],[0.6666666666666666,\"#ed7953\"],[0.7777777777777778,\"#fb9f3a\"],[0.8888888888888888,\"#fdca26\"],[1.0,\"#f0f921\"]],\"type\":\"histogram2dcontour\"}],\"mesh3d\":[{\"colorbar\":{\"outlinewidth\":0,\"ticks\":\"\"},\"type\":\"mesh3d\"}],\"parcoords\":[{\"line\":{\"colorbar\":{\"outlinewidth\":0,\"ticks\":\"\"}},\"type\":\"parcoords\"}],\"pie\":[{\"automargin\":true,\"type\":\"pie\"}],\"scatter\":[{\"marker\":{\"colorbar\":{\"outlinewidth\":0,\"ticks\":\"\"}},\"type\":\"scatter\"}],\"scatter3d\":[{\"line\":{\"colorbar\":{\"outlinewidth\":0,\"ticks\":\"\"}},\"marker\":{\"colorbar\":{\"outlinewidth\":0,\"ticks\":\"\"}},\"type\":\"scatter3d\"}],\"scattercarpet\":[{\"marker\":{\"colorbar\":{\"outlinewidth\":0,\"ticks\":\"\"}},\"type\":\"scattercarpet\"}],\"scattergeo\":[{\"marker\":{\"colorbar\":{\"outlinewidth\":0,\"ticks\":\"\"}},\"type\":\"scattergeo\"}],\"scattergl\":[{\"marker\":{\"colorbar\":{\"outlinewidth\":0,\"ticks\":\"\"}},\"type\":\"scattergl\"}],\"scattermapbox\":[{\"marker\":{\"colorbar\":{\"outlinewidth\":0,\"ticks\":\"\"}},\"type\":\"scattermapbox\"}],\"scatterpolar\":[{\"marker\":{\"colorbar\":{\"outlinewidth\":0,\"ticks\":\"\"}},\"type\":\"scatterpolar\"}],\"scatterpolargl\":[{\"marker\":{\"colorbar\":{\"outlinewidth\":0,\"ticks\":\"\"}},\"type\":\"scatterpolargl\"}],\"scatterternary\":[{\"marker\":{\"colorbar\":{\"outlinewidth\":0,\"ticks\":\"\"}},\"type\":\"scatterternary\"}],\"surface\":[{\"colorbar\":{\"outlinewidth\":0,\"ticks\":\"\"},\"colorscale\":[[0.0,\"#0d0887\"],[0.1111111111111111,\"#46039f\"],[0.2222222222222222,\"#7201a8\"],[0.3333333333333333,\"#9c179e\"],[0.4444444444444444,\"#bd3786\"],[0.5555555555555556,\"#d8576b\"],[0.6666666666666666,\"#ed7953\"],[0.7777777777777778,\"#fb9f3a\"],[0.8888888888888888,\"#fdca26\"],[1.0,\"#f0f921\"]],\"type\":\"surface\"}],\"table\":[{\"cells\":{\"fill\":{\"color\":\"#EBF0F8\"},\"line\":{\"color\":\"white\"}},\"header\":{\"fill\":{\"color\":\"#C8D4E3\"},\"line\":{\"color\":\"white\"}},\"type\":\"table\"}]},\"layout\":{\"annotationdefaults\":{\"arrowcolor\":\"#2a3f5f\",\"arrowhead\":0,\"arrowwidth\":1},\"autotypenumbers\":\"strict\",\"coloraxis\":{\"colorbar\":{\"outlinewidth\":0,\"ticks\":\"\"}},\"colorscale\":{\"diverging\":[[0,\"#8e0152\"],[0.1,\"#c51b7d\"],[0.2,\"#de77ae\"],[0.3,\"#f1b6da\"],[0.4,\"#fde0ef\"],[0.5,\"#f7f7f7\"],[0.6,\"#e6f5d0\"],[0.7,\"#b8e186\"],[0.8,\"#7fbc41\"],[0.9,\"#4d9221\"],[1,\"#276419\"]],\"sequential\":[[0.0,\"#0d0887\"],[0.1111111111111111,\"#46039f\"],[0.2222222222222222,\"#7201a8\"],[0.3333333333333333,\"#9c179e\"],[0.4444444444444444,\"#bd3786\"],[0.5555555555555556,\"#d8576b\"],[0.6666666666666666,\"#ed7953\"],[0.7777777777777778,\"#fb9f3a\"],[0.8888888888888888,\"#fdca26\"],[1.0,\"#f0f921\"]],\"sequentialminus\":[[0.0,\"#0d0887\"],[0.1111111111111111,\"#46039f\"],[0.2222222222222222,\"#7201a8\"],[0.3333333333333333,\"#9c179e\"],[0.4444444444444444,\"#bd3786\"],[0.5555555555555556,\"#d8576b\"],[0.6666666666666666,\"#ed7953\"],[0.7777777777777778,\"#fb9f3a\"],[0.8888888888888888,\"#fdca26\"],[1.0,\"#f0f921\"]]},\"colorway\":[\"#636efa\",\"#EF553B\",\"#00cc96\",\"#ab63fa\",\"#FFA15A\",\"#19d3f3\",\"#FF6692\",\"#B6E880\",\"#FF97FF\",\"#FECB52\"],\"font\":{\"color\":\"#2a3f5f\"},\"geo\":{\"bgcolor\":\"white\",\"lakecolor\":\"white\",\"landcolor\":\"#E5ECF6\",\"showlakes\":true,\"showland\":true,\"subunitcolor\":\"white\"},\"hoverlabel\":{\"align\":\"left\"},\"hovermode\":\"closest\",\"mapbox\":{\"style\":\"light\"},\"paper_bgcolor\":\"white\",\"plot_bgcolor\":\"#E5ECF6\",\"polar\":{\"angularaxis\":{\"gridcolor\":\"white\",\"linecolor\":\"white\",\"ticks\":\"\"},\"bgcolor\":\"#E5ECF6\",\"radialaxis\":{\"gridcolor\":\"white\",\"linecolor\":\"white\",\"ticks\":\"\"}},\"scene\":{\"xaxis\":{\"backgroundcolor\":\"#E5ECF6\",\"gridcolor\":\"white\",\"gridwidth\":2,\"linecolor\":\"white\",\"showbackground\":true,\"ticks\":\"\",\"zerolinecolor\":\"white\"},\"yaxis\":{\"backgroundcolor\":\"#E5ECF6\",\"gridcolor\":\"white\",\"gridwidth\":2,\"linecolor\":\"white\",\"showbackground\":true,\"ticks\":\"\",\"zerolinecolor\":\"white\"},\"zaxis\":{\"backgroundcolor\":\"#E5ECF6\",\"gridcolor\":\"white\",\"gridwidth\":2,\"linecolor\":\"white\",\"showbackground\":true,\"ticks\":\"\",\"zerolinecolor\":\"white\"}},\"shapedefaults\":{\"line\":{\"color\":\"#2a3f5f\"}},\"ternary\":{\"aaxis\":{\"gridcolor\":\"white\",\"linecolor\":\"white\",\"ticks\":\"\"},\"baxis\":{\"gridcolor\":\"white\",\"linecolor\":\"white\",\"ticks\":\"\"},\"bgcolor\":\"#E5ECF6\",\"caxis\":{\"gridcolor\":\"white\",\"linecolor\":\"white\",\"ticks\":\"\"}},\"title\":{\"x\":0.05},\"xaxis\":{\"automargin\":true,\"gridcolor\":\"white\",\"linecolor\":\"white\",\"ticks\":\"\",\"title\":{\"standoff\":15},\"zerolinecolor\":\"white\",\"zerolinewidth\":2},\"yaxis\":{\"automargin\":true,\"gridcolor\":\"white\",\"linecolor\":\"white\",\"ticks\":\"\",\"title\":{\"standoff\":15},\"zerolinecolor\":\"white\",\"zerolinewidth\":2}}},\"xaxis\":{\"anchor\":\"y\",\"domain\":[0.0,1.0],\"title\":{\"text\":\"x\"}},\"yaxis\":{\"anchor\":\"x\",\"domain\":[0.0,1.0],\"title\":{\"text\":\"y\"}},\"legend\":{\"tracegroupgap\":0},\"margin\":{\"t\":60},\"boxmode\":\"group\"},                        {\"responsive\": true}                    ).then(function(){\n",
              "                            \n",
              "var gd = document.getElementById('93780763-212a-4a74-ae8c-dc79daeaad22');\n",
              "var x = new MutationObserver(function (mutations, observer) {{\n",
              "        var display = window.getComputedStyle(gd).display;\n",
              "        if (!display || display === 'none') {{\n",
              "            console.log([gd, 'removed!']);\n",
              "            Plotly.purge(gd);\n",
              "            observer.disconnect();\n",
              "        }}\n",
              "}});\n",
              "\n",
              "// Listen for the removal of the full notebook cells\n",
              "var notebookContainer = gd.closest('#notebook-container');\n",
              "if (notebookContainer) {{\n",
              "    x.observe(notebookContainer, {childList: true});\n",
              "}}\n",
              "\n",
              "// Listen for the clearing of the current output cell\n",
              "var outputEl = gd.closest('.output');\n",
              "if (outputEl) {{\n",
              "    x.observe(outputEl, {childList: true});\n",
              "}}\n",
              "\n",
              "                        })                };                            </script>        </div>\n",
              "</body>\n",
              "</html>"
            ]
          },
          "metadata": {}
        }
      ]
    },
    {
      "cell_type": "code",
      "source": [
        "#box = px.box(x= aptos.ubicacion, \n",
        "            # y= aptos.precio,\n",
        "            # points=\"na\")\n",
        "#box.show()"
      ],
      "metadata": {
        "id": "QjvaqBiQqM_C"
      },
      "execution_count": 34,
      "outputs": []
    },
    {
      "cell_type": "code",
      "source": [
        "box = px.box(x= aptos.ubicacion, \n",
        "             y= aptos.precio)\n",
        "box.show()"
      ],
      "metadata": {
        "colab": {
          "base_uri": "https://localhost:8080/",
          "height": 542
        },
        "id": "qFZqCxxlp-X7",
        "outputId": "87522c24-804f-434e-f70f-fbf29c134c65"
      },
      "execution_count": 31,
      "outputs": [
        {
          "output_type": "display_data",
          "data": {
            "text/html": [
              "<html>\n",
              "<head><meta charset=\"utf-8\" /></head>\n",
              "<body>\n",
              "    <div>            <script src=\"https://cdnjs.cloudflare.com/ajax/libs/mathjax/2.7.5/MathJax.js?config=TeX-AMS-MML_SVG\"></script><script type=\"text/javascript\">if (window.MathJax) {MathJax.Hub.Config({SVG: {font: \"STIX-Web\"}});}</script>                <script type=\"text/javascript\">window.PlotlyConfig = {MathJaxConfig: 'local'};</script>\n",
              "        <script src=\"https://cdn.plot.ly/plotly-2.8.3.min.js\"></script>                <div id=\"60d2658c-23c5-4275-9219-b83c6f97130c\" class=\"plotly-graph-div\" style=\"height:525px; width:100%;\"></div>            <script type=\"text/javascript\">                                    window.PLOTLYENV=window.PLOTLYENV || {};                                    if (document.getElementById(\"60d2658c-23c5-4275-9219-b83c6f97130c\")) {                    Plotly.newPlot(                        \"60d2658c-23c5-4275-9219-b83c6f97130c\",                        [{\"alignmentgroup\":\"True\",\"hovertemplate\":\"x=%{x}<br>y=%{y}<extra></extra>\",\"legendgroup\":\"\",\"marker\":{\"color\":\"#636efa\"},\"name\":\"\",\"notched\":false,\"offsetgroup\":\"\",\"orientation\":\"v\",\"showlegend\":false,\"x\":[\"norte\",\"norte\",\"norte\",\"norte\",\"norte\",\"norte\",\"norte\",\"norte\",\"norte\",\"norte\",\"occidente\",\"occidente\",\"occidente\",\"occidente\",\"occidente\",\"occidente\",\"occidente\",\"occidente\",\"occidente\",\"occidente\",\"occidente\",\"occidente\",\"occidente\",\"occidente\",\"occidente\",\"occidente\",\"occidente\",\"occidente\",\"occidente\",\"occidente\",\"occidente\",\"occidente\",\"occidente\",\"occidente\",\"occidente\",\"occidente\",\"occidente\",\"occidente\",\"occidente\",\"occidente\",\"occidente\",\"occidente\",\"occidente\",\"occidente\",\"occidente\",\"occidente\",\"occidente\",\"occidente\",\"occidente\",\"occidente\",\"occidente\",\"occidente\",\"occidente\",\"occidente\",\"occidente\",\"occidente\",\"occidente\",\"occidente\",\"occidente\",\"occidente\",\"occidente\",\"occidente\",\"occidente\",\"occidente\",\"occidente\",\"occidente\",\"occidente\",\"occidente\",\"occidente\",\"occidente\",\"occidente\",\"occidente\",\"occidente\",\"occidente\",\"occidente\",\"occidente\",\"occidente\",\"occidente\",\"occidente\",\"poblado\",\"poblado\",\"poblado\",\"poblado\",\"poblado\",\"poblado\",\"poblado\",\"poblado\",\"poblado\",\"poblado\",\"poblado\",\"poblado\",\"poblado\",\"poblado\",\"poblado\",\"poblado\",\"poblado\",\"poblado\",\"poblado\",\"poblado\",\"poblado\",\"poblado\",\"poblado\",\"poblado\",\"poblado\",\"poblado\",\"poblado\",\"poblado\",\"poblado\",\"poblado\",\"poblado\",\"poblado\",\"poblado\",\"poblado\",\"poblado\",\"poblado\",\"poblado\",\"poblado\",\"poblado\",\"poblado\",\"poblado\",\"poblado\",\"poblado\",\"poblado\",\"poblado\",\"poblado\",\"poblado\",\"poblado\",\"poblado\",\"poblado\",\"poblado\",\"poblado\",\"poblado\",\"poblado\",\"poblado\",\"poblado\",\"poblado\",\"poblado\",\"poblado\",\"poblado\",\"poblado\",\"poblado\",\"poblado\",\"poblado\",\"poblado\",\"poblado\",\"poblado\",\"poblado\",\"poblado\",\"poblado\",\"poblado\",\"poblado\",\"poblado\",\"poblado\",\"poblado\",\"poblado\",\"poblado\",\"poblado\",\"poblado\",\"poblado\",\"poblado\",\"poblado\",\"poblado\",\"poblado\",\"poblado\",\"poblado\",\"poblado\",\"poblado\",\"poblado\",\"poblado\",\"poblado\",\"poblado\",\"poblado\",\"poblado\",\"poblado\",\"poblado\",\"poblado\",\"poblado\",\"poblado\",\"poblado\",\"poblado\",\"poblado\",\"poblado\",\"poblado\",\"poblado\",\"poblado\",\"poblado\",\"poblado\",\"poblado\",\"poblado\",\"poblado\",\"poblado\",\"poblado\",\"poblado\",\"poblado\",\"poblado\",\"poblado\",\"poblado\",\"poblado\",\"poblado\",\"poblado\",\"poblado\",\"poblado\",\"poblado\",\"poblado\",\"poblado\",\"poblado\",\"poblado\",\"poblado\",\"poblado\",\"poblado\",\"poblado\",\"poblado\",\"poblado\",\"poblado\",\"poblado\",\"poblado\",\"poblado\",\"poblado\",\"poblado\",\"poblado\",\"poblado\",\"poblado\",\"poblado\",\"poblado\",\"poblado\",\"poblado\",\"poblado\",\"poblado\",\"poblado\",\"poblado\",\"poblado\",\"poblado\",\"poblado\",\"poblado\",\"poblado\",\"poblado\",\"poblado\",\"poblado\",\"poblado\",\"poblado\",\"poblado\",\"poblado\",\"poblado\",\"poblado\",\"poblado\",\"poblado\",\"poblado\",\"poblado\",\"poblado\",\"poblado\",\"poblado\",\"poblado\",\"poblado\",\"poblado\",\"poblado\",\"poblado\",\"poblado\",\"poblado\",\"poblado\",\"poblado\",\"poblado\",\"poblado\",\"poblado\",\"poblado\",\"poblado\",\"poblado\",\"poblado\",\"poblado\",\"poblado\",\"poblado\",\"poblado\",\"poblado\",\"poblado\",\"poblado\",\"poblado\",\"poblado\",\"poblado\",\"poblado\",\"poblado\",\"poblado\",\"poblado\",\"poblado\",\"poblado\",\"poblado\",\"poblado\",\"poblado\",\"poblado\",\"poblado\",\"poblado\",\"poblado\",\"poblado\",\"poblado\",\"poblado\",\"poblado\",\"poblado\",\"poblado\",\"poblado\",\"poblado\",\"poblado\",\"poblado\",\"poblado\",\"poblado\",\"poblado\",\"poblado\",\"poblado\",\"poblado\",\"poblado\",\"poblado\",\"poblado\",\"poblado\",\"poblado\",\"poblado\",\"poblado\",\"poblado\",\"poblado\",\"poblado\",\"poblado\",\"poblado\",\"poblado\",\"poblado\",\"poblado\",\"poblado\",\"poblado\",\"poblado\",\"poblado\",\"poblado\",\"poblado\",\"poblado\",\"poblado\",\"poblado\",\"poblado\",\"poblado\",\"poblado\",\"poblado\",\"poblado\",\"poblado\",\"poblado\",\"poblado\",\"poblado\",\"poblado\",\"poblado\",\"poblado\",\"poblado\",\"poblado\",\"poblado\",\"poblado\",\"poblado\",\"aburra sur\",\"aburra sur\",\"aburra sur\",\"aburra sur\",\"aburra sur\",\"aburra sur\",\"aburra sur\",\"aburra sur\",\"aburra sur\",\"aburra sur\",\"aburra sur\",\"aburra sur\",\"aburra sur\",\"aburra sur\",\"aburra sur\",\"aburra sur\",\"aburra sur\",\"aburra sur\",\"aburra sur\",\"aburra sur\",\"aburra sur\",\"aburra sur\",\"aburra sur\",\"aburra sur\",\"aburra sur\",\"aburra sur\",\"aburra sur\",\"aburra sur\",\"aburra sur\",\"aburra sur\",\"aburra sur\",\"aburra sur\",\"aburra sur\",\"aburra sur\",\"aburra sur\",\"aburra sur\",\"aburra sur\",\"aburra sur\",\"aburra sur\",\"aburra sur\",\"aburra sur\",\"aburra sur\",\"aburra sur\",\"aburra sur\",\"aburra sur\",\"aburra sur\",\"aburra sur\",\"aburra sur\",\"aburra sur\",\"aburra sur\",\"aburra sur\",\"aburra sur\",\"aburra sur\",\"aburra sur\",\"aburra sur\",\"aburra sur\",\"aburra sur\",\"aburra sur\",\"aburra sur\",\"aburra sur\",\"aburra sur\",\"aburra sur\",\"aburra sur\",\"aburra sur\",\"aburra sur\",\"aburra sur\",\"aburra sur\",\"aburra sur\",\"aburra sur\",\"aburra sur\",\"aburra sur\",\"aburra sur\",\"aburra sur\",\"aburra sur\",\"aburra sur\",\"aburra sur\",\"aburra sur\",\"aburra sur\",\"aburra sur\",\"aburra sur\",\"aburra sur\",\"aburra sur\",\"aburra sur\",\"aburra sur\",\"aburra sur\",\"aburra sur\",\"aburra sur\",\"aburra sur\",\"aburra sur\",\"aburra sur\",\"aburra sur\",\"aburra sur\",\"aburra sur\",\"aburra sur\",\"aburra sur\",\"aburra sur\",\"aburra sur\",\"aburra sur\",\"aburra sur\",\"aburra sur\",\"aburra sur\",\"aburra sur\",\"aburra sur\",\"aburra sur\",\"aburra sur\",\"aburra sur\",\"aburra sur\",\"aburra sur\",\"aburra sur\",\"aburra sur\",\"aburra sur\",\"aburra sur\",\"aburra sur\",\"aburra sur\",\"aburra sur\",\"aburra sur\",\"aburra sur\",\"aburra sur\",\"aburra sur\",\"aburra sur\",\"aburra sur\",\"aburra sur\",\"aburra sur\",\"aburra sur\",\"aburra sur\",\"aburra sur\",\"aburra sur\",\"aburra sur\",\"aburra sur\",\"aburra sur\",\"aburra sur\",\"aburra sur\",\"aburra sur\",\"aburra sur\",\"aburra sur\",\"aburra sur\",\"aburra sur\",\"aburra sur\",\"aburra sur\",\"aburra sur\",\"aburra sur\",\"aburra sur\",\"aburra sur\",\"aburra sur\",\"aburra sur\",\"aburra sur\",\"aburra sur\",\"aburra sur\",\"aburra sur\",\"aburra sur\",\"aburra sur\",\"aburra sur\",\"aburra sur\",\"aburra sur\",\"aburra sur\",\"aburra sur\",\"aburra sur\",\"aburra sur\",\"aburra sur\",\"aburra sur\",\"aburra sur\",\"aburra sur\",\"aburra sur\",\"aburra sur\",\"aburra sur\",\"aburra sur\",\"aburra sur\",\"aburra sur\",\"aburra sur\",\"belen guayabal\",\"belen guayabal\",\"belen guayabal\",\"belen guayabal\",\"belen guayabal\",\"belen guayabal\",\"belen guayabal\",\"belen guayabal\",\"belen guayabal\",\"belen guayabal\",\"belen guayabal\",\"belen guayabal\",\"belen guayabal\",\"belen guayabal\",\"belen guayabal\",\"belen guayabal\",\"belen guayabal\",\"belen guayabal\",\"belen guayabal\",\"belen guayabal\",\"belen guayabal\",\"belen guayabal\",\"belen guayabal\",\"belen guayabal\",\"belen guayabal\",\"belen guayabal\",\"belen guayabal\",\"belen guayabal\",\"belen guayabal\",\"belen guayabal\",\"belen guayabal\",\"belen guayabal\",\"belen guayabal\",\"belen guayabal\",\"belen guayabal\",\"belen guayabal\",\"belen guayabal\",\"belen guayabal\",\"belen guayabal\",\"belen guayabal\",\"belen guayabal\",\"belen guayabal\",\"belen guayabal\",\"belen guayabal\",\"belen guayabal\",\"belen guayabal\",\"belen guayabal\",\"belen guayabal\",\"belen guayabal\",\"belen guayabal\",\"belen guayabal\",\"belen guayabal\",\"belen guayabal\",\"belen guayabal\",\"belen guayabal\",\"belen guayabal\",\"belen guayabal\",\"belen guayabal\",\"belen guayabal\",\"belen guayabal\",\"belen guayabal\",\"belen guayabal\",\"belen guayabal\",\"belen guayabal\",\"belen guayabal\",\"belen guayabal\",\"belen guayabal\",\"centro\",\"centro\",\"centro\",\"centro\",\"centro\",\"centro\",\"centro\",\"centro\",\"centro\",\"centro\",\"centro\",\"centro\",\"centro\",\"centro\",\"centro\",\"centro\",\"centro\",\"centro\",\"centro\",\"centro\",\"centro\",\"centro\",\"centro\",\"centro\",\"centro\",\"centro\",\"centro\",\"centro\",\"centro\",\"centro\",\"centro\",\"centro\",\"centro\",\"centro\",\"centro\",\"centro\",\"centro\",\"centro\",\"laureles\",\"laureles\",\"laureles\",\"laureles\",\"laureles\",\"laureles\",\"laureles\",\"laureles\",\"laureles\",\"laureles\",\"laureles\",\"laureles\",\"laureles\",\"laureles\",\"laureles\",\"laureles\",\"laureles\",\"laureles\",\"laureles\",\"laureles\",\"laureles\",\"laureles\",\"laureles\",\"laureles\",\"laureles\",\"laureles\",\"laureles\",\"laureles\",\"laureles\",\"laureles\",\"laureles\",\"laureles\",\"laureles\",\"laureles\",\"laureles\",\"laureles\",\"laureles\",\"laureles\",\"laureles\",\"laureles\",\"laureles\",\"laureles\",\"laureles\",\"laureles\",\"laureles\",\"laureles\",\"laureles\",\"laureles\",\"laureles\",\"laureles\",\"laureles\",\"laureles\",\"laureles\",\"laureles\",\"laureles\",\"laureles\",\"laureles\",\"laureles\",\"laureles\",\"laureles\",\"laureles\",\"laureles\",\"laureles\",\"laureles\",\"laureles\",\"laureles\",\"laureles\",\"laureles\",\"laureles\",\"laureles\",\"laureles\",\"laureles\",\"laureles\"],\"x0\":\" \",\"xaxis\":\"x\",\"y\":[79.0,93.0,100.0,123.0,135.0,140.0,145.0,160.0,160.0,175.0,47.0,53.0,70.0,70.0,72.0,75.0,80.0,90.0,90.0,90.0,90.0,90.0,95.0,105.0,110.0,115.0,115.0,120.0,121.0,128.0,130.0,130.0,140.0,140.0,143.0,145.0,145.0,145.0,148.0,150.0,152.0,155.0,155.0,160.0,160.0,170.0,180.0,180.0,185.0,190.0,190.0,190.0,190.0,190.0,190.0,195.0,198.0,200.0,200.0,200.0,200.0,210.0,210.0,210.0,210.0,210.0,215.0,220.0,220.0,220.0,230.0,245.0,245.0,250.0,250.0,260.0,270.0,270.0,320.0,235.0,140.0,155.0,160.0,165.0,166.0,170.0,170.0,170.0,185.0,185.0,190.0,195.0,205.0,210.0,210.0,220.0,220.0,225.0,228.0,230.0,230.0,230.0,235.0,235.0,235.0,238.0,240.0,240.0,250.0,250.0,250.0,260.0,260.0,260.0,260.0,260.0,260.0,260.0,270.0,276.0,280.0,280.0,285.0,290.0,290.0,290.0,290.0,290.0,290.0,295.0,295.0,295.0,300.0,300.0,300.0,300.0,300.0,300.0,305.0,310.0,310.0,310.0,312.0,315.0,320.0,320.0,320.0,320.0,320.0,325.0,325.0,330.0,330.0,330.0,330.0,335.0,335.0,340.0,340.0,340.0,340.0,340.0,345.0,350.0,350.0,350.0,350.0,350.0,350.0,350.0,350.0,355.0,355.0,360.0,360.0,360.0,360.0,360.0,360.0,360.0,370.0,370.0,370.0,375.0,375.0,378.0,380.0,380.0,380.0,380.0,380.0,380.0,380.0,380.0,380.0,389.0,390.0,390.0,390.0,390.0,390.0,390.0,399.141,400.0,400.0,400.0,400.0,400.0,400.0,400.0,410.0,410.0,410.0,420.0,420.0,420.0,420.0,425.0,428.0,430.0,430.0,430.0,430.0,435.0,435.0,435.0,440.0,440.0,440.0,440.0,440.0,440.0,445.0,445.0,448.5,450.0,460.0,460.0,460.0,460.0,460.0,460.0,460.0,460.0,465.0,465.0,465.0,470.0,470.0,480.0,480.0,480.0,480.0,480.0,480.0,480.0,480.0,481.0,483.0,485.0,490.0,495.0,498.0,500.0,500.0,510.0,520.0,540.0,550.0,550.0,560.0,570.0,570.0,580.0,588.0,595.0,600.0,600.0,600.0,600.0,620.0,620.0,630.0,650.0,650.0,650.0,650.0,650.0,650.0,680.0,680.0,680.0,690.0,690.0,695.0,700.0,710.0,720.0,720.0,730.0,735.0,745.0,750.0,750.0,750.0,790.0,790.0,800.0,800.0,830.0,850.0,850.0,850.0,860.0,865.0,875.0,880.0,890.0,900.0,900.0,900.0,900.0,920.0,950.0,950.0,980.0,980.0,990.0,995.0,1100.0,1100.0,1100.0,1100.0,1200.0,1200.0,1200.0,1300.0,1300.0,1300.0,1350.0,1350.0,1400.0,1430.0,1450.0,1450.0,1490.0,1700.0,45.0,63.0,82.0,83.0,84.0,85.0,90.0,90.0,90.0,90.0,97.0,100.0,111.0,112.0,115.0,120.0,120.0,120.0,120.0,120.0,124.0,125.0,125.0,130.0,130.0,130.0,130.0,130.0,130.0,130.0,132.0,132.0,135.0,135.0,135.0,135.0,135.0,138.0,140.0,140.0,140.0,140.0,140.0,140.0,143.0,145.0,145.0,145.0,145.0,145.0,148.0,150.0,150.0,150.0,150.0,153.0,155.0,155.0,155.0,158.0,160.0,160.0,160.0,160.0,165.0,165.0,165.0,169.7,170.0,170.0,170.0,175.0,175.0,175.0,178.0,178.0,179.0,180.0,180.0,180.0,185.0,185.0,185.0,185.0,185.0,185.0,188.0,190.0,190.0,190.0,190.0,195.0,198.0,200.0,200.0,200.0,200.0,200.0,200.0,205.0,210.0,210.0,210.0,216.0,219.0,220.0,220.0,220.0,220.0,220.0,220.0,220.0,220.0,225.0,230.0,230.0,230.0,235.0,237.0,238.0,238.0,238.0,240.0,245.0,245.0,247.0,250.0,250.0,250.0,255.0,255.0,255.0,255.0,260.0,260.0,260.0,260.0,260.0,260.0,260.0,265.0,265.0,265.0,265.0,270.0,270.0,275.0,280.0,280.0,280.0,280.0,280.0,285.0,285.0,287.0,290.0,290.0,290.0,295.0,300.0,300.0,300.0,310.0,315.0,315.0,320.0,320.0,330.0,330.0,75.0,75.0,80.0,85.0,86.0,90.0,95.0,98.0,103.0,108.0,115.0,118.0,120.0,120.0,130.0,130.0,140.0,140.0,142.0,145.0,145.0,145.0,150.0,150.0,150.0,155.0,155.0,155.0,155.0,155.0,156.0,160.0,160.0,165.0,165.0,165.0,170.0,180.0,180.0,183.0,185.0,185.0,190.0,190.0,190.0,195.0,200.0,205.0,210.0,210.0,210.0,210.0,220.0,220.0,220.0,220.0,225.0,230.0,230.0,230.0,235.0,240.0,240.0,250.0,255.0,260.0,265.0,67.0,70.0,70.0,78.0,78.0,80.0,80.0,84.0,85.0,86.0,90.0,100.0,100.0,100.0,102.0,110.0,115.0,125.0,128.0,128.0,128.0,130.0,130.0,130.0,135.0,135.0,140.0,147.0,150.0,165.0,165.0,200.0,210.0,210.0,210.0,220.0,230.0,260.0,135.0,140.0,165.0,170.0,180.0,190.0,190.0,205.0,210.0,210.0,220.0,220.0,225.0,228.0,230.0,230.0,235.0,235.0,240.0,240.0,250.0,250.0,250.0,25.0,250.0,255.0,255.0,255.0,260.0,265.0,265.0,270.0,275.0,280.0,280.0,285.0,290.0,310.0,315.0,320.0,320.0,320.0,325.0,330.0,330.0,330.0,340.0,340.0,343.0,350.0,350.0,350.0,360.0,360.0,370.0,370.0,370.0,370.0,375.0,380.0,400.0,400.0,400.0,410.0,450.0,450.0,450.0,470.0,498.0,508.0,550.0,630.0,1350.0],\"y0\":\" \",\"yaxis\":\"y\",\"type\":\"box\"}],                        {\"template\":{\"data\":{\"bar\":[{\"error_x\":{\"color\":\"#2a3f5f\"},\"error_y\":{\"color\":\"#2a3f5f\"},\"marker\":{\"line\":{\"color\":\"#E5ECF6\",\"width\":0.5},\"pattern\":{\"fillmode\":\"overlay\",\"size\":10,\"solidity\":0.2}},\"type\":\"bar\"}],\"barpolar\":[{\"marker\":{\"line\":{\"color\":\"#E5ECF6\",\"width\":0.5},\"pattern\":{\"fillmode\":\"overlay\",\"size\":10,\"solidity\":0.2}},\"type\":\"barpolar\"}],\"carpet\":[{\"aaxis\":{\"endlinecolor\":\"#2a3f5f\",\"gridcolor\":\"white\",\"linecolor\":\"white\",\"minorgridcolor\":\"white\",\"startlinecolor\":\"#2a3f5f\"},\"baxis\":{\"endlinecolor\":\"#2a3f5f\",\"gridcolor\":\"white\",\"linecolor\":\"white\",\"minorgridcolor\":\"white\",\"startlinecolor\":\"#2a3f5f\"},\"type\":\"carpet\"}],\"choropleth\":[{\"colorbar\":{\"outlinewidth\":0,\"ticks\":\"\"},\"type\":\"choropleth\"}],\"contour\":[{\"colorbar\":{\"outlinewidth\":0,\"ticks\":\"\"},\"colorscale\":[[0.0,\"#0d0887\"],[0.1111111111111111,\"#46039f\"],[0.2222222222222222,\"#7201a8\"],[0.3333333333333333,\"#9c179e\"],[0.4444444444444444,\"#bd3786\"],[0.5555555555555556,\"#d8576b\"],[0.6666666666666666,\"#ed7953\"],[0.7777777777777778,\"#fb9f3a\"],[0.8888888888888888,\"#fdca26\"],[1.0,\"#f0f921\"]],\"type\":\"contour\"}],\"contourcarpet\":[{\"colorbar\":{\"outlinewidth\":0,\"ticks\":\"\"},\"type\":\"contourcarpet\"}],\"heatmap\":[{\"colorbar\":{\"outlinewidth\":0,\"ticks\":\"\"},\"colorscale\":[[0.0,\"#0d0887\"],[0.1111111111111111,\"#46039f\"],[0.2222222222222222,\"#7201a8\"],[0.3333333333333333,\"#9c179e\"],[0.4444444444444444,\"#bd3786\"],[0.5555555555555556,\"#d8576b\"],[0.6666666666666666,\"#ed7953\"],[0.7777777777777778,\"#fb9f3a\"],[0.8888888888888888,\"#fdca26\"],[1.0,\"#f0f921\"]],\"type\":\"heatmap\"}],\"heatmapgl\":[{\"colorbar\":{\"outlinewidth\":0,\"ticks\":\"\"},\"colorscale\":[[0.0,\"#0d0887\"],[0.1111111111111111,\"#46039f\"],[0.2222222222222222,\"#7201a8\"],[0.3333333333333333,\"#9c179e\"],[0.4444444444444444,\"#bd3786\"],[0.5555555555555556,\"#d8576b\"],[0.6666666666666666,\"#ed7953\"],[0.7777777777777778,\"#fb9f3a\"],[0.8888888888888888,\"#fdca26\"],[1.0,\"#f0f921\"]],\"type\":\"heatmapgl\"}],\"histogram\":[{\"marker\":{\"pattern\":{\"fillmode\":\"overlay\",\"size\":10,\"solidity\":0.2}},\"type\":\"histogram\"}],\"histogram2d\":[{\"colorbar\":{\"outlinewidth\":0,\"ticks\":\"\"},\"colorscale\":[[0.0,\"#0d0887\"],[0.1111111111111111,\"#46039f\"],[0.2222222222222222,\"#7201a8\"],[0.3333333333333333,\"#9c179e\"],[0.4444444444444444,\"#bd3786\"],[0.5555555555555556,\"#d8576b\"],[0.6666666666666666,\"#ed7953\"],[0.7777777777777778,\"#fb9f3a\"],[0.8888888888888888,\"#fdca26\"],[1.0,\"#f0f921\"]],\"type\":\"histogram2d\"}],\"histogram2dcontour\":[{\"colorbar\":{\"outlinewidth\":0,\"ticks\":\"\"},\"colorscale\":[[0.0,\"#0d0887\"],[0.1111111111111111,\"#46039f\"],[0.2222222222222222,\"#7201a8\"],[0.3333333333333333,\"#9c179e\"],[0.4444444444444444,\"#bd3786\"],[0.5555555555555556,\"#d8576b\"],[0.6666666666666666,\"#ed7953\"],[0.7777777777777778,\"#fb9f3a\"],[0.8888888888888888,\"#fdca26\"],[1.0,\"#f0f921\"]],\"type\":\"histogram2dcontour\"}],\"mesh3d\":[{\"colorbar\":{\"outlinewidth\":0,\"ticks\":\"\"},\"type\":\"mesh3d\"}],\"parcoords\":[{\"line\":{\"colorbar\":{\"outlinewidth\":0,\"ticks\":\"\"}},\"type\":\"parcoords\"}],\"pie\":[{\"automargin\":true,\"type\":\"pie\"}],\"scatter\":[{\"marker\":{\"colorbar\":{\"outlinewidth\":0,\"ticks\":\"\"}},\"type\":\"scatter\"}],\"scatter3d\":[{\"line\":{\"colorbar\":{\"outlinewidth\":0,\"ticks\":\"\"}},\"marker\":{\"colorbar\":{\"outlinewidth\":0,\"ticks\":\"\"}},\"type\":\"scatter3d\"}],\"scattercarpet\":[{\"marker\":{\"colorbar\":{\"outlinewidth\":0,\"ticks\":\"\"}},\"type\":\"scattercarpet\"}],\"scattergeo\":[{\"marker\":{\"colorbar\":{\"outlinewidth\":0,\"ticks\":\"\"}},\"type\":\"scattergeo\"}],\"scattergl\":[{\"marker\":{\"colorbar\":{\"outlinewidth\":0,\"ticks\":\"\"}},\"type\":\"scattergl\"}],\"scattermapbox\":[{\"marker\":{\"colorbar\":{\"outlinewidth\":0,\"ticks\":\"\"}},\"type\":\"scattermapbox\"}],\"scatterpolar\":[{\"marker\":{\"colorbar\":{\"outlinewidth\":0,\"ticks\":\"\"}},\"type\":\"scatterpolar\"}],\"scatterpolargl\":[{\"marker\":{\"colorbar\":{\"outlinewidth\":0,\"ticks\":\"\"}},\"type\":\"scatterpolargl\"}],\"scatterternary\":[{\"marker\":{\"colorbar\":{\"outlinewidth\":0,\"ticks\":\"\"}},\"type\":\"scatterternary\"}],\"surface\":[{\"colorbar\":{\"outlinewidth\":0,\"ticks\":\"\"},\"colorscale\":[[0.0,\"#0d0887\"],[0.1111111111111111,\"#46039f\"],[0.2222222222222222,\"#7201a8\"],[0.3333333333333333,\"#9c179e\"],[0.4444444444444444,\"#bd3786\"],[0.5555555555555556,\"#d8576b\"],[0.6666666666666666,\"#ed7953\"],[0.7777777777777778,\"#fb9f3a\"],[0.8888888888888888,\"#fdca26\"],[1.0,\"#f0f921\"]],\"type\":\"surface\"}],\"table\":[{\"cells\":{\"fill\":{\"color\":\"#EBF0F8\"},\"line\":{\"color\":\"white\"}},\"header\":{\"fill\":{\"color\":\"#C8D4E3\"},\"line\":{\"color\":\"white\"}},\"type\":\"table\"}]},\"layout\":{\"annotationdefaults\":{\"arrowcolor\":\"#2a3f5f\",\"arrowhead\":0,\"arrowwidth\":1},\"autotypenumbers\":\"strict\",\"coloraxis\":{\"colorbar\":{\"outlinewidth\":0,\"ticks\":\"\"}},\"colorscale\":{\"diverging\":[[0,\"#8e0152\"],[0.1,\"#c51b7d\"],[0.2,\"#de77ae\"],[0.3,\"#f1b6da\"],[0.4,\"#fde0ef\"],[0.5,\"#f7f7f7\"],[0.6,\"#e6f5d0\"],[0.7,\"#b8e186\"],[0.8,\"#7fbc41\"],[0.9,\"#4d9221\"],[1,\"#276419\"]],\"sequential\":[[0.0,\"#0d0887\"],[0.1111111111111111,\"#46039f\"],[0.2222222222222222,\"#7201a8\"],[0.3333333333333333,\"#9c179e\"],[0.4444444444444444,\"#bd3786\"],[0.5555555555555556,\"#d8576b\"],[0.6666666666666666,\"#ed7953\"],[0.7777777777777778,\"#fb9f3a\"],[0.8888888888888888,\"#fdca26\"],[1.0,\"#f0f921\"]],\"sequentialminus\":[[0.0,\"#0d0887\"],[0.1111111111111111,\"#46039f\"],[0.2222222222222222,\"#7201a8\"],[0.3333333333333333,\"#9c179e\"],[0.4444444444444444,\"#bd3786\"],[0.5555555555555556,\"#d8576b\"],[0.6666666666666666,\"#ed7953\"],[0.7777777777777778,\"#fb9f3a\"],[0.8888888888888888,\"#fdca26\"],[1.0,\"#f0f921\"]]},\"colorway\":[\"#636efa\",\"#EF553B\",\"#00cc96\",\"#ab63fa\",\"#FFA15A\",\"#19d3f3\",\"#FF6692\",\"#B6E880\",\"#FF97FF\",\"#FECB52\"],\"font\":{\"color\":\"#2a3f5f\"},\"geo\":{\"bgcolor\":\"white\",\"lakecolor\":\"white\",\"landcolor\":\"#E5ECF6\",\"showlakes\":true,\"showland\":true,\"subunitcolor\":\"white\"},\"hoverlabel\":{\"align\":\"left\"},\"hovermode\":\"closest\",\"mapbox\":{\"style\":\"light\"},\"paper_bgcolor\":\"white\",\"plot_bgcolor\":\"#E5ECF6\",\"polar\":{\"angularaxis\":{\"gridcolor\":\"white\",\"linecolor\":\"white\",\"ticks\":\"\"},\"bgcolor\":\"#E5ECF6\",\"radialaxis\":{\"gridcolor\":\"white\",\"linecolor\":\"white\",\"ticks\":\"\"}},\"scene\":{\"xaxis\":{\"backgroundcolor\":\"#E5ECF6\",\"gridcolor\":\"white\",\"gridwidth\":2,\"linecolor\":\"white\",\"showbackground\":true,\"ticks\":\"\",\"zerolinecolor\":\"white\"},\"yaxis\":{\"backgroundcolor\":\"#E5ECF6\",\"gridcolor\":\"white\",\"gridwidth\":2,\"linecolor\":\"white\",\"showbackground\":true,\"ticks\":\"\",\"zerolinecolor\":\"white\"},\"zaxis\":{\"backgroundcolor\":\"#E5ECF6\",\"gridcolor\":\"white\",\"gridwidth\":2,\"linecolor\":\"white\",\"showbackground\":true,\"ticks\":\"\",\"zerolinecolor\":\"white\"}},\"shapedefaults\":{\"line\":{\"color\":\"#2a3f5f\"}},\"ternary\":{\"aaxis\":{\"gridcolor\":\"white\",\"linecolor\":\"white\",\"ticks\":\"\"},\"baxis\":{\"gridcolor\":\"white\",\"linecolor\":\"white\",\"ticks\":\"\"},\"bgcolor\":\"#E5ECF6\",\"caxis\":{\"gridcolor\":\"white\",\"linecolor\":\"white\",\"ticks\":\"\"}},\"title\":{\"x\":0.05},\"xaxis\":{\"automargin\":true,\"gridcolor\":\"white\",\"linecolor\":\"white\",\"ticks\":\"\",\"title\":{\"standoff\":15},\"zerolinecolor\":\"white\",\"zerolinewidth\":2},\"yaxis\":{\"automargin\":true,\"gridcolor\":\"white\",\"linecolor\":\"white\",\"ticks\":\"\",\"title\":{\"standoff\":15},\"zerolinecolor\":\"white\",\"zerolinewidth\":2}}},\"xaxis\":{\"anchor\":\"y\",\"domain\":[0.0,1.0],\"title\":{\"text\":\"x\"}},\"yaxis\":{\"anchor\":\"x\",\"domain\":[0.0,1.0],\"title\":{\"text\":\"y\"}},\"legend\":{\"tracegroupgap\":0},\"margin\":{\"t\":60},\"boxmode\":\"group\"},                        {\"responsive\": true}                    ).then(function(){\n",
              "                            \n",
              "var gd = document.getElementById('60d2658c-23c5-4275-9219-b83c6f97130c');\n",
              "var x = new MutationObserver(function (mutations, observer) {{\n",
              "        var display = window.getComputedStyle(gd).display;\n",
              "        if (!display || display === 'none') {{\n",
              "            console.log([gd, 'removed!']);\n",
              "            Plotly.purge(gd);\n",
              "            observer.disconnect();\n",
              "        }}\n",
              "}});\n",
              "\n",
              "// Listen for the removal of the full notebook cells\n",
              "var notebookContainer = gd.closest('#notebook-container');\n",
              "if (notebookContainer) {{\n",
              "    x.observe(notebookContainer, {childList: true});\n",
              "}}\n",
              "\n",
              "// Listen for the clearing of the current output cell\n",
              "var outputEl = gd.closest('.output');\n",
              "if (outputEl) {{\n",
              "    x.observe(outputEl, {childList: true});\n",
              "}}\n",
              "\n",
              "                        })                };                            </script>        </div>\n",
              "</body>\n",
              "</html>"
            ]
          },
          "metadata": {}
        }
      ]
    },
    {
      "cell_type": "markdown",
      "source": [
        "Si queremos eliminar una columna usamos **drop**\n",
        "\n",
        "- inplace = True : sobreescribe en el data.frame original"
      ],
      "metadata": {
        "id": "Fx8FVpIHd6G5"
      }
    },
    {
      "cell_type": "code",
      "source": [
        "#aptos.drop([\"Unnamed: 0\"], axis = 1, inplace = True)"
      ],
      "metadata": {
        "id": "tGPc1jdWrExe"
      },
      "execution_count": null,
      "outputs": []
    },
    {
      "cell_type": "markdown",
      "source": [
        "Cuidado: **inplace** afecta el DataFrame .. permite elegir..modifica el dataframe. hacer una copia si hay mas de una linbea \n",
        " "
      ],
      "metadata": {
        "id": "gvRGwXzUrVPS"
      }
    },
    {
      "cell_type": "code",
      "source": [
        "aptos.drop(\"Unnamed: 0\", axis = 1, inplace = True)"
      ],
      "metadata": {
        "id": "DIH-f_UzePV4"
      },
      "execution_count": 35,
      "outputs": []
    },
    {
      "cell_type": "code",
      "source": [
        "aptos.head()"
      ],
      "metadata": {
        "id": "C7rL5RT3ebB7"
      },
      "execution_count": null,
      "outputs": []
    },
    {
      "cell_type": "markdown",
      "source": [
        "Veamos algunos aspectos rápidos del acceso a las variables"
      ],
      "metadata": {
        "id": "STmBU7HKei24"
      }
    },
    {
      "cell_type": "code",
      "source": [
        "#aptos.ubicacion.isna()."
      ],
      "metadata": {
        "id": "zShiHdpOs7yk"
      },
      "execution_count": null,
      "outputs": []
    },
    {
      "cell_type": "code",
      "source": [
        "aptos.iloc[: , [3,4,5]]"
      ],
      "metadata": {
        "id": "yK7k1l14emut",
        "colab": {
          "base_uri": "https://localhost:8080/",
          "height": 424
        },
        "outputId": "c13ee26d-c130-471f-c9f6-8c4d4203171b"
      },
      "execution_count": 37,
      "outputs": [
        {
          "output_type": "execute_result",
          "data": {
            "text/plain": [
              "     estrato  alcobas  banos\n",
              "0          3        3      1\n",
              "1          2        2      1\n",
              "2          3        2      2\n",
              "3          2        3      2\n",
              "4          4        3      2\n",
              "..       ...      ...    ...\n",
              "689        5        4      3\n",
              "690        6        4      3\n",
              "691        6        3      4\n",
              "692        5        3      3\n",
              "693        5        3      4\n",
              "\n",
              "[694 rows x 3 columns]"
            ],
            "text/html": [
              "\n",
              "  <div id=\"df-78441fa3-1b22-410f-bc3c-62535d37e612\">\n",
              "    <div class=\"colab-df-container\">\n",
              "      <div>\n",
              "<style scoped>\n",
              "    .dataframe tbody tr th:only-of-type {\n",
              "        vertical-align: middle;\n",
              "    }\n",
              "\n",
              "    .dataframe tbody tr th {\n",
              "        vertical-align: top;\n",
              "    }\n",
              "\n",
              "    .dataframe thead th {\n",
              "        text-align: right;\n",
              "    }\n",
              "</style>\n",
              "<table border=\"1\" class=\"dataframe\">\n",
              "  <thead>\n",
              "    <tr style=\"text-align: right;\">\n",
              "      <th></th>\n",
              "      <th>estrato</th>\n",
              "      <th>alcobas</th>\n",
              "      <th>banos</th>\n",
              "    </tr>\n",
              "  </thead>\n",
              "  <tbody>\n",
              "    <tr>\n",
              "      <th>0</th>\n",
              "      <td>3</td>\n",
              "      <td>3</td>\n",
              "      <td>1</td>\n",
              "    </tr>\n",
              "    <tr>\n",
              "      <th>1</th>\n",
              "      <td>2</td>\n",
              "      <td>2</td>\n",
              "      <td>1</td>\n",
              "    </tr>\n",
              "    <tr>\n",
              "      <th>2</th>\n",
              "      <td>3</td>\n",
              "      <td>2</td>\n",
              "      <td>2</td>\n",
              "    </tr>\n",
              "    <tr>\n",
              "      <th>3</th>\n",
              "      <td>2</td>\n",
              "      <td>3</td>\n",
              "      <td>2</td>\n",
              "    </tr>\n",
              "    <tr>\n",
              "      <th>4</th>\n",
              "      <td>4</td>\n",
              "      <td>3</td>\n",
              "      <td>2</td>\n",
              "    </tr>\n",
              "    <tr>\n",
              "      <th>...</th>\n",
              "      <td>...</td>\n",
              "      <td>...</td>\n",
              "      <td>...</td>\n",
              "    </tr>\n",
              "    <tr>\n",
              "      <th>689</th>\n",
              "      <td>5</td>\n",
              "      <td>4</td>\n",
              "      <td>3</td>\n",
              "    </tr>\n",
              "    <tr>\n",
              "      <th>690</th>\n",
              "      <td>6</td>\n",
              "      <td>4</td>\n",
              "      <td>3</td>\n",
              "    </tr>\n",
              "    <tr>\n",
              "      <th>691</th>\n",
              "      <td>6</td>\n",
              "      <td>3</td>\n",
              "      <td>4</td>\n",
              "    </tr>\n",
              "    <tr>\n",
              "      <th>692</th>\n",
              "      <td>5</td>\n",
              "      <td>3</td>\n",
              "      <td>3</td>\n",
              "    </tr>\n",
              "    <tr>\n",
              "      <th>693</th>\n",
              "      <td>5</td>\n",
              "      <td>3</td>\n",
              "      <td>4</td>\n",
              "    </tr>\n",
              "  </tbody>\n",
              "</table>\n",
              "<p>694 rows × 3 columns</p>\n",
              "</div>\n",
              "      <button class=\"colab-df-convert\" onclick=\"convertToInteractive('df-78441fa3-1b22-410f-bc3c-62535d37e612')\"\n",
              "              title=\"Convert this dataframe to an interactive table.\"\n",
              "              style=\"display:none;\">\n",
              "        \n",
              "  <svg xmlns=\"http://www.w3.org/2000/svg\" height=\"24px\"viewBox=\"0 0 24 24\"\n",
              "       width=\"24px\">\n",
              "    <path d=\"M0 0h24v24H0V0z\" fill=\"none\"/>\n",
              "    <path d=\"M18.56 5.44l.94 2.06.94-2.06 2.06-.94-2.06-.94-.94-2.06-.94 2.06-2.06.94zm-11 1L8.5 8.5l.94-2.06 2.06-.94-2.06-.94L8.5 2.5l-.94 2.06-2.06.94zm10 10l.94 2.06.94-2.06 2.06-.94-2.06-.94-.94-2.06-.94 2.06-2.06.94z\"/><path d=\"M17.41 7.96l-1.37-1.37c-.4-.4-.92-.59-1.43-.59-.52 0-1.04.2-1.43.59L10.3 9.45l-7.72 7.72c-.78.78-.78 2.05 0 2.83L4 21.41c.39.39.9.59 1.41.59.51 0 1.02-.2 1.41-.59l7.78-7.78 2.81-2.81c.8-.78.8-2.07 0-2.86zM5.41 20L4 18.59l7.72-7.72 1.47 1.35L5.41 20z\"/>\n",
              "  </svg>\n",
              "      </button>\n",
              "      \n",
              "  <style>\n",
              "    .colab-df-container {\n",
              "      display:flex;\n",
              "      flex-wrap:wrap;\n",
              "      gap: 12px;\n",
              "    }\n",
              "\n",
              "    .colab-df-convert {\n",
              "      background-color: #E8F0FE;\n",
              "      border: none;\n",
              "      border-radius: 50%;\n",
              "      cursor: pointer;\n",
              "      display: none;\n",
              "      fill: #1967D2;\n",
              "      height: 32px;\n",
              "      padding: 0 0 0 0;\n",
              "      width: 32px;\n",
              "    }\n",
              "\n",
              "    .colab-df-convert:hover {\n",
              "      background-color: #E2EBFA;\n",
              "      box-shadow: 0px 1px 2px rgba(60, 64, 67, 0.3), 0px 1px 3px 1px rgba(60, 64, 67, 0.15);\n",
              "      fill: #174EA6;\n",
              "    }\n",
              "\n",
              "    [theme=dark] .colab-df-convert {\n",
              "      background-color: #3B4455;\n",
              "      fill: #D2E3FC;\n",
              "    }\n",
              "\n",
              "    [theme=dark] .colab-df-convert:hover {\n",
              "      background-color: #434B5C;\n",
              "      box-shadow: 0px 1px 3px 1px rgba(0, 0, 0, 0.15);\n",
              "      filter: drop-shadow(0px 1px 2px rgba(0, 0, 0, 0.3));\n",
              "      fill: #FFFFFF;\n",
              "    }\n",
              "  </style>\n",
              "\n",
              "      <script>\n",
              "        const buttonEl =\n",
              "          document.querySelector('#df-78441fa3-1b22-410f-bc3c-62535d37e612 button.colab-df-convert');\n",
              "        buttonEl.style.display =\n",
              "          google.colab.kernel.accessAllowed ? 'block' : 'none';\n",
              "\n",
              "        async function convertToInteractive(key) {\n",
              "          const element = document.querySelector('#df-78441fa3-1b22-410f-bc3c-62535d37e612');\n",
              "          const dataTable =\n",
              "            await google.colab.kernel.invokeFunction('convertToInteractive',\n",
              "                                                     [key], {});\n",
              "          if (!dataTable) return;\n",
              "\n",
              "          const docLinkHtml = 'Like what you see? Visit the ' +\n",
              "            '<a target=\"_blank\" href=https://colab.research.google.com/notebooks/data_table.ipynb>data table notebook</a>'\n",
              "            + ' to learn more about interactive tables.';\n",
              "          element.innerHTML = '';\n",
              "          dataTable['output_type'] = 'display_data';\n",
              "          await google.colab.output.renderOutput(dataTable, element);\n",
              "          const docLink = document.createElement('div');\n",
              "          docLink.innerHTML = docLinkHtml;\n",
              "          element.appendChild(docLink);\n",
              "        }\n",
              "      </script>\n",
              "    </div>\n",
              "  </div>\n",
              "  "
            ]
          },
          "metadata": {},
          "execution_count": 37
        }
      ]
    },
    {
      "cell_type": "code",
      "source": [
        "aptos.loc[: , [\"balcon\", \"terminado\"]]"
      ],
      "metadata": {
        "id": "l9pMQcpIewtU",
        "colab": {
          "base_uri": "https://localhost:8080/",
          "height": 424
        },
        "outputId": "7860c081-b391-428f-cc36-9d7b2e47f894"
      },
      "execution_count": 38,
      "outputs": [
        {
          "output_type": "execute_result",
          "data": {
            "text/plain": [
              "    balcon terminado\n",
              "0       si        no\n",
              "1       si        si\n",
              "2       no        no\n",
              "3       si        no\n",
              "4       si        si\n",
              "..     ...       ...\n",
              "689     si        si\n",
              "690     si        si\n",
              "691     no        si\n",
              "692     si        si\n",
              "693     si        si\n",
              "\n",
              "[694 rows x 2 columns]"
            ],
            "text/html": [
              "\n",
              "  <div id=\"df-3062b9a5-dd48-44c4-a946-c5daf8501303\">\n",
              "    <div class=\"colab-df-container\">\n",
              "      <div>\n",
              "<style scoped>\n",
              "    .dataframe tbody tr th:only-of-type {\n",
              "        vertical-align: middle;\n",
              "    }\n",
              "\n",
              "    .dataframe tbody tr th {\n",
              "        vertical-align: top;\n",
              "    }\n",
              "\n",
              "    .dataframe thead th {\n",
              "        text-align: right;\n",
              "    }\n",
              "</style>\n",
              "<table border=\"1\" class=\"dataframe\">\n",
              "  <thead>\n",
              "    <tr style=\"text-align: right;\">\n",
              "      <th></th>\n",
              "      <th>balcon</th>\n",
              "      <th>terminado</th>\n",
              "    </tr>\n",
              "  </thead>\n",
              "  <tbody>\n",
              "    <tr>\n",
              "      <th>0</th>\n",
              "      <td>si</td>\n",
              "      <td>no</td>\n",
              "    </tr>\n",
              "    <tr>\n",
              "      <th>1</th>\n",
              "      <td>si</td>\n",
              "      <td>si</td>\n",
              "    </tr>\n",
              "    <tr>\n",
              "      <th>2</th>\n",
              "      <td>no</td>\n",
              "      <td>no</td>\n",
              "    </tr>\n",
              "    <tr>\n",
              "      <th>3</th>\n",
              "      <td>si</td>\n",
              "      <td>no</td>\n",
              "    </tr>\n",
              "    <tr>\n",
              "      <th>4</th>\n",
              "      <td>si</td>\n",
              "      <td>si</td>\n",
              "    </tr>\n",
              "    <tr>\n",
              "      <th>...</th>\n",
              "      <td>...</td>\n",
              "      <td>...</td>\n",
              "    </tr>\n",
              "    <tr>\n",
              "      <th>689</th>\n",
              "      <td>si</td>\n",
              "      <td>si</td>\n",
              "    </tr>\n",
              "    <tr>\n",
              "      <th>690</th>\n",
              "      <td>si</td>\n",
              "      <td>si</td>\n",
              "    </tr>\n",
              "    <tr>\n",
              "      <th>691</th>\n",
              "      <td>no</td>\n",
              "      <td>si</td>\n",
              "    </tr>\n",
              "    <tr>\n",
              "      <th>692</th>\n",
              "      <td>si</td>\n",
              "      <td>si</td>\n",
              "    </tr>\n",
              "    <tr>\n",
              "      <th>693</th>\n",
              "      <td>si</td>\n",
              "      <td>si</td>\n",
              "    </tr>\n",
              "  </tbody>\n",
              "</table>\n",
              "<p>694 rows × 2 columns</p>\n",
              "</div>\n",
              "      <button class=\"colab-df-convert\" onclick=\"convertToInteractive('df-3062b9a5-dd48-44c4-a946-c5daf8501303')\"\n",
              "              title=\"Convert this dataframe to an interactive table.\"\n",
              "              style=\"display:none;\">\n",
              "        \n",
              "  <svg xmlns=\"http://www.w3.org/2000/svg\" height=\"24px\"viewBox=\"0 0 24 24\"\n",
              "       width=\"24px\">\n",
              "    <path d=\"M0 0h24v24H0V0z\" fill=\"none\"/>\n",
              "    <path d=\"M18.56 5.44l.94 2.06.94-2.06 2.06-.94-2.06-.94-.94-2.06-.94 2.06-2.06.94zm-11 1L8.5 8.5l.94-2.06 2.06-.94-2.06-.94L8.5 2.5l-.94 2.06-2.06.94zm10 10l.94 2.06.94-2.06 2.06-.94-2.06-.94-.94-2.06-.94 2.06-2.06.94z\"/><path d=\"M17.41 7.96l-1.37-1.37c-.4-.4-.92-.59-1.43-.59-.52 0-1.04.2-1.43.59L10.3 9.45l-7.72 7.72c-.78.78-.78 2.05 0 2.83L4 21.41c.39.39.9.59 1.41.59.51 0 1.02-.2 1.41-.59l7.78-7.78 2.81-2.81c.8-.78.8-2.07 0-2.86zM5.41 20L4 18.59l7.72-7.72 1.47 1.35L5.41 20z\"/>\n",
              "  </svg>\n",
              "      </button>\n",
              "      \n",
              "  <style>\n",
              "    .colab-df-container {\n",
              "      display:flex;\n",
              "      flex-wrap:wrap;\n",
              "      gap: 12px;\n",
              "    }\n",
              "\n",
              "    .colab-df-convert {\n",
              "      background-color: #E8F0FE;\n",
              "      border: none;\n",
              "      border-radius: 50%;\n",
              "      cursor: pointer;\n",
              "      display: none;\n",
              "      fill: #1967D2;\n",
              "      height: 32px;\n",
              "      padding: 0 0 0 0;\n",
              "      width: 32px;\n",
              "    }\n",
              "\n",
              "    .colab-df-convert:hover {\n",
              "      background-color: #E2EBFA;\n",
              "      box-shadow: 0px 1px 2px rgba(60, 64, 67, 0.3), 0px 1px 3px 1px rgba(60, 64, 67, 0.15);\n",
              "      fill: #174EA6;\n",
              "    }\n",
              "\n",
              "    [theme=dark] .colab-df-convert {\n",
              "      background-color: #3B4455;\n",
              "      fill: #D2E3FC;\n",
              "    }\n",
              "\n",
              "    [theme=dark] .colab-df-convert:hover {\n",
              "      background-color: #434B5C;\n",
              "      box-shadow: 0px 1px 3px 1px rgba(0, 0, 0, 0.15);\n",
              "      filter: drop-shadow(0px 1px 2px rgba(0, 0, 0, 0.3));\n",
              "      fill: #FFFFFF;\n",
              "    }\n",
              "  </style>\n",
              "\n",
              "      <script>\n",
              "        const buttonEl =\n",
              "          document.querySelector('#df-3062b9a5-dd48-44c4-a946-c5daf8501303 button.colab-df-convert');\n",
              "        buttonEl.style.display =\n",
              "          google.colab.kernel.accessAllowed ? 'block' : 'none';\n",
              "\n",
              "        async function convertToInteractive(key) {\n",
              "          const element = document.querySelector('#df-3062b9a5-dd48-44c4-a946-c5daf8501303');\n",
              "          const dataTable =\n",
              "            await google.colab.kernel.invokeFunction('convertToInteractive',\n",
              "                                                     [key], {});\n",
              "          if (!dataTable) return;\n",
              "\n",
              "          const docLinkHtml = 'Like what you see? Visit the ' +\n",
              "            '<a target=\"_blank\" href=https://colab.research.google.com/notebooks/data_table.ipynb>data table notebook</a>'\n",
              "            + ' to learn more about interactive tables.';\n",
              "          element.innerHTML = '';\n",
              "          dataTable['output_type'] = 'display_data';\n",
              "          await google.colab.output.renderOutput(dataTable, element);\n",
              "          const docLink = document.createElement('div');\n",
              "          docLink.innerHTML = docLinkHtml;\n",
              "          element.appendChild(docLink);\n",
              "        }\n",
              "      </script>\n",
              "    </div>\n",
              "  </div>\n",
              "  "
            ]
          },
          "metadata": {},
          "execution_count": 38
        }
      ]
    },
    {
      "cell_type": "code",
      "source": [
        "aptos[[\"balcon\", \"precio\", \"mt2\"]]"
      ],
      "metadata": {
        "id": "kdpw12yUe24x",
        "colab": {
          "base_uri": "https://localhost:8080/",
          "height": 424
        },
        "outputId": "f2cce153-9276-42c2-de18-d153d36b9da5"
      },
      "execution_count": 39,
      "outputs": [
        {
          "output_type": "execute_result",
          "data": {
            "text/plain": [
              "    balcon  precio     mt2\n",
              "0       si    79.0   43.16\n",
              "1       si    93.0   56.92\n",
              "2       no   100.0   66.40\n",
              "3       si   123.0   61.85\n",
              "4       si   135.0   89.80\n",
              "..     ...     ...     ...\n",
              "689     si   498.0  180.00\n",
              "690     si   508.0  209.00\n",
              "691     no   550.0  149.00\n",
              "692     si   630.0  179.00\n",
              "693     si  1350.0  494.00\n",
              "\n",
              "[694 rows x 3 columns]"
            ],
            "text/html": [
              "\n",
              "  <div id=\"df-3b3edffc-b8a9-49a2-8830-7d1364a6b077\">\n",
              "    <div class=\"colab-df-container\">\n",
              "      <div>\n",
              "<style scoped>\n",
              "    .dataframe tbody tr th:only-of-type {\n",
              "        vertical-align: middle;\n",
              "    }\n",
              "\n",
              "    .dataframe tbody tr th {\n",
              "        vertical-align: top;\n",
              "    }\n",
              "\n",
              "    .dataframe thead th {\n",
              "        text-align: right;\n",
              "    }\n",
              "</style>\n",
              "<table border=\"1\" class=\"dataframe\">\n",
              "  <thead>\n",
              "    <tr style=\"text-align: right;\">\n",
              "      <th></th>\n",
              "      <th>balcon</th>\n",
              "      <th>precio</th>\n",
              "      <th>mt2</th>\n",
              "    </tr>\n",
              "  </thead>\n",
              "  <tbody>\n",
              "    <tr>\n",
              "      <th>0</th>\n",
              "      <td>si</td>\n",
              "      <td>79.0</td>\n",
              "      <td>43.16</td>\n",
              "    </tr>\n",
              "    <tr>\n",
              "      <th>1</th>\n",
              "      <td>si</td>\n",
              "      <td>93.0</td>\n",
              "      <td>56.92</td>\n",
              "    </tr>\n",
              "    <tr>\n",
              "      <th>2</th>\n",
              "      <td>no</td>\n",
              "      <td>100.0</td>\n",
              "      <td>66.40</td>\n",
              "    </tr>\n",
              "    <tr>\n",
              "      <th>3</th>\n",
              "      <td>si</td>\n",
              "      <td>123.0</td>\n",
              "      <td>61.85</td>\n",
              "    </tr>\n",
              "    <tr>\n",
              "      <th>4</th>\n",
              "      <td>si</td>\n",
              "      <td>135.0</td>\n",
              "      <td>89.80</td>\n",
              "    </tr>\n",
              "    <tr>\n",
              "      <th>...</th>\n",
              "      <td>...</td>\n",
              "      <td>...</td>\n",
              "      <td>...</td>\n",
              "    </tr>\n",
              "    <tr>\n",
              "      <th>689</th>\n",
              "      <td>si</td>\n",
              "      <td>498.0</td>\n",
              "      <td>180.00</td>\n",
              "    </tr>\n",
              "    <tr>\n",
              "      <th>690</th>\n",
              "      <td>si</td>\n",
              "      <td>508.0</td>\n",
              "      <td>209.00</td>\n",
              "    </tr>\n",
              "    <tr>\n",
              "      <th>691</th>\n",
              "      <td>no</td>\n",
              "      <td>550.0</td>\n",
              "      <td>149.00</td>\n",
              "    </tr>\n",
              "    <tr>\n",
              "      <th>692</th>\n",
              "      <td>si</td>\n",
              "      <td>630.0</td>\n",
              "      <td>179.00</td>\n",
              "    </tr>\n",
              "    <tr>\n",
              "      <th>693</th>\n",
              "      <td>si</td>\n",
              "      <td>1350.0</td>\n",
              "      <td>494.00</td>\n",
              "    </tr>\n",
              "  </tbody>\n",
              "</table>\n",
              "<p>694 rows × 3 columns</p>\n",
              "</div>\n",
              "      <button class=\"colab-df-convert\" onclick=\"convertToInteractive('df-3b3edffc-b8a9-49a2-8830-7d1364a6b077')\"\n",
              "              title=\"Convert this dataframe to an interactive table.\"\n",
              "              style=\"display:none;\">\n",
              "        \n",
              "  <svg xmlns=\"http://www.w3.org/2000/svg\" height=\"24px\"viewBox=\"0 0 24 24\"\n",
              "       width=\"24px\">\n",
              "    <path d=\"M0 0h24v24H0V0z\" fill=\"none\"/>\n",
              "    <path d=\"M18.56 5.44l.94 2.06.94-2.06 2.06-.94-2.06-.94-.94-2.06-.94 2.06-2.06.94zm-11 1L8.5 8.5l.94-2.06 2.06-.94-2.06-.94L8.5 2.5l-.94 2.06-2.06.94zm10 10l.94 2.06.94-2.06 2.06-.94-2.06-.94-.94-2.06-.94 2.06-2.06.94z\"/><path d=\"M17.41 7.96l-1.37-1.37c-.4-.4-.92-.59-1.43-.59-.52 0-1.04.2-1.43.59L10.3 9.45l-7.72 7.72c-.78.78-.78 2.05 0 2.83L4 21.41c.39.39.9.59 1.41.59.51 0 1.02-.2 1.41-.59l7.78-7.78 2.81-2.81c.8-.78.8-2.07 0-2.86zM5.41 20L4 18.59l7.72-7.72 1.47 1.35L5.41 20z\"/>\n",
              "  </svg>\n",
              "      </button>\n",
              "      \n",
              "  <style>\n",
              "    .colab-df-container {\n",
              "      display:flex;\n",
              "      flex-wrap:wrap;\n",
              "      gap: 12px;\n",
              "    }\n",
              "\n",
              "    .colab-df-convert {\n",
              "      background-color: #E8F0FE;\n",
              "      border: none;\n",
              "      border-radius: 50%;\n",
              "      cursor: pointer;\n",
              "      display: none;\n",
              "      fill: #1967D2;\n",
              "      height: 32px;\n",
              "      padding: 0 0 0 0;\n",
              "      width: 32px;\n",
              "    }\n",
              "\n",
              "    .colab-df-convert:hover {\n",
              "      background-color: #E2EBFA;\n",
              "      box-shadow: 0px 1px 2px rgba(60, 64, 67, 0.3), 0px 1px 3px 1px rgba(60, 64, 67, 0.15);\n",
              "      fill: #174EA6;\n",
              "    }\n",
              "\n",
              "    [theme=dark] .colab-df-convert {\n",
              "      background-color: #3B4455;\n",
              "      fill: #D2E3FC;\n",
              "    }\n",
              "\n",
              "    [theme=dark] .colab-df-convert:hover {\n",
              "      background-color: #434B5C;\n",
              "      box-shadow: 0px 1px 3px 1px rgba(0, 0, 0, 0.15);\n",
              "      filter: drop-shadow(0px 1px 2px rgba(0, 0, 0, 0.3));\n",
              "      fill: #FFFFFF;\n",
              "    }\n",
              "  </style>\n",
              "\n",
              "      <script>\n",
              "        const buttonEl =\n",
              "          document.querySelector('#df-3b3edffc-b8a9-49a2-8830-7d1364a6b077 button.colab-df-convert');\n",
              "        buttonEl.style.display =\n",
              "          google.colab.kernel.accessAllowed ? 'block' : 'none';\n",
              "\n",
              "        async function convertToInteractive(key) {\n",
              "          const element = document.querySelector('#df-3b3edffc-b8a9-49a2-8830-7d1364a6b077');\n",
              "          const dataTable =\n",
              "            await google.colab.kernel.invokeFunction('convertToInteractive',\n",
              "                                                     [key], {});\n",
              "          if (!dataTable) return;\n",
              "\n",
              "          const docLinkHtml = 'Like what you see? Visit the ' +\n",
              "            '<a target=\"_blank\" href=https://colab.research.google.com/notebooks/data_table.ipynb>data table notebook</a>'\n",
              "            + ' to learn more about interactive tables.';\n",
              "          element.innerHTML = '';\n",
              "          dataTable['output_type'] = 'display_data';\n",
              "          await google.colab.output.renderOutput(dataTable, element);\n",
              "          const docLink = document.createElement('div');\n",
              "          docLink.innerHTML = docLinkHtml;\n",
              "          element.appendChild(docLink);\n",
              "        }\n",
              "      </script>\n",
              "    </div>\n",
              "  </div>\n",
              "  "
            ]
          },
          "metadata": {},
          "execution_count": 39
        }
      ]
    },
    {
      "cell_type": "code",
      "source": [
        "aptos.ubicacion"
      ],
      "metadata": {
        "id": "pYKM_LQqe_Hd",
        "colab": {
          "base_uri": "https://localhost:8080/"
        },
        "outputId": "7b5d5933-5d27-470f-941f-181a55a5028d"
      },
      "execution_count": 40,
      "outputs": [
        {
          "output_type": "execute_result",
          "data": {
            "text/plain": [
              "0         norte\n",
              "1         norte\n",
              "2         norte\n",
              "3         norte\n",
              "4         norte\n",
              "         ...   \n",
              "689    laureles\n",
              "690    laureles\n",
              "691    laureles\n",
              "692    laureles\n",
              "693    laureles\n",
              "Name: ubicacion, Length: 694, dtype: object"
            ]
          },
          "metadata": {},
          "execution_count": 40
        }
      ]
    },
    {
      "cell_type": "code",
      "source": [
        "#aptos[\"precio/mt2\"]=agrega nueva variable    mutate en R   AGREGA COLUMNAS "
      ],
      "metadata": {
        "id": "cohzci9GtPqT"
      },
      "execution_count": null,
      "outputs": []
    },
    {
      "cell_type": "code",
      "source": [
        "#aptos[\"precio/mt2\"]=round(aptos.precio/aptos.mt2,5) ; aptos.head()"
      ],
      "metadata": {
        "id": "vBDxjD_OtmH9"
      },
      "execution_count": null,
      "outputs": []
    },
    {
      "cell_type": "code",
      "source": [
        "aptos[\"precio/mt2\"]=round(aptos.precio/aptos.mt2,2) ; aptos.head(10)"
      ],
      "metadata": {
        "id": "n4zZurv-fNal",
        "colab": {
          "base_uri": "https://localhost:8080/",
          "height": 363
        },
        "outputId": "624c70cf-eb25-44a7-b88c-5f600c903ba9"
      },
      "execution_count": 42,
      "outputs": [
        {
          "output_type": "execute_result",
          "data": {
            "text/plain": [
              "   precio    mt2 ubicacion  estrato  alcobas  banos balcon parqueadero  \\\n",
              "0    79.0  43.16     norte        3        3      1     si          si   \n",
              "1    93.0  56.92     norte        2        2      1     si          si   \n",
              "2   100.0  66.40     norte        3        2      2     no          no   \n",
              "3   123.0  61.85     norte        2        3      2     si          si   \n",
              "4   135.0  89.80     norte        4        3      2     si          no   \n",
              "5   140.0  71.00     norte        3        3      2     no          si   \n",
              "6   145.0  54.83     norte        3        2      2     si          si   \n",
              "7   160.0  69.00     norte        3        3      2     si          si   \n",
              "8   160.0  93.00     norte        4        4      2     si          no   \n",
              "9   175.0  60.88     norte        4        3      2     si          si   \n",
              "\n",
              "   administracion     avaluo terminado  precio/mt2  \n",
              "0           0.050  14.923002        no        1.83  \n",
              "1           0.069  27.000000        si        1.63  \n",
              "2           0.000  15.738427        no        1.51  \n",
              "3           0.130  27.000000        no        1.99  \n",
              "4           0.000  39.567000        si        1.50  \n",
              "5           0.120  31.145508        si        1.97  \n",
              "6           0.140  27.000000        si        2.64  \n",
              "7           0.127  29.672435        si        2.32  \n",
              "8           0.000  28.956220        si        1.72  \n",
              "9           0.123  26.635132        si        2.87  "
            ],
            "text/html": [
              "\n",
              "  <div id=\"df-5a472648-bd8e-454a-9492-841b5e9e44d8\">\n",
              "    <div class=\"colab-df-container\">\n",
              "      <div>\n",
              "<style scoped>\n",
              "    .dataframe tbody tr th:only-of-type {\n",
              "        vertical-align: middle;\n",
              "    }\n",
              "\n",
              "    .dataframe tbody tr th {\n",
              "        vertical-align: top;\n",
              "    }\n",
              "\n",
              "    .dataframe thead th {\n",
              "        text-align: right;\n",
              "    }\n",
              "</style>\n",
              "<table border=\"1\" class=\"dataframe\">\n",
              "  <thead>\n",
              "    <tr style=\"text-align: right;\">\n",
              "      <th></th>\n",
              "      <th>precio</th>\n",
              "      <th>mt2</th>\n",
              "      <th>ubicacion</th>\n",
              "      <th>estrato</th>\n",
              "      <th>alcobas</th>\n",
              "      <th>banos</th>\n",
              "      <th>balcon</th>\n",
              "      <th>parqueadero</th>\n",
              "      <th>administracion</th>\n",
              "      <th>avaluo</th>\n",
              "      <th>terminado</th>\n",
              "      <th>precio/mt2</th>\n",
              "    </tr>\n",
              "  </thead>\n",
              "  <tbody>\n",
              "    <tr>\n",
              "      <th>0</th>\n",
              "      <td>79.0</td>\n",
              "      <td>43.16</td>\n",
              "      <td>norte</td>\n",
              "      <td>3</td>\n",
              "      <td>3</td>\n",
              "      <td>1</td>\n",
              "      <td>si</td>\n",
              "      <td>si</td>\n",
              "      <td>0.050</td>\n",
              "      <td>14.923002</td>\n",
              "      <td>no</td>\n",
              "      <td>1.83</td>\n",
              "    </tr>\n",
              "    <tr>\n",
              "      <th>1</th>\n",
              "      <td>93.0</td>\n",
              "      <td>56.92</td>\n",
              "      <td>norte</td>\n",
              "      <td>2</td>\n",
              "      <td>2</td>\n",
              "      <td>1</td>\n",
              "      <td>si</td>\n",
              "      <td>si</td>\n",
              "      <td>0.069</td>\n",
              "      <td>27.000000</td>\n",
              "      <td>si</td>\n",
              "      <td>1.63</td>\n",
              "    </tr>\n",
              "    <tr>\n",
              "      <th>2</th>\n",
              "      <td>100.0</td>\n",
              "      <td>66.40</td>\n",
              "      <td>norte</td>\n",
              "      <td>3</td>\n",
              "      <td>2</td>\n",
              "      <td>2</td>\n",
              "      <td>no</td>\n",
              "      <td>no</td>\n",
              "      <td>0.000</td>\n",
              "      <td>15.738427</td>\n",
              "      <td>no</td>\n",
              "      <td>1.51</td>\n",
              "    </tr>\n",
              "    <tr>\n",
              "      <th>3</th>\n",
              "      <td>123.0</td>\n",
              "      <td>61.85</td>\n",
              "      <td>norte</td>\n",
              "      <td>2</td>\n",
              "      <td>3</td>\n",
              "      <td>2</td>\n",
              "      <td>si</td>\n",
              "      <td>si</td>\n",
              "      <td>0.130</td>\n",
              "      <td>27.000000</td>\n",
              "      <td>no</td>\n",
              "      <td>1.99</td>\n",
              "    </tr>\n",
              "    <tr>\n",
              "      <th>4</th>\n",
              "      <td>135.0</td>\n",
              "      <td>89.80</td>\n",
              "      <td>norte</td>\n",
              "      <td>4</td>\n",
              "      <td>3</td>\n",
              "      <td>2</td>\n",
              "      <td>si</td>\n",
              "      <td>no</td>\n",
              "      <td>0.000</td>\n",
              "      <td>39.567000</td>\n",
              "      <td>si</td>\n",
              "      <td>1.50</td>\n",
              "    </tr>\n",
              "    <tr>\n",
              "      <th>5</th>\n",
              "      <td>140.0</td>\n",
              "      <td>71.00</td>\n",
              "      <td>norte</td>\n",
              "      <td>3</td>\n",
              "      <td>3</td>\n",
              "      <td>2</td>\n",
              "      <td>no</td>\n",
              "      <td>si</td>\n",
              "      <td>0.120</td>\n",
              "      <td>31.145508</td>\n",
              "      <td>si</td>\n",
              "      <td>1.97</td>\n",
              "    </tr>\n",
              "    <tr>\n",
              "      <th>6</th>\n",
              "      <td>145.0</td>\n",
              "      <td>54.83</td>\n",
              "      <td>norte</td>\n",
              "      <td>3</td>\n",
              "      <td>2</td>\n",
              "      <td>2</td>\n",
              "      <td>si</td>\n",
              "      <td>si</td>\n",
              "      <td>0.140</td>\n",
              "      <td>27.000000</td>\n",
              "      <td>si</td>\n",
              "      <td>2.64</td>\n",
              "    </tr>\n",
              "    <tr>\n",
              "      <th>7</th>\n",
              "      <td>160.0</td>\n",
              "      <td>69.00</td>\n",
              "      <td>norte</td>\n",
              "      <td>3</td>\n",
              "      <td>3</td>\n",
              "      <td>2</td>\n",
              "      <td>si</td>\n",
              "      <td>si</td>\n",
              "      <td>0.127</td>\n",
              "      <td>29.672435</td>\n",
              "      <td>si</td>\n",
              "      <td>2.32</td>\n",
              "    </tr>\n",
              "    <tr>\n",
              "      <th>8</th>\n",
              "      <td>160.0</td>\n",
              "      <td>93.00</td>\n",
              "      <td>norte</td>\n",
              "      <td>4</td>\n",
              "      <td>4</td>\n",
              "      <td>2</td>\n",
              "      <td>si</td>\n",
              "      <td>no</td>\n",
              "      <td>0.000</td>\n",
              "      <td>28.956220</td>\n",
              "      <td>si</td>\n",
              "      <td>1.72</td>\n",
              "    </tr>\n",
              "    <tr>\n",
              "      <th>9</th>\n",
              "      <td>175.0</td>\n",
              "      <td>60.88</td>\n",
              "      <td>norte</td>\n",
              "      <td>4</td>\n",
              "      <td>3</td>\n",
              "      <td>2</td>\n",
              "      <td>si</td>\n",
              "      <td>si</td>\n",
              "      <td>0.123</td>\n",
              "      <td>26.635132</td>\n",
              "      <td>si</td>\n",
              "      <td>2.87</td>\n",
              "    </tr>\n",
              "  </tbody>\n",
              "</table>\n",
              "</div>\n",
              "      <button class=\"colab-df-convert\" onclick=\"convertToInteractive('df-5a472648-bd8e-454a-9492-841b5e9e44d8')\"\n",
              "              title=\"Convert this dataframe to an interactive table.\"\n",
              "              style=\"display:none;\">\n",
              "        \n",
              "  <svg xmlns=\"http://www.w3.org/2000/svg\" height=\"24px\"viewBox=\"0 0 24 24\"\n",
              "       width=\"24px\">\n",
              "    <path d=\"M0 0h24v24H0V0z\" fill=\"none\"/>\n",
              "    <path d=\"M18.56 5.44l.94 2.06.94-2.06 2.06-.94-2.06-.94-.94-2.06-.94 2.06-2.06.94zm-11 1L8.5 8.5l.94-2.06 2.06-.94-2.06-.94L8.5 2.5l-.94 2.06-2.06.94zm10 10l.94 2.06.94-2.06 2.06-.94-2.06-.94-.94-2.06-.94 2.06-2.06.94z\"/><path d=\"M17.41 7.96l-1.37-1.37c-.4-.4-.92-.59-1.43-.59-.52 0-1.04.2-1.43.59L10.3 9.45l-7.72 7.72c-.78.78-.78 2.05 0 2.83L4 21.41c.39.39.9.59 1.41.59.51 0 1.02-.2 1.41-.59l7.78-7.78 2.81-2.81c.8-.78.8-2.07 0-2.86zM5.41 20L4 18.59l7.72-7.72 1.47 1.35L5.41 20z\"/>\n",
              "  </svg>\n",
              "      </button>\n",
              "      \n",
              "  <style>\n",
              "    .colab-df-container {\n",
              "      display:flex;\n",
              "      flex-wrap:wrap;\n",
              "      gap: 12px;\n",
              "    }\n",
              "\n",
              "    .colab-df-convert {\n",
              "      background-color: #E8F0FE;\n",
              "      border: none;\n",
              "      border-radius: 50%;\n",
              "      cursor: pointer;\n",
              "      display: none;\n",
              "      fill: #1967D2;\n",
              "      height: 32px;\n",
              "      padding: 0 0 0 0;\n",
              "      width: 32px;\n",
              "    }\n",
              "\n",
              "    .colab-df-convert:hover {\n",
              "      background-color: #E2EBFA;\n",
              "      box-shadow: 0px 1px 2px rgba(60, 64, 67, 0.3), 0px 1px 3px 1px rgba(60, 64, 67, 0.15);\n",
              "      fill: #174EA6;\n",
              "    }\n",
              "\n",
              "    [theme=dark] .colab-df-convert {\n",
              "      background-color: #3B4455;\n",
              "      fill: #D2E3FC;\n",
              "    }\n",
              "\n",
              "    [theme=dark] .colab-df-convert:hover {\n",
              "      background-color: #434B5C;\n",
              "      box-shadow: 0px 1px 3px 1px rgba(0, 0, 0, 0.15);\n",
              "      filter: drop-shadow(0px 1px 2px rgba(0, 0, 0, 0.3));\n",
              "      fill: #FFFFFF;\n",
              "    }\n",
              "  </style>\n",
              "\n",
              "      <script>\n",
              "        const buttonEl =\n",
              "          document.querySelector('#df-5a472648-bd8e-454a-9492-841b5e9e44d8 button.colab-df-convert');\n",
              "        buttonEl.style.display =\n",
              "          google.colab.kernel.accessAllowed ? 'block' : 'none';\n",
              "\n",
              "        async function convertToInteractive(key) {\n",
              "          const element = document.querySelector('#df-5a472648-bd8e-454a-9492-841b5e9e44d8');\n",
              "          const dataTable =\n",
              "            await google.colab.kernel.invokeFunction('convertToInteractive',\n",
              "                                                     [key], {});\n",
              "          if (!dataTable) return;\n",
              "\n",
              "          const docLinkHtml = 'Like what you see? Visit the ' +\n",
              "            '<a target=\"_blank\" href=https://colab.research.google.com/notebooks/data_table.ipynb>data table notebook</a>'\n",
              "            + ' to learn more about interactive tables.';\n",
              "          element.innerHTML = '';\n",
              "          dataTable['output_type'] = 'display_data';\n",
              "          await google.colab.output.renderOutput(dataTable, element);\n",
              "          const docLink = document.createElement('div');\n",
              "          docLink.innerHTML = docLinkHtml;\n",
              "          element.appendChild(docLink);\n",
              "        }\n",
              "      </script>\n",
              "    </div>\n",
              "  </div>\n",
              "  "
            ]
          },
          "metadata": {},
          "execution_count": 42
        }
      ]
    },
    {
      "cell_type": "code",
      "source": [
        "aptos.sort_values(\"precio\", ascending = True).head(6)"
      ],
      "metadata": {
        "colab": {
          "base_uri": "https://localhost:8080/",
          "height": 238
        },
        "id": "bTGTfCvAuNbu",
        "outputId": "03209f62-8883-4474-a42a-011e5983414e"
      },
      "execution_count": 44,
      "outputs": [
        {
          "output_type": "execute_result",
          "data": {
            "text/plain": [
              "     precio     mt2   ubicacion  estrato  alcobas  banos balcon parqueadero  \\\n",
              "644    25.0  118.00    laureles        5        3      2     si          no   \n",
              "347    45.0   53.00  aburra sur        3        3      1     si          no   \n",
              "10     47.0   43.00   occidente        2        2      1     no          no   \n",
              "11     53.0   37.56   occidente        3        3      1     no          si   \n",
              "348    63.0   43.00  aburra sur        3        3      1     no          no   \n",
              "583    67.0   41.00      centro        3        2      1     no          no   \n",
              "\n",
              "     administracion  avaluo terminado  precio/mt2  \n",
              "644           0.000  95.885        si        0.21  \n",
              "347           0.000  23.899        si        0.85  \n",
              "10            0.000  16.486        no        1.09  \n",
              "11            0.000  16.486        si        1.41  \n",
              "348           0.050  41.468        si        1.47  \n",
              "583           0.072  32.045        si        1.63  "
            ],
            "text/html": [
              "\n",
              "  <div id=\"df-ed1ba0b8-237e-40e3-8b13-8bd9332d1b68\">\n",
              "    <div class=\"colab-df-container\">\n",
              "      <div>\n",
              "<style scoped>\n",
              "    .dataframe tbody tr th:only-of-type {\n",
              "        vertical-align: middle;\n",
              "    }\n",
              "\n",
              "    .dataframe tbody tr th {\n",
              "        vertical-align: top;\n",
              "    }\n",
              "\n",
              "    .dataframe thead th {\n",
              "        text-align: right;\n",
              "    }\n",
              "</style>\n",
              "<table border=\"1\" class=\"dataframe\">\n",
              "  <thead>\n",
              "    <tr style=\"text-align: right;\">\n",
              "      <th></th>\n",
              "      <th>precio</th>\n",
              "      <th>mt2</th>\n",
              "      <th>ubicacion</th>\n",
              "      <th>estrato</th>\n",
              "      <th>alcobas</th>\n",
              "      <th>banos</th>\n",
              "      <th>balcon</th>\n",
              "      <th>parqueadero</th>\n",
              "      <th>administracion</th>\n",
              "      <th>avaluo</th>\n",
              "      <th>terminado</th>\n",
              "      <th>precio/mt2</th>\n",
              "    </tr>\n",
              "  </thead>\n",
              "  <tbody>\n",
              "    <tr>\n",
              "      <th>644</th>\n",
              "      <td>25.0</td>\n",
              "      <td>118.00</td>\n",
              "      <td>laureles</td>\n",
              "      <td>5</td>\n",
              "      <td>3</td>\n",
              "      <td>2</td>\n",
              "      <td>si</td>\n",
              "      <td>no</td>\n",
              "      <td>0.000</td>\n",
              "      <td>95.885</td>\n",
              "      <td>si</td>\n",
              "      <td>0.21</td>\n",
              "    </tr>\n",
              "    <tr>\n",
              "      <th>347</th>\n",
              "      <td>45.0</td>\n",
              "      <td>53.00</td>\n",
              "      <td>aburra sur</td>\n",
              "      <td>3</td>\n",
              "      <td>3</td>\n",
              "      <td>1</td>\n",
              "      <td>si</td>\n",
              "      <td>no</td>\n",
              "      <td>0.000</td>\n",
              "      <td>23.899</td>\n",
              "      <td>si</td>\n",
              "      <td>0.85</td>\n",
              "    </tr>\n",
              "    <tr>\n",
              "      <th>10</th>\n",
              "      <td>47.0</td>\n",
              "      <td>43.00</td>\n",
              "      <td>occidente</td>\n",
              "      <td>2</td>\n",
              "      <td>2</td>\n",
              "      <td>1</td>\n",
              "      <td>no</td>\n",
              "      <td>no</td>\n",
              "      <td>0.000</td>\n",
              "      <td>16.486</td>\n",
              "      <td>no</td>\n",
              "      <td>1.09</td>\n",
              "    </tr>\n",
              "    <tr>\n",
              "      <th>11</th>\n",
              "      <td>53.0</td>\n",
              "      <td>37.56</td>\n",
              "      <td>occidente</td>\n",
              "      <td>3</td>\n",
              "      <td>3</td>\n",
              "      <td>1</td>\n",
              "      <td>no</td>\n",
              "      <td>si</td>\n",
              "      <td>0.000</td>\n",
              "      <td>16.486</td>\n",
              "      <td>si</td>\n",
              "      <td>1.41</td>\n",
              "    </tr>\n",
              "    <tr>\n",
              "      <th>348</th>\n",
              "      <td>63.0</td>\n",
              "      <td>43.00</td>\n",
              "      <td>aburra sur</td>\n",
              "      <td>3</td>\n",
              "      <td>3</td>\n",
              "      <td>1</td>\n",
              "      <td>no</td>\n",
              "      <td>no</td>\n",
              "      <td>0.050</td>\n",
              "      <td>41.468</td>\n",
              "      <td>si</td>\n",
              "      <td>1.47</td>\n",
              "    </tr>\n",
              "    <tr>\n",
              "      <th>583</th>\n",
              "      <td>67.0</td>\n",
              "      <td>41.00</td>\n",
              "      <td>centro</td>\n",
              "      <td>3</td>\n",
              "      <td>2</td>\n",
              "      <td>1</td>\n",
              "      <td>no</td>\n",
              "      <td>no</td>\n",
              "      <td>0.072</td>\n",
              "      <td>32.045</td>\n",
              "      <td>si</td>\n",
              "      <td>1.63</td>\n",
              "    </tr>\n",
              "  </tbody>\n",
              "</table>\n",
              "</div>\n",
              "      <button class=\"colab-df-convert\" onclick=\"convertToInteractive('df-ed1ba0b8-237e-40e3-8b13-8bd9332d1b68')\"\n",
              "              title=\"Convert this dataframe to an interactive table.\"\n",
              "              style=\"display:none;\">\n",
              "        \n",
              "  <svg xmlns=\"http://www.w3.org/2000/svg\" height=\"24px\"viewBox=\"0 0 24 24\"\n",
              "       width=\"24px\">\n",
              "    <path d=\"M0 0h24v24H0V0z\" fill=\"none\"/>\n",
              "    <path d=\"M18.56 5.44l.94 2.06.94-2.06 2.06-.94-2.06-.94-.94-2.06-.94 2.06-2.06.94zm-11 1L8.5 8.5l.94-2.06 2.06-.94-2.06-.94L8.5 2.5l-.94 2.06-2.06.94zm10 10l.94 2.06.94-2.06 2.06-.94-2.06-.94-.94-2.06-.94 2.06-2.06.94z\"/><path d=\"M17.41 7.96l-1.37-1.37c-.4-.4-.92-.59-1.43-.59-.52 0-1.04.2-1.43.59L10.3 9.45l-7.72 7.72c-.78.78-.78 2.05 0 2.83L4 21.41c.39.39.9.59 1.41.59.51 0 1.02-.2 1.41-.59l7.78-7.78 2.81-2.81c.8-.78.8-2.07 0-2.86zM5.41 20L4 18.59l7.72-7.72 1.47 1.35L5.41 20z\"/>\n",
              "  </svg>\n",
              "      </button>\n",
              "      \n",
              "  <style>\n",
              "    .colab-df-container {\n",
              "      display:flex;\n",
              "      flex-wrap:wrap;\n",
              "      gap: 12px;\n",
              "    }\n",
              "\n",
              "    .colab-df-convert {\n",
              "      background-color: #E8F0FE;\n",
              "      border: none;\n",
              "      border-radius: 50%;\n",
              "      cursor: pointer;\n",
              "      display: none;\n",
              "      fill: #1967D2;\n",
              "      height: 32px;\n",
              "      padding: 0 0 0 0;\n",
              "      width: 32px;\n",
              "    }\n",
              "\n",
              "    .colab-df-convert:hover {\n",
              "      background-color: #E2EBFA;\n",
              "      box-shadow: 0px 1px 2px rgba(60, 64, 67, 0.3), 0px 1px 3px 1px rgba(60, 64, 67, 0.15);\n",
              "      fill: #174EA6;\n",
              "    }\n",
              "\n",
              "    [theme=dark] .colab-df-convert {\n",
              "      background-color: #3B4455;\n",
              "      fill: #D2E3FC;\n",
              "    }\n",
              "\n",
              "    [theme=dark] .colab-df-convert:hover {\n",
              "      background-color: #434B5C;\n",
              "      box-shadow: 0px 1px 3px 1px rgba(0, 0, 0, 0.15);\n",
              "      filter: drop-shadow(0px 1px 2px rgba(0, 0, 0, 0.3));\n",
              "      fill: #FFFFFF;\n",
              "    }\n",
              "  </style>\n",
              "\n",
              "      <script>\n",
              "        const buttonEl =\n",
              "          document.querySelector('#df-ed1ba0b8-237e-40e3-8b13-8bd9332d1b68 button.colab-df-convert');\n",
              "        buttonEl.style.display =\n",
              "          google.colab.kernel.accessAllowed ? 'block' : 'none';\n",
              "\n",
              "        async function convertToInteractive(key) {\n",
              "          const element = document.querySelector('#df-ed1ba0b8-237e-40e3-8b13-8bd9332d1b68');\n",
              "          const dataTable =\n",
              "            await google.colab.kernel.invokeFunction('convertToInteractive',\n",
              "                                                     [key], {});\n",
              "          if (!dataTable) return;\n",
              "\n",
              "          const docLinkHtml = 'Like what you see? Visit the ' +\n",
              "            '<a target=\"_blank\" href=https://colab.research.google.com/notebooks/data_table.ipynb>data table notebook</a>'\n",
              "            + ' to learn more about interactive tables.';\n",
              "          element.innerHTML = '';\n",
              "          dataTable['output_type'] = 'display_data';\n",
              "          await google.colab.output.renderOutput(dataTable, element);\n",
              "          const docLink = document.createElement('div');\n",
              "          docLink.innerHTML = docLinkHtml;\n",
              "          element.appendChild(docLink);\n",
              "        }\n",
              "      </script>\n",
              "    </div>\n",
              "  </div>\n",
              "  "
            ]
          },
          "metadata": {},
          "execution_count": 44
        }
      ]
    },
    {
      "cell_type": "code",
      "source": [
        "aptos.sort_values(\"precio\", ascending = False).head(6)"
      ],
      "metadata": {
        "id": "bS9j8xgSfsJH",
        "colab": {
          "base_uri": "https://localhost:8080/",
          "height": 238
        },
        "outputId": "9254f0ac-cac4-45c5-8f69-cfd6dbc9aada"
      },
      "execution_count": 43,
      "outputs": [
        {
          "output_type": "execute_result",
          "data": {
            "text/plain": [
              "     precio     mt2 ubicacion  estrato  alcobas  banos balcon parqueadero  \\\n",
              "346  1700.0  399.00   poblado        6        3      3     no          si   \n",
              "345  1490.0  445.00   poblado        6        5      4     si          si   \n",
              "344  1450.0  238.19   poblado        6        4      4     si          si   \n",
              "343  1450.0  318.00   poblado        6        3      3     si          si   \n",
              "342  1430.0  291.00   poblado        6        3      3     si          si   \n",
              "341  1400.0  373.00   poblado        6        3      3     si          si   \n",
              "\n",
              "     administracion   avaluo terminado  precio/mt2  \n",
              "346          0.9340  701.731        si        4.26  \n",
              "345          0.7490  701.731        si        3.35  \n",
              "344          0.8286  675.072        si        6.09  \n",
              "343          0.7490  611.027        si        4.56  \n",
              "342          0.7490  701.731        si        4.91  \n",
              "341          0.7490  713.786        si        3.75  "
            ],
            "text/html": [
              "\n",
              "  <div id=\"df-221f2629-a42f-4e73-8b29-3f22d6afd1cd\">\n",
              "    <div class=\"colab-df-container\">\n",
              "      <div>\n",
              "<style scoped>\n",
              "    .dataframe tbody tr th:only-of-type {\n",
              "        vertical-align: middle;\n",
              "    }\n",
              "\n",
              "    .dataframe tbody tr th {\n",
              "        vertical-align: top;\n",
              "    }\n",
              "\n",
              "    .dataframe thead th {\n",
              "        text-align: right;\n",
              "    }\n",
              "</style>\n",
              "<table border=\"1\" class=\"dataframe\">\n",
              "  <thead>\n",
              "    <tr style=\"text-align: right;\">\n",
              "      <th></th>\n",
              "      <th>precio</th>\n",
              "      <th>mt2</th>\n",
              "      <th>ubicacion</th>\n",
              "      <th>estrato</th>\n",
              "      <th>alcobas</th>\n",
              "      <th>banos</th>\n",
              "      <th>balcon</th>\n",
              "      <th>parqueadero</th>\n",
              "      <th>administracion</th>\n",
              "      <th>avaluo</th>\n",
              "      <th>terminado</th>\n",
              "      <th>precio/mt2</th>\n",
              "    </tr>\n",
              "  </thead>\n",
              "  <tbody>\n",
              "    <tr>\n",
              "      <th>346</th>\n",
              "      <td>1700.0</td>\n",
              "      <td>399.00</td>\n",
              "      <td>poblado</td>\n",
              "      <td>6</td>\n",
              "      <td>3</td>\n",
              "      <td>3</td>\n",
              "      <td>no</td>\n",
              "      <td>si</td>\n",
              "      <td>0.9340</td>\n",
              "      <td>701.731</td>\n",
              "      <td>si</td>\n",
              "      <td>4.26</td>\n",
              "    </tr>\n",
              "    <tr>\n",
              "      <th>345</th>\n",
              "      <td>1490.0</td>\n",
              "      <td>445.00</td>\n",
              "      <td>poblado</td>\n",
              "      <td>6</td>\n",
              "      <td>5</td>\n",
              "      <td>4</td>\n",
              "      <td>si</td>\n",
              "      <td>si</td>\n",
              "      <td>0.7490</td>\n",
              "      <td>701.731</td>\n",
              "      <td>si</td>\n",
              "      <td>3.35</td>\n",
              "    </tr>\n",
              "    <tr>\n",
              "      <th>344</th>\n",
              "      <td>1450.0</td>\n",
              "      <td>238.19</td>\n",
              "      <td>poblado</td>\n",
              "      <td>6</td>\n",
              "      <td>4</td>\n",
              "      <td>4</td>\n",
              "      <td>si</td>\n",
              "      <td>si</td>\n",
              "      <td>0.8286</td>\n",
              "      <td>675.072</td>\n",
              "      <td>si</td>\n",
              "      <td>6.09</td>\n",
              "    </tr>\n",
              "    <tr>\n",
              "      <th>343</th>\n",
              "      <td>1450.0</td>\n",
              "      <td>318.00</td>\n",
              "      <td>poblado</td>\n",
              "      <td>6</td>\n",
              "      <td>3</td>\n",
              "      <td>3</td>\n",
              "      <td>si</td>\n",
              "      <td>si</td>\n",
              "      <td>0.7490</td>\n",
              "      <td>611.027</td>\n",
              "      <td>si</td>\n",
              "      <td>4.56</td>\n",
              "    </tr>\n",
              "    <tr>\n",
              "      <th>342</th>\n",
              "      <td>1430.0</td>\n",
              "      <td>291.00</td>\n",
              "      <td>poblado</td>\n",
              "      <td>6</td>\n",
              "      <td>3</td>\n",
              "      <td>3</td>\n",
              "      <td>si</td>\n",
              "      <td>si</td>\n",
              "      <td>0.7490</td>\n",
              "      <td>701.731</td>\n",
              "      <td>si</td>\n",
              "      <td>4.91</td>\n",
              "    </tr>\n",
              "    <tr>\n",
              "      <th>341</th>\n",
              "      <td>1400.0</td>\n",
              "      <td>373.00</td>\n",
              "      <td>poblado</td>\n",
              "      <td>6</td>\n",
              "      <td>3</td>\n",
              "      <td>3</td>\n",
              "      <td>si</td>\n",
              "      <td>si</td>\n",
              "      <td>0.7490</td>\n",
              "      <td>713.786</td>\n",
              "      <td>si</td>\n",
              "      <td>3.75</td>\n",
              "    </tr>\n",
              "  </tbody>\n",
              "</table>\n",
              "</div>\n",
              "      <button class=\"colab-df-convert\" onclick=\"convertToInteractive('df-221f2629-a42f-4e73-8b29-3f22d6afd1cd')\"\n",
              "              title=\"Convert this dataframe to an interactive table.\"\n",
              "              style=\"display:none;\">\n",
              "        \n",
              "  <svg xmlns=\"http://www.w3.org/2000/svg\" height=\"24px\"viewBox=\"0 0 24 24\"\n",
              "       width=\"24px\">\n",
              "    <path d=\"M0 0h24v24H0V0z\" fill=\"none\"/>\n",
              "    <path d=\"M18.56 5.44l.94 2.06.94-2.06 2.06-.94-2.06-.94-.94-2.06-.94 2.06-2.06.94zm-11 1L8.5 8.5l.94-2.06 2.06-.94-2.06-.94L8.5 2.5l-.94 2.06-2.06.94zm10 10l.94 2.06.94-2.06 2.06-.94-2.06-.94-.94-2.06-.94 2.06-2.06.94z\"/><path d=\"M17.41 7.96l-1.37-1.37c-.4-.4-.92-.59-1.43-.59-.52 0-1.04.2-1.43.59L10.3 9.45l-7.72 7.72c-.78.78-.78 2.05 0 2.83L4 21.41c.39.39.9.59 1.41.59.51 0 1.02-.2 1.41-.59l7.78-7.78 2.81-2.81c.8-.78.8-2.07 0-2.86zM5.41 20L4 18.59l7.72-7.72 1.47 1.35L5.41 20z\"/>\n",
              "  </svg>\n",
              "      </button>\n",
              "      \n",
              "  <style>\n",
              "    .colab-df-container {\n",
              "      display:flex;\n",
              "      flex-wrap:wrap;\n",
              "      gap: 12px;\n",
              "    }\n",
              "\n",
              "    .colab-df-convert {\n",
              "      background-color: #E8F0FE;\n",
              "      border: none;\n",
              "      border-radius: 50%;\n",
              "      cursor: pointer;\n",
              "      display: none;\n",
              "      fill: #1967D2;\n",
              "      height: 32px;\n",
              "      padding: 0 0 0 0;\n",
              "      width: 32px;\n",
              "    }\n",
              "\n",
              "    .colab-df-convert:hover {\n",
              "      background-color: #E2EBFA;\n",
              "      box-shadow: 0px 1px 2px rgba(60, 64, 67, 0.3), 0px 1px 3px 1px rgba(60, 64, 67, 0.15);\n",
              "      fill: #174EA6;\n",
              "    }\n",
              "\n",
              "    [theme=dark] .colab-df-convert {\n",
              "      background-color: #3B4455;\n",
              "      fill: #D2E3FC;\n",
              "    }\n",
              "\n",
              "    [theme=dark] .colab-df-convert:hover {\n",
              "      background-color: #434B5C;\n",
              "      box-shadow: 0px 1px 3px 1px rgba(0, 0, 0, 0.15);\n",
              "      filter: drop-shadow(0px 1px 2px rgba(0, 0, 0, 0.3));\n",
              "      fill: #FFFFFF;\n",
              "    }\n",
              "  </style>\n",
              "\n",
              "      <script>\n",
              "        const buttonEl =\n",
              "          document.querySelector('#df-221f2629-a42f-4e73-8b29-3f22d6afd1cd button.colab-df-convert');\n",
              "        buttonEl.style.display =\n",
              "          google.colab.kernel.accessAllowed ? 'block' : 'none';\n",
              "\n",
              "        async function convertToInteractive(key) {\n",
              "          const element = document.querySelector('#df-221f2629-a42f-4e73-8b29-3f22d6afd1cd');\n",
              "          const dataTable =\n",
              "            await google.colab.kernel.invokeFunction('convertToInteractive',\n",
              "                                                     [key], {});\n",
              "          if (!dataTable) return;\n",
              "\n",
              "          const docLinkHtml = 'Like what you see? Visit the ' +\n",
              "            '<a target=\"_blank\" href=https://colab.research.google.com/notebooks/data_table.ipynb>data table notebook</a>'\n",
              "            + ' to learn more about interactive tables.';\n",
              "          element.innerHTML = '';\n",
              "          dataTable['output_type'] = 'display_data';\n",
              "          await google.colab.output.renderOutput(dataTable, element);\n",
              "          const docLink = document.createElement('div');\n",
              "          docLink.innerHTML = docLinkHtml;\n",
              "          element.appendChild(docLink);\n",
              "        }\n",
              "      </script>\n",
              "    </div>\n",
              "  </div>\n",
              "  "
            ]
          },
          "metadata": {},
          "execution_count": 43
        }
      ]
    },
    {
      "cell_type": "code",
      "source": [
        "U = aptos.rename(columns={\"administracion\" : \"admon\"}, inplace=False) ; U.head(5)"
      ],
      "metadata": {
        "id": "1IIMQPBlf7pX",
        "colab": {
          "base_uri": "https://localhost:8080/",
          "height": 206
        },
        "outputId": "3bf68a11-2cbb-44e3-d695-36c53586cd73"
      },
      "execution_count": 45,
      "outputs": [
        {
          "output_type": "execute_result",
          "data": {
            "text/plain": [
              "   precio    mt2 ubicacion  estrato  alcobas  banos balcon parqueadero  admon  \\\n",
              "0    79.0  43.16     norte        3        3      1     si          si  0.050   \n",
              "1    93.0  56.92     norte        2        2      1     si          si  0.069   \n",
              "2   100.0  66.40     norte        3        2      2     no          no  0.000   \n",
              "3   123.0  61.85     norte        2        3      2     si          si  0.130   \n",
              "4   135.0  89.80     norte        4        3      2     si          no  0.000   \n",
              "\n",
              "      avaluo terminado  precio/mt2  \n",
              "0  14.923002        no        1.83  \n",
              "1  27.000000        si        1.63  \n",
              "2  15.738427        no        1.51  \n",
              "3  27.000000        no        1.99  \n",
              "4  39.567000        si        1.50  "
            ],
            "text/html": [
              "\n",
              "  <div id=\"df-7ad93682-547d-4553-a952-434e70cd7354\">\n",
              "    <div class=\"colab-df-container\">\n",
              "      <div>\n",
              "<style scoped>\n",
              "    .dataframe tbody tr th:only-of-type {\n",
              "        vertical-align: middle;\n",
              "    }\n",
              "\n",
              "    .dataframe tbody tr th {\n",
              "        vertical-align: top;\n",
              "    }\n",
              "\n",
              "    .dataframe thead th {\n",
              "        text-align: right;\n",
              "    }\n",
              "</style>\n",
              "<table border=\"1\" class=\"dataframe\">\n",
              "  <thead>\n",
              "    <tr style=\"text-align: right;\">\n",
              "      <th></th>\n",
              "      <th>precio</th>\n",
              "      <th>mt2</th>\n",
              "      <th>ubicacion</th>\n",
              "      <th>estrato</th>\n",
              "      <th>alcobas</th>\n",
              "      <th>banos</th>\n",
              "      <th>balcon</th>\n",
              "      <th>parqueadero</th>\n",
              "      <th>admon</th>\n",
              "      <th>avaluo</th>\n",
              "      <th>terminado</th>\n",
              "      <th>precio/mt2</th>\n",
              "    </tr>\n",
              "  </thead>\n",
              "  <tbody>\n",
              "    <tr>\n",
              "      <th>0</th>\n",
              "      <td>79.0</td>\n",
              "      <td>43.16</td>\n",
              "      <td>norte</td>\n",
              "      <td>3</td>\n",
              "      <td>3</td>\n",
              "      <td>1</td>\n",
              "      <td>si</td>\n",
              "      <td>si</td>\n",
              "      <td>0.050</td>\n",
              "      <td>14.923002</td>\n",
              "      <td>no</td>\n",
              "      <td>1.83</td>\n",
              "    </tr>\n",
              "    <tr>\n",
              "      <th>1</th>\n",
              "      <td>93.0</td>\n",
              "      <td>56.92</td>\n",
              "      <td>norte</td>\n",
              "      <td>2</td>\n",
              "      <td>2</td>\n",
              "      <td>1</td>\n",
              "      <td>si</td>\n",
              "      <td>si</td>\n",
              "      <td>0.069</td>\n",
              "      <td>27.000000</td>\n",
              "      <td>si</td>\n",
              "      <td>1.63</td>\n",
              "    </tr>\n",
              "    <tr>\n",
              "      <th>2</th>\n",
              "      <td>100.0</td>\n",
              "      <td>66.40</td>\n",
              "      <td>norte</td>\n",
              "      <td>3</td>\n",
              "      <td>2</td>\n",
              "      <td>2</td>\n",
              "      <td>no</td>\n",
              "      <td>no</td>\n",
              "      <td>0.000</td>\n",
              "      <td>15.738427</td>\n",
              "      <td>no</td>\n",
              "      <td>1.51</td>\n",
              "    </tr>\n",
              "    <tr>\n",
              "      <th>3</th>\n",
              "      <td>123.0</td>\n",
              "      <td>61.85</td>\n",
              "      <td>norte</td>\n",
              "      <td>2</td>\n",
              "      <td>3</td>\n",
              "      <td>2</td>\n",
              "      <td>si</td>\n",
              "      <td>si</td>\n",
              "      <td>0.130</td>\n",
              "      <td>27.000000</td>\n",
              "      <td>no</td>\n",
              "      <td>1.99</td>\n",
              "    </tr>\n",
              "    <tr>\n",
              "      <th>4</th>\n",
              "      <td>135.0</td>\n",
              "      <td>89.80</td>\n",
              "      <td>norte</td>\n",
              "      <td>4</td>\n",
              "      <td>3</td>\n",
              "      <td>2</td>\n",
              "      <td>si</td>\n",
              "      <td>no</td>\n",
              "      <td>0.000</td>\n",
              "      <td>39.567000</td>\n",
              "      <td>si</td>\n",
              "      <td>1.50</td>\n",
              "    </tr>\n",
              "  </tbody>\n",
              "</table>\n",
              "</div>\n",
              "      <button class=\"colab-df-convert\" onclick=\"convertToInteractive('df-7ad93682-547d-4553-a952-434e70cd7354')\"\n",
              "              title=\"Convert this dataframe to an interactive table.\"\n",
              "              style=\"display:none;\">\n",
              "        \n",
              "  <svg xmlns=\"http://www.w3.org/2000/svg\" height=\"24px\"viewBox=\"0 0 24 24\"\n",
              "       width=\"24px\">\n",
              "    <path d=\"M0 0h24v24H0V0z\" fill=\"none\"/>\n",
              "    <path d=\"M18.56 5.44l.94 2.06.94-2.06 2.06-.94-2.06-.94-.94-2.06-.94 2.06-2.06.94zm-11 1L8.5 8.5l.94-2.06 2.06-.94-2.06-.94L8.5 2.5l-.94 2.06-2.06.94zm10 10l.94 2.06.94-2.06 2.06-.94-2.06-.94-.94-2.06-.94 2.06-2.06.94z\"/><path d=\"M17.41 7.96l-1.37-1.37c-.4-.4-.92-.59-1.43-.59-.52 0-1.04.2-1.43.59L10.3 9.45l-7.72 7.72c-.78.78-.78 2.05 0 2.83L4 21.41c.39.39.9.59 1.41.59.51 0 1.02-.2 1.41-.59l7.78-7.78 2.81-2.81c.8-.78.8-2.07 0-2.86zM5.41 20L4 18.59l7.72-7.72 1.47 1.35L5.41 20z\"/>\n",
              "  </svg>\n",
              "      </button>\n",
              "      \n",
              "  <style>\n",
              "    .colab-df-container {\n",
              "      display:flex;\n",
              "      flex-wrap:wrap;\n",
              "      gap: 12px;\n",
              "    }\n",
              "\n",
              "    .colab-df-convert {\n",
              "      background-color: #E8F0FE;\n",
              "      border: none;\n",
              "      border-radius: 50%;\n",
              "      cursor: pointer;\n",
              "      display: none;\n",
              "      fill: #1967D2;\n",
              "      height: 32px;\n",
              "      padding: 0 0 0 0;\n",
              "      width: 32px;\n",
              "    }\n",
              "\n",
              "    .colab-df-convert:hover {\n",
              "      background-color: #E2EBFA;\n",
              "      box-shadow: 0px 1px 2px rgba(60, 64, 67, 0.3), 0px 1px 3px 1px rgba(60, 64, 67, 0.15);\n",
              "      fill: #174EA6;\n",
              "    }\n",
              "\n",
              "    [theme=dark] .colab-df-convert {\n",
              "      background-color: #3B4455;\n",
              "      fill: #D2E3FC;\n",
              "    }\n",
              "\n",
              "    [theme=dark] .colab-df-convert:hover {\n",
              "      background-color: #434B5C;\n",
              "      box-shadow: 0px 1px 3px 1px rgba(0, 0, 0, 0.15);\n",
              "      filter: drop-shadow(0px 1px 2px rgba(0, 0, 0, 0.3));\n",
              "      fill: #FFFFFF;\n",
              "    }\n",
              "  </style>\n",
              "\n",
              "      <script>\n",
              "        const buttonEl =\n",
              "          document.querySelector('#df-7ad93682-547d-4553-a952-434e70cd7354 button.colab-df-convert');\n",
              "        buttonEl.style.display =\n",
              "          google.colab.kernel.accessAllowed ? 'block' : 'none';\n",
              "\n",
              "        async function convertToInteractive(key) {\n",
              "          const element = document.querySelector('#df-7ad93682-547d-4553-a952-434e70cd7354');\n",
              "          const dataTable =\n",
              "            await google.colab.kernel.invokeFunction('convertToInteractive',\n",
              "                                                     [key], {});\n",
              "          if (!dataTable) return;\n",
              "\n",
              "          const docLinkHtml = 'Like what you see? Visit the ' +\n",
              "            '<a target=\"_blank\" href=https://colab.research.google.com/notebooks/data_table.ipynb>data table notebook</a>'\n",
              "            + ' to learn more about interactive tables.';\n",
              "          element.innerHTML = '';\n",
              "          dataTable['output_type'] = 'display_data';\n",
              "          await google.colab.output.renderOutput(dataTable, element);\n",
              "          const docLink = document.createElement('div');\n",
              "          docLink.innerHTML = docLinkHtml;\n",
              "          element.appendChild(docLink);\n",
              "        }\n",
              "      </script>\n",
              "    </div>\n",
              "  </div>\n",
              "  "
            ]
          },
          "metadata": {},
          "execution_count": 45
        }
      ]
    },
    {
      "cell_type": "code",
      "source": [
        "box = px.box({\"ubicacion\": aptos.ubicacion, \n",
        "              \"precio\": aptos.precio}, x=\"ubicacion\" , y =\"precio\"\n",
        "             )\n",
        "box.show()"
      ],
      "metadata": {
        "colab": {
          "base_uri": "https://localhost:8080/",
          "height": 542
        },
        "id": "HZgVnMtbzmNP",
        "outputId": "dab34f1d-a799-4e46-a95a-941fa2e27dbc"
      },
      "execution_count": 48,
      "outputs": [
        {
          "output_type": "display_data",
          "data": {
            "text/html": [
              "<html>\n",
              "<head><meta charset=\"utf-8\" /></head>\n",
              "<body>\n",
              "    <div>            <script src=\"https://cdnjs.cloudflare.com/ajax/libs/mathjax/2.7.5/MathJax.js?config=TeX-AMS-MML_SVG\"></script><script type=\"text/javascript\">if (window.MathJax) {MathJax.Hub.Config({SVG: {font: \"STIX-Web\"}});}</script>                <script type=\"text/javascript\">window.PlotlyConfig = {MathJaxConfig: 'local'};</script>\n",
              "        <script src=\"https://cdn.plot.ly/plotly-2.8.3.min.js\"></script>                <div id=\"850f0559-066c-4481-9b4b-2650f9c3537c\" class=\"plotly-graph-div\" style=\"height:525px; width:100%;\"></div>            <script type=\"text/javascript\">                                    window.PLOTLYENV=window.PLOTLYENV || {};                                    if (document.getElementById(\"850f0559-066c-4481-9b4b-2650f9c3537c\")) {                    Plotly.newPlot(                        \"850f0559-066c-4481-9b4b-2650f9c3537c\",                        [{\"alignmentgroup\":\"True\",\"hovertemplate\":\"ubicacion=%{x}<br>precio=%{y}<extra></extra>\",\"legendgroup\":\"\",\"marker\":{\"color\":\"#636efa\"},\"name\":\"\",\"notched\":false,\"offsetgroup\":\"\",\"orientation\":\"v\",\"showlegend\":false,\"x\":[\"norte\",\"norte\",\"norte\",\"norte\",\"norte\",\"norte\",\"norte\",\"norte\",\"norte\",\"norte\",\"occidente\",\"occidente\",\"occidente\",\"occidente\",\"occidente\",\"occidente\",\"occidente\",\"occidente\",\"occidente\",\"occidente\",\"occidente\",\"occidente\",\"occidente\",\"occidente\",\"occidente\",\"occidente\",\"occidente\",\"occidente\",\"occidente\",\"occidente\",\"occidente\",\"occidente\",\"occidente\",\"occidente\",\"occidente\",\"occidente\",\"occidente\",\"occidente\",\"occidente\",\"occidente\",\"occidente\",\"occidente\",\"occidente\",\"occidente\",\"occidente\",\"occidente\",\"occidente\",\"occidente\",\"occidente\",\"occidente\",\"occidente\",\"occidente\",\"occidente\",\"occidente\",\"occidente\",\"occidente\",\"occidente\",\"occidente\",\"occidente\",\"occidente\",\"occidente\",\"occidente\",\"occidente\",\"occidente\",\"occidente\",\"occidente\",\"occidente\",\"occidente\",\"occidente\",\"occidente\",\"occidente\",\"occidente\",\"occidente\",\"occidente\",\"occidente\",\"occidente\",\"occidente\",\"occidente\",\"occidente\",\"poblado\",\"poblado\",\"poblado\",\"poblado\",\"poblado\",\"poblado\",\"poblado\",\"poblado\",\"poblado\",\"poblado\",\"poblado\",\"poblado\",\"poblado\",\"poblado\",\"poblado\",\"poblado\",\"poblado\",\"poblado\",\"poblado\",\"poblado\",\"poblado\",\"poblado\",\"poblado\",\"poblado\",\"poblado\",\"poblado\",\"poblado\",\"poblado\",\"poblado\",\"poblado\",\"poblado\",\"poblado\",\"poblado\",\"poblado\",\"poblado\",\"poblado\",\"poblado\",\"poblado\",\"poblado\",\"poblado\",\"poblado\",\"poblado\",\"poblado\",\"poblado\",\"poblado\",\"poblado\",\"poblado\",\"poblado\",\"poblado\",\"poblado\",\"poblado\",\"poblado\",\"poblado\",\"poblado\",\"poblado\",\"poblado\",\"poblado\",\"poblado\",\"poblado\",\"poblado\",\"poblado\",\"poblado\",\"poblado\",\"poblado\",\"poblado\",\"poblado\",\"poblado\",\"poblado\",\"poblado\",\"poblado\",\"poblado\",\"poblado\",\"poblado\",\"poblado\",\"poblado\",\"poblado\",\"poblado\",\"poblado\",\"poblado\",\"poblado\",\"poblado\",\"poblado\",\"poblado\",\"poblado\",\"poblado\",\"poblado\",\"poblado\",\"poblado\",\"poblado\",\"poblado\",\"poblado\",\"poblado\",\"poblado\",\"poblado\",\"poblado\",\"poblado\",\"poblado\",\"poblado\",\"poblado\",\"poblado\",\"poblado\",\"poblado\",\"poblado\",\"poblado\",\"poblado\",\"poblado\",\"poblado\",\"poblado\",\"poblado\",\"poblado\",\"poblado\",\"poblado\",\"poblado\",\"poblado\",\"poblado\",\"poblado\",\"poblado\",\"poblado\",\"poblado\",\"poblado\",\"poblado\",\"poblado\",\"poblado\",\"poblado\",\"poblado\",\"poblado\",\"poblado\",\"poblado\",\"poblado\",\"poblado\",\"poblado\",\"poblado\",\"poblado\",\"poblado\",\"poblado\",\"poblado\",\"poblado\",\"poblado\",\"poblado\",\"poblado\",\"poblado\",\"poblado\",\"poblado\",\"poblado\",\"poblado\",\"poblado\",\"poblado\",\"poblado\",\"poblado\",\"poblado\",\"poblado\",\"poblado\",\"poblado\",\"poblado\",\"poblado\",\"poblado\",\"poblado\",\"poblado\",\"poblado\",\"poblado\",\"poblado\",\"poblado\",\"poblado\",\"poblado\",\"poblado\",\"poblado\",\"poblado\",\"poblado\",\"poblado\",\"poblado\",\"poblado\",\"poblado\",\"poblado\",\"poblado\",\"poblado\",\"poblado\",\"poblado\",\"poblado\",\"poblado\",\"poblado\",\"poblado\",\"poblado\",\"poblado\",\"poblado\",\"poblado\",\"poblado\",\"poblado\",\"poblado\",\"poblado\",\"poblado\",\"poblado\",\"poblado\",\"poblado\",\"poblado\",\"poblado\",\"poblado\",\"poblado\",\"poblado\",\"poblado\",\"poblado\",\"poblado\",\"poblado\",\"poblado\",\"poblado\",\"poblado\",\"poblado\",\"poblado\",\"poblado\",\"poblado\",\"poblado\",\"poblado\",\"poblado\",\"poblado\",\"poblado\",\"poblado\",\"poblado\",\"poblado\",\"poblado\",\"poblado\",\"poblado\",\"poblado\",\"poblado\",\"poblado\",\"poblado\",\"poblado\",\"poblado\",\"poblado\",\"poblado\",\"poblado\",\"poblado\",\"poblado\",\"poblado\",\"poblado\",\"poblado\",\"poblado\",\"poblado\",\"poblado\",\"poblado\",\"poblado\",\"poblado\",\"poblado\",\"poblado\",\"poblado\",\"poblado\",\"poblado\",\"poblado\",\"poblado\",\"poblado\",\"poblado\",\"poblado\",\"poblado\",\"poblado\",\"poblado\",\"poblado\",\"poblado\",\"poblado\",\"poblado\",\"poblado\",\"poblado\",\"poblado\",\"poblado\",\"poblado\",\"poblado\",\"poblado\",\"poblado\",\"poblado\",\"poblado\",\"poblado\",\"aburra sur\",\"aburra sur\",\"aburra sur\",\"aburra sur\",\"aburra sur\",\"aburra sur\",\"aburra sur\",\"aburra sur\",\"aburra sur\",\"aburra sur\",\"aburra sur\",\"aburra sur\",\"aburra sur\",\"aburra sur\",\"aburra sur\",\"aburra sur\",\"aburra sur\",\"aburra sur\",\"aburra sur\",\"aburra sur\",\"aburra sur\",\"aburra sur\",\"aburra sur\",\"aburra sur\",\"aburra sur\",\"aburra sur\",\"aburra sur\",\"aburra sur\",\"aburra sur\",\"aburra sur\",\"aburra sur\",\"aburra sur\",\"aburra sur\",\"aburra sur\",\"aburra sur\",\"aburra sur\",\"aburra sur\",\"aburra sur\",\"aburra sur\",\"aburra sur\",\"aburra sur\",\"aburra sur\",\"aburra sur\",\"aburra sur\",\"aburra sur\",\"aburra sur\",\"aburra sur\",\"aburra sur\",\"aburra sur\",\"aburra sur\",\"aburra sur\",\"aburra sur\",\"aburra sur\",\"aburra sur\",\"aburra sur\",\"aburra sur\",\"aburra sur\",\"aburra sur\",\"aburra sur\",\"aburra sur\",\"aburra sur\",\"aburra sur\",\"aburra sur\",\"aburra sur\",\"aburra sur\",\"aburra sur\",\"aburra sur\",\"aburra sur\",\"aburra sur\",\"aburra sur\",\"aburra sur\",\"aburra sur\",\"aburra sur\",\"aburra sur\",\"aburra sur\",\"aburra sur\",\"aburra sur\",\"aburra sur\",\"aburra sur\",\"aburra sur\",\"aburra sur\",\"aburra sur\",\"aburra sur\",\"aburra sur\",\"aburra sur\",\"aburra sur\",\"aburra sur\",\"aburra sur\",\"aburra sur\",\"aburra sur\",\"aburra sur\",\"aburra sur\",\"aburra sur\",\"aburra sur\",\"aburra sur\",\"aburra sur\",\"aburra sur\",\"aburra sur\",\"aburra sur\",\"aburra sur\",\"aburra sur\",\"aburra sur\",\"aburra sur\",\"aburra sur\",\"aburra sur\",\"aburra sur\",\"aburra sur\",\"aburra sur\",\"aburra sur\",\"aburra sur\",\"aburra sur\",\"aburra sur\",\"aburra sur\",\"aburra sur\",\"aburra sur\",\"aburra sur\",\"aburra sur\",\"aburra sur\",\"aburra sur\",\"aburra sur\",\"aburra sur\",\"aburra sur\",\"aburra sur\",\"aburra sur\",\"aburra sur\",\"aburra sur\",\"aburra sur\",\"aburra sur\",\"aburra sur\",\"aburra sur\",\"aburra sur\",\"aburra sur\",\"aburra sur\",\"aburra sur\",\"aburra sur\",\"aburra sur\",\"aburra sur\",\"aburra sur\",\"aburra sur\",\"aburra sur\",\"aburra sur\",\"aburra sur\",\"aburra sur\",\"aburra sur\",\"aburra sur\",\"aburra sur\",\"aburra sur\",\"aburra sur\",\"aburra sur\",\"aburra sur\",\"aburra sur\",\"aburra sur\",\"aburra sur\",\"aburra sur\",\"aburra sur\",\"aburra sur\",\"aburra sur\",\"aburra sur\",\"aburra sur\",\"aburra sur\",\"aburra sur\",\"aburra sur\",\"aburra sur\",\"aburra sur\",\"aburra sur\",\"aburra sur\",\"aburra sur\",\"aburra sur\",\"aburra sur\",\"belen guayabal\",\"belen guayabal\",\"belen guayabal\",\"belen guayabal\",\"belen guayabal\",\"belen guayabal\",\"belen guayabal\",\"belen guayabal\",\"belen guayabal\",\"belen guayabal\",\"belen guayabal\",\"belen guayabal\",\"belen guayabal\",\"belen guayabal\",\"belen guayabal\",\"belen guayabal\",\"belen guayabal\",\"belen guayabal\",\"belen guayabal\",\"belen guayabal\",\"belen guayabal\",\"belen guayabal\",\"belen guayabal\",\"belen guayabal\",\"belen guayabal\",\"belen guayabal\",\"belen guayabal\",\"belen guayabal\",\"belen guayabal\",\"belen guayabal\",\"belen guayabal\",\"belen guayabal\",\"belen guayabal\",\"belen guayabal\",\"belen guayabal\",\"belen guayabal\",\"belen guayabal\",\"belen guayabal\",\"belen guayabal\",\"belen guayabal\",\"belen guayabal\",\"belen guayabal\",\"belen guayabal\",\"belen guayabal\",\"belen guayabal\",\"belen guayabal\",\"belen guayabal\",\"belen guayabal\",\"belen guayabal\",\"belen guayabal\",\"belen guayabal\",\"belen guayabal\",\"belen guayabal\",\"belen guayabal\",\"belen guayabal\",\"belen guayabal\",\"belen guayabal\",\"belen guayabal\",\"belen guayabal\",\"belen guayabal\",\"belen guayabal\",\"belen guayabal\",\"belen guayabal\",\"belen guayabal\",\"belen guayabal\",\"belen guayabal\",\"belen guayabal\",\"centro\",\"centro\",\"centro\",\"centro\",\"centro\",\"centro\",\"centro\",\"centro\",\"centro\",\"centro\",\"centro\",\"centro\",\"centro\",\"centro\",\"centro\",\"centro\",\"centro\",\"centro\",\"centro\",\"centro\",\"centro\",\"centro\",\"centro\",\"centro\",\"centro\",\"centro\",\"centro\",\"centro\",\"centro\",\"centro\",\"centro\",\"centro\",\"centro\",\"centro\",\"centro\",\"centro\",\"centro\",\"centro\",\"laureles\",\"laureles\",\"laureles\",\"laureles\",\"laureles\",\"laureles\",\"laureles\",\"laureles\",\"laureles\",\"laureles\",\"laureles\",\"laureles\",\"laureles\",\"laureles\",\"laureles\",\"laureles\",\"laureles\",\"laureles\",\"laureles\",\"laureles\",\"laureles\",\"laureles\",\"laureles\",\"laureles\",\"laureles\",\"laureles\",\"laureles\",\"laureles\",\"laureles\",\"laureles\",\"laureles\",\"laureles\",\"laureles\",\"laureles\",\"laureles\",\"laureles\",\"laureles\",\"laureles\",\"laureles\",\"laureles\",\"laureles\",\"laureles\",\"laureles\",\"laureles\",\"laureles\",\"laureles\",\"laureles\",\"laureles\",\"laureles\",\"laureles\",\"laureles\",\"laureles\",\"laureles\",\"laureles\",\"laureles\",\"laureles\",\"laureles\",\"laureles\",\"laureles\",\"laureles\",\"laureles\",\"laureles\",\"laureles\",\"laureles\",\"laureles\",\"laureles\",\"laureles\",\"laureles\",\"laureles\",\"laureles\",\"laureles\",\"laureles\",\"laureles\"],\"x0\":\" \",\"xaxis\":\"x\",\"y\":[79.0,93.0,100.0,123.0,135.0,140.0,145.0,160.0,160.0,175.0,47.0,53.0,70.0,70.0,72.0,75.0,80.0,90.0,90.0,90.0,90.0,90.0,95.0,105.0,110.0,115.0,115.0,120.0,121.0,128.0,130.0,130.0,140.0,140.0,143.0,145.0,145.0,145.0,148.0,150.0,152.0,155.0,155.0,160.0,160.0,170.0,180.0,180.0,185.0,190.0,190.0,190.0,190.0,190.0,190.0,195.0,198.0,200.0,200.0,200.0,200.0,210.0,210.0,210.0,210.0,210.0,215.0,220.0,220.0,220.0,230.0,245.0,245.0,250.0,250.0,260.0,270.0,270.0,320.0,235.0,140.0,155.0,160.0,165.0,166.0,170.0,170.0,170.0,185.0,185.0,190.0,195.0,205.0,210.0,210.0,220.0,220.0,225.0,228.0,230.0,230.0,230.0,235.0,235.0,235.0,238.0,240.0,240.0,250.0,250.0,250.0,260.0,260.0,260.0,260.0,260.0,260.0,260.0,270.0,276.0,280.0,280.0,285.0,290.0,290.0,290.0,290.0,290.0,290.0,295.0,295.0,295.0,300.0,300.0,300.0,300.0,300.0,300.0,305.0,310.0,310.0,310.0,312.0,315.0,320.0,320.0,320.0,320.0,320.0,325.0,325.0,330.0,330.0,330.0,330.0,335.0,335.0,340.0,340.0,340.0,340.0,340.0,345.0,350.0,350.0,350.0,350.0,350.0,350.0,350.0,350.0,355.0,355.0,360.0,360.0,360.0,360.0,360.0,360.0,360.0,370.0,370.0,370.0,375.0,375.0,378.0,380.0,380.0,380.0,380.0,380.0,380.0,380.0,380.0,380.0,389.0,390.0,390.0,390.0,390.0,390.0,390.0,399.141,400.0,400.0,400.0,400.0,400.0,400.0,400.0,410.0,410.0,410.0,420.0,420.0,420.0,420.0,425.0,428.0,430.0,430.0,430.0,430.0,435.0,435.0,435.0,440.0,440.0,440.0,440.0,440.0,440.0,445.0,445.0,448.5,450.0,460.0,460.0,460.0,460.0,460.0,460.0,460.0,460.0,465.0,465.0,465.0,470.0,470.0,480.0,480.0,480.0,480.0,480.0,480.0,480.0,480.0,481.0,483.0,485.0,490.0,495.0,498.0,500.0,500.0,510.0,520.0,540.0,550.0,550.0,560.0,570.0,570.0,580.0,588.0,595.0,600.0,600.0,600.0,600.0,620.0,620.0,630.0,650.0,650.0,650.0,650.0,650.0,650.0,680.0,680.0,680.0,690.0,690.0,695.0,700.0,710.0,720.0,720.0,730.0,735.0,745.0,750.0,750.0,750.0,790.0,790.0,800.0,800.0,830.0,850.0,850.0,850.0,860.0,865.0,875.0,880.0,890.0,900.0,900.0,900.0,900.0,920.0,950.0,950.0,980.0,980.0,990.0,995.0,1100.0,1100.0,1100.0,1100.0,1200.0,1200.0,1200.0,1300.0,1300.0,1300.0,1350.0,1350.0,1400.0,1430.0,1450.0,1450.0,1490.0,1700.0,45.0,63.0,82.0,83.0,84.0,85.0,90.0,90.0,90.0,90.0,97.0,100.0,111.0,112.0,115.0,120.0,120.0,120.0,120.0,120.0,124.0,125.0,125.0,130.0,130.0,130.0,130.0,130.0,130.0,130.0,132.0,132.0,135.0,135.0,135.0,135.0,135.0,138.0,140.0,140.0,140.0,140.0,140.0,140.0,143.0,145.0,145.0,145.0,145.0,145.0,148.0,150.0,150.0,150.0,150.0,153.0,155.0,155.0,155.0,158.0,160.0,160.0,160.0,160.0,165.0,165.0,165.0,169.7,170.0,170.0,170.0,175.0,175.0,175.0,178.0,178.0,179.0,180.0,180.0,180.0,185.0,185.0,185.0,185.0,185.0,185.0,188.0,190.0,190.0,190.0,190.0,195.0,198.0,200.0,200.0,200.0,200.0,200.0,200.0,205.0,210.0,210.0,210.0,216.0,219.0,220.0,220.0,220.0,220.0,220.0,220.0,220.0,220.0,225.0,230.0,230.0,230.0,235.0,237.0,238.0,238.0,238.0,240.0,245.0,245.0,247.0,250.0,250.0,250.0,255.0,255.0,255.0,255.0,260.0,260.0,260.0,260.0,260.0,260.0,260.0,265.0,265.0,265.0,265.0,270.0,270.0,275.0,280.0,280.0,280.0,280.0,280.0,285.0,285.0,287.0,290.0,290.0,290.0,295.0,300.0,300.0,300.0,310.0,315.0,315.0,320.0,320.0,330.0,330.0,75.0,75.0,80.0,85.0,86.0,90.0,95.0,98.0,103.0,108.0,115.0,118.0,120.0,120.0,130.0,130.0,140.0,140.0,142.0,145.0,145.0,145.0,150.0,150.0,150.0,155.0,155.0,155.0,155.0,155.0,156.0,160.0,160.0,165.0,165.0,165.0,170.0,180.0,180.0,183.0,185.0,185.0,190.0,190.0,190.0,195.0,200.0,205.0,210.0,210.0,210.0,210.0,220.0,220.0,220.0,220.0,225.0,230.0,230.0,230.0,235.0,240.0,240.0,250.0,255.0,260.0,265.0,67.0,70.0,70.0,78.0,78.0,80.0,80.0,84.0,85.0,86.0,90.0,100.0,100.0,100.0,102.0,110.0,115.0,125.0,128.0,128.0,128.0,130.0,130.0,130.0,135.0,135.0,140.0,147.0,150.0,165.0,165.0,200.0,210.0,210.0,210.0,220.0,230.0,260.0,135.0,140.0,165.0,170.0,180.0,190.0,190.0,205.0,210.0,210.0,220.0,220.0,225.0,228.0,230.0,230.0,235.0,235.0,240.0,240.0,250.0,250.0,250.0,25.0,250.0,255.0,255.0,255.0,260.0,265.0,265.0,270.0,275.0,280.0,280.0,285.0,290.0,310.0,315.0,320.0,320.0,320.0,325.0,330.0,330.0,330.0,340.0,340.0,343.0,350.0,350.0,350.0,360.0,360.0,370.0,370.0,370.0,370.0,375.0,380.0,400.0,400.0,400.0,410.0,450.0,450.0,450.0,470.0,498.0,508.0,550.0,630.0,1350.0],\"y0\":\" \",\"yaxis\":\"y\",\"type\":\"box\"}],                        {\"template\":{\"data\":{\"bar\":[{\"error_x\":{\"color\":\"#2a3f5f\"},\"error_y\":{\"color\":\"#2a3f5f\"},\"marker\":{\"line\":{\"color\":\"#E5ECF6\",\"width\":0.5},\"pattern\":{\"fillmode\":\"overlay\",\"size\":10,\"solidity\":0.2}},\"type\":\"bar\"}],\"barpolar\":[{\"marker\":{\"line\":{\"color\":\"#E5ECF6\",\"width\":0.5},\"pattern\":{\"fillmode\":\"overlay\",\"size\":10,\"solidity\":0.2}},\"type\":\"barpolar\"}],\"carpet\":[{\"aaxis\":{\"endlinecolor\":\"#2a3f5f\",\"gridcolor\":\"white\",\"linecolor\":\"white\",\"minorgridcolor\":\"white\",\"startlinecolor\":\"#2a3f5f\"},\"baxis\":{\"endlinecolor\":\"#2a3f5f\",\"gridcolor\":\"white\",\"linecolor\":\"white\",\"minorgridcolor\":\"white\",\"startlinecolor\":\"#2a3f5f\"},\"type\":\"carpet\"}],\"choropleth\":[{\"colorbar\":{\"outlinewidth\":0,\"ticks\":\"\"},\"type\":\"choropleth\"}],\"contour\":[{\"colorbar\":{\"outlinewidth\":0,\"ticks\":\"\"},\"colorscale\":[[0.0,\"#0d0887\"],[0.1111111111111111,\"#46039f\"],[0.2222222222222222,\"#7201a8\"],[0.3333333333333333,\"#9c179e\"],[0.4444444444444444,\"#bd3786\"],[0.5555555555555556,\"#d8576b\"],[0.6666666666666666,\"#ed7953\"],[0.7777777777777778,\"#fb9f3a\"],[0.8888888888888888,\"#fdca26\"],[1.0,\"#f0f921\"]],\"type\":\"contour\"}],\"contourcarpet\":[{\"colorbar\":{\"outlinewidth\":0,\"ticks\":\"\"},\"type\":\"contourcarpet\"}],\"heatmap\":[{\"colorbar\":{\"outlinewidth\":0,\"ticks\":\"\"},\"colorscale\":[[0.0,\"#0d0887\"],[0.1111111111111111,\"#46039f\"],[0.2222222222222222,\"#7201a8\"],[0.3333333333333333,\"#9c179e\"],[0.4444444444444444,\"#bd3786\"],[0.5555555555555556,\"#d8576b\"],[0.6666666666666666,\"#ed7953\"],[0.7777777777777778,\"#fb9f3a\"],[0.8888888888888888,\"#fdca26\"],[1.0,\"#f0f921\"]],\"type\":\"heatmap\"}],\"heatmapgl\":[{\"colorbar\":{\"outlinewidth\":0,\"ticks\":\"\"},\"colorscale\":[[0.0,\"#0d0887\"],[0.1111111111111111,\"#46039f\"],[0.2222222222222222,\"#7201a8\"],[0.3333333333333333,\"#9c179e\"],[0.4444444444444444,\"#bd3786\"],[0.5555555555555556,\"#d8576b\"],[0.6666666666666666,\"#ed7953\"],[0.7777777777777778,\"#fb9f3a\"],[0.8888888888888888,\"#fdca26\"],[1.0,\"#f0f921\"]],\"type\":\"heatmapgl\"}],\"histogram\":[{\"marker\":{\"pattern\":{\"fillmode\":\"overlay\",\"size\":10,\"solidity\":0.2}},\"type\":\"histogram\"}],\"histogram2d\":[{\"colorbar\":{\"outlinewidth\":0,\"ticks\":\"\"},\"colorscale\":[[0.0,\"#0d0887\"],[0.1111111111111111,\"#46039f\"],[0.2222222222222222,\"#7201a8\"],[0.3333333333333333,\"#9c179e\"],[0.4444444444444444,\"#bd3786\"],[0.5555555555555556,\"#d8576b\"],[0.6666666666666666,\"#ed7953\"],[0.7777777777777778,\"#fb9f3a\"],[0.8888888888888888,\"#fdca26\"],[1.0,\"#f0f921\"]],\"type\":\"histogram2d\"}],\"histogram2dcontour\":[{\"colorbar\":{\"outlinewidth\":0,\"ticks\":\"\"},\"colorscale\":[[0.0,\"#0d0887\"],[0.1111111111111111,\"#46039f\"],[0.2222222222222222,\"#7201a8\"],[0.3333333333333333,\"#9c179e\"],[0.4444444444444444,\"#bd3786\"],[0.5555555555555556,\"#d8576b\"],[0.6666666666666666,\"#ed7953\"],[0.7777777777777778,\"#fb9f3a\"],[0.8888888888888888,\"#fdca26\"],[1.0,\"#f0f921\"]],\"type\":\"histogram2dcontour\"}],\"mesh3d\":[{\"colorbar\":{\"outlinewidth\":0,\"ticks\":\"\"},\"type\":\"mesh3d\"}],\"parcoords\":[{\"line\":{\"colorbar\":{\"outlinewidth\":0,\"ticks\":\"\"}},\"type\":\"parcoords\"}],\"pie\":[{\"automargin\":true,\"type\":\"pie\"}],\"scatter\":[{\"marker\":{\"colorbar\":{\"outlinewidth\":0,\"ticks\":\"\"}},\"type\":\"scatter\"}],\"scatter3d\":[{\"line\":{\"colorbar\":{\"outlinewidth\":0,\"ticks\":\"\"}},\"marker\":{\"colorbar\":{\"outlinewidth\":0,\"ticks\":\"\"}},\"type\":\"scatter3d\"}],\"scattercarpet\":[{\"marker\":{\"colorbar\":{\"outlinewidth\":0,\"ticks\":\"\"}},\"type\":\"scattercarpet\"}],\"scattergeo\":[{\"marker\":{\"colorbar\":{\"outlinewidth\":0,\"ticks\":\"\"}},\"type\":\"scattergeo\"}],\"scattergl\":[{\"marker\":{\"colorbar\":{\"outlinewidth\":0,\"ticks\":\"\"}},\"type\":\"scattergl\"}],\"scattermapbox\":[{\"marker\":{\"colorbar\":{\"outlinewidth\":0,\"ticks\":\"\"}},\"type\":\"scattermapbox\"}],\"scatterpolar\":[{\"marker\":{\"colorbar\":{\"outlinewidth\":0,\"ticks\":\"\"}},\"type\":\"scatterpolar\"}],\"scatterpolargl\":[{\"marker\":{\"colorbar\":{\"outlinewidth\":0,\"ticks\":\"\"}},\"type\":\"scatterpolargl\"}],\"scatterternary\":[{\"marker\":{\"colorbar\":{\"outlinewidth\":0,\"ticks\":\"\"}},\"type\":\"scatterternary\"}],\"surface\":[{\"colorbar\":{\"outlinewidth\":0,\"ticks\":\"\"},\"colorscale\":[[0.0,\"#0d0887\"],[0.1111111111111111,\"#46039f\"],[0.2222222222222222,\"#7201a8\"],[0.3333333333333333,\"#9c179e\"],[0.4444444444444444,\"#bd3786\"],[0.5555555555555556,\"#d8576b\"],[0.6666666666666666,\"#ed7953\"],[0.7777777777777778,\"#fb9f3a\"],[0.8888888888888888,\"#fdca26\"],[1.0,\"#f0f921\"]],\"type\":\"surface\"}],\"table\":[{\"cells\":{\"fill\":{\"color\":\"#EBF0F8\"},\"line\":{\"color\":\"white\"}},\"header\":{\"fill\":{\"color\":\"#C8D4E3\"},\"line\":{\"color\":\"white\"}},\"type\":\"table\"}]},\"layout\":{\"annotationdefaults\":{\"arrowcolor\":\"#2a3f5f\",\"arrowhead\":0,\"arrowwidth\":1},\"autotypenumbers\":\"strict\",\"coloraxis\":{\"colorbar\":{\"outlinewidth\":0,\"ticks\":\"\"}},\"colorscale\":{\"diverging\":[[0,\"#8e0152\"],[0.1,\"#c51b7d\"],[0.2,\"#de77ae\"],[0.3,\"#f1b6da\"],[0.4,\"#fde0ef\"],[0.5,\"#f7f7f7\"],[0.6,\"#e6f5d0\"],[0.7,\"#b8e186\"],[0.8,\"#7fbc41\"],[0.9,\"#4d9221\"],[1,\"#276419\"]],\"sequential\":[[0.0,\"#0d0887\"],[0.1111111111111111,\"#46039f\"],[0.2222222222222222,\"#7201a8\"],[0.3333333333333333,\"#9c179e\"],[0.4444444444444444,\"#bd3786\"],[0.5555555555555556,\"#d8576b\"],[0.6666666666666666,\"#ed7953\"],[0.7777777777777778,\"#fb9f3a\"],[0.8888888888888888,\"#fdca26\"],[1.0,\"#f0f921\"]],\"sequentialminus\":[[0.0,\"#0d0887\"],[0.1111111111111111,\"#46039f\"],[0.2222222222222222,\"#7201a8\"],[0.3333333333333333,\"#9c179e\"],[0.4444444444444444,\"#bd3786\"],[0.5555555555555556,\"#d8576b\"],[0.6666666666666666,\"#ed7953\"],[0.7777777777777778,\"#fb9f3a\"],[0.8888888888888888,\"#fdca26\"],[1.0,\"#f0f921\"]]},\"colorway\":[\"#636efa\",\"#EF553B\",\"#00cc96\",\"#ab63fa\",\"#FFA15A\",\"#19d3f3\",\"#FF6692\",\"#B6E880\",\"#FF97FF\",\"#FECB52\"],\"font\":{\"color\":\"#2a3f5f\"},\"geo\":{\"bgcolor\":\"white\",\"lakecolor\":\"white\",\"landcolor\":\"#E5ECF6\",\"showlakes\":true,\"showland\":true,\"subunitcolor\":\"white\"},\"hoverlabel\":{\"align\":\"left\"},\"hovermode\":\"closest\",\"mapbox\":{\"style\":\"light\"},\"paper_bgcolor\":\"white\",\"plot_bgcolor\":\"#E5ECF6\",\"polar\":{\"angularaxis\":{\"gridcolor\":\"white\",\"linecolor\":\"white\",\"ticks\":\"\"},\"bgcolor\":\"#E5ECF6\",\"radialaxis\":{\"gridcolor\":\"white\",\"linecolor\":\"white\",\"ticks\":\"\"}},\"scene\":{\"xaxis\":{\"backgroundcolor\":\"#E5ECF6\",\"gridcolor\":\"white\",\"gridwidth\":2,\"linecolor\":\"white\",\"showbackground\":true,\"ticks\":\"\",\"zerolinecolor\":\"white\"},\"yaxis\":{\"backgroundcolor\":\"#E5ECF6\",\"gridcolor\":\"white\",\"gridwidth\":2,\"linecolor\":\"white\",\"showbackground\":true,\"ticks\":\"\",\"zerolinecolor\":\"white\"},\"zaxis\":{\"backgroundcolor\":\"#E5ECF6\",\"gridcolor\":\"white\",\"gridwidth\":2,\"linecolor\":\"white\",\"showbackground\":true,\"ticks\":\"\",\"zerolinecolor\":\"white\"}},\"shapedefaults\":{\"line\":{\"color\":\"#2a3f5f\"}},\"ternary\":{\"aaxis\":{\"gridcolor\":\"white\",\"linecolor\":\"white\",\"ticks\":\"\"},\"baxis\":{\"gridcolor\":\"white\",\"linecolor\":\"white\",\"ticks\":\"\"},\"bgcolor\":\"#E5ECF6\",\"caxis\":{\"gridcolor\":\"white\",\"linecolor\":\"white\",\"ticks\":\"\"}},\"title\":{\"x\":0.05},\"xaxis\":{\"automargin\":true,\"gridcolor\":\"white\",\"linecolor\":\"white\",\"ticks\":\"\",\"title\":{\"standoff\":15},\"zerolinecolor\":\"white\",\"zerolinewidth\":2},\"yaxis\":{\"automargin\":true,\"gridcolor\":\"white\",\"linecolor\":\"white\",\"ticks\":\"\",\"title\":{\"standoff\":15},\"zerolinecolor\":\"white\",\"zerolinewidth\":2}}},\"xaxis\":{\"anchor\":\"y\",\"domain\":[0.0,1.0],\"title\":{\"text\":\"ubicacion\"}},\"yaxis\":{\"anchor\":\"x\",\"domain\":[0.0,1.0],\"title\":{\"text\":\"precio\"}},\"legend\":{\"tracegroupgap\":0},\"margin\":{\"t\":60},\"boxmode\":\"group\"},                        {\"responsive\": true}                    ).then(function(){\n",
              "                            \n",
              "var gd = document.getElementById('850f0559-066c-4481-9b4b-2650f9c3537c');\n",
              "var x = new MutationObserver(function (mutations, observer) {{\n",
              "        var display = window.getComputedStyle(gd).display;\n",
              "        if (!display || display === 'none') {{\n",
              "            console.log([gd, 'removed!']);\n",
              "            Plotly.purge(gd);\n",
              "            observer.disconnect();\n",
              "        }}\n",
              "}});\n",
              "\n",
              "// Listen for the removal of the full notebook cells\n",
              "var notebookContainer = gd.closest('#notebook-container');\n",
              "if (notebookContainer) {{\n",
              "    x.observe(notebookContainer, {childList: true});\n",
              "}}\n",
              "\n",
              "// Listen for the clearing of the current output cell\n",
              "var outputEl = gd.closest('.output');\n",
              "if (outputEl) {{\n",
              "    x.observe(outputEl, {childList: true});\n",
              "}}\n",
              "\n",
              "                        })                };                            </script>        </div>\n",
              "</body>\n",
              "</html>"
            ]
          },
          "metadata": {}
        }
      ]
    },
    {
      "cell_type": "markdown",
      "source": [],
      "metadata": {
        "id": "otjR2v7t1jnp"
      }
    },
    {
      "cell_type": "markdown",
      "source": [
        "Para responder en clase\n",
        "\n",
        "1. ¿Cuántos apartamento en el poblado, cuestan más de 390 millones y tienen menos de 300 mt2?\n",
        "\n",
        "2. ¿Cuántos apartamentos del norte cuentan con parqueadero?\n",
        "\n",
        "3. Tabla de frecuencias absolutas por ubicación\n",
        "\n",
        "4. Diagrama de barras de la variable ubicación"
      ],
      "metadata": {
        "id": "C2WbFf9bgayT"
      }
    },
    {
      "cell_type": "code",
      "source": [
        "aptos[(aptos.ubicacion == \"poblado\") & (aptos.precio >390) & (aptos.mt2 < 300).shape]"
      ],
      "metadata": {
        "colab": {
          "base_uri": "https://localhost:8080/",
          "height": 424
        },
        "id": "EvH0aphn1mi2",
        "outputId": "b8b909eb-0265-4d3b-d38a-d0284e5f18c0"
      },
      "execution_count": 53,
      "outputs": [
        {
          "output_type": "execute_result",
          "data": {
            "text/plain": [
              "       precio     mt2 ubicacion  estrato  alcobas  banos balcon parqueadero  \\\n",
              "202   399.141   72.00   poblado        6        2      2     no          si   \n",
              "203   400.000  149.00   poblado        6        3      3     si          si   \n",
              "204   400.000  155.80   poblado        5        3      2     si          si   \n",
              "205   400.000  147.00   poblado        6        3      2     no          si   \n",
              "206   400.000  100.00   poblado        6        3      2     si          si   \n",
              "..        ...     ...       ...      ...      ...    ...    ...         ...   \n",
              "342  1430.000  291.00   poblado        6        3      3     si          si   \n",
              "343  1450.000  318.00   poblado        6        3      3     si          si   \n",
              "344  1450.000  238.19   poblado        6        4      4     si          si   \n",
              "345  1490.000  445.00   poblado        6        5      4     si          si   \n",
              "346  1700.000  399.00   poblado        6        3      3     no          si   \n",
              "\n",
              "     administracion   avaluo terminado  precio/mt2  \n",
              "202          0.2480  137.643        no        5.54  \n",
              "203          0.4500  269.376        si        2.68  \n",
              "204          0.2800  185.476        si        2.57  \n",
              "205          0.3600  192.675        si        2.72  \n",
              "206          0.3600  192.675        si        4.00  \n",
              "..              ...      ...       ...         ...  \n",
              "342          0.7490  701.731        si        4.91  \n",
              "343          0.7490  611.027        si        4.56  \n",
              "344          0.8286  675.072        si        6.09  \n",
              "345          0.7490  701.731        si        3.35  \n",
              "346          0.9340  701.731        si        4.26  \n",
              "\n",
              "[145 rows x 12 columns]"
            ],
            "text/html": [
              "\n",
              "  <div id=\"df-11880329-2d77-4016-914e-b1976003275b\">\n",
              "    <div class=\"colab-df-container\">\n",
              "      <div>\n",
              "<style scoped>\n",
              "    .dataframe tbody tr th:only-of-type {\n",
              "        vertical-align: middle;\n",
              "    }\n",
              "\n",
              "    .dataframe tbody tr th {\n",
              "        vertical-align: top;\n",
              "    }\n",
              "\n",
              "    .dataframe thead th {\n",
              "        text-align: right;\n",
              "    }\n",
              "</style>\n",
              "<table border=\"1\" class=\"dataframe\">\n",
              "  <thead>\n",
              "    <tr style=\"text-align: right;\">\n",
              "      <th></th>\n",
              "      <th>precio</th>\n",
              "      <th>mt2</th>\n",
              "      <th>ubicacion</th>\n",
              "      <th>estrato</th>\n",
              "      <th>alcobas</th>\n",
              "      <th>banos</th>\n",
              "      <th>balcon</th>\n",
              "      <th>parqueadero</th>\n",
              "      <th>administracion</th>\n",
              "      <th>avaluo</th>\n",
              "      <th>terminado</th>\n",
              "      <th>precio/mt2</th>\n",
              "    </tr>\n",
              "  </thead>\n",
              "  <tbody>\n",
              "    <tr>\n",
              "      <th>202</th>\n",
              "      <td>399.141</td>\n",
              "      <td>72.00</td>\n",
              "      <td>poblado</td>\n",
              "      <td>6</td>\n",
              "      <td>2</td>\n",
              "      <td>2</td>\n",
              "      <td>no</td>\n",
              "      <td>si</td>\n",
              "      <td>0.2480</td>\n",
              "      <td>137.643</td>\n",
              "      <td>no</td>\n",
              "      <td>5.54</td>\n",
              "    </tr>\n",
              "    <tr>\n",
              "      <th>203</th>\n",
              "      <td>400.000</td>\n",
              "      <td>149.00</td>\n",
              "      <td>poblado</td>\n",
              "      <td>6</td>\n",
              "      <td>3</td>\n",
              "      <td>3</td>\n",
              "      <td>si</td>\n",
              "      <td>si</td>\n",
              "      <td>0.4500</td>\n",
              "      <td>269.376</td>\n",
              "      <td>si</td>\n",
              "      <td>2.68</td>\n",
              "    </tr>\n",
              "    <tr>\n",
              "      <th>204</th>\n",
              "      <td>400.000</td>\n",
              "      <td>155.80</td>\n",
              "      <td>poblado</td>\n",
              "      <td>5</td>\n",
              "      <td>3</td>\n",
              "      <td>2</td>\n",
              "      <td>si</td>\n",
              "      <td>si</td>\n",
              "      <td>0.2800</td>\n",
              "      <td>185.476</td>\n",
              "      <td>si</td>\n",
              "      <td>2.57</td>\n",
              "    </tr>\n",
              "    <tr>\n",
              "      <th>205</th>\n",
              "      <td>400.000</td>\n",
              "      <td>147.00</td>\n",
              "      <td>poblado</td>\n",
              "      <td>6</td>\n",
              "      <td>3</td>\n",
              "      <td>2</td>\n",
              "      <td>no</td>\n",
              "      <td>si</td>\n",
              "      <td>0.3600</td>\n",
              "      <td>192.675</td>\n",
              "      <td>si</td>\n",
              "      <td>2.72</td>\n",
              "    </tr>\n",
              "    <tr>\n",
              "      <th>206</th>\n",
              "      <td>400.000</td>\n",
              "      <td>100.00</td>\n",
              "      <td>poblado</td>\n",
              "      <td>6</td>\n",
              "      <td>3</td>\n",
              "      <td>2</td>\n",
              "      <td>si</td>\n",
              "      <td>si</td>\n",
              "      <td>0.3600</td>\n",
              "      <td>192.675</td>\n",
              "      <td>si</td>\n",
              "      <td>4.00</td>\n",
              "    </tr>\n",
              "    <tr>\n",
              "      <th>...</th>\n",
              "      <td>...</td>\n",
              "      <td>...</td>\n",
              "      <td>...</td>\n",
              "      <td>...</td>\n",
              "      <td>...</td>\n",
              "      <td>...</td>\n",
              "      <td>...</td>\n",
              "      <td>...</td>\n",
              "      <td>...</td>\n",
              "      <td>...</td>\n",
              "      <td>...</td>\n",
              "      <td>...</td>\n",
              "    </tr>\n",
              "    <tr>\n",
              "      <th>342</th>\n",
              "      <td>1430.000</td>\n",
              "      <td>291.00</td>\n",
              "      <td>poblado</td>\n",
              "      <td>6</td>\n",
              "      <td>3</td>\n",
              "      <td>3</td>\n",
              "      <td>si</td>\n",
              "      <td>si</td>\n",
              "      <td>0.7490</td>\n",
              "      <td>701.731</td>\n",
              "      <td>si</td>\n",
              "      <td>4.91</td>\n",
              "    </tr>\n",
              "    <tr>\n",
              "      <th>343</th>\n",
              "      <td>1450.000</td>\n",
              "      <td>318.00</td>\n",
              "      <td>poblado</td>\n",
              "      <td>6</td>\n",
              "      <td>3</td>\n",
              "      <td>3</td>\n",
              "      <td>si</td>\n",
              "      <td>si</td>\n",
              "      <td>0.7490</td>\n",
              "      <td>611.027</td>\n",
              "      <td>si</td>\n",
              "      <td>4.56</td>\n",
              "    </tr>\n",
              "    <tr>\n",
              "      <th>344</th>\n",
              "      <td>1450.000</td>\n",
              "      <td>238.19</td>\n",
              "      <td>poblado</td>\n",
              "      <td>6</td>\n",
              "      <td>4</td>\n",
              "      <td>4</td>\n",
              "      <td>si</td>\n",
              "      <td>si</td>\n",
              "      <td>0.8286</td>\n",
              "      <td>675.072</td>\n",
              "      <td>si</td>\n",
              "      <td>6.09</td>\n",
              "    </tr>\n",
              "    <tr>\n",
              "      <th>345</th>\n",
              "      <td>1490.000</td>\n",
              "      <td>445.00</td>\n",
              "      <td>poblado</td>\n",
              "      <td>6</td>\n",
              "      <td>5</td>\n",
              "      <td>4</td>\n",
              "      <td>si</td>\n",
              "      <td>si</td>\n",
              "      <td>0.7490</td>\n",
              "      <td>701.731</td>\n",
              "      <td>si</td>\n",
              "      <td>3.35</td>\n",
              "    </tr>\n",
              "    <tr>\n",
              "      <th>346</th>\n",
              "      <td>1700.000</td>\n",
              "      <td>399.00</td>\n",
              "      <td>poblado</td>\n",
              "      <td>6</td>\n",
              "      <td>3</td>\n",
              "      <td>3</td>\n",
              "      <td>no</td>\n",
              "      <td>si</td>\n",
              "      <td>0.9340</td>\n",
              "      <td>701.731</td>\n",
              "      <td>si</td>\n",
              "      <td>4.26</td>\n",
              "    </tr>\n",
              "  </tbody>\n",
              "</table>\n",
              "<p>145 rows × 12 columns</p>\n",
              "</div>\n",
              "      <button class=\"colab-df-convert\" onclick=\"convertToInteractive('df-11880329-2d77-4016-914e-b1976003275b')\"\n",
              "              title=\"Convert this dataframe to an interactive table.\"\n",
              "              style=\"display:none;\">\n",
              "        \n",
              "  <svg xmlns=\"http://www.w3.org/2000/svg\" height=\"24px\"viewBox=\"0 0 24 24\"\n",
              "       width=\"24px\">\n",
              "    <path d=\"M0 0h24v24H0V0z\" fill=\"none\"/>\n",
              "    <path d=\"M18.56 5.44l.94 2.06.94-2.06 2.06-.94-2.06-.94-.94-2.06-.94 2.06-2.06.94zm-11 1L8.5 8.5l.94-2.06 2.06-.94-2.06-.94L8.5 2.5l-.94 2.06-2.06.94zm10 10l.94 2.06.94-2.06 2.06-.94-2.06-.94-.94-2.06-.94 2.06-2.06.94z\"/><path d=\"M17.41 7.96l-1.37-1.37c-.4-.4-.92-.59-1.43-.59-.52 0-1.04.2-1.43.59L10.3 9.45l-7.72 7.72c-.78.78-.78 2.05 0 2.83L4 21.41c.39.39.9.59 1.41.59.51 0 1.02-.2 1.41-.59l7.78-7.78 2.81-2.81c.8-.78.8-2.07 0-2.86zM5.41 20L4 18.59l7.72-7.72 1.47 1.35L5.41 20z\"/>\n",
              "  </svg>\n",
              "      </button>\n",
              "      \n",
              "  <style>\n",
              "    .colab-df-container {\n",
              "      display:flex;\n",
              "      flex-wrap:wrap;\n",
              "      gap: 12px;\n",
              "    }\n",
              "\n",
              "    .colab-df-convert {\n",
              "      background-color: #E8F0FE;\n",
              "      border: none;\n",
              "      border-radius: 50%;\n",
              "      cursor: pointer;\n",
              "      display: none;\n",
              "      fill: #1967D2;\n",
              "      height: 32px;\n",
              "      padding: 0 0 0 0;\n",
              "      width: 32px;\n",
              "    }\n",
              "\n",
              "    .colab-df-convert:hover {\n",
              "      background-color: #E2EBFA;\n",
              "      box-shadow: 0px 1px 2px rgba(60, 64, 67, 0.3), 0px 1px 3px 1px rgba(60, 64, 67, 0.15);\n",
              "      fill: #174EA6;\n",
              "    }\n",
              "\n",
              "    [theme=dark] .colab-df-convert {\n",
              "      background-color: #3B4455;\n",
              "      fill: #D2E3FC;\n",
              "    }\n",
              "\n",
              "    [theme=dark] .colab-df-convert:hover {\n",
              "      background-color: #434B5C;\n",
              "      box-shadow: 0px 1px 3px 1px rgba(0, 0, 0, 0.15);\n",
              "      filter: drop-shadow(0px 1px 2px rgba(0, 0, 0, 0.3));\n",
              "      fill: #FFFFFF;\n",
              "    }\n",
              "  </style>\n",
              "\n",
              "      <script>\n",
              "        const buttonEl =\n",
              "          document.querySelector('#df-11880329-2d77-4016-914e-b1976003275b button.colab-df-convert');\n",
              "        buttonEl.style.display =\n",
              "          google.colab.kernel.accessAllowed ? 'block' : 'none';\n",
              "\n",
              "        async function convertToInteractive(key) {\n",
              "          const element = document.querySelector('#df-11880329-2d77-4016-914e-b1976003275b');\n",
              "          const dataTable =\n",
              "            await google.colab.kernel.invokeFunction('convertToInteractive',\n",
              "                                                     [key], {});\n",
              "          if (!dataTable) return;\n",
              "\n",
              "          const docLinkHtml = 'Like what you see? Visit the ' +\n",
              "            '<a target=\"_blank\" href=https://colab.research.google.com/notebooks/data_table.ipynb>data table notebook</a>'\n",
              "            + ' to learn more about interactive tables.';\n",
              "          element.innerHTML = '';\n",
              "          dataTable['output_type'] = 'display_data';\n",
              "          await google.colab.output.renderOutput(dataTable, element);\n",
              "          const docLink = document.createElement('div');\n",
              "          docLink.innerHTML = docLinkHtml;\n",
              "          element.appendChild(docLink);\n",
              "        }\n",
              "      </script>\n",
              "    </div>\n",
              "  </div>\n",
              "  "
            ]
          },
          "metadata": {},
          "execution_count": 53
        }
      ]
    },
    {
      "cell_type": "code",
      "source": [
        "#count(aptos)"
      ],
      "metadata": {
        "id": "cVSvvHew3SFS"
      },
      "execution_count": 55,
      "outputs": []
    },
    {
      "cell_type": "markdown",
      "source": [
        "¿Cuántos apartamento en el poblado, cuestan más de 390 millones y tienen menos de 300 mt2?\n",
        "\n",
        "(117,12)\n",
        "\n"
      ],
      "metadata": {
        "id": "vDAjp1sa1nVf"
      }
    },
    {
      "cell_type": "code",
      "source": [
        "aptos.ubicacion.value_counts()"
      ],
      "metadata": {
        "id": "3QkVa__xgsP0",
        "colab": {
          "base_uri": "https://localhost:8080/"
        },
        "outputId": "905fb70d-229f-490a-cea2-fd1ce86aa825"
      },
      "execution_count": 57,
      "outputs": [
        {
          "output_type": "execute_result",
          "data": {
            "text/plain": [
              "poblado           268\n",
              "aburra sur        169\n",
              "laureles           73\n",
              "occidente          69\n",
              "belen guayabal     67\n",
              "centro             38\n",
              "norte              10\n",
              "Name: ubicacion, dtype: int64"
            ]
          },
          "metadata": {},
          "execution_count": 57
        }
      ]
    },
    {
      "cell_type": "code",
      "source": [
        "aptos.ubicacion.describe()"
      ],
      "metadata": {
        "colab": {
          "base_uri": "https://localhost:8080/"
        },
        "id": "YYZhjvxe4f3O",
        "outputId": "eefc16fd-e203-4c3b-bfe0-d600da54921b"
      },
      "execution_count": 58,
      "outputs": [
        {
          "output_type": "execute_result",
          "data": {
            "text/plain": [
              "count         694\n",
              "unique          7\n",
              "top       poblado\n",
              "freq          268\n",
              "Name: ubicacion, dtype: object"
            ]
          },
          "metadata": {},
          "execution_count": 58
        }
      ]
    },
    {
      "cell_type": "code",
      "source": [],
      "metadata": {
        "id": "UzlR1Q3Y4nUz"
      },
      "execution_count": null,
      "outputs": []
    },
    {
      "cell_type": "markdown",
      "source": [
        "Cuántos apartamentos del norte cuentan con parqueadero?\n"
      ],
      "metadata": {
        "id": "GQcs-cbo3Ksx"
      }
    },
    {
      "cell_type": "code",
      "source": [
        "#aptos[(aptos.ubicacion == \"poblado\") & (parqueaderos = True) & (aptos.mt2 < 300).shape]"
      ],
      "metadata": {
        "id": "H7dPCTCd3TnM"
      },
      "execution_count": 59,
      "outputs": []
    },
    {
      "cell_type": "code",
      "source": [
        "fig = px.bar(aptos.ubicacion)\n",
        "fig.show()"
      ],
      "metadata": {
        "id": "ViEHZR2LhcQx",
        "colab": {
          "base_uri": "https://localhost:8080/",
          "height": 542
        },
        "outputId": "7aaaab6e-3b5a-41a4-f0ea-c5c6a4608c31"
      },
      "execution_count": 60,
      "outputs": [
        {
          "output_type": "display_data",
          "data": {
            "text/html": [
              "<html>\n",
              "<head><meta charset=\"utf-8\" /></head>\n",
              "<body>\n",
              "    <div>            <script src=\"https://cdnjs.cloudflare.com/ajax/libs/mathjax/2.7.5/MathJax.js?config=TeX-AMS-MML_SVG\"></script><script type=\"text/javascript\">if (window.MathJax) {MathJax.Hub.Config({SVG: {font: \"STIX-Web\"}});}</script>                <script type=\"text/javascript\">window.PlotlyConfig = {MathJaxConfig: 'local'};</script>\n",
              "        <script src=\"https://cdn.plot.ly/plotly-2.8.3.min.js\"></script>                <div id=\"4f45160f-3d19-4349-94f9-e4d7ac1dd09c\" class=\"plotly-graph-div\" style=\"height:525px; width:100%;\"></div>            <script type=\"text/javascript\">                                    window.PLOTLYENV=window.PLOTLYENV || {};                                    if (document.getElementById(\"4f45160f-3d19-4349-94f9-e4d7ac1dd09c\")) {                    Plotly.newPlot(                        \"4f45160f-3d19-4349-94f9-e4d7ac1dd09c\",                        [{\"alignmentgroup\":\"True\",\"hovertemplate\":\"variable=ubicacion<br>value=%{x}<br>count=%{y}<extra></extra>\",\"legendgroup\":\"ubicacion\",\"marker\":{\"color\":\"#636efa\",\"pattern\":{\"shape\":\"\"}},\"name\":\"ubicacion\",\"offsetgroup\":\"ubicacion\",\"orientation\":\"v\",\"showlegend\":true,\"textposition\":\"auto\",\"x\":[\"norte\",\"norte\",\"norte\",\"norte\",\"norte\",\"norte\",\"norte\",\"norte\",\"norte\",\"norte\",\"occidente\",\"occidente\",\"occidente\",\"occidente\",\"occidente\",\"occidente\",\"occidente\",\"occidente\",\"occidente\",\"occidente\",\"occidente\",\"occidente\",\"occidente\",\"occidente\",\"occidente\",\"occidente\",\"occidente\",\"occidente\",\"occidente\",\"occidente\",\"occidente\",\"occidente\",\"occidente\",\"occidente\",\"occidente\",\"occidente\",\"occidente\",\"occidente\",\"occidente\",\"occidente\",\"occidente\",\"occidente\",\"occidente\",\"occidente\",\"occidente\",\"occidente\",\"occidente\",\"occidente\",\"occidente\",\"occidente\",\"occidente\",\"occidente\",\"occidente\",\"occidente\",\"occidente\",\"occidente\",\"occidente\",\"occidente\",\"occidente\",\"occidente\",\"occidente\",\"occidente\",\"occidente\",\"occidente\",\"occidente\",\"occidente\",\"occidente\",\"occidente\",\"occidente\",\"occidente\",\"occidente\",\"occidente\",\"occidente\",\"occidente\",\"occidente\",\"occidente\",\"occidente\",\"occidente\",\"occidente\",\"poblado\",\"poblado\",\"poblado\",\"poblado\",\"poblado\",\"poblado\",\"poblado\",\"poblado\",\"poblado\",\"poblado\",\"poblado\",\"poblado\",\"poblado\",\"poblado\",\"poblado\",\"poblado\",\"poblado\",\"poblado\",\"poblado\",\"poblado\",\"poblado\",\"poblado\",\"poblado\",\"poblado\",\"poblado\",\"poblado\",\"poblado\",\"poblado\",\"poblado\",\"poblado\",\"poblado\",\"poblado\",\"poblado\",\"poblado\",\"poblado\",\"poblado\",\"poblado\",\"poblado\",\"poblado\",\"poblado\",\"poblado\",\"poblado\",\"poblado\",\"poblado\",\"poblado\",\"poblado\",\"poblado\",\"poblado\",\"poblado\",\"poblado\",\"poblado\",\"poblado\",\"poblado\",\"poblado\",\"poblado\",\"poblado\",\"poblado\",\"poblado\",\"poblado\",\"poblado\",\"poblado\",\"poblado\",\"poblado\",\"poblado\",\"poblado\",\"poblado\",\"poblado\",\"poblado\",\"poblado\",\"poblado\",\"poblado\",\"poblado\",\"poblado\",\"poblado\",\"poblado\",\"poblado\",\"poblado\",\"poblado\",\"poblado\",\"poblado\",\"poblado\",\"poblado\",\"poblado\",\"poblado\",\"poblado\",\"poblado\",\"poblado\",\"poblado\",\"poblado\",\"poblado\",\"poblado\",\"poblado\",\"poblado\",\"poblado\",\"poblado\",\"poblado\",\"poblado\",\"poblado\",\"poblado\",\"poblado\",\"poblado\",\"poblado\",\"poblado\",\"poblado\",\"poblado\",\"poblado\",\"poblado\",\"poblado\",\"poblado\",\"poblado\",\"poblado\",\"poblado\",\"poblado\",\"poblado\",\"poblado\",\"poblado\",\"poblado\",\"poblado\",\"poblado\",\"poblado\",\"poblado\",\"poblado\",\"poblado\",\"poblado\",\"poblado\",\"poblado\",\"poblado\",\"poblado\",\"poblado\",\"poblado\",\"poblado\",\"poblado\",\"poblado\",\"poblado\",\"poblado\",\"poblado\",\"poblado\",\"poblado\",\"poblado\",\"poblado\",\"poblado\",\"poblado\",\"poblado\",\"poblado\",\"poblado\",\"poblado\",\"poblado\",\"poblado\",\"poblado\",\"poblado\",\"poblado\",\"poblado\",\"poblado\",\"poblado\",\"poblado\",\"poblado\",\"poblado\",\"poblado\",\"poblado\",\"poblado\",\"poblado\",\"poblado\",\"poblado\",\"poblado\",\"poblado\",\"poblado\",\"poblado\",\"poblado\",\"poblado\",\"poblado\",\"poblado\",\"poblado\",\"poblado\",\"poblado\",\"poblado\",\"poblado\",\"poblado\",\"poblado\",\"poblado\",\"poblado\",\"poblado\",\"poblado\",\"poblado\",\"poblado\",\"poblado\",\"poblado\",\"poblado\",\"poblado\",\"poblado\",\"poblado\",\"poblado\",\"poblado\",\"poblado\",\"poblado\",\"poblado\",\"poblado\",\"poblado\",\"poblado\",\"poblado\",\"poblado\",\"poblado\",\"poblado\",\"poblado\",\"poblado\",\"poblado\",\"poblado\",\"poblado\",\"poblado\",\"poblado\",\"poblado\",\"poblado\",\"poblado\",\"poblado\",\"poblado\",\"poblado\",\"poblado\",\"poblado\",\"poblado\",\"poblado\",\"poblado\",\"poblado\",\"poblado\",\"poblado\",\"poblado\",\"poblado\",\"poblado\",\"poblado\",\"poblado\",\"poblado\",\"poblado\",\"poblado\",\"poblado\",\"poblado\",\"poblado\",\"poblado\",\"poblado\",\"poblado\",\"poblado\",\"poblado\",\"poblado\",\"poblado\",\"poblado\",\"poblado\",\"poblado\",\"poblado\",\"poblado\",\"poblado\",\"poblado\",\"poblado\",\"poblado\",\"poblado\",\"poblado\",\"poblado\",\"poblado\",\"poblado\",\"poblado\",\"poblado\",\"poblado\",\"poblado\",\"poblado\",\"poblado\",\"poblado\",\"poblado\",\"poblado\",\"poblado\",\"poblado\",\"poblado\",\"poblado\",\"aburra sur\",\"aburra sur\",\"aburra sur\",\"aburra sur\",\"aburra sur\",\"aburra sur\",\"aburra sur\",\"aburra sur\",\"aburra sur\",\"aburra sur\",\"aburra sur\",\"aburra sur\",\"aburra sur\",\"aburra sur\",\"aburra sur\",\"aburra sur\",\"aburra sur\",\"aburra sur\",\"aburra sur\",\"aburra sur\",\"aburra sur\",\"aburra sur\",\"aburra sur\",\"aburra sur\",\"aburra sur\",\"aburra sur\",\"aburra sur\",\"aburra sur\",\"aburra sur\",\"aburra sur\",\"aburra sur\",\"aburra sur\",\"aburra sur\",\"aburra sur\",\"aburra sur\",\"aburra sur\",\"aburra sur\",\"aburra sur\",\"aburra sur\",\"aburra sur\",\"aburra sur\",\"aburra sur\",\"aburra sur\",\"aburra sur\",\"aburra sur\",\"aburra sur\",\"aburra sur\",\"aburra sur\",\"aburra sur\",\"aburra sur\",\"aburra sur\",\"aburra sur\",\"aburra sur\",\"aburra sur\",\"aburra sur\",\"aburra sur\",\"aburra sur\",\"aburra sur\",\"aburra sur\",\"aburra sur\",\"aburra sur\",\"aburra sur\",\"aburra sur\",\"aburra sur\",\"aburra sur\",\"aburra sur\",\"aburra sur\",\"aburra sur\",\"aburra sur\",\"aburra sur\",\"aburra sur\",\"aburra sur\",\"aburra sur\",\"aburra sur\",\"aburra sur\",\"aburra sur\",\"aburra sur\",\"aburra sur\",\"aburra sur\",\"aburra sur\",\"aburra sur\",\"aburra sur\",\"aburra sur\",\"aburra sur\",\"aburra sur\",\"aburra sur\",\"aburra sur\",\"aburra sur\",\"aburra sur\",\"aburra sur\",\"aburra sur\",\"aburra sur\",\"aburra sur\",\"aburra sur\",\"aburra sur\",\"aburra sur\",\"aburra sur\",\"aburra sur\",\"aburra sur\",\"aburra sur\",\"aburra sur\",\"aburra sur\",\"aburra sur\",\"aburra sur\",\"aburra sur\",\"aburra sur\",\"aburra sur\",\"aburra sur\",\"aburra sur\",\"aburra sur\",\"aburra sur\",\"aburra sur\",\"aburra sur\",\"aburra sur\",\"aburra sur\",\"aburra sur\",\"aburra sur\",\"aburra sur\",\"aburra sur\",\"aburra sur\",\"aburra sur\",\"aburra sur\",\"aburra sur\",\"aburra sur\",\"aburra sur\",\"aburra sur\",\"aburra sur\",\"aburra sur\",\"aburra sur\",\"aburra sur\",\"aburra sur\",\"aburra sur\",\"aburra sur\",\"aburra sur\",\"aburra sur\",\"aburra sur\",\"aburra sur\",\"aburra sur\",\"aburra sur\",\"aburra sur\",\"aburra sur\",\"aburra sur\",\"aburra sur\",\"aburra sur\",\"aburra sur\",\"aburra sur\",\"aburra sur\",\"aburra sur\",\"aburra sur\",\"aburra sur\",\"aburra sur\",\"aburra sur\",\"aburra sur\",\"aburra sur\",\"aburra sur\",\"aburra sur\",\"aburra sur\",\"aburra sur\",\"aburra sur\",\"aburra sur\",\"aburra sur\",\"aburra sur\",\"aburra sur\",\"aburra sur\",\"aburra sur\",\"aburra sur\",\"aburra sur\",\"aburra sur\",\"aburra sur\",\"belen guayabal\",\"belen guayabal\",\"belen guayabal\",\"belen guayabal\",\"belen guayabal\",\"belen guayabal\",\"belen guayabal\",\"belen guayabal\",\"belen guayabal\",\"belen guayabal\",\"belen guayabal\",\"belen guayabal\",\"belen guayabal\",\"belen guayabal\",\"belen guayabal\",\"belen guayabal\",\"belen guayabal\",\"belen guayabal\",\"belen guayabal\",\"belen guayabal\",\"belen guayabal\",\"belen guayabal\",\"belen guayabal\",\"belen guayabal\",\"belen guayabal\",\"belen guayabal\",\"belen guayabal\",\"belen guayabal\",\"belen guayabal\",\"belen guayabal\",\"belen guayabal\",\"belen guayabal\",\"belen guayabal\",\"belen guayabal\",\"belen guayabal\",\"belen guayabal\",\"belen guayabal\",\"belen guayabal\",\"belen guayabal\",\"belen guayabal\",\"belen guayabal\",\"belen guayabal\",\"belen guayabal\",\"belen guayabal\",\"belen guayabal\",\"belen guayabal\",\"belen guayabal\",\"belen guayabal\",\"belen guayabal\",\"belen guayabal\",\"belen guayabal\",\"belen guayabal\",\"belen guayabal\",\"belen guayabal\",\"belen guayabal\",\"belen guayabal\",\"belen guayabal\",\"belen guayabal\",\"belen guayabal\",\"belen guayabal\",\"belen guayabal\",\"belen guayabal\",\"belen guayabal\",\"belen guayabal\",\"belen guayabal\",\"belen guayabal\",\"belen guayabal\",\"centro\",\"centro\",\"centro\",\"centro\",\"centro\",\"centro\",\"centro\",\"centro\",\"centro\",\"centro\",\"centro\",\"centro\",\"centro\",\"centro\",\"centro\",\"centro\",\"centro\",\"centro\",\"centro\",\"centro\",\"centro\",\"centro\",\"centro\",\"centro\",\"centro\",\"centro\",\"centro\",\"centro\",\"centro\",\"centro\",\"centro\",\"centro\",\"centro\",\"centro\",\"centro\",\"centro\",\"centro\",\"centro\",\"laureles\",\"laureles\",\"laureles\",\"laureles\",\"laureles\",\"laureles\",\"laureles\",\"laureles\",\"laureles\",\"laureles\",\"laureles\",\"laureles\",\"laureles\",\"laureles\",\"laureles\",\"laureles\",\"laureles\",\"laureles\",\"laureles\",\"laureles\",\"laureles\",\"laureles\",\"laureles\",\"laureles\",\"laureles\",\"laureles\",\"laureles\",\"laureles\",\"laureles\",\"laureles\",\"laureles\",\"laureles\",\"laureles\",\"laureles\",\"laureles\",\"laureles\",\"laureles\",\"laureles\",\"laureles\",\"laureles\",\"laureles\",\"laureles\",\"laureles\",\"laureles\",\"laureles\",\"laureles\",\"laureles\",\"laureles\",\"laureles\",\"laureles\",\"laureles\",\"laureles\",\"laureles\",\"laureles\",\"laureles\",\"laureles\",\"laureles\",\"laureles\",\"laureles\",\"laureles\",\"laureles\",\"laureles\",\"laureles\",\"laureles\",\"laureles\",\"laureles\",\"laureles\",\"laureles\",\"laureles\",\"laureles\",\"laureles\",\"laureles\",\"laureles\"],\"xaxis\":\"x\",\"y\":[1,1,1,1,1,1,1,1,1,1,1,1,1,1,1,1,1,1,1,1,1,1,1,1,1,1,1,1,1,1,1,1,1,1,1,1,1,1,1,1,1,1,1,1,1,1,1,1,1,1,1,1,1,1,1,1,1,1,1,1,1,1,1,1,1,1,1,1,1,1,1,1,1,1,1,1,1,1,1,1,1,1,1,1,1,1,1,1,1,1,1,1,1,1,1,1,1,1,1,1,1,1,1,1,1,1,1,1,1,1,1,1,1,1,1,1,1,1,1,1,1,1,1,1,1,1,1,1,1,1,1,1,1,1,1,1,1,1,1,1,1,1,1,1,1,1,1,1,1,1,1,1,1,1,1,1,1,1,1,1,1,1,1,1,1,1,1,1,1,1,1,1,1,1,1,1,1,1,1,1,1,1,1,1,1,1,1,1,1,1,1,1,1,1,1,1,1,1,1,1,1,1,1,1,1,1,1,1,1,1,1,1,1,1,1,1,1,1,1,1,1,1,1,1,1,1,1,1,1,1,1,1,1,1,1,1,1,1,1,1,1,1,1,1,1,1,1,1,1,1,1,1,1,1,1,1,1,1,1,1,1,1,1,1,1,1,1,1,1,1,1,1,1,1,1,1,1,1,1,1,1,1,1,1,1,1,1,1,1,1,1,1,1,1,1,1,1,1,1,1,1,1,1,1,1,1,1,1,1,1,1,1,1,1,1,1,1,1,1,1,1,1,1,1,1,1,1,1,1,1,1,1,1,1,1,1,1,1,1,1,1,1,1,1,1,1,1,1,1,1,1,1,1,1,1,1,1,1,1,1,1,1,1,1,1,1,1,1,1,1,1,1,1,1,1,1,1,1,1,1,1,1,1,1,1,1,1,1,1,1,1,1,1,1,1,1,1,1,1,1,1,1,1,1,1,1,1,1,1,1,1,1,1,1,1,1,1,1,1,1,1,1,1,1,1,1,1,1,1,1,1,1,1,1,1,1,1,1,1,1,1,1,1,1,1,1,1,1,1,1,1,1,1,1,1,1,1,1,1,1,1,1,1,1,1,1,1,1,1,1,1,1,1,1,1,1,1,1,1,1,1,1,1,1,1,1,1,1,1,1,1,1,1,1,1,1,1,1,1,1,1,1,1,1,1,1,1,1,1,1,1,1,1,1,1,1,1,1,1,1,1,1,1,1,1,1,1,1,1,1,1,1,1,1,1,1,1,1,1,1,1,1,1,1,1,1,1,1,1,1,1,1,1,1,1,1,1,1,1,1,1,1,1,1,1,1,1,1,1,1,1,1,1,1,1,1,1,1,1,1,1,1,1,1,1,1,1,1,1,1,1,1,1,1,1,1,1,1,1,1,1,1,1,1,1,1,1,1,1,1,1,1,1,1,1,1,1,1,1,1,1,1,1,1,1,1,1,1,1,1,1,1,1,1,1,1,1,1,1,1,1,1,1,1,1,1,1,1,1,1,1,1,1,1,1,1,1,1,1,1,1,1,1,1,1,1,1,1,1,1,1,1,1,1,1,1,1,1,1,1,1,1,1,1,1,1,1,1,1,1,1,1,1,1],\"yaxis\":\"y\",\"type\":\"bar\"}],                        {\"template\":{\"data\":{\"bar\":[{\"error_x\":{\"color\":\"#2a3f5f\"},\"error_y\":{\"color\":\"#2a3f5f\"},\"marker\":{\"line\":{\"color\":\"#E5ECF6\",\"width\":0.5},\"pattern\":{\"fillmode\":\"overlay\",\"size\":10,\"solidity\":0.2}},\"type\":\"bar\"}],\"barpolar\":[{\"marker\":{\"line\":{\"color\":\"#E5ECF6\",\"width\":0.5},\"pattern\":{\"fillmode\":\"overlay\",\"size\":10,\"solidity\":0.2}},\"type\":\"barpolar\"}],\"carpet\":[{\"aaxis\":{\"endlinecolor\":\"#2a3f5f\",\"gridcolor\":\"white\",\"linecolor\":\"white\",\"minorgridcolor\":\"white\",\"startlinecolor\":\"#2a3f5f\"},\"baxis\":{\"endlinecolor\":\"#2a3f5f\",\"gridcolor\":\"white\",\"linecolor\":\"white\",\"minorgridcolor\":\"white\",\"startlinecolor\":\"#2a3f5f\"},\"type\":\"carpet\"}],\"choropleth\":[{\"colorbar\":{\"outlinewidth\":0,\"ticks\":\"\"},\"type\":\"choropleth\"}],\"contour\":[{\"colorbar\":{\"outlinewidth\":0,\"ticks\":\"\"},\"colorscale\":[[0.0,\"#0d0887\"],[0.1111111111111111,\"#46039f\"],[0.2222222222222222,\"#7201a8\"],[0.3333333333333333,\"#9c179e\"],[0.4444444444444444,\"#bd3786\"],[0.5555555555555556,\"#d8576b\"],[0.6666666666666666,\"#ed7953\"],[0.7777777777777778,\"#fb9f3a\"],[0.8888888888888888,\"#fdca26\"],[1.0,\"#f0f921\"]],\"type\":\"contour\"}],\"contourcarpet\":[{\"colorbar\":{\"outlinewidth\":0,\"ticks\":\"\"},\"type\":\"contourcarpet\"}],\"heatmap\":[{\"colorbar\":{\"outlinewidth\":0,\"ticks\":\"\"},\"colorscale\":[[0.0,\"#0d0887\"],[0.1111111111111111,\"#46039f\"],[0.2222222222222222,\"#7201a8\"],[0.3333333333333333,\"#9c179e\"],[0.4444444444444444,\"#bd3786\"],[0.5555555555555556,\"#d8576b\"],[0.6666666666666666,\"#ed7953\"],[0.7777777777777778,\"#fb9f3a\"],[0.8888888888888888,\"#fdca26\"],[1.0,\"#f0f921\"]],\"type\":\"heatmap\"}],\"heatmapgl\":[{\"colorbar\":{\"outlinewidth\":0,\"ticks\":\"\"},\"colorscale\":[[0.0,\"#0d0887\"],[0.1111111111111111,\"#46039f\"],[0.2222222222222222,\"#7201a8\"],[0.3333333333333333,\"#9c179e\"],[0.4444444444444444,\"#bd3786\"],[0.5555555555555556,\"#d8576b\"],[0.6666666666666666,\"#ed7953\"],[0.7777777777777778,\"#fb9f3a\"],[0.8888888888888888,\"#fdca26\"],[1.0,\"#f0f921\"]],\"type\":\"heatmapgl\"}],\"histogram\":[{\"marker\":{\"pattern\":{\"fillmode\":\"overlay\",\"size\":10,\"solidity\":0.2}},\"type\":\"histogram\"}],\"histogram2d\":[{\"colorbar\":{\"outlinewidth\":0,\"ticks\":\"\"},\"colorscale\":[[0.0,\"#0d0887\"],[0.1111111111111111,\"#46039f\"],[0.2222222222222222,\"#7201a8\"],[0.3333333333333333,\"#9c179e\"],[0.4444444444444444,\"#bd3786\"],[0.5555555555555556,\"#d8576b\"],[0.6666666666666666,\"#ed7953\"],[0.7777777777777778,\"#fb9f3a\"],[0.8888888888888888,\"#fdca26\"],[1.0,\"#f0f921\"]],\"type\":\"histogram2d\"}],\"histogram2dcontour\":[{\"colorbar\":{\"outlinewidth\":0,\"ticks\":\"\"},\"colorscale\":[[0.0,\"#0d0887\"],[0.1111111111111111,\"#46039f\"],[0.2222222222222222,\"#7201a8\"],[0.3333333333333333,\"#9c179e\"],[0.4444444444444444,\"#bd3786\"],[0.5555555555555556,\"#d8576b\"],[0.6666666666666666,\"#ed7953\"],[0.7777777777777778,\"#fb9f3a\"],[0.8888888888888888,\"#fdca26\"],[1.0,\"#f0f921\"]],\"type\":\"histogram2dcontour\"}],\"mesh3d\":[{\"colorbar\":{\"outlinewidth\":0,\"ticks\":\"\"},\"type\":\"mesh3d\"}],\"parcoords\":[{\"line\":{\"colorbar\":{\"outlinewidth\":0,\"ticks\":\"\"}},\"type\":\"parcoords\"}],\"pie\":[{\"automargin\":true,\"type\":\"pie\"}],\"scatter\":[{\"marker\":{\"colorbar\":{\"outlinewidth\":0,\"ticks\":\"\"}},\"type\":\"scatter\"}],\"scatter3d\":[{\"line\":{\"colorbar\":{\"outlinewidth\":0,\"ticks\":\"\"}},\"marker\":{\"colorbar\":{\"outlinewidth\":0,\"ticks\":\"\"}},\"type\":\"scatter3d\"}],\"scattercarpet\":[{\"marker\":{\"colorbar\":{\"outlinewidth\":0,\"ticks\":\"\"}},\"type\":\"scattercarpet\"}],\"scattergeo\":[{\"marker\":{\"colorbar\":{\"outlinewidth\":0,\"ticks\":\"\"}},\"type\":\"scattergeo\"}],\"scattergl\":[{\"marker\":{\"colorbar\":{\"outlinewidth\":0,\"ticks\":\"\"}},\"type\":\"scattergl\"}],\"scattermapbox\":[{\"marker\":{\"colorbar\":{\"outlinewidth\":0,\"ticks\":\"\"}},\"type\":\"scattermapbox\"}],\"scatterpolar\":[{\"marker\":{\"colorbar\":{\"outlinewidth\":0,\"ticks\":\"\"}},\"type\":\"scatterpolar\"}],\"scatterpolargl\":[{\"marker\":{\"colorbar\":{\"outlinewidth\":0,\"ticks\":\"\"}},\"type\":\"scatterpolargl\"}],\"scatterternary\":[{\"marker\":{\"colorbar\":{\"outlinewidth\":0,\"ticks\":\"\"}},\"type\":\"scatterternary\"}],\"surface\":[{\"colorbar\":{\"outlinewidth\":0,\"ticks\":\"\"},\"colorscale\":[[0.0,\"#0d0887\"],[0.1111111111111111,\"#46039f\"],[0.2222222222222222,\"#7201a8\"],[0.3333333333333333,\"#9c179e\"],[0.4444444444444444,\"#bd3786\"],[0.5555555555555556,\"#d8576b\"],[0.6666666666666666,\"#ed7953\"],[0.7777777777777778,\"#fb9f3a\"],[0.8888888888888888,\"#fdca26\"],[1.0,\"#f0f921\"]],\"type\":\"surface\"}],\"table\":[{\"cells\":{\"fill\":{\"color\":\"#EBF0F8\"},\"line\":{\"color\":\"white\"}},\"header\":{\"fill\":{\"color\":\"#C8D4E3\"},\"line\":{\"color\":\"white\"}},\"type\":\"table\"}]},\"layout\":{\"annotationdefaults\":{\"arrowcolor\":\"#2a3f5f\",\"arrowhead\":0,\"arrowwidth\":1},\"autotypenumbers\":\"strict\",\"coloraxis\":{\"colorbar\":{\"outlinewidth\":0,\"ticks\":\"\"}},\"colorscale\":{\"diverging\":[[0,\"#8e0152\"],[0.1,\"#c51b7d\"],[0.2,\"#de77ae\"],[0.3,\"#f1b6da\"],[0.4,\"#fde0ef\"],[0.5,\"#f7f7f7\"],[0.6,\"#e6f5d0\"],[0.7,\"#b8e186\"],[0.8,\"#7fbc41\"],[0.9,\"#4d9221\"],[1,\"#276419\"]],\"sequential\":[[0.0,\"#0d0887\"],[0.1111111111111111,\"#46039f\"],[0.2222222222222222,\"#7201a8\"],[0.3333333333333333,\"#9c179e\"],[0.4444444444444444,\"#bd3786\"],[0.5555555555555556,\"#d8576b\"],[0.6666666666666666,\"#ed7953\"],[0.7777777777777778,\"#fb9f3a\"],[0.8888888888888888,\"#fdca26\"],[1.0,\"#f0f921\"]],\"sequentialminus\":[[0.0,\"#0d0887\"],[0.1111111111111111,\"#46039f\"],[0.2222222222222222,\"#7201a8\"],[0.3333333333333333,\"#9c179e\"],[0.4444444444444444,\"#bd3786\"],[0.5555555555555556,\"#d8576b\"],[0.6666666666666666,\"#ed7953\"],[0.7777777777777778,\"#fb9f3a\"],[0.8888888888888888,\"#fdca26\"],[1.0,\"#f0f921\"]]},\"colorway\":[\"#636efa\",\"#EF553B\",\"#00cc96\",\"#ab63fa\",\"#FFA15A\",\"#19d3f3\",\"#FF6692\",\"#B6E880\",\"#FF97FF\",\"#FECB52\"],\"font\":{\"color\":\"#2a3f5f\"},\"geo\":{\"bgcolor\":\"white\",\"lakecolor\":\"white\",\"landcolor\":\"#E5ECF6\",\"showlakes\":true,\"showland\":true,\"subunitcolor\":\"white\"},\"hoverlabel\":{\"align\":\"left\"},\"hovermode\":\"closest\",\"mapbox\":{\"style\":\"light\"},\"paper_bgcolor\":\"white\",\"plot_bgcolor\":\"#E5ECF6\",\"polar\":{\"angularaxis\":{\"gridcolor\":\"white\",\"linecolor\":\"white\",\"ticks\":\"\"},\"bgcolor\":\"#E5ECF6\",\"radialaxis\":{\"gridcolor\":\"white\",\"linecolor\":\"white\",\"ticks\":\"\"}},\"scene\":{\"xaxis\":{\"backgroundcolor\":\"#E5ECF6\",\"gridcolor\":\"white\",\"gridwidth\":2,\"linecolor\":\"white\",\"showbackground\":true,\"ticks\":\"\",\"zerolinecolor\":\"white\"},\"yaxis\":{\"backgroundcolor\":\"#E5ECF6\",\"gridcolor\":\"white\",\"gridwidth\":2,\"linecolor\":\"white\",\"showbackground\":true,\"ticks\":\"\",\"zerolinecolor\":\"white\"},\"zaxis\":{\"backgroundcolor\":\"#E5ECF6\",\"gridcolor\":\"white\",\"gridwidth\":2,\"linecolor\":\"white\",\"showbackground\":true,\"ticks\":\"\",\"zerolinecolor\":\"white\"}},\"shapedefaults\":{\"line\":{\"color\":\"#2a3f5f\"}},\"ternary\":{\"aaxis\":{\"gridcolor\":\"white\",\"linecolor\":\"white\",\"ticks\":\"\"},\"baxis\":{\"gridcolor\":\"white\",\"linecolor\":\"white\",\"ticks\":\"\"},\"bgcolor\":\"#E5ECF6\",\"caxis\":{\"gridcolor\":\"white\",\"linecolor\":\"white\",\"ticks\":\"\"}},\"title\":{\"x\":0.05},\"xaxis\":{\"automargin\":true,\"gridcolor\":\"white\",\"linecolor\":\"white\",\"ticks\":\"\",\"title\":{\"standoff\":15},\"zerolinecolor\":\"white\",\"zerolinewidth\":2},\"yaxis\":{\"automargin\":true,\"gridcolor\":\"white\",\"linecolor\":\"white\",\"ticks\":\"\",\"title\":{\"standoff\":15},\"zerolinecolor\":\"white\",\"zerolinewidth\":2}}},\"xaxis\":{\"anchor\":\"y\",\"domain\":[0.0,1.0],\"title\":{\"text\":\"value\"}},\"yaxis\":{\"anchor\":\"x\",\"domain\":[0.0,1.0],\"title\":{\"text\":\"count\"}},\"legend\":{\"title\":{\"text\":\"variable\"},\"tracegroupgap\":0},\"margin\":{\"t\":60},\"barmode\":\"relative\"},                        {\"responsive\": true}                    ).then(function(){\n",
              "                            \n",
              "var gd = document.getElementById('4f45160f-3d19-4349-94f9-e4d7ac1dd09c');\n",
              "var x = new MutationObserver(function (mutations, observer) {{\n",
              "        var display = window.getComputedStyle(gd).display;\n",
              "        if (!display || display === 'none') {{\n",
              "            console.log([gd, 'removed!']);\n",
              "            Plotly.purge(gd);\n",
              "            observer.disconnect();\n",
              "        }}\n",
              "}});\n",
              "\n",
              "// Listen for the removal of the full notebook cells\n",
              "var notebookContainer = gd.closest('#notebook-container');\n",
              "if (notebookContainer) {{\n",
              "    x.observe(notebookContainer, {childList: true});\n",
              "}}\n",
              "\n",
              "// Listen for the clearing of the current output cell\n",
              "var outputEl = gd.closest('.output');\n",
              "if (outputEl) {{\n",
              "    x.observe(outputEl, {childList: true});\n",
              "}}\n",
              "\n",
              "                        })                };                            </script>        </div>\n",
              "</body>\n",
              "</html>"
            ]
          },
          "metadata": {}
        }
      ]
    },
    {
      "cell_type": "markdown",
      "source": [
        "<FONT SIZE=5 COLOR=\"Green\"> Variables Dummies </FONT>\n",
        "\n",
        "-Para algunos modelos de machine learning es necesario codificar las variables categóricas.\n",
        "\n",
        "- Esto se hace con la instrucción pd.get_dummies"
      ],
      "metadata": {
        "id": "w3bfF6IGjfPV"
      }
    },
    {
      "cell_type": "code",
      "source": [
        "aptos.dtypes"
      ],
      "metadata": {
        "id": "k_GodnQljov6"
      },
      "execution_count": null,
      "outputs": []
    },
    {
      "cell_type": "code",
      "source": [
        "# revisamos las variables categóricas\n",
        "var_cat = aptos.select_dtypes(include=[\"object\"]).columns\n",
        "var_cat"
      ],
      "metadata": {
        "id": "HKmZlx6Ejs6i"
      },
      "execution_count": null,
      "outputs": []
    },
    {
      "cell_type": "code",
      "source": [
        "cat_datos1 = pd.get_dummies(aptos[var_cat[[1, 3]]], dummy_na = True)\n",
        "cat_datos1"
      ],
      "metadata": {
        "id": "52a-qSBFj1KH"
      },
      "execution_count": null,
      "outputs": []
    },
    {
      "cell_type": "code",
      "source": [
        "cat_datos2 = pd.get_dummies(aptos[var_cat[[1,3]]], dummy_na = True, drop_first = True)\n",
        "cat_datos2"
      ],
      "metadata": {
        "id": "Hv_Efva_kVPm"
      },
      "execution_count": null,
      "outputs": []
    },
    {
      "cell_type": "code",
      "source": [
        "U=aptos.drop(var_cat, axis = 1 , inplace = False)"
      ],
      "metadata": {
        "id": "NjB7PCOjk5nK"
      },
      "execution_count": null,
      "outputs": []
    },
    {
      "cell_type": "code",
      "source": [
        "# podemos usar pd.concat para pegar los data.frame\n",
        "datos1_1 = pd.concat([U,cat_datos2], axis = 1)\n",
        "datos1_1.head(7)"
      ],
      "metadata": {
        "id": "aE8NKcEfknrV"
      },
      "execution_count": null,
      "outputs": []
    },
    {
      "cell_type": "markdown",
      "source": [
        "<FONT SIZE=5 COLOR=\"Green\"> Algunos elementos de análisis bivariado </FONT>\n",
        "\n",
        "Cuando se tiene un conjunto de variables cuantitativas, por cada par de ellas se calcula la covarianza:\n",
        "\n",
        "$$Cov(X,Y)=\\frac{1}{n-1}\\sum_{i=1}^n (X_i-\\bar{X})(Y_i-\\bar{Y})$$\n",
        "\n",
        "Estos valores conformaran la matriz de covarianzas.\n",
        "\n",
        "EL coeficiente de correlación lineal se define como:\n",
        "\n",
        "$$\\rho_{XY}=\\frac{Cov(X;Y)}{sd(X)sd(Y)}$$\n"
      ],
      "metadata": {
        "id": "uCc_fg7MlIDs"
      }
    },
    {
      "cell_type": "code",
      "source": [
        "# calcular la matriz de covarianzas\n",
        "aptos.cov()"
      ],
      "metadata": {
        "id": "DNp3U4_SlvbW",
        "colab": {
          "base_uri": "https://localhost:8080/",
          "height": 300
        },
        "outputId": "2977cac3-aa43-45a5-abdf-383e2524ed4d"
      },
      "execution_count": 61,
      "outputs": [
        {
          "output_type": "execute_result",
          "data": {
            "text/plain": [
              "                      precio           mt2     estrato    alcobas       banos  \\\n",
              "precio          61313.145649  15874.106638  186.526441  35.277271  123.482524   \n",
              "mt2             15874.106638   5579.416697   50.764364  17.670587   39.633539   \n",
              "estrato           186.526441     50.764364    1.459760   0.062598    0.460446   \n",
              "alcobas            35.277271     17.670587    0.062598   0.583638    0.212059   \n",
              "banos             123.482524     39.633539    0.460446   0.212059    0.633168   \n",
              "administracion     46.886401     14.553850    0.193592   0.031164    0.109809   \n",
              "avaluo          33055.605956   9508.188118  120.703617  19.863639   70.686784   \n",
              "precio/mt2        107.905340      8.154900    0.496589  -0.105845    0.128734   \n",
              "\n",
              "                administracion        avaluo  precio/mt2  \n",
              "precio               46.886401  33055.605956  107.905340  \n",
              "mt2                  14.553850   9508.188118    8.154900  \n",
              "estrato               0.193592    120.703617    0.496589  \n",
              "alcobas               0.031164     19.863639   -0.105845  \n",
              "banos                 0.109809     70.686784    0.128734  \n",
              "administracion        0.063295     29.774540    0.066139  \n",
              "avaluo               29.774540  28588.852603   50.442626  \n",
              "precio/mt2            0.066139     50.442626    0.604243  "
            ],
            "text/html": [
              "\n",
              "  <div id=\"df-deba165a-e705-4eda-b3cd-1755a55cfcb7\">\n",
              "    <div class=\"colab-df-container\">\n",
              "      <div>\n",
              "<style scoped>\n",
              "    .dataframe tbody tr th:only-of-type {\n",
              "        vertical-align: middle;\n",
              "    }\n",
              "\n",
              "    .dataframe tbody tr th {\n",
              "        vertical-align: top;\n",
              "    }\n",
              "\n",
              "    .dataframe thead th {\n",
              "        text-align: right;\n",
              "    }\n",
              "</style>\n",
              "<table border=\"1\" class=\"dataframe\">\n",
              "  <thead>\n",
              "    <tr style=\"text-align: right;\">\n",
              "      <th></th>\n",
              "      <th>precio</th>\n",
              "      <th>mt2</th>\n",
              "      <th>estrato</th>\n",
              "      <th>alcobas</th>\n",
              "      <th>banos</th>\n",
              "      <th>administracion</th>\n",
              "      <th>avaluo</th>\n",
              "      <th>precio/mt2</th>\n",
              "    </tr>\n",
              "  </thead>\n",
              "  <tbody>\n",
              "    <tr>\n",
              "      <th>precio</th>\n",
              "      <td>61313.145649</td>\n",
              "      <td>15874.106638</td>\n",
              "      <td>186.526441</td>\n",
              "      <td>35.277271</td>\n",
              "      <td>123.482524</td>\n",
              "      <td>46.886401</td>\n",
              "      <td>33055.605956</td>\n",
              "      <td>107.905340</td>\n",
              "    </tr>\n",
              "    <tr>\n",
              "      <th>mt2</th>\n",
              "      <td>15874.106638</td>\n",
              "      <td>5579.416697</td>\n",
              "      <td>50.764364</td>\n",
              "      <td>17.670587</td>\n",
              "      <td>39.633539</td>\n",
              "      <td>14.553850</td>\n",
              "      <td>9508.188118</td>\n",
              "      <td>8.154900</td>\n",
              "    </tr>\n",
              "    <tr>\n",
              "      <th>estrato</th>\n",
              "      <td>186.526441</td>\n",
              "      <td>50.764364</td>\n",
              "      <td>1.459760</td>\n",
              "      <td>0.062598</td>\n",
              "      <td>0.460446</td>\n",
              "      <td>0.193592</td>\n",
              "      <td>120.703617</td>\n",
              "      <td>0.496589</td>\n",
              "    </tr>\n",
              "    <tr>\n",
              "      <th>alcobas</th>\n",
              "      <td>35.277271</td>\n",
              "      <td>17.670587</td>\n",
              "      <td>0.062598</td>\n",
              "      <td>0.583638</td>\n",
              "      <td>0.212059</td>\n",
              "      <td>0.031164</td>\n",
              "      <td>19.863639</td>\n",
              "      <td>-0.105845</td>\n",
              "    </tr>\n",
              "    <tr>\n",
              "      <th>banos</th>\n",
              "      <td>123.482524</td>\n",
              "      <td>39.633539</td>\n",
              "      <td>0.460446</td>\n",
              "      <td>0.212059</td>\n",
              "      <td>0.633168</td>\n",
              "      <td>0.109809</td>\n",
              "      <td>70.686784</td>\n",
              "      <td>0.128734</td>\n",
              "    </tr>\n",
              "    <tr>\n",
              "      <th>administracion</th>\n",
              "      <td>46.886401</td>\n",
              "      <td>14.553850</td>\n",
              "      <td>0.193592</td>\n",
              "      <td>0.031164</td>\n",
              "      <td>0.109809</td>\n",
              "      <td>0.063295</td>\n",
              "      <td>29.774540</td>\n",
              "      <td>0.066139</td>\n",
              "    </tr>\n",
              "    <tr>\n",
              "      <th>avaluo</th>\n",
              "      <td>33055.605956</td>\n",
              "      <td>9508.188118</td>\n",
              "      <td>120.703617</td>\n",
              "      <td>19.863639</td>\n",
              "      <td>70.686784</td>\n",
              "      <td>29.774540</td>\n",
              "      <td>28588.852603</td>\n",
              "      <td>50.442626</td>\n",
              "    </tr>\n",
              "    <tr>\n",
              "      <th>precio/mt2</th>\n",
              "      <td>107.905340</td>\n",
              "      <td>8.154900</td>\n",
              "      <td>0.496589</td>\n",
              "      <td>-0.105845</td>\n",
              "      <td>0.128734</td>\n",
              "      <td>0.066139</td>\n",
              "      <td>50.442626</td>\n",
              "      <td>0.604243</td>\n",
              "    </tr>\n",
              "  </tbody>\n",
              "</table>\n",
              "</div>\n",
              "      <button class=\"colab-df-convert\" onclick=\"convertToInteractive('df-deba165a-e705-4eda-b3cd-1755a55cfcb7')\"\n",
              "              title=\"Convert this dataframe to an interactive table.\"\n",
              "              style=\"display:none;\">\n",
              "        \n",
              "  <svg xmlns=\"http://www.w3.org/2000/svg\" height=\"24px\"viewBox=\"0 0 24 24\"\n",
              "       width=\"24px\">\n",
              "    <path d=\"M0 0h24v24H0V0z\" fill=\"none\"/>\n",
              "    <path d=\"M18.56 5.44l.94 2.06.94-2.06 2.06-.94-2.06-.94-.94-2.06-.94 2.06-2.06.94zm-11 1L8.5 8.5l.94-2.06 2.06-.94-2.06-.94L8.5 2.5l-.94 2.06-2.06.94zm10 10l.94 2.06.94-2.06 2.06-.94-2.06-.94-.94-2.06-.94 2.06-2.06.94z\"/><path d=\"M17.41 7.96l-1.37-1.37c-.4-.4-.92-.59-1.43-.59-.52 0-1.04.2-1.43.59L10.3 9.45l-7.72 7.72c-.78.78-.78 2.05 0 2.83L4 21.41c.39.39.9.59 1.41.59.51 0 1.02-.2 1.41-.59l7.78-7.78 2.81-2.81c.8-.78.8-2.07 0-2.86zM5.41 20L4 18.59l7.72-7.72 1.47 1.35L5.41 20z\"/>\n",
              "  </svg>\n",
              "      </button>\n",
              "      \n",
              "  <style>\n",
              "    .colab-df-container {\n",
              "      display:flex;\n",
              "      flex-wrap:wrap;\n",
              "      gap: 12px;\n",
              "    }\n",
              "\n",
              "    .colab-df-convert {\n",
              "      background-color: #E8F0FE;\n",
              "      border: none;\n",
              "      border-radius: 50%;\n",
              "      cursor: pointer;\n",
              "      display: none;\n",
              "      fill: #1967D2;\n",
              "      height: 32px;\n",
              "      padding: 0 0 0 0;\n",
              "      width: 32px;\n",
              "    }\n",
              "\n",
              "    .colab-df-convert:hover {\n",
              "      background-color: #E2EBFA;\n",
              "      box-shadow: 0px 1px 2px rgba(60, 64, 67, 0.3), 0px 1px 3px 1px rgba(60, 64, 67, 0.15);\n",
              "      fill: #174EA6;\n",
              "    }\n",
              "\n",
              "    [theme=dark] .colab-df-convert {\n",
              "      background-color: #3B4455;\n",
              "      fill: #D2E3FC;\n",
              "    }\n",
              "\n",
              "    [theme=dark] .colab-df-convert:hover {\n",
              "      background-color: #434B5C;\n",
              "      box-shadow: 0px 1px 3px 1px rgba(0, 0, 0, 0.15);\n",
              "      filter: drop-shadow(0px 1px 2px rgba(0, 0, 0, 0.3));\n",
              "      fill: #FFFFFF;\n",
              "    }\n",
              "  </style>\n",
              "\n",
              "      <script>\n",
              "        const buttonEl =\n",
              "          document.querySelector('#df-deba165a-e705-4eda-b3cd-1755a55cfcb7 button.colab-df-convert');\n",
              "        buttonEl.style.display =\n",
              "          google.colab.kernel.accessAllowed ? 'block' : 'none';\n",
              "\n",
              "        async function convertToInteractive(key) {\n",
              "          const element = document.querySelector('#df-deba165a-e705-4eda-b3cd-1755a55cfcb7');\n",
              "          const dataTable =\n",
              "            await google.colab.kernel.invokeFunction('convertToInteractive',\n",
              "                                                     [key], {});\n",
              "          if (!dataTable) return;\n",
              "\n",
              "          const docLinkHtml = 'Like what you see? Visit the ' +\n",
              "            '<a target=\"_blank\" href=https://colab.research.google.com/notebooks/data_table.ipynb>data table notebook</a>'\n",
              "            + ' to learn more about interactive tables.';\n",
              "          element.innerHTML = '';\n",
              "          dataTable['output_type'] = 'display_data';\n",
              "          await google.colab.output.renderOutput(dataTable, element);\n",
              "          const docLink = document.createElement('div');\n",
              "          docLink.innerHTML = docLinkHtml;\n",
              "          element.appendChild(docLink);\n",
              "        }\n",
              "      </script>\n",
              "    </div>\n",
              "  </div>\n",
              "  "
            ]
          },
          "metadata": {},
          "execution_count": 61
        }
      ]
    },
    {
      "cell_type": "code",
      "source": [
        "# matriz de correlación\n",
        "corr = aptos.corr() ; corr"
      ],
      "metadata": {
        "id": "TpbyQfEAl-sz",
        "colab": {
          "base_uri": "https://localhost:8080/",
          "height": 300
        },
        "outputId": "b83b409b-6a51-487a-a614-f21c138c46ec"
      },
      "execution_count": 63,
      "outputs": [
        {
          "output_type": "execute_result",
          "data": {
            "text/plain": [
              "                  precio       mt2   estrato   alcobas     banos  \\\n",
              "precio          1.000000  0.858258  0.623480  0.186486  0.626714   \n",
              "mt2             0.858258  1.000000  0.562502  0.309660  0.666821   \n",
              "estrato         0.623480  0.562502  1.000000  0.067818  0.478938   \n",
              "alcobas         0.186486  0.309660  0.067818  1.000000  0.348839   \n",
              "banos           0.626714  0.666821  0.478938  0.348839  1.000000   \n",
              "administracion  0.752635  0.774457  0.636884  0.162141  0.548519   \n",
              "avaluo          0.789532  0.752844  0.590855  0.153776  0.525388   \n",
              "precio/mt2      0.560609  0.140449  0.528751 -0.178236  0.208127   \n",
              "\n",
              "                administracion    avaluo  precio/mt2  \n",
              "precio                0.752635  0.789532    0.560609  \n",
              "mt2                   0.774457  0.752844    0.140449  \n",
              "estrato               0.636884  0.590855    0.528751  \n",
              "alcobas               0.162141  0.153776   -0.178236  \n",
              "banos                 0.548519  0.525388    0.208127  \n",
              "administracion        1.000000  0.699940    0.338191  \n",
              "avaluo                0.699940  1.000000    0.383790  \n",
              "precio/mt2            0.338191  0.383790    1.000000  "
            ],
            "text/html": [
              "\n",
              "  <div id=\"df-ca87a8da-2bc0-4fe3-8659-4349baaf1dc4\">\n",
              "    <div class=\"colab-df-container\">\n",
              "      <div>\n",
              "<style scoped>\n",
              "    .dataframe tbody tr th:only-of-type {\n",
              "        vertical-align: middle;\n",
              "    }\n",
              "\n",
              "    .dataframe tbody tr th {\n",
              "        vertical-align: top;\n",
              "    }\n",
              "\n",
              "    .dataframe thead th {\n",
              "        text-align: right;\n",
              "    }\n",
              "</style>\n",
              "<table border=\"1\" class=\"dataframe\">\n",
              "  <thead>\n",
              "    <tr style=\"text-align: right;\">\n",
              "      <th></th>\n",
              "      <th>precio</th>\n",
              "      <th>mt2</th>\n",
              "      <th>estrato</th>\n",
              "      <th>alcobas</th>\n",
              "      <th>banos</th>\n",
              "      <th>administracion</th>\n",
              "      <th>avaluo</th>\n",
              "      <th>precio/mt2</th>\n",
              "    </tr>\n",
              "  </thead>\n",
              "  <tbody>\n",
              "    <tr>\n",
              "      <th>precio</th>\n",
              "      <td>1.000000</td>\n",
              "      <td>0.858258</td>\n",
              "      <td>0.623480</td>\n",
              "      <td>0.186486</td>\n",
              "      <td>0.626714</td>\n",
              "      <td>0.752635</td>\n",
              "      <td>0.789532</td>\n",
              "      <td>0.560609</td>\n",
              "    </tr>\n",
              "    <tr>\n",
              "      <th>mt2</th>\n",
              "      <td>0.858258</td>\n",
              "      <td>1.000000</td>\n",
              "      <td>0.562502</td>\n",
              "      <td>0.309660</td>\n",
              "      <td>0.666821</td>\n",
              "      <td>0.774457</td>\n",
              "      <td>0.752844</td>\n",
              "      <td>0.140449</td>\n",
              "    </tr>\n",
              "    <tr>\n",
              "      <th>estrato</th>\n",
              "      <td>0.623480</td>\n",
              "      <td>0.562502</td>\n",
              "      <td>1.000000</td>\n",
              "      <td>0.067818</td>\n",
              "      <td>0.478938</td>\n",
              "      <td>0.636884</td>\n",
              "      <td>0.590855</td>\n",
              "      <td>0.528751</td>\n",
              "    </tr>\n",
              "    <tr>\n",
              "      <th>alcobas</th>\n",
              "      <td>0.186486</td>\n",
              "      <td>0.309660</td>\n",
              "      <td>0.067818</td>\n",
              "      <td>1.000000</td>\n",
              "      <td>0.348839</td>\n",
              "      <td>0.162141</td>\n",
              "      <td>0.153776</td>\n",
              "      <td>-0.178236</td>\n",
              "    </tr>\n",
              "    <tr>\n",
              "      <th>banos</th>\n",
              "      <td>0.626714</td>\n",
              "      <td>0.666821</td>\n",
              "      <td>0.478938</td>\n",
              "      <td>0.348839</td>\n",
              "      <td>1.000000</td>\n",
              "      <td>0.548519</td>\n",
              "      <td>0.525388</td>\n",
              "      <td>0.208127</td>\n",
              "    </tr>\n",
              "    <tr>\n",
              "      <th>administracion</th>\n",
              "      <td>0.752635</td>\n",
              "      <td>0.774457</td>\n",
              "      <td>0.636884</td>\n",
              "      <td>0.162141</td>\n",
              "      <td>0.548519</td>\n",
              "      <td>1.000000</td>\n",
              "      <td>0.699940</td>\n",
              "      <td>0.338191</td>\n",
              "    </tr>\n",
              "    <tr>\n",
              "      <th>avaluo</th>\n",
              "      <td>0.789532</td>\n",
              "      <td>0.752844</td>\n",
              "      <td>0.590855</td>\n",
              "      <td>0.153776</td>\n",
              "      <td>0.525388</td>\n",
              "      <td>0.699940</td>\n",
              "      <td>1.000000</td>\n",
              "      <td>0.383790</td>\n",
              "    </tr>\n",
              "    <tr>\n",
              "      <th>precio/mt2</th>\n",
              "      <td>0.560609</td>\n",
              "      <td>0.140449</td>\n",
              "      <td>0.528751</td>\n",
              "      <td>-0.178236</td>\n",
              "      <td>0.208127</td>\n",
              "      <td>0.338191</td>\n",
              "      <td>0.383790</td>\n",
              "      <td>1.000000</td>\n",
              "    </tr>\n",
              "  </tbody>\n",
              "</table>\n",
              "</div>\n",
              "      <button class=\"colab-df-convert\" onclick=\"convertToInteractive('df-ca87a8da-2bc0-4fe3-8659-4349baaf1dc4')\"\n",
              "              title=\"Convert this dataframe to an interactive table.\"\n",
              "              style=\"display:none;\">\n",
              "        \n",
              "  <svg xmlns=\"http://www.w3.org/2000/svg\" height=\"24px\"viewBox=\"0 0 24 24\"\n",
              "       width=\"24px\">\n",
              "    <path d=\"M0 0h24v24H0V0z\" fill=\"none\"/>\n",
              "    <path d=\"M18.56 5.44l.94 2.06.94-2.06 2.06-.94-2.06-.94-.94-2.06-.94 2.06-2.06.94zm-11 1L8.5 8.5l.94-2.06 2.06-.94-2.06-.94L8.5 2.5l-.94 2.06-2.06.94zm10 10l.94 2.06.94-2.06 2.06-.94-2.06-.94-.94-2.06-.94 2.06-2.06.94z\"/><path d=\"M17.41 7.96l-1.37-1.37c-.4-.4-.92-.59-1.43-.59-.52 0-1.04.2-1.43.59L10.3 9.45l-7.72 7.72c-.78.78-.78 2.05 0 2.83L4 21.41c.39.39.9.59 1.41.59.51 0 1.02-.2 1.41-.59l7.78-7.78 2.81-2.81c.8-.78.8-2.07 0-2.86zM5.41 20L4 18.59l7.72-7.72 1.47 1.35L5.41 20z\"/>\n",
              "  </svg>\n",
              "      </button>\n",
              "      \n",
              "  <style>\n",
              "    .colab-df-container {\n",
              "      display:flex;\n",
              "      flex-wrap:wrap;\n",
              "      gap: 12px;\n",
              "    }\n",
              "\n",
              "    .colab-df-convert {\n",
              "      background-color: #E8F0FE;\n",
              "      border: none;\n",
              "      border-radius: 50%;\n",
              "      cursor: pointer;\n",
              "      display: none;\n",
              "      fill: #1967D2;\n",
              "      height: 32px;\n",
              "      padding: 0 0 0 0;\n",
              "      width: 32px;\n",
              "    }\n",
              "\n",
              "    .colab-df-convert:hover {\n",
              "      background-color: #E2EBFA;\n",
              "      box-shadow: 0px 1px 2px rgba(60, 64, 67, 0.3), 0px 1px 3px 1px rgba(60, 64, 67, 0.15);\n",
              "      fill: #174EA6;\n",
              "    }\n",
              "\n",
              "    [theme=dark] .colab-df-convert {\n",
              "      background-color: #3B4455;\n",
              "      fill: #D2E3FC;\n",
              "    }\n",
              "\n",
              "    [theme=dark] .colab-df-convert:hover {\n",
              "      background-color: #434B5C;\n",
              "      box-shadow: 0px 1px 3px 1px rgba(0, 0, 0, 0.15);\n",
              "      filter: drop-shadow(0px 1px 2px rgba(0, 0, 0, 0.3));\n",
              "      fill: #FFFFFF;\n",
              "    }\n",
              "  </style>\n",
              "\n",
              "      <script>\n",
              "        const buttonEl =\n",
              "          document.querySelector('#df-ca87a8da-2bc0-4fe3-8659-4349baaf1dc4 button.colab-df-convert');\n",
              "        buttonEl.style.display =\n",
              "          google.colab.kernel.accessAllowed ? 'block' : 'none';\n",
              "\n",
              "        async function convertToInteractive(key) {\n",
              "          const element = document.querySelector('#df-ca87a8da-2bc0-4fe3-8659-4349baaf1dc4');\n",
              "          const dataTable =\n",
              "            await google.colab.kernel.invokeFunction('convertToInteractive',\n",
              "                                                     [key], {});\n",
              "          if (!dataTable) return;\n",
              "\n",
              "          const docLinkHtml = 'Like what you see? Visit the ' +\n",
              "            '<a target=\"_blank\" href=https://colab.research.google.com/notebooks/data_table.ipynb>data table notebook</a>'\n",
              "            + ' to learn more about interactive tables.';\n",
              "          element.innerHTML = '';\n",
              "          dataTable['output_type'] = 'display_data';\n",
              "          await google.colab.output.renderOutput(dataTable, element);\n",
              "          const docLink = document.createElement('div');\n",
              "          docLink.innerHTML = docLinkHtml;\n",
              "          element.appendChild(docLink);\n",
              "        }\n",
              "      </script>\n",
              "    </div>\n",
              "  </div>\n",
              "  "
            ]
          },
          "metadata": {},
          "execution_count": 63
        }
      ]
    },
    {
      "cell_type": "code",
      "source": [
        "corr = aptos.corr ()"
      ],
      "metadata": {
        "id": "WpSM3oWC9lBZ"
      },
      "execution_count": 62,
      "outputs": []
    },
    {
      "cell_type": "markdown",
      "source": [
        "Veamos el comportamiento de los datos dependiendo de la correlación"
      ],
      "metadata": {
        "id": "6p6mQmGenH4c"
      }
    },
    {
      "cell_type": "markdown",
      "source": [
        "<center><img src=\"https://drive.google.com/uc?id=12qJ4KPl4NyVeCwvPvtEZf_1U6Nncokfi\" alt=\"centered image\" width=\"700\" height=\"500\"></center>\n",
        "\n"
      ],
      "metadata": {
        "id": "D2sJZC7VmwHB"
      }
    },
    {
      "cell_type": "markdown",
      "source": [
        "Realizaremos el gráfico de dispersión de dos variables con **px.scatter**"
      ],
      "metadata": {
        "id": "_6SwPz0tp6Jm"
      }
    },
    {
      "cell_type": "code",
      "source": [
        "# gráficar metros y precio\n",
        "fig=px.scatter(aptos, \n",
        "               x=aptos.mt2, \n",
        "               y=aptos.precio)\n",
        "fig.show()"
      ],
      "metadata": {
        "id": "JfJPuLQRna3C",
        "colab": {
          "base_uri": "https://localhost:8080/",
          "height": 542
        },
        "outputId": "9a67e3a3-f70b-4d07-b10f-b1c92d9cb092"
      },
      "execution_count": 64,
      "outputs": [
        {
          "output_type": "display_data",
          "data": {
            "text/html": [
              "<html>\n",
              "<head><meta charset=\"utf-8\" /></head>\n",
              "<body>\n",
              "    <div>            <script src=\"https://cdnjs.cloudflare.com/ajax/libs/mathjax/2.7.5/MathJax.js?config=TeX-AMS-MML_SVG\"></script><script type=\"text/javascript\">if (window.MathJax) {MathJax.Hub.Config({SVG: {font: \"STIX-Web\"}});}</script>                <script type=\"text/javascript\">window.PlotlyConfig = {MathJaxConfig: 'local'};</script>\n",
              "        <script src=\"https://cdn.plot.ly/plotly-2.8.3.min.js\"></script>                <div id=\"412a759d-9d15-41e3-9a1b-89c8d3f6b9c5\" class=\"plotly-graph-div\" style=\"height:525px; width:100%;\"></div>            <script type=\"text/javascript\">                                    window.PLOTLYENV=window.PLOTLYENV || {};                                    if (document.getElementById(\"412a759d-9d15-41e3-9a1b-89c8d3f6b9c5\")) {                    Plotly.newPlot(                        \"412a759d-9d15-41e3-9a1b-89c8d3f6b9c5\",                        [{\"hovertemplate\":\"mt2=%{x}<br>precio=%{y}<extra></extra>\",\"legendgroup\":\"\",\"marker\":{\"color\":\"#636efa\",\"symbol\":\"circle\"},\"mode\":\"markers\",\"name\":\"\",\"orientation\":\"v\",\"showlegend\":false,\"x\":[43.16,56.92,66.4,61.85,89.8,71.0,54.83,69.0,93.0,60.88,43.0,37.56,46.0,42.0,51.7,44.81,45.35,100.0,50.0,40.0,48.0,107.0,51.0,42.0,53.0,48.0,40.0,57.0,57.41,56.0,54.0,78.0,79.0,62.5,56.0,84.0,55.0,80.0,76.0,62.0,58.0,94.1,74.0,70.0,58.0,85.0,66.0,100.0,64.9,99.0,70.0,73.0,86.0,91.0,120.0,70.0,108.0,83.0,74.0,75.2,130.0,97.0,82.0,130.0,87.0,88.81,101.0,114.0,96.31,74.0,112.0,120.0,120.0,135.0,79.81,110.0,174.0,160.0,101.0,85.0,60.0,64.05,64.5,50.0,56.0,88.61,92.0,85.0,76.0,76.0,85.0,74.0,77.14,85.0,75.0,94.0,77.0,78.4,85.0,96.0,88.0,88.4,72.32,93.0,85.0,70.0,120.0,85.0,103.0,83.0,98.0,158.0,75.0,99.0,98.0,86.0,71.0,74.0,105.0,78.0,98.0,115.0,85.6,165.0,147.0,63.0,87.0,83.0,71.0,180.0,115.0,140.0,250.0,100.0,80.0,107.0,79.5,135.0,106.0,170.0,79.0,89.0,138.0,127.0,115.3,110.0,175.64,127.0,207.0,130.0,110.0,99.72,90.0,109.0,127.0,94.39,164.0,95.0,116.0,139.0,81.0,120.0,90.0,208.0,115.0,188.0,200.0,108.0,125.0,120.0,90.0,110.0,136.0,101.0,100.0,180.0,126.0,130.0,158.0,98.0,140.0,100.14,132.0,137.0,99.0,132.0,105.0,164.0,156.0,130.0,158.0,165.0,130.0,125.0,180.0,137.0,137.0,210.0,160.0,120.0,171.0,108.0,72.0,149.0,155.8,147.0,100.0,153.0,94.0,137.0,220.0,168.5,132.98,197.0,163.0,100.0,151.0,183.0,193.0,178.0,136.0,105.0,108.0,118.0,157.44,118.12,151.34,192.0,202.0,176.0,106.0,149.0,129.63,95.57,108.0,141.0,231.02,113.0,124.0,145.02,140.0,134.0,175.21,146.9,167.75,187.0,160.0,195.0,230.0,264.0,113.0,213.0,133.0,173.0,104.0,123.0,150.0,185.0,138.0,121.0,226.0,210.0,253.0,210.0,189.96,255.3,132.0,189.0,418.0,250.0,155.0,155.0,189.0,258.0,167.8,153.0,156.0,290.0,169.0,248.0,324.0,171.0,294.0,418.0,180.0,233.0,180.0,240.0,233.86,159.0,190.0,210.0,162.0,271.0,320.0,185.0,196.0,181.0,311.0,209.0,325.0,326.05,350.0,325.0,151.66,186.0,355.0,245.0,320.0,284.0,324.0,230.0,300.0,238.0,196.0,324.0,215.0,260.0,260.0,248.0,219.9,234.0,350.0,250.0,284.0,251.0,268.0,267.0,272.0,500.0,305.0,360.0,300.0,309.0,272.0,324.0,396.0,342.0,262.0,248.0,500.0,373.0,291.0,318.0,238.19,445.0,399.0,53.0,43.0,58.0,52.0,60.0,78.0,35.0,56.0,53.0,64.0,56.0,60.0,54.0,44.0,55.0,60.0,58.0,60.0,80.0,60.0,55.0,62.0,70.0,64.0,75.0,74.0,62.0,72.0,70.0,60.0,55.0,58.0,71.0,60.0,72.0,55.0,58.0,62.0,60.0,80.0,58.0,63.0,99.0,63.0,66.0,60.0,60.0,68.0,120.0,57.0,68.0,95.0,100.0,78.0,67.0,63.0,126.0,59.0,104.0,64.0,64.0,112.0,68.0,68.0,60.0,53.0,68.0,100.0,60.0,63.0,63.0,80.0,65.0,60.0,92.0,56.0,60.0,66.0,67.0,66.0,66.0,66.0,63.0,66.0,70.0,64.0,70.0,67.0,76.0,93.0,68.0,72.0,95.0,76.0,69.0,98.0,70.0,78.0,70.0,70.0,88.0,76.0,64.0,77.0,90.0,117.0,72.0,86.0,71.0,69.0,72.0,73.0,89.0,100.0,86.0,86.0,89.0,87.0,85.0,74.0,84.0,85.0,69.0,90.0,72.0,85.0,110.0,81.0,99.0,143.0,85.0,100.0,124.0,88.0,75.0,87.0,82.0,88.0,67.0,93.0,81.0,74.0,72.0,72.0,89.0,107.0,90.0,90.0,112.0,127.0,87.0,112.0,98.0,100.0,96.0,92.0,114.0,92.0,110.0,114.0,112.0,107.0,87.0,120.0,95.0,117.0,97.0,104.0,157.0,54.0,46.0,72.0,64.0,45.0,55.0,50.0,45.0,55.0,56.0,61.0,57.0,58.0,117.0,92.0,56.0,106.0,58.0,92.0,62.0,60.0,70.0,57.0,95.0,81.0,123.0,69.0,80.0,86.0,78.0,114.0,97.0,90.0,64.0,62.0,72.0,80.0,118.0,110.0,71.0,84.0,84.0,73.0,81.0,90.0,84.0,83.0,87.0,106.0,87.0,111.0,109.0,95.0,122.0,123.0,102.0,77.0,68.0,104.0,81.0,82.0,84.0,75.0,129.0,80.0,137.0,104.0,41.0,26.0,30.0,38.0,46.0,48.0,55.0,54.0,43.0,62.0,49.0,40.0,45.0,80.0,54.0,40.0,52.0,53.0,50.0,60.0,55.0,127.0,115.0,66.0,70.0,74.0,150.0,62.0,74.0,86.0,58.0,210.0,210.0,178.0,192.0,185.0,255.0,226.0,66.0,65.0,44.0,93.0,91.0,112.0,114.0,85.0,80.0,86.0,85.0,102.0,116.0,104.0,89.0,89.0,87.0,135.0,123.0,120.0,129.0,75.0,113.0,118.0,130.0,123.0,110.0,95.0,106.0,128.0,103.0,261.0,97.0,133.0,100.0,151.0,154.0,115.0,170.0,160.0,123.0,96.0,120.0,155.0,150.0,254.0,132.0,140.0,132.0,119.0,142.0,116.0,305.0,140.0,210.0,101.0,100.0,137.0,170.0,140.0,168.0,165.0,130.0,141.0,181.0,123.0,204.0,248.0,180.0,209.0,149.0,179.0,494.0],\"xaxis\":\"x\",\"y\":[79.0,93.0,100.0,123.0,135.0,140.0,145.0,160.0,160.0,175.0,47.0,53.0,70.0,70.0,72.0,75.0,80.0,90.0,90.0,90.0,90.0,90.0,95.0,105.0,110.0,115.0,115.0,120.0,121.0,128.0,130.0,130.0,140.0,140.0,143.0,145.0,145.0,145.0,148.0,150.0,152.0,155.0,155.0,160.0,160.0,170.0,180.0,180.0,185.0,190.0,190.0,190.0,190.0,190.0,190.0,195.0,198.0,200.0,200.0,200.0,200.0,210.0,210.0,210.0,210.0,210.0,215.0,220.0,220.0,220.0,230.0,245.0,245.0,250.0,250.0,260.0,270.0,270.0,320.0,235.0,140.0,155.0,160.0,165.0,166.0,170.0,170.0,170.0,185.0,185.0,190.0,195.0,205.0,210.0,210.0,220.0,220.0,225.0,228.0,230.0,230.0,230.0,235.0,235.0,235.0,238.0,240.0,240.0,250.0,250.0,250.0,260.0,260.0,260.0,260.0,260.0,260.0,260.0,270.0,276.0,280.0,280.0,285.0,290.0,290.0,290.0,290.0,290.0,290.0,295.0,295.0,295.0,300.0,300.0,300.0,300.0,300.0,300.0,305.0,310.0,310.0,310.0,312.0,315.0,320.0,320.0,320.0,320.0,320.0,325.0,325.0,330.0,330.0,330.0,330.0,335.0,335.0,340.0,340.0,340.0,340.0,340.0,345.0,350.0,350.0,350.0,350.0,350.0,350.0,350.0,350.0,355.0,355.0,360.0,360.0,360.0,360.0,360.0,360.0,360.0,370.0,370.0,370.0,375.0,375.0,378.0,380.0,380.0,380.0,380.0,380.0,380.0,380.0,380.0,380.0,389.0,390.0,390.0,390.0,390.0,390.0,390.0,399.141,400.0,400.0,400.0,400.0,400.0,400.0,400.0,410.0,410.0,410.0,420.0,420.0,420.0,420.0,425.0,428.0,430.0,430.0,430.0,430.0,435.0,435.0,435.0,440.0,440.0,440.0,440.0,440.0,440.0,445.0,445.0,448.5,450.0,460.0,460.0,460.0,460.0,460.0,460.0,460.0,460.0,465.0,465.0,465.0,470.0,470.0,480.0,480.0,480.0,480.0,480.0,480.0,480.0,480.0,481.0,483.0,485.0,490.0,495.0,498.0,500.0,500.0,510.0,520.0,540.0,550.0,550.0,560.0,570.0,570.0,580.0,588.0,595.0,600.0,600.0,600.0,600.0,620.0,620.0,630.0,650.0,650.0,650.0,650.0,650.0,650.0,680.0,680.0,680.0,690.0,690.0,695.0,700.0,710.0,720.0,720.0,730.0,735.0,745.0,750.0,750.0,750.0,790.0,790.0,800.0,800.0,830.0,850.0,850.0,850.0,860.0,865.0,875.0,880.0,890.0,900.0,900.0,900.0,900.0,920.0,950.0,950.0,980.0,980.0,990.0,995.0,1100.0,1100.0,1100.0,1100.0,1200.0,1200.0,1200.0,1300.0,1300.0,1300.0,1350.0,1350.0,1400.0,1430.0,1450.0,1450.0,1490.0,1700.0,45.0,63.0,82.0,83.0,84.0,85.0,90.0,90.0,90.0,90.0,97.0,100.0,111.0,112.0,115.0,120.0,120.0,120.0,120.0,120.0,124.0,125.0,125.0,130.0,130.0,130.0,130.0,130.0,130.0,130.0,132.0,132.0,135.0,135.0,135.0,135.0,135.0,138.0,140.0,140.0,140.0,140.0,140.0,140.0,143.0,145.0,145.0,145.0,145.0,145.0,148.0,150.0,150.0,150.0,150.0,153.0,155.0,155.0,155.0,158.0,160.0,160.0,160.0,160.0,165.0,165.0,165.0,169.7,170.0,170.0,170.0,175.0,175.0,175.0,178.0,178.0,179.0,180.0,180.0,180.0,185.0,185.0,185.0,185.0,185.0,185.0,188.0,190.0,190.0,190.0,190.0,195.0,198.0,200.0,200.0,200.0,200.0,200.0,200.0,205.0,210.0,210.0,210.0,216.0,219.0,220.0,220.0,220.0,220.0,220.0,220.0,220.0,220.0,225.0,230.0,230.0,230.0,235.0,237.0,238.0,238.0,238.0,240.0,245.0,245.0,247.0,250.0,250.0,250.0,255.0,255.0,255.0,255.0,260.0,260.0,260.0,260.0,260.0,260.0,260.0,265.0,265.0,265.0,265.0,270.0,270.0,275.0,280.0,280.0,280.0,280.0,280.0,285.0,285.0,287.0,290.0,290.0,290.0,295.0,300.0,300.0,300.0,310.0,315.0,315.0,320.0,320.0,330.0,330.0,75.0,75.0,80.0,85.0,86.0,90.0,95.0,98.0,103.0,108.0,115.0,118.0,120.0,120.0,130.0,130.0,140.0,140.0,142.0,145.0,145.0,145.0,150.0,150.0,150.0,155.0,155.0,155.0,155.0,155.0,156.0,160.0,160.0,165.0,165.0,165.0,170.0,180.0,180.0,183.0,185.0,185.0,190.0,190.0,190.0,195.0,200.0,205.0,210.0,210.0,210.0,210.0,220.0,220.0,220.0,220.0,225.0,230.0,230.0,230.0,235.0,240.0,240.0,250.0,255.0,260.0,265.0,67.0,70.0,70.0,78.0,78.0,80.0,80.0,84.0,85.0,86.0,90.0,100.0,100.0,100.0,102.0,110.0,115.0,125.0,128.0,128.0,128.0,130.0,130.0,130.0,135.0,135.0,140.0,147.0,150.0,165.0,165.0,200.0,210.0,210.0,210.0,220.0,230.0,260.0,135.0,140.0,165.0,170.0,180.0,190.0,190.0,205.0,210.0,210.0,220.0,220.0,225.0,228.0,230.0,230.0,235.0,235.0,240.0,240.0,250.0,250.0,250.0,25.0,250.0,255.0,255.0,255.0,260.0,265.0,265.0,270.0,275.0,280.0,280.0,285.0,290.0,310.0,315.0,320.0,320.0,320.0,325.0,330.0,330.0,330.0,340.0,340.0,343.0,350.0,350.0,350.0,360.0,360.0,370.0,370.0,370.0,370.0,375.0,380.0,400.0,400.0,400.0,410.0,450.0,450.0,450.0,470.0,498.0,508.0,550.0,630.0,1350.0],\"yaxis\":\"y\",\"type\":\"scatter\"}],                        {\"template\":{\"data\":{\"bar\":[{\"error_x\":{\"color\":\"#2a3f5f\"},\"error_y\":{\"color\":\"#2a3f5f\"},\"marker\":{\"line\":{\"color\":\"#E5ECF6\",\"width\":0.5},\"pattern\":{\"fillmode\":\"overlay\",\"size\":10,\"solidity\":0.2}},\"type\":\"bar\"}],\"barpolar\":[{\"marker\":{\"line\":{\"color\":\"#E5ECF6\",\"width\":0.5},\"pattern\":{\"fillmode\":\"overlay\",\"size\":10,\"solidity\":0.2}},\"type\":\"barpolar\"}],\"carpet\":[{\"aaxis\":{\"endlinecolor\":\"#2a3f5f\",\"gridcolor\":\"white\",\"linecolor\":\"white\",\"minorgridcolor\":\"white\",\"startlinecolor\":\"#2a3f5f\"},\"baxis\":{\"endlinecolor\":\"#2a3f5f\",\"gridcolor\":\"white\",\"linecolor\":\"white\",\"minorgridcolor\":\"white\",\"startlinecolor\":\"#2a3f5f\"},\"type\":\"carpet\"}],\"choropleth\":[{\"colorbar\":{\"outlinewidth\":0,\"ticks\":\"\"},\"type\":\"choropleth\"}],\"contour\":[{\"colorbar\":{\"outlinewidth\":0,\"ticks\":\"\"},\"colorscale\":[[0.0,\"#0d0887\"],[0.1111111111111111,\"#46039f\"],[0.2222222222222222,\"#7201a8\"],[0.3333333333333333,\"#9c179e\"],[0.4444444444444444,\"#bd3786\"],[0.5555555555555556,\"#d8576b\"],[0.6666666666666666,\"#ed7953\"],[0.7777777777777778,\"#fb9f3a\"],[0.8888888888888888,\"#fdca26\"],[1.0,\"#f0f921\"]],\"type\":\"contour\"}],\"contourcarpet\":[{\"colorbar\":{\"outlinewidth\":0,\"ticks\":\"\"},\"type\":\"contourcarpet\"}],\"heatmap\":[{\"colorbar\":{\"outlinewidth\":0,\"ticks\":\"\"},\"colorscale\":[[0.0,\"#0d0887\"],[0.1111111111111111,\"#46039f\"],[0.2222222222222222,\"#7201a8\"],[0.3333333333333333,\"#9c179e\"],[0.4444444444444444,\"#bd3786\"],[0.5555555555555556,\"#d8576b\"],[0.6666666666666666,\"#ed7953\"],[0.7777777777777778,\"#fb9f3a\"],[0.8888888888888888,\"#fdca26\"],[1.0,\"#f0f921\"]],\"type\":\"heatmap\"}],\"heatmapgl\":[{\"colorbar\":{\"outlinewidth\":0,\"ticks\":\"\"},\"colorscale\":[[0.0,\"#0d0887\"],[0.1111111111111111,\"#46039f\"],[0.2222222222222222,\"#7201a8\"],[0.3333333333333333,\"#9c179e\"],[0.4444444444444444,\"#bd3786\"],[0.5555555555555556,\"#d8576b\"],[0.6666666666666666,\"#ed7953\"],[0.7777777777777778,\"#fb9f3a\"],[0.8888888888888888,\"#fdca26\"],[1.0,\"#f0f921\"]],\"type\":\"heatmapgl\"}],\"histogram\":[{\"marker\":{\"pattern\":{\"fillmode\":\"overlay\",\"size\":10,\"solidity\":0.2}},\"type\":\"histogram\"}],\"histogram2d\":[{\"colorbar\":{\"outlinewidth\":0,\"ticks\":\"\"},\"colorscale\":[[0.0,\"#0d0887\"],[0.1111111111111111,\"#46039f\"],[0.2222222222222222,\"#7201a8\"],[0.3333333333333333,\"#9c179e\"],[0.4444444444444444,\"#bd3786\"],[0.5555555555555556,\"#d8576b\"],[0.6666666666666666,\"#ed7953\"],[0.7777777777777778,\"#fb9f3a\"],[0.8888888888888888,\"#fdca26\"],[1.0,\"#f0f921\"]],\"type\":\"histogram2d\"}],\"histogram2dcontour\":[{\"colorbar\":{\"outlinewidth\":0,\"ticks\":\"\"},\"colorscale\":[[0.0,\"#0d0887\"],[0.1111111111111111,\"#46039f\"],[0.2222222222222222,\"#7201a8\"],[0.3333333333333333,\"#9c179e\"],[0.4444444444444444,\"#bd3786\"],[0.5555555555555556,\"#d8576b\"],[0.6666666666666666,\"#ed7953\"],[0.7777777777777778,\"#fb9f3a\"],[0.8888888888888888,\"#fdca26\"],[1.0,\"#f0f921\"]],\"type\":\"histogram2dcontour\"}],\"mesh3d\":[{\"colorbar\":{\"outlinewidth\":0,\"ticks\":\"\"},\"type\":\"mesh3d\"}],\"parcoords\":[{\"line\":{\"colorbar\":{\"outlinewidth\":0,\"ticks\":\"\"}},\"type\":\"parcoords\"}],\"pie\":[{\"automargin\":true,\"type\":\"pie\"}],\"scatter\":[{\"marker\":{\"colorbar\":{\"outlinewidth\":0,\"ticks\":\"\"}},\"type\":\"scatter\"}],\"scatter3d\":[{\"line\":{\"colorbar\":{\"outlinewidth\":0,\"ticks\":\"\"}},\"marker\":{\"colorbar\":{\"outlinewidth\":0,\"ticks\":\"\"}},\"type\":\"scatter3d\"}],\"scattercarpet\":[{\"marker\":{\"colorbar\":{\"outlinewidth\":0,\"ticks\":\"\"}},\"type\":\"scattercarpet\"}],\"scattergeo\":[{\"marker\":{\"colorbar\":{\"outlinewidth\":0,\"ticks\":\"\"}},\"type\":\"scattergeo\"}],\"scattergl\":[{\"marker\":{\"colorbar\":{\"outlinewidth\":0,\"ticks\":\"\"}},\"type\":\"scattergl\"}],\"scattermapbox\":[{\"marker\":{\"colorbar\":{\"outlinewidth\":0,\"ticks\":\"\"}},\"type\":\"scattermapbox\"}],\"scatterpolar\":[{\"marker\":{\"colorbar\":{\"outlinewidth\":0,\"ticks\":\"\"}},\"type\":\"scatterpolar\"}],\"scatterpolargl\":[{\"marker\":{\"colorbar\":{\"outlinewidth\":0,\"ticks\":\"\"}},\"type\":\"scatterpolargl\"}],\"scatterternary\":[{\"marker\":{\"colorbar\":{\"outlinewidth\":0,\"ticks\":\"\"}},\"type\":\"scatterternary\"}],\"surface\":[{\"colorbar\":{\"outlinewidth\":0,\"ticks\":\"\"},\"colorscale\":[[0.0,\"#0d0887\"],[0.1111111111111111,\"#46039f\"],[0.2222222222222222,\"#7201a8\"],[0.3333333333333333,\"#9c179e\"],[0.4444444444444444,\"#bd3786\"],[0.5555555555555556,\"#d8576b\"],[0.6666666666666666,\"#ed7953\"],[0.7777777777777778,\"#fb9f3a\"],[0.8888888888888888,\"#fdca26\"],[1.0,\"#f0f921\"]],\"type\":\"surface\"}],\"table\":[{\"cells\":{\"fill\":{\"color\":\"#EBF0F8\"},\"line\":{\"color\":\"white\"}},\"header\":{\"fill\":{\"color\":\"#C8D4E3\"},\"line\":{\"color\":\"white\"}},\"type\":\"table\"}]},\"layout\":{\"annotationdefaults\":{\"arrowcolor\":\"#2a3f5f\",\"arrowhead\":0,\"arrowwidth\":1},\"autotypenumbers\":\"strict\",\"coloraxis\":{\"colorbar\":{\"outlinewidth\":0,\"ticks\":\"\"}},\"colorscale\":{\"diverging\":[[0,\"#8e0152\"],[0.1,\"#c51b7d\"],[0.2,\"#de77ae\"],[0.3,\"#f1b6da\"],[0.4,\"#fde0ef\"],[0.5,\"#f7f7f7\"],[0.6,\"#e6f5d0\"],[0.7,\"#b8e186\"],[0.8,\"#7fbc41\"],[0.9,\"#4d9221\"],[1,\"#276419\"]],\"sequential\":[[0.0,\"#0d0887\"],[0.1111111111111111,\"#46039f\"],[0.2222222222222222,\"#7201a8\"],[0.3333333333333333,\"#9c179e\"],[0.4444444444444444,\"#bd3786\"],[0.5555555555555556,\"#d8576b\"],[0.6666666666666666,\"#ed7953\"],[0.7777777777777778,\"#fb9f3a\"],[0.8888888888888888,\"#fdca26\"],[1.0,\"#f0f921\"]],\"sequentialminus\":[[0.0,\"#0d0887\"],[0.1111111111111111,\"#46039f\"],[0.2222222222222222,\"#7201a8\"],[0.3333333333333333,\"#9c179e\"],[0.4444444444444444,\"#bd3786\"],[0.5555555555555556,\"#d8576b\"],[0.6666666666666666,\"#ed7953\"],[0.7777777777777778,\"#fb9f3a\"],[0.8888888888888888,\"#fdca26\"],[1.0,\"#f0f921\"]]},\"colorway\":[\"#636efa\",\"#EF553B\",\"#00cc96\",\"#ab63fa\",\"#FFA15A\",\"#19d3f3\",\"#FF6692\",\"#B6E880\",\"#FF97FF\",\"#FECB52\"],\"font\":{\"color\":\"#2a3f5f\"},\"geo\":{\"bgcolor\":\"white\",\"lakecolor\":\"white\",\"landcolor\":\"#E5ECF6\",\"showlakes\":true,\"showland\":true,\"subunitcolor\":\"white\"},\"hoverlabel\":{\"align\":\"left\"},\"hovermode\":\"closest\",\"mapbox\":{\"style\":\"light\"},\"paper_bgcolor\":\"white\",\"plot_bgcolor\":\"#E5ECF6\",\"polar\":{\"angularaxis\":{\"gridcolor\":\"white\",\"linecolor\":\"white\",\"ticks\":\"\"},\"bgcolor\":\"#E5ECF6\",\"radialaxis\":{\"gridcolor\":\"white\",\"linecolor\":\"white\",\"ticks\":\"\"}},\"scene\":{\"xaxis\":{\"backgroundcolor\":\"#E5ECF6\",\"gridcolor\":\"white\",\"gridwidth\":2,\"linecolor\":\"white\",\"showbackground\":true,\"ticks\":\"\",\"zerolinecolor\":\"white\"},\"yaxis\":{\"backgroundcolor\":\"#E5ECF6\",\"gridcolor\":\"white\",\"gridwidth\":2,\"linecolor\":\"white\",\"showbackground\":true,\"ticks\":\"\",\"zerolinecolor\":\"white\"},\"zaxis\":{\"backgroundcolor\":\"#E5ECF6\",\"gridcolor\":\"white\",\"gridwidth\":2,\"linecolor\":\"white\",\"showbackground\":true,\"ticks\":\"\",\"zerolinecolor\":\"white\"}},\"shapedefaults\":{\"line\":{\"color\":\"#2a3f5f\"}},\"ternary\":{\"aaxis\":{\"gridcolor\":\"white\",\"linecolor\":\"white\",\"ticks\":\"\"},\"baxis\":{\"gridcolor\":\"white\",\"linecolor\":\"white\",\"ticks\":\"\"},\"bgcolor\":\"#E5ECF6\",\"caxis\":{\"gridcolor\":\"white\",\"linecolor\":\"white\",\"ticks\":\"\"}},\"title\":{\"x\":0.05},\"xaxis\":{\"automargin\":true,\"gridcolor\":\"white\",\"linecolor\":\"white\",\"ticks\":\"\",\"title\":{\"standoff\":15},\"zerolinecolor\":\"white\",\"zerolinewidth\":2},\"yaxis\":{\"automargin\":true,\"gridcolor\":\"white\",\"linecolor\":\"white\",\"ticks\":\"\",\"title\":{\"standoff\":15},\"zerolinecolor\":\"white\",\"zerolinewidth\":2}}},\"xaxis\":{\"anchor\":\"y\",\"domain\":[0.0,1.0],\"title\":{\"text\":\"mt2\"}},\"yaxis\":{\"anchor\":\"x\",\"domain\":[0.0,1.0],\"title\":{\"text\":\"precio\"}},\"legend\":{\"tracegroupgap\":0},\"margin\":{\"t\":60}},                        {\"responsive\": true}                    ).then(function(){\n",
              "                            \n",
              "var gd = document.getElementById('412a759d-9d15-41e3-9a1b-89c8d3f6b9c5');\n",
              "var x = new MutationObserver(function (mutations, observer) {{\n",
              "        var display = window.getComputedStyle(gd).display;\n",
              "        if (!display || display === 'none') {{\n",
              "            console.log([gd, 'removed!']);\n",
              "            Plotly.purge(gd);\n",
              "            observer.disconnect();\n",
              "        }}\n",
              "}});\n",
              "\n",
              "// Listen for the removal of the full notebook cells\n",
              "var notebookContainer = gd.closest('#notebook-container');\n",
              "if (notebookContainer) {{\n",
              "    x.observe(notebookContainer, {childList: true});\n",
              "}}\n",
              "\n",
              "// Listen for the clearing of the current output cell\n",
              "var outputEl = gd.closest('.output');\n",
              "if (outputEl) {{\n",
              "    x.observe(outputEl, {childList: true});\n",
              "}}\n",
              "\n",
              "                        })                };                            </script>        </div>\n",
              "</body>\n",
              "</html>"
            ]
          },
          "metadata": {}
        }
      ]
    },
    {
      "cell_type": "code",
      "source": [
        "#plot # Rbase\n",
        "#ggplot # Rstudio"
      ],
      "metadata": {
        "id": "Qsiq2DMX-Rg8"
      },
      "execution_count": null,
      "outputs": []
    },
    {
      "cell_type": "code",
      "source": [
        "# gráficar metros y precio\n",
        "fig=px.scatter(aptos, \n",
        "               x=aptos.mt2,\n",
        "               y=aptos.precio,\n",
        "               color = \"ubicacion\") # ¿hover_name=datos1.index?\n",
        "fig.show()"
      ],
      "metadata": {
        "id": "YWubn3jynyRs",
        "colab": {
          "base_uri": "https://localhost:8080/",
          "height": 542
        },
        "outputId": "04f9a72f-bbda-4f7d-ee38-4798144c4171"
      },
      "execution_count": 65,
      "outputs": [
        {
          "output_type": "display_data",
          "data": {
            "text/html": [
              "<html>\n",
              "<head><meta charset=\"utf-8\" /></head>\n",
              "<body>\n",
              "    <div>            <script src=\"https://cdnjs.cloudflare.com/ajax/libs/mathjax/2.7.5/MathJax.js?config=TeX-AMS-MML_SVG\"></script><script type=\"text/javascript\">if (window.MathJax) {MathJax.Hub.Config({SVG: {font: \"STIX-Web\"}});}</script>                <script type=\"text/javascript\">window.PlotlyConfig = {MathJaxConfig: 'local'};</script>\n",
              "        <script src=\"https://cdn.plot.ly/plotly-2.8.3.min.js\"></script>                <div id=\"78091447-c9bb-4187-b184-06647bed85ec\" class=\"plotly-graph-div\" style=\"height:525px; width:100%;\"></div>            <script type=\"text/javascript\">                                    window.PLOTLYENV=window.PLOTLYENV || {};                                    if (document.getElementById(\"78091447-c9bb-4187-b184-06647bed85ec\")) {                    Plotly.newPlot(                        \"78091447-c9bb-4187-b184-06647bed85ec\",                        [{\"hovertemplate\":\"ubicacion=norte<br>mt2=%{x}<br>precio=%{y}<extra></extra>\",\"legendgroup\":\"norte\",\"marker\":{\"color\":\"#636efa\",\"symbol\":\"circle\"},\"mode\":\"markers\",\"name\":\"norte\",\"orientation\":\"v\",\"showlegend\":true,\"x\":[43.16,56.92,66.4,61.85,89.8,71.0,54.83,69.0,93.0,60.88],\"xaxis\":\"x\",\"y\":[79.0,93.0,100.0,123.0,135.0,140.0,145.0,160.0,160.0,175.0],\"yaxis\":\"y\",\"type\":\"scatter\"},{\"hovertemplate\":\"ubicacion=occidente<br>mt2=%{x}<br>precio=%{y}<extra></extra>\",\"legendgroup\":\"occidente\",\"marker\":{\"color\":\"#EF553B\",\"symbol\":\"circle\"},\"mode\":\"markers\",\"name\":\"occidente\",\"orientation\":\"v\",\"showlegend\":true,\"x\":[43.0,37.56,46.0,42.0,51.7,44.81,45.35,100.0,50.0,40.0,48.0,107.0,51.0,42.0,53.0,48.0,40.0,57.0,57.41,56.0,54.0,78.0,79.0,62.5,56.0,84.0,55.0,80.0,76.0,62.0,58.0,94.1,74.0,70.0,58.0,85.0,66.0,100.0,64.9,99.0,70.0,73.0,86.0,91.0,120.0,70.0,108.0,83.0,74.0,75.2,130.0,97.0,82.0,130.0,87.0,88.81,101.0,114.0,96.31,74.0,112.0,120.0,120.0,135.0,79.81,110.0,174.0,160.0,101.0],\"xaxis\":\"x\",\"y\":[47.0,53.0,70.0,70.0,72.0,75.0,80.0,90.0,90.0,90.0,90.0,90.0,95.0,105.0,110.0,115.0,115.0,120.0,121.0,128.0,130.0,130.0,140.0,140.0,143.0,145.0,145.0,145.0,148.0,150.0,152.0,155.0,155.0,160.0,160.0,170.0,180.0,180.0,185.0,190.0,190.0,190.0,190.0,190.0,190.0,195.0,198.0,200.0,200.0,200.0,200.0,210.0,210.0,210.0,210.0,210.0,215.0,220.0,220.0,220.0,230.0,245.0,245.0,250.0,250.0,260.0,270.0,270.0,320.0],\"yaxis\":\"y\",\"type\":\"scatter\"},{\"hovertemplate\":\"ubicacion=poblado<br>mt2=%{x}<br>precio=%{y}<extra></extra>\",\"legendgroup\":\"poblado\",\"marker\":{\"color\":\"#00cc96\",\"symbol\":\"circle\"},\"mode\":\"markers\",\"name\":\"poblado\",\"orientation\":\"v\",\"showlegend\":true,\"x\":[85.0,60.0,64.05,64.5,50.0,56.0,88.61,92.0,85.0,76.0,76.0,85.0,74.0,77.14,85.0,75.0,94.0,77.0,78.4,85.0,96.0,88.0,88.4,72.32,93.0,85.0,70.0,120.0,85.0,103.0,83.0,98.0,158.0,75.0,99.0,98.0,86.0,71.0,74.0,105.0,78.0,98.0,115.0,85.6,165.0,147.0,63.0,87.0,83.0,71.0,180.0,115.0,140.0,250.0,100.0,80.0,107.0,79.5,135.0,106.0,170.0,79.0,89.0,138.0,127.0,115.3,110.0,175.64,127.0,207.0,130.0,110.0,99.72,90.0,109.0,127.0,94.39,164.0,95.0,116.0,139.0,81.0,120.0,90.0,208.0,115.0,188.0,200.0,108.0,125.0,120.0,90.0,110.0,136.0,101.0,100.0,180.0,126.0,130.0,158.0,98.0,140.0,100.14,132.0,137.0,99.0,132.0,105.0,164.0,156.0,130.0,158.0,165.0,130.0,125.0,180.0,137.0,137.0,210.0,160.0,120.0,171.0,108.0,72.0,149.0,155.8,147.0,100.0,153.0,94.0,137.0,220.0,168.5,132.98,197.0,163.0,100.0,151.0,183.0,193.0,178.0,136.0,105.0,108.0,118.0,157.44,118.12,151.34,192.0,202.0,176.0,106.0,149.0,129.63,95.57,108.0,141.0,231.02,113.0,124.0,145.02,140.0,134.0,175.21,146.9,167.75,187.0,160.0,195.0,230.0,264.0,113.0,213.0,133.0,173.0,104.0,123.0,150.0,185.0,138.0,121.0,226.0,210.0,253.0,210.0,189.96,255.3,132.0,189.0,418.0,250.0,155.0,155.0,189.0,258.0,167.8,153.0,156.0,290.0,169.0,248.0,324.0,171.0,294.0,418.0,180.0,233.0,180.0,240.0,233.86,159.0,190.0,210.0,162.0,271.0,320.0,185.0,196.0,181.0,311.0,209.0,325.0,326.05,350.0,325.0,151.66,186.0,355.0,245.0,320.0,284.0,324.0,230.0,300.0,238.0,196.0,324.0,215.0,260.0,260.0,248.0,219.9,234.0,350.0,250.0,284.0,251.0,268.0,267.0,272.0,500.0,305.0,360.0,300.0,309.0,272.0,324.0,396.0,342.0,262.0,248.0,500.0,373.0,291.0,318.0,238.19,445.0,399.0],\"xaxis\":\"x\",\"y\":[235.0,140.0,155.0,160.0,165.0,166.0,170.0,170.0,170.0,185.0,185.0,190.0,195.0,205.0,210.0,210.0,220.0,220.0,225.0,228.0,230.0,230.0,230.0,235.0,235.0,235.0,238.0,240.0,240.0,250.0,250.0,250.0,260.0,260.0,260.0,260.0,260.0,260.0,260.0,270.0,276.0,280.0,280.0,285.0,290.0,290.0,290.0,290.0,290.0,290.0,295.0,295.0,295.0,300.0,300.0,300.0,300.0,300.0,300.0,305.0,310.0,310.0,310.0,312.0,315.0,320.0,320.0,320.0,320.0,320.0,325.0,325.0,330.0,330.0,330.0,330.0,335.0,335.0,340.0,340.0,340.0,340.0,340.0,345.0,350.0,350.0,350.0,350.0,350.0,350.0,350.0,350.0,355.0,355.0,360.0,360.0,360.0,360.0,360.0,360.0,360.0,370.0,370.0,370.0,375.0,375.0,378.0,380.0,380.0,380.0,380.0,380.0,380.0,380.0,380.0,380.0,389.0,390.0,390.0,390.0,390.0,390.0,390.0,399.141,400.0,400.0,400.0,400.0,400.0,400.0,400.0,410.0,410.0,410.0,420.0,420.0,420.0,420.0,425.0,428.0,430.0,430.0,430.0,430.0,435.0,435.0,435.0,440.0,440.0,440.0,440.0,440.0,440.0,445.0,445.0,448.5,450.0,460.0,460.0,460.0,460.0,460.0,460.0,460.0,460.0,465.0,465.0,465.0,470.0,470.0,480.0,480.0,480.0,480.0,480.0,480.0,480.0,480.0,481.0,483.0,485.0,490.0,495.0,498.0,500.0,500.0,510.0,520.0,540.0,550.0,550.0,560.0,570.0,570.0,580.0,588.0,595.0,600.0,600.0,600.0,600.0,620.0,620.0,630.0,650.0,650.0,650.0,650.0,650.0,650.0,680.0,680.0,680.0,690.0,690.0,695.0,700.0,710.0,720.0,720.0,730.0,735.0,745.0,750.0,750.0,750.0,790.0,790.0,800.0,800.0,830.0,850.0,850.0,850.0,860.0,865.0,875.0,880.0,890.0,900.0,900.0,900.0,900.0,920.0,950.0,950.0,980.0,980.0,990.0,995.0,1100.0,1100.0,1100.0,1100.0,1200.0,1200.0,1200.0,1300.0,1300.0,1300.0,1350.0,1350.0,1400.0,1430.0,1450.0,1450.0,1490.0,1700.0],\"yaxis\":\"y\",\"type\":\"scatter\"},{\"hovertemplate\":\"ubicacion=aburra sur<br>mt2=%{x}<br>precio=%{y}<extra></extra>\",\"legendgroup\":\"aburra sur\",\"marker\":{\"color\":\"#ab63fa\",\"symbol\":\"circle\"},\"mode\":\"markers\",\"name\":\"aburra sur\",\"orientation\":\"v\",\"showlegend\":true,\"x\":[53.0,43.0,58.0,52.0,60.0,78.0,35.0,56.0,53.0,64.0,56.0,60.0,54.0,44.0,55.0,60.0,58.0,60.0,80.0,60.0,55.0,62.0,70.0,64.0,75.0,74.0,62.0,72.0,70.0,60.0,55.0,58.0,71.0,60.0,72.0,55.0,58.0,62.0,60.0,80.0,58.0,63.0,99.0,63.0,66.0,60.0,60.0,68.0,120.0,57.0,68.0,95.0,100.0,78.0,67.0,63.0,126.0,59.0,104.0,64.0,64.0,112.0,68.0,68.0,60.0,53.0,68.0,100.0,60.0,63.0,63.0,80.0,65.0,60.0,92.0,56.0,60.0,66.0,67.0,66.0,66.0,66.0,63.0,66.0,70.0,64.0,70.0,67.0,76.0,93.0,68.0,72.0,95.0,76.0,69.0,98.0,70.0,78.0,70.0,70.0,88.0,76.0,64.0,77.0,90.0,117.0,72.0,86.0,71.0,69.0,72.0,73.0,89.0,100.0,86.0,86.0,89.0,87.0,85.0,74.0,84.0,85.0,69.0,90.0,72.0,85.0,110.0,81.0,99.0,143.0,85.0,100.0,124.0,88.0,75.0,87.0,82.0,88.0,67.0,93.0,81.0,74.0,72.0,72.0,89.0,107.0,90.0,90.0,112.0,127.0,87.0,112.0,98.0,100.0,96.0,92.0,114.0,92.0,110.0,114.0,112.0,107.0,87.0,120.0,95.0,117.0,97.0,104.0,157.0],\"xaxis\":\"x\",\"y\":[45.0,63.0,82.0,83.0,84.0,85.0,90.0,90.0,90.0,90.0,97.0,100.0,111.0,112.0,115.0,120.0,120.0,120.0,120.0,120.0,124.0,125.0,125.0,130.0,130.0,130.0,130.0,130.0,130.0,130.0,132.0,132.0,135.0,135.0,135.0,135.0,135.0,138.0,140.0,140.0,140.0,140.0,140.0,140.0,143.0,145.0,145.0,145.0,145.0,145.0,148.0,150.0,150.0,150.0,150.0,153.0,155.0,155.0,155.0,158.0,160.0,160.0,160.0,160.0,165.0,165.0,165.0,169.7,170.0,170.0,170.0,175.0,175.0,175.0,178.0,178.0,179.0,180.0,180.0,180.0,185.0,185.0,185.0,185.0,185.0,185.0,188.0,190.0,190.0,190.0,190.0,195.0,198.0,200.0,200.0,200.0,200.0,200.0,200.0,205.0,210.0,210.0,210.0,216.0,219.0,220.0,220.0,220.0,220.0,220.0,220.0,220.0,220.0,225.0,230.0,230.0,230.0,235.0,237.0,238.0,238.0,238.0,240.0,245.0,245.0,247.0,250.0,250.0,250.0,255.0,255.0,255.0,255.0,260.0,260.0,260.0,260.0,260.0,260.0,260.0,265.0,265.0,265.0,265.0,270.0,270.0,275.0,280.0,280.0,280.0,280.0,280.0,285.0,285.0,287.0,290.0,290.0,290.0,295.0,300.0,300.0,300.0,310.0,315.0,315.0,320.0,320.0,330.0,330.0],\"yaxis\":\"y\",\"type\":\"scatter\"},{\"hovertemplate\":\"ubicacion=belen guayabal<br>mt2=%{x}<br>precio=%{y}<extra></extra>\",\"legendgroup\":\"belen guayabal\",\"marker\":{\"color\":\"#FFA15A\",\"symbol\":\"circle\"},\"mode\":\"markers\",\"name\":\"belen guayabal\",\"orientation\":\"v\",\"showlegend\":true,\"x\":[54.0,46.0,72.0,64.0,45.0,55.0,50.0,45.0,55.0,56.0,61.0,57.0,58.0,117.0,92.0,56.0,106.0,58.0,92.0,62.0,60.0,70.0,57.0,95.0,81.0,123.0,69.0,80.0,86.0,78.0,114.0,97.0,90.0,64.0,62.0,72.0,80.0,118.0,110.0,71.0,84.0,84.0,73.0,81.0,90.0,84.0,83.0,87.0,106.0,87.0,111.0,109.0,95.0,122.0,123.0,102.0,77.0,68.0,104.0,81.0,82.0,84.0,75.0,129.0,80.0,137.0,104.0],\"xaxis\":\"x\",\"y\":[75.0,75.0,80.0,85.0,86.0,90.0,95.0,98.0,103.0,108.0,115.0,118.0,120.0,120.0,130.0,130.0,140.0,140.0,142.0,145.0,145.0,145.0,150.0,150.0,150.0,155.0,155.0,155.0,155.0,155.0,156.0,160.0,160.0,165.0,165.0,165.0,170.0,180.0,180.0,183.0,185.0,185.0,190.0,190.0,190.0,195.0,200.0,205.0,210.0,210.0,210.0,210.0,220.0,220.0,220.0,220.0,225.0,230.0,230.0,230.0,235.0,240.0,240.0,250.0,255.0,260.0,265.0],\"yaxis\":\"y\",\"type\":\"scatter\"},{\"hovertemplate\":\"ubicacion=centro<br>mt2=%{x}<br>precio=%{y}<extra></extra>\",\"legendgroup\":\"centro\",\"marker\":{\"color\":\"#19d3f3\",\"symbol\":\"circle\"},\"mode\":\"markers\",\"name\":\"centro\",\"orientation\":\"v\",\"showlegend\":true,\"x\":[41.0,26.0,30.0,38.0,46.0,48.0,55.0,54.0,43.0,62.0,49.0,40.0,45.0,80.0,54.0,40.0,52.0,53.0,50.0,60.0,55.0,127.0,115.0,66.0,70.0,74.0,150.0,62.0,74.0,86.0,58.0,210.0,210.0,178.0,192.0,185.0,255.0,226.0],\"xaxis\":\"x\",\"y\":[67.0,70.0,70.0,78.0,78.0,80.0,80.0,84.0,85.0,86.0,90.0,100.0,100.0,100.0,102.0,110.0,115.0,125.0,128.0,128.0,128.0,130.0,130.0,130.0,135.0,135.0,140.0,147.0,150.0,165.0,165.0,200.0,210.0,210.0,210.0,220.0,230.0,260.0],\"yaxis\":\"y\",\"type\":\"scatter\"},{\"hovertemplate\":\"ubicacion=laureles<br>mt2=%{x}<br>precio=%{y}<extra></extra>\",\"legendgroup\":\"laureles\",\"marker\":{\"color\":\"#FF6692\",\"symbol\":\"circle\"},\"mode\":\"markers\",\"name\":\"laureles\",\"orientation\":\"v\",\"showlegend\":true,\"x\":[66.0,65.0,44.0,93.0,91.0,112.0,114.0,85.0,80.0,86.0,85.0,102.0,116.0,104.0,89.0,89.0,87.0,135.0,123.0,120.0,129.0,75.0,113.0,118.0,130.0,123.0,110.0,95.0,106.0,128.0,103.0,261.0,97.0,133.0,100.0,151.0,154.0,115.0,170.0,160.0,123.0,96.0,120.0,155.0,150.0,254.0,132.0,140.0,132.0,119.0,142.0,116.0,305.0,140.0,210.0,101.0,100.0,137.0,170.0,140.0,168.0,165.0,130.0,141.0,181.0,123.0,204.0,248.0,180.0,209.0,149.0,179.0,494.0],\"xaxis\":\"x\",\"y\":[135.0,140.0,165.0,170.0,180.0,190.0,190.0,205.0,210.0,210.0,220.0,220.0,225.0,228.0,230.0,230.0,235.0,235.0,240.0,240.0,250.0,250.0,250.0,25.0,250.0,255.0,255.0,255.0,260.0,265.0,265.0,270.0,275.0,280.0,280.0,285.0,290.0,310.0,315.0,320.0,320.0,320.0,325.0,330.0,330.0,330.0,340.0,340.0,343.0,350.0,350.0,350.0,360.0,360.0,370.0,370.0,370.0,370.0,375.0,380.0,400.0,400.0,400.0,410.0,450.0,450.0,450.0,470.0,498.0,508.0,550.0,630.0,1350.0],\"yaxis\":\"y\",\"type\":\"scatter\"}],                        {\"template\":{\"data\":{\"bar\":[{\"error_x\":{\"color\":\"#2a3f5f\"},\"error_y\":{\"color\":\"#2a3f5f\"},\"marker\":{\"line\":{\"color\":\"#E5ECF6\",\"width\":0.5},\"pattern\":{\"fillmode\":\"overlay\",\"size\":10,\"solidity\":0.2}},\"type\":\"bar\"}],\"barpolar\":[{\"marker\":{\"line\":{\"color\":\"#E5ECF6\",\"width\":0.5},\"pattern\":{\"fillmode\":\"overlay\",\"size\":10,\"solidity\":0.2}},\"type\":\"barpolar\"}],\"carpet\":[{\"aaxis\":{\"endlinecolor\":\"#2a3f5f\",\"gridcolor\":\"white\",\"linecolor\":\"white\",\"minorgridcolor\":\"white\",\"startlinecolor\":\"#2a3f5f\"},\"baxis\":{\"endlinecolor\":\"#2a3f5f\",\"gridcolor\":\"white\",\"linecolor\":\"white\",\"minorgridcolor\":\"white\",\"startlinecolor\":\"#2a3f5f\"},\"type\":\"carpet\"}],\"choropleth\":[{\"colorbar\":{\"outlinewidth\":0,\"ticks\":\"\"},\"type\":\"choropleth\"}],\"contour\":[{\"colorbar\":{\"outlinewidth\":0,\"ticks\":\"\"},\"colorscale\":[[0.0,\"#0d0887\"],[0.1111111111111111,\"#46039f\"],[0.2222222222222222,\"#7201a8\"],[0.3333333333333333,\"#9c179e\"],[0.4444444444444444,\"#bd3786\"],[0.5555555555555556,\"#d8576b\"],[0.6666666666666666,\"#ed7953\"],[0.7777777777777778,\"#fb9f3a\"],[0.8888888888888888,\"#fdca26\"],[1.0,\"#f0f921\"]],\"type\":\"contour\"}],\"contourcarpet\":[{\"colorbar\":{\"outlinewidth\":0,\"ticks\":\"\"},\"type\":\"contourcarpet\"}],\"heatmap\":[{\"colorbar\":{\"outlinewidth\":0,\"ticks\":\"\"},\"colorscale\":[[0.0,\"#0d0887\"],[0.1111111111111111,\"#46039f\"],[0.2222222222222222,\"#7201a8\"],[0.3333333333333333,\"#9c179e\"],[0.4444444444444444,\"#bd3786\"],[0.5555555555555556,\"#d8576b\"],[0.6666666666666666,\"#ed7953\"],[0.7777777777777778,\"#fb9f3a\"],[0.8888888888888888,\"#fdca26\"],[1.0,\"#f0f921\"]],\"type\":\"heatmap\"}],\"heatmapgl\":[{\"colorbar\":{\"outlinewidth\":0,\"ticks\":\"\"},\"colorscale\":[[0.0,\"#0d0887\"],[0.1111111111111111,\"#46039f\"],[0.2222222222222222,\"#7201a8\"],[0.3333333333333333,\"#9c179e\"],[0.4444444444444444,\"#bd3786\"],[0.5555555555555556,\"#d8576b\"],[0.6666666666666666,\"#ed7953\"],[0.7777777777777778,\"#fb9f3a\"],[0.8888888888888888,\"#fdca26\"],[1.0,\"#f0f921\"]],\"type\":\"heatmapgl\"}],\"histogram\":[{\"marker\":{\"pattern\":{\"fillmode\":\"overlay\",\"size\":10,\"solidity\":0.2}},\"type\":\"histogram\"}],\"histogram2d\":[{\"colorbar\":{\"outlinewidth\":0,\"ticks\":\"\"},\"colorscale\":[[0.0,\"#0d0887\"],[0.1111111111111111,\"#46039f\"],[0.2222222222222222,\"#7201a8\"],[0.3333333333333333,\"#9c179e\"],[0.4444444444444444,\"#bd3786\"],[0.5555555555555556,\"#d8576b\"],[0.6666666666666666,\"#ed7953\"],[0.7777777777777778,\"#fb9f3a\"],[0.8888888888888888,\"#fdca26\"],[1.0,\"#f0f921\"]],\"type\":\"histogram2d\"}],\"histogram2dcontour\":[{\"colorbar\":{\"outlinewidth\":0,\"ticks\":\"\"},\"colorscale\":[[0.0,\"#0d0887\"],[0.1111111111111111,\"#46039f\"],[0.2222222222222222,\"#7201a8\"],[0.3333333333333333,\"#9c179e\"],[0.4444444444444444,\"#bd3786\"],[0.5555555555555556,\"#d8576b\"],[0.6666666666666666,\"#ed7953\"],[0.7777777777777778,\"#fb9f3a\"],[0.8888888888888888,\"#fdca26\"],[1.0,\"#f0f921\"]],\"type\":\"histogram2dcontour\"}],\"mesh3d\":[{\"colorbar\":{\"outlinewidth\":0,\"ticks\":\"\"},\"type\":\"mesh3d\"}],\"parcoords\":[{\"line\":{\"colorbar\":{\"outlinewidth\":0,\"ticks\":\"\"}},\"type\":\"parcoords\"}],\"pie\":[{\"automargin\":true,\"type\":\"pie\"}],\"scatter\":[{\"marker\":{\"colorbar\":{\"outlinewidth\":0,\"ticks\":\"\"}},\"type\":\"scatter\"}],\"scatter3d\":[{\"line\":{\"colorbar\":{\"outlinewidth\":0,\"ticks\":\"\"}},\"marker\":{\"colorbar\":{\"outlinewidth\":0,\"ticks\":\"\"}},\"type\":\"scatter3d\"}],\"scattercarpet\":[{\"marker\":{\"colorbar\":{\"outlinewidth\":0,\"ticks\":\"\"}},\"type\":\"scattercarpet\"}],\"scattergeo\":[{\"marker\":{\"colorbar\":{\"outlinewidth\":0,\"ticks\":\"\"}},\"type\":\"scattergeo\"}],\"scattergl\":[{\"marker\":{\"colorbar\":{\"outlinewidth\":0,\"ticks\":\"\"}},\"type\":\"scattergl\"}],\"scattermapbox\":[{\"marker\":{\"colorbar\":{\"outlinewidth\":0,\"ticks\":\"\"}},\"type\":\"scattermapbox\"}],\"scatterpolar\":[{\"marker\":{\"colorbar\":{\"outlinewidth\":0,\"ticks\":\"\"}},\"type\":\"scatterpolar\"}],\"scatterpolargl\":[{\"marker\":{\"colorbar\":{\"outlinewidth\":0,\"ticks\":\"\"}},\"type\":\"scatterpolargl\"}],\"scatterternary\":[{\"marker\":{\"colorbar\":{\"outlinewidth\":0,\"ticks\":\"\"}},\"type\":\"scatterternary\"}],\"surface\":[{\"colorbar\":{\"outlinewidth\":0,\"ticks\":\"\"},\"colorscale\":[[0.0,\"#0d0887\"],[0.1111111111111111,\"#46039f\"],[0.2222222222222222,\"#7201a8\"],[0.3333333333333333,\"#9c179e\"],[0.4444444444444444,\"#bd3786\"],[0.5555555555555556,\"#d8576b\"],[0.6666666666666666,\"#ed7953\"],[0.7777777777777778,\"#fb9f3a\"],[0.8888888888888888,\"#fdca26\"],[1.0,\"#f0f921\"]],\"type\":\"surface\"}],\"table\":[{\"cells\":{\"fill\":{\"color\":\"#EBF0F8\"},\"line\":{\"color\":\"white\"}},\"header\":{\"fill\":{\"color\":\"#C8D4E3\"},\"line\":{\"color\":\"white\"}},\"type\":\"table\"}]},\"layout\":{\"annotationdefaults\":{\"arrowcolor\":\"#2a3f5f\",\"arrowhead\":0,\"arrowwidth\":1},\"autotypenumbers\":\"strict\",\"coloraxis\":{\"colorbar\":{\"outlinewidth\":0,\"ticks\":\"\"}},\"colorscale\":{\"diverging\":[[0,\"#8e0152\"],[0.1,\"#c51b7d\"],[0.2,\"#de77ae\"],[0.3,\"#f1b6da\"],[0.4,\"#fde0ef\"],[0.5,\"#f7f7f7\"],[0.6,\"#e6f5d0\"],[0.7,\"#b8e186\"],[0.8,\"#7fbc41\"],[0.9,\"#4d9221\"],[1,\"#276419\"]],\"sequential\":[[0.0,\"#0d0887\"],[0.1111111111111111,\"#46039f\"],[0.2222222222222222,\"#7201a8\"],[0.3333333333333333,\"#9c179e\"],[0.4444444444444444,\"#bd3786\"],[0.5555555555555556,\"#d8576b\"],[0.6666666666666666,\"#ed7953\"],[0.7777777777777778,\"#fb9f3a\"],[0.8888888888888888,\"#fdca26\"],[1.0,\"#f0f921\"]],\"sequentialminus\":[[0.0,\"#0d0887\"],[0.1111111111111111,\"#46039f\"],[0.2222222222222222,\"#7201a8\"],[0.3333333333333333,\"#9c179e\"],[0.4444444444444444,\"#bd3786\"],[0.5555555555555556,\"#d8576b\"],[0.6666666666666666,\"#ed7953\"],[0.7777777777777778,\"#fb9f3a\"],[0.8888888888888888,\"#fdca26\"],[1.0,\"#f0f921\"]]},\"colorway\":[\"#636efa\",\"#EF553B\",\"#00cc96\",\"#ab63fa\",\"#FFA15A\",\"#19d3f3\",\"#FF6692\",\"#B6E880\",\"#FF97FF\",\"#FECB52\"],\"font\":{\"color\":\"#2a3f5f\"},\"geo\":{\"bgcolor\":\"white\",\"lakecolor\":\"white\",\"landcolor\":\"#E5ECF6\",\"showlakes\":true,\"showland\":true,\"subunitcolor\":\"white\"},\"hoverlabel\":{\"align\":\"left\"},\"hovermode\":\"closest\",\"mapbox\":{\"style\":\"light\"},\"paper_bgcolor\":\"white\",\"plot_bgcolor\":\"#E5ECF6\",\"polar\":{\"angularaxis\":{\"gridcolor\":\"white\",\"linecolor\":\"white\",\"ticks\":\"\"},\"bgcolor\":\"#E5ECF6\",\"radialaxis\":{\"gridcolor\":\"white\",\"linecolor\":\"white\",\"ticks\":\"\"}},\"scene\":{\"xaxis\":{\"backgroundcolor\":\"#E5ECF6\",\"gridcolor\":\"white\",\"gridwidth\":2,\"linecolor\":\"white\",\"showbackground\":true,\"ticks\":\"\",\"zerolinecolor\":\"white\"},\"yaxis\":{\"backgroundcolor\":\"#E5ECF6\",\"gridcolor\":\"white\",\"gridwidth\":2,\"linecolor\":\"white\",\"showbackground\":true,\"ticks\":\"\",\"zerolinecolor\":\"white\"},\"zaxis\":{\"backgroundcolor\":\"#E5ECF6\",\"gridcolor\":\"white\",\"gridwidth\":2,\"linecolor\":\"white\",\"showbackground\":true,\"ticks\":\"\",\"zerolinecolor\":\"white\"}},\"shapedefaults\":{\"line\":{\"color\":\"#2a3f5f\"}},\"ternary\":{\"aaxis\":{\"gridcolor\":\"white\",\"linecolor\":\"white\",\"ticks\":\"\"},\"baxis\":{\"gridcolor\":\"white\",\"linecolor\":\"white\",\"ticks\":\"\"},\"bgcolor\":\"#E5ECF6\",\"caxis\":{\"gridcolor\":\"white\",\"linecolor\":\"white\",\"ticks\":\"\"}},\"title\":{\"x\":0.05},\"xaxis\":{\"automargin\":true,\"gridcolor\":\"white\",\"linecolor\":\"white\",\"ticks\":\"\",\"title\":{\"standoff\":15},\"zerolinecolor\":\"white\",\"zerolinewidth\":2},\"yaxis\":{\"automargin\":true,\"gridcolor\":\"white\",\"linecolor\":\"white\",\"ticks\":\"\",\"title\":{\"standoff\":15},\"zerolinecolor\":\"white\",\"zerolinewidth\":2}}},\"xaxis\":{\"anchor\":\"y\",\"domain\":[0.0,1.0],\"title\":{\"text\":\"mt2\"}},\"yaxis\":{\"anchor\":\"x\",\"domain\":[0.0,1.0],\"title\":{\"text\":\"precio\"}},\"legend\":{\"title\":{\"text\":\"ubicacion\"},\"tracegroupgap\":0},\"margin\":{\"t\":60}},                        {\"responsive\": true}                    ).then(function(){\n",
              "                            \n",
              "var gd = document.getElementById('78091447-c9bb-4187-b184-06647bed85ec');\n",
              "var x = new MutationObserver(function (mutations, observer) {{\n",
              "        var display = window.getComputedStyle(gd).display;\n",
              "        if (!display || display === 'none') {{\n",
              "            console.log([gd, 'removed!']);\n",
              "            Plotly.purge(gd);\n",
              "            observer.disconnect();\n",
              "        }}\n",
              "}});\n",
              "\n",
              "// Listen for the removal of the full notebook cells\n",
              "var notebookContainer = gd.closest('#notebook-container');\n",
              "if (notebookContainer) {{\n",
              "    x.observe(notebookContainer, {childList: true});\n",
              "}}\n",
              "\n",
              "// Listen for the clearing of the current output cell\n",
              "var outputEl = gd.closest('.output');\n",
              "if (outputEl) {{\n",
              "    x.observe(outputEl, {childList: true});\n",
              "}}\n",
              "\n",
              "                        })                };                            </script>        </div>\n",
              "</body>\n",
              "</html>"
            ]
          },
          "metadata": {}
        }
      ]
    },
    {
      "cell_type": "code",
      "source": [
        "sb.heatmap(corr)"
      ],
      "metadata": {
        "id": "VQilbH49qjhC"
      },
      "execution_count": null,
      "outputs": []
    },
    {
      "cell_type": "code",
      "source": [
        "sb.heatmap(corr, annot = True)"
      ],
      "metadata": {
        "id": "ZWrRxglrqxlJ"
      },
      "execution_count": null,
      "outputs": []
    },
    {
      "cell_type": "code",
      "source": [
        "### Diagramas de Dispersión\n",
        "\n",
        "El diagrama de dispersión sirve para visualizar relaciones entre un par de variables cuantitativas."
      ],
      "metadata": {
        "id": "25V5BlEQq1zQ"
      },
      "execution_count": null,
      "outputs": []
    },
    {
      "cell_type": "code",
      "source": [
        "pd.plotting.scatter_matrix(aptos[[\"precio\", \"mt2\"]],  figsize=(10, 10))\n",
        "plt.show()"
      ],
      "metadata": {
        "id": "Md74BDUzq4PY"
      },
      "execution_count": null,
      "outputs": []
    },
    {
      "cell_type": "code",
      "source": [
        "pd.plotting.scatter_matrix(aptos[[\"precio\", \"avaluo\"]],\n",
        "                           diagonal = \"kde\",\n",
        "                           figsize=(10, 10),\n",
        "                           color= [\"green\"])\n",
        "plt.show()"
      ],
      "metadata": {
        "id": "QFIddlMOri9j"
      },
      "execution_count": null,
      "outputs": []
    },
    {
      "cell_type": "markdown",
      "source": [
        "<FONT SIZE=5 COLOR=\"Green\"> Tabla de Contingencia </FONT>\n",
        "\n",
        "Una tabla de contingencia contiene los conteos de una o más variables cualitativas."
      ],
      "metadata": {
        "id": "jA4Lvyc5sbC4"
      }
    },
    {
      "cell_type": "code",
      "source": [
        "tabla=pd.crosstab(aptos.ubicacion, aptos.estrato)\n",
        "print(tabla)"
      ],
      "metadata": {
        "id": "41PJh8jTqnza"
      },
      "execution_count": null,
      "outputs": []
    },
    {
      "cell_type": "code",
      "source": [
        "tabla"
      ],
      "metadata": {
        "id": "JtYnNfLrsxlT"
      },
      "execution_count": null,
      "outputs": []
    },
    {
      "cell_type": "code",
      "source": [
        "tabla2=aptos.groupby([\"ubicacion\", \"estrato\"]).size() ; tabla2"
      ],
      "metadata": {
        "id": "0KyntEgJs1jV"
      },
      "execution_count": null,
      "outputs": []
    },
    {
      "cell_type": "markdown",
      "source": [
        "======================================================================================================\n",
        "\n",
        "======================================================================================================"
      ],
      "metadata": {
        "id": "fzMA2NcmtG7D"
      }
    },
    {
      "cell_type": "markdown",
      "source": [
        "<FONT SIZE=5 COLOR=\"Green\"> Algunos aspectos importantes sobre los datos faltantes </FONT>\n",
        "\n",
        "<center><img src=\"https://drive.google.com/uc?id=1JFD3yMKwFpnecJ-8By3SPL-gI375T1dB\" alt=\"centered image\" width=\"700\" height=\"400\"></center>\n",
        "\n"
      ],
      "metadata": {
        "id": "9SebluL8tQK1"
      }
    },
    {
      "cell_type": "markdown",
      "source": [
        "- Al leer un archivo con datos en balnco, Python los asocia a **NaN**\n",
        "\n",
        "- Cuando se tienen datos faltantes debemos revisar con cuidado la razón: no se registro o no existe?\n",
        "\n",
        "- Por ejemplo: altura del hijo mayor y la persona no tiene hijos. Este dato no existe y no tiene sentido intentar adivinar cuál podría ser.\n",
        "\n",
        "- Si el dato no se registró, se podría intentar adivinar cual es el valor con base a los otros datos.\n",
        "\n",
        "- **Predecir**: otorgra valor a un dato que todavía no ha sido muestreado\n",
        "\n",
        "- **imputar**: estimar un valor una vez se ha muestreado pero no se conoce."
      ],
      "metadata": {
        "id": "FfsOHiP0uCO4"
      }
    },
    {
      "cell_type": "markdown",
      "source": [
        "Trabajaremos el siguiente conjunto de datos"
      ],
      "metadata": {
        "id": "3fL4Wu2ivdSs"
      }
    },
    {
      "cell_type": "code",
      "source": [
        "base = pd.read_csv(\n",
        "    'https://cs.famaf.unc.edu.ar/~mteruel/datasets/diplodatos/melb_data.csv')\n",
        "\n",
        "base.shape"
      ],
      "metadata": {
        "colab": {
          "base_uri": "https://localhost:8080/"
        },
        "id": "ndU48fhPtPC6",
        "outputId": "464ee8f1-5e40-4f43-b946-656dccdb93cd"
      },
      "execution_count": null,
      "outputs": [
        {
          "output_type": "execute_result",
          "data": {
            "text/plain": [
              "(13580, 21)"
            ]
          },
          "metadata": {},
          "execution_count": 74
        }
      ]
    },
    {
      "cell_type": "markdown",
      "source": [
        "Suburb: region\n",
        "\n",
        "Address: dirección\n",
        "\n",
        "Rooms: Número de habitaciones\n",
        "\n",
        "Price: precio en dolares\n",
        "\n",
        "Method: S - property sold; SP - property sold prior; PI - property passed in; PN - sold prior not disclosed; SN - sold not disclosed; NB - no bid; VB - vendor bid; W - withdrawn prior to auction; SA - sold after auction; SS - sold after auction price not disclosed. N/A - price or highest bid not available.\n",
        "\n",
        "Type: br - bedroom(s); h - house,cottage,villa, semi,terrace; u - unit, duplex; t - townhouse; dev site - development site; o res - other residential.\n",
        "\n",
        "SellerG: Real Estate Agent\n",
        "\n",
        "Date: Date sold\n",
        "\n",
        "Distance: Distance from CBD\n",
        "\n",
        "Regionname: General Region (West, North West, North, North east …etc)\n",
        "\n",
        "Propertycount: Number of properties that exist in the suburb.\n",
        "\n",
        "Bedroom2 : # de dormitorios\n",
        "\n",
        "Bathroom: Número de baños\n",
        "\n",
        "Car: número de parqueaderos\n",
        "\n",
        "Landsize: tamaño del terreno\n",
        "\n",
        "BuildingArea: área construida\n",
        "\n",
        "CouncilArea: Governing council for the area"
      ],
      "metadata": {
        "id": "ZswzxmWAzWaa"
      }
    },
    {
      "cell_type": "code",
      "source": [
        "base.head()"
      ],
      "metadata": {
        "id": "-3dVHma_vv6m"
      },
      "execution_count": null,
      "outputs": []
    },
    {
      "cell_type": "code",
      "source": [
        "base.describe()"
      ],
      "metadata": {
        "id": "qrhLOvRIweh4"
      },
      "execution_count": null,
      "outputs": []
    },
    {
      "cell_type": "markdown",
      "source": [
        "Tomemos una muestra de los datos por medio de **sample**"
      ],
      "metadata": {
        "id": "chGw7AIJw3Ys"
      }
    },
    {
      "cell_type": "code",
      "source": [
        "Muestra=base.sample(10,random_state=123) ; Muestra # random_state fija una semilla \n"
      ],
      "metadata": {
        "id": "bPYDNg0qw2WA"
      },
      "execution_count": null,
      "outputs": []
    },
    {
      "cell_type": "markdown",
      "source": [
        "Existen variables con problemas serios!!\n",
        "\n",
        "1. La variable **landsize** no tienen sentido que sea cero\n",
        "\n",
        "2. Las variables **Building Area** and **YearBuilt* tienen *NaN*\n",
        "\n",
        "3. Esto se identifica solo en esa muestra. Debemos revisar todas las variables "
      ],
      "metadata": {
        "id": "tiaVKGh4xZnw"
      }
    },
    {
      "cell_type": "code",
      "source": [
        "ceros = base[base == 0].count() ; ceros"
      ],
      "metadata": {
        "id": "ePCkXE10yAZ6"
      },
      "execution_count": null,
      "outputs": []
    },
    {
      "cell_type": "markdown",
      "source": [
        "Nos centraremos en las siguientes variables: habitaciones, baños y distancia "
      ],
      "metadata": {
        "id": "QUnZxi0Ozwua"
      }
    },
    {
      "cell_type": "code",
      "source": [
        "box3 = px.box(y= base[base.Bedroom2<20].Bedroom2, \n",
        "              x= base[base.Bedroom2<20].Type\n",
        "             )\n",
        "box3.show()"
      ],
      "metadata": {
        "id": "GAiXHS6g0znS"
      },
      "execution_count": null,
      "outputs": []
    },
    {
      "cell_type": "markdown",
      "source": [
        "¿Qué podemos intuir?\n",
        "\n",
        "- Las casas (house) deberían tener algún dormitorio.\n",
        "\n",
        "- Las unit y townhouses podrían tener todo integrado y no tener habitaciones."
      ],
      "metadata": {
        "id": "4E2jnxb31cQY"
      }
    },
    {
      "cell_type": "code",
      "source": [
        "Bedroom2 = base.Bedroom2\n",
        "Rooms = base.Rooms\n",
        "pd.crosstab(Bedroom2,Rooms) # tabla de frecuencia"
      ],
      "metadata": {
        "id": "9s66XwsJ1b0d"
      },
      "execution_count": null,
      "outputs": []
    },
    {
      "cell_type": "markdown",
      "source": [
        "Observe que la variable Room tiene más información y continene a la variable Bedroom2. Entonces la vamos a eliminar"
      ],
      "metadata": {
        "id": "czG_I4z82XJg"
      }
    },
    {
      "cell_type": "code",
      "source": [
        "base_sinBed=base.copy()\n",
        "base_sinBed=base_sinBed.drop(['Bedroom2'], axis=1)\n",
        "base_sinBed.sample(10,random_state=123)\n",
        "# pilas cuando se elimina una variable y se reescribe se pierde el data.set original"
      ],
      "metadata": {
        "id": "lH5KlYhH2e9v"
      },
      "execution_count": null,
      "outputs": []
    },
    {
      "cell_type": "markdown",
      "source": [
        "Revisemos los registros sin baños"
      ],
      "metadata": {
        "id": "RHNnMGJx3CLO"
      }
    },
    {
      "cell_type": "code",
      "source": [
        "box4 = px.box(y= base.Bathroom, \n",
        "              x= base.Type\n",
        "             )\n",
        "box4.show()"
      ],
      "metadata": {
        "id": "FH2nryTs3E-t"
      },
      "execution_count": null,
      "outputs": []
    },
    {
      "cell_type": "code",
      "source": [
        "Bathroom = base.Bathroom\n",
        "pd.crosstab(Bathroom,Rooms)"
      ],
      "metadata": {
        "id": "pW6C5JL13VYn"
      },
      "execution_count": null,
      "outputs": []
    },
    {
      "cell_type": "markdown",
      "source": [
        "Aca podríamos actuar de diferentes maneras.\n",
        "\n",
        "- Vamos a suponer que las propiedades que dice que no tienen baño por lo menos tienen 1."
      ],
      "metadata": {
        "id": "ZN473pjd3hea"
      }
    },
    {
      "cell_type": "code",
      "source": [
        "base_sinBed.loc[base_sinBed.Bathroom < 1 , \"Bathroom\"]"
      ],
      "metadata": {
        "id": "2vJTLUMy3uhQ"
      },
      "execution_count": null,
      "outputs": []
    },
    {
      "cell_type": "code",
      "source": [
        "# le asignamos un baño\n",
        "base_sinBed.loc[base_sinBed.Bathroom < 1 , \"Bathroom\"] = 1"
      ],
      "metadata": {
        "id": "RmXEiaXW4KuQ"
      },
      "execution_count": null,
      "outputs": []
    },
    {
      "cell_type": "code",
      "source": [
        "ceros2 = base_sinBed[base_sinBed == 0].count() ; ceros2"
      ],
      "metadata": {
        "id": "nucnPDeJ4Q8_"
      },
      "execution_count": null,
      "outputs": []
    },
    {
      "cell_type": "code",
      "source": [
        "base.describe()"
      ],
      "metadata": {
        "id": "Zce5be-A4ujx"
      },
      "execution_count": null,
      "outputs": []
    },
    {
      "cell_type": "code",
      "source": [
        "base_sinBed.describe()"
      ],
      "metadata": {
        "id": "cfdXd5Kz4zc8"
      },
      "execution_count": null,
      "outputs": []
    },
    {
      "cell_type": "markdown",
      "source": [
        "<FONT SIZE=3 COLOR=\"magenta\"> ¡Ejercicio: Hacer los mismo para las otras columnas con ceros!</FONT>\n"
      ],
      "metadata": {
        "id": "_N1Fwb1x45U9"
      }
    },
    {
      "cell_type": "markdown",
      "source": [
        "Revisaremos datos faltantes, ya que estos pueden modificar los análisis que hagamos de nuestros datos y afectará los modelos que se implementen.\n"
      ],
      "metadata": {
        "id": "PbO5mQYZ5bwD"
      }
    },
    {
      "cell_type": "code",
      "source": [
        "base.info()"
      ],
      "metadata": {
        "id": "FgvTinJd5LD7"
      },
      "execution_count": null,
      "outputs": []
    },
    {
      "cell_type": "code",
      "source": [
        "faltantes=base.isna().sum() ; faltantes"
      ],
      "metadata": {
        "id": "m1SlCT9H58FC"
      },
      "execution_count": null,
      "outputs": []
    },
    {
      "cell_type": "markdown",
      "source": [
        "Si hacemos lo mismo en el dataset que estamos modificando"
      ],
      "metadata": {
        "id": "_6dOxxbp6PcH"
      }
    },
    {
      "cell_type": "code",
      "source": [
        "base_sinBed.isna().sum()"
      ],
      "metadata": {
        "id": "WwFosuai6D_e"
      },
      "execution_count": null,
      "outputs": []
    },
    {
      "cell_type": "markdown",
      "source": [
        "Vemos que los datos faltantes están concentrados en tres variables\n",
        "\n",
        "- BuildingArea:    6450\n",
        "\n",
        "- YearBuilt:     5375\n",
        "\n",
        "- CouncilArea:      1369"
      ],
      "metadata": {
        "id": "QtFj3lJH6g4z"
      }
    },
    {
      "cell_type": "code",
      "source": [
        "(6450+5375+1369+62)/(21*13580)"
      ],
      "metadata": {
        "colab": {
          "base_uri": "https://localhost:8080/"
        },
        "id": "ltzkb5VJ6bBe",
        "outputId": "7d285f46-f6f8-43ae-fc8f-06d66f672b1e"
      },
      "execution_count": null,
      "outputs": [
        {
          "output_type": "execute_result",
          "data": {
            "text/plain": [
              "0.04648292306613367"
            ]
          },
          "metadata": {},
          "execution_count": 119
        }
      ]
    },
    {
      "cell_type": "code",
      "source": [
        "# podemos gráficar la cantidad de datos faltantes con la librería missingno\n",
        "import missingno as msno\n",
        "msno.bar(base,figsize=(12, 6), sort=\"ascending\", fontsize=12, color='purple') "
      ],
      "metadata": {
        "id": "yoy6-hsn45HB"
      },
      "execution_count": null,
      "outputs": []
    },
    {
      "cell_type": "markdown",
      "source": [
        "Podemos vsualizar las posiciones de estos datos faltantes para ver su distribución."
      ],
      "metadata": {
        "id": "lKX4qz028Pn5"
      }
    },
    {
      "cell_type": "code",
      "source": [
        "msno.matrix(base,figsize=(12, 6), fontsize=12, color = [1,0.5,0.5])"
      ],
      "metadata": {
        "id": "Cgr8SVVy8Pbv"
      },
      "execution_count": null,
      "outputs": []
    },
    {
      "cell_type": "code",
      "source": [
        "msno.matrix(base.sample(300),figsize=(12, 6), fontsize=12, color=[0.5,0,0])"
      ],
      "metadata": {
        "id": "oVi22cXj88Ne"
      },
      "execution_count": null,
      "outputs": []
    },
    {
      "cell_type": "markdown",
      "source": [
        "<center><img src=\"https://drive.google.com/uc?id=1BxvA5CYS3fRGtzfaT-fr0CfvwPRUebYi\" alt=\"centered image\" width=\"700\" height=\"400\"></center>"
      ],
      "metadata": {
        "id": "TMFpYA489r7Q"
      }
    },
    {
      "cell_type": "markdown",
      "source": [
        "Vamos a detectar correlaciones"
      ],
      "metadata": {
        "id": "xr_Schqs920y"
      }
    },
    {
      "cell_type": "code",
      "source": [
        "Car = base.Car\n",
        "\n",
        "fig = px.histogram(Car, nbins=100, labels={'value': 'Car', 'count': 'number of houses'},\n",
        "                   marginal='violin', title='Distribution of home with car places',\n",
        "                   color_discrete_sequence=px.colors.sequential.RdBu)\n",
        "\n",
        "fig.update_layout(showlegend=False)\n",
        "\n",
        "fig.show()"
      ],
      "metadata": {
        "id": "gXqHBYk1-GKK"
      },
      "execution_count": null,
      "outputs": []
    },
    {
      "cell_type": "code",
      "source": [
        "Car = base.Car\n",
        "Type = base.Type\n",
        "pd.crosstab(Type,Car)"
      ],
      "metadata": {
        "id": "4mkXNLKX-es6"
      },
      "execution_count": null,
      "outputs": []
    },
    {
      "cell_type": "code",
      "source": [
        "sorted = base.sort_values('BuildingArea')\n",
        "msno.matrix(sorted,figsize=(12, 6), fontsize=12, color=[0.5,0,0])"
      ],
      "metadata": {
        "id": "DC_L4ItK_vOC"
      },
      "execution_count": null,
      "outputs": []
    },
    {
      "cell_type": "code",
      "source": [
        "# detección de correlación con mapa de calor\n",
        "msno.heatmap(base,figsize=(12, 6), fontsize=12)"
      ],
      "metadata": {
        "id": "Zmg7YX4BA1ew"
      },
      "execution_count": null,
      "outputs": []
    },
    {
      "cell_type": "markdown",
      "source": [
        "Se evidencia que hay correlación entre los valores perdidos."
      ],
      "metadata": {
        "id": "MqkQZprWA9G6"
      }
    },
    {
      "cell_type": "markdown",
      "source": [
        "1. Supongamos que queremos eliminar los datos faltantes en la variable **car** son pocos valores."
      ],
      "metadata": {
        "id": "BTU__2nh-uOz"
      }
    },
    {
      "cell_type": "code",
      "source": [
        "base_sinBed[\"Car\"].mean()"
      ],
      "metadata": {
        "colab": {
          "base_uri": "https://localhost:8080/"
        },
        "id": "Q9nNd4nd-ylT",
        "outputId": "5ed9db7d-c841-4fdd-fe64-db94b8276481"
      },
      "execution_count": null,
      "outputs": [
        {
          "output_type": "execute_result",
          "data": {
            "text/plain": [
              "1.6100754549489569"
            ]
          },
          "metadata": {},
          "execution_count": 132
        }
      ]
    },
    {
      "cell_type": "code",
      "source": [
        "base_sinBed.dropna(subset=[\"Car\"], how='any', inplace=True)\n",
        "base_sinBed[\"Car\"].isnull().sum()"
      ],
      "metadata": {
        "id": "4yVoNtQY_L_l"
      },
      "execution_count": null,
      "outputs": []
    },
    {
      "cell_type": "code",
      "source": [
        "msno.bar(base_sinBed,figsize=(12, 6), fontsize=12, color='steelblue')"
      ],
      "metadata": {
        "id": "lR097WU-_jfP"
      },
      "execution_count": null,
      "outputs": []
    },
    {
      "cell_type": "code",
      "source": [
        "# ¿ qué produce la siguientes instrucción?\n",
        "base_without_missing_values = base.dropna(axis=1)\n",
        "msno.bar(base_without_missing_values,figsize=(12, 6), fontsize=12, color=[0.5,0,0])"
      ],
      "metadata": {
        "id": "d6-7XeniBMpb"
      },
      "execution_count": null,
      "outputs": []
    },
    {
      "cell_type": "markdown",
      "source": [
        "## <FONT SIZE=4 COLOR=\"blue\"> Técnicas de imputación </FONT>\n",
        "\n",
        "Imputar refiere a reemplazar datos faltantes con valores sustitutos. Hay muchas formas de imputar los valores faltantes según la naturaleza del problema y los datos. Segun los datos, hay técnicas para datos categóricos, datos continuos y series de tiempo. Dependiendo de la naturaleza del problema, las técnicas de imputación se pueden clasificar en general como técnicas básicas y avanzadas:\n",
        "\n",
        "Técnicas básicas de imputación reemplazan el dato faltante por\n",
        "\n",
        "- Un valor constante que tiene significado dentro del dominio, como 0, distinto de todos los demás valores.\n",
        "\n",
        "- Un valor de otro registro seleccionado al azar.\n",
        "\n",
        "- Un valor medio, mediano o de moda para la columna.\n",
        "\n",
        "Técnicas avanzadas de imputación reemplazan el dato faltante por\n",
        "\n",
        "- Un valor estimado por otro modelo predictivo"
      ],
      "metadata": {
        "id": "04XLCom0CAF1"
      }
    },
    {
      "cell_type": "markdown",
      "source": [
        "# Nueva sección"
      ],
      "metadata": {
        "id": "OO6ZYut5XzMM"
      }
    },
    {
      "cell_type": "code",
      "source": [
        "# imputar por constante\n",
        "\n",
        "from sklearn.impute import SimpleImputer\n",
        "\n",
        "base_constant = base_sinBed.copy()"
      ],
      "metadata": {
        "id": "QyMnkEWKCr83"
      },
      "execution_count": null,
      "outputs": []
    },
    {
      "cell_type": "code",
      "source": [
        "#imputar por constante y reemplazar por cero\n",
        "\n",
        "import numpy as np\n",
        "\n",
        "mean_imputer = SimpleImputer(missing_values=np.nan,strategy='constant',fill_value=0) \n",
        "\n",
        "base_constant.iloc[:,:] = mean_imputer.fit_transform(base_constant)\n",
        "\n",
        "#msno.bar(base_constant,figsize=(12, 6), fontsize=12, color='steelblue')"
      ],
      "metadata": {
        "id": "3cS-2WfGC0NO"
      },
      "execution_count": null,
      "outputs": []
    },
    {
      "cell_type": "markdown",
      "source": [
        "Imputar con el valor mas frecuente"
      ],
      "metadata": {
        "id": "zWjQc6vtTvHU"
      }
    },
    {
      "cell_type": "code",
      "source": [
        "# imputar con el valor mas frecuente\n",
        "\n",
        "from sklearn.impute import SimpleImputer\n",
        "\n",
        "base_most_frequent = base_sinBed.copy()\n",
        "\n",
        "#setting strategy to 'most_frequent' \n",
        "\n",
        "mean_imputer = SimpleImputer(strategy='most_frequent') # media, mediana también sirve\n",
        "\n",
        "base_most_frequent.iloc[:,:] = mean_imputer.fit_transform(base_most_frequent)\n",
        "\n",
        "msno.bar(base_most_frequent,figsize=(12, 6), fontsize=12, color='steelblue')"
      ],
      "metadata": {
        "id": "LBLrhP4wTjnr"
      },
      "execution_count": null,
      "outputs": []
    },
    {
      "cell_type": "code",
      "source": [],
      "metadata": {
        "id": "hZ6lF3dgTya6"
      },
      "execution_count": null,
      "outputs": []
    },
    {
      "cell_type": "code",
      "source": [],
      "metadata": {
        "id": "c1Vzen0UTyJq"
      },
      "execution_count": null,
      "outputs": []
    }
  ],
  "metadata": {
    "colab": {
      "provenance": [],
      "include_colab_link": true
    },
    "kernelspec": {
      "display_name": "Python 3",
      "name": "python3"
    },
    "language_info": {
      "name": "python"
    }
  },
  "nbformat": 4,
  "nbformat_minor": 0
}